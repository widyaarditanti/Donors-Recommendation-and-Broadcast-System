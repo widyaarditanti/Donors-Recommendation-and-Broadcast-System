{
  "cells": [
    {
      "cell_type": "code",
      "source": [
        "pd.set_option('max_rows', 99999)\n",
        "pd.set_option('max_colwidth', 400)\n",
        "pd.describe_option('max_colwidth')"
      ],
      "metadata": {
        "id": "KGUoAe4YL3Dq"
      },
      "execution_count": null,
      "outputs": []
    },
    {
      "cell_type": "code",
      "execution_count": null,
      "metadata": {
        "id": "OJxRLCAmsOb5"
      },
      "outputs": [],
      "source": [
        "from google.colab import drive \n",
        "drive.mount('/content/gdrive')\n",
        "\n",
        "!pip install ipython-autotime\n",
        "%load_ext autotime\n",
        "\n",
        "import os\n",
        "%cd /content/gdrive/My Drive/skripsi/data\n",
        "dir = '/content/gdrive/My Drive/skripsi/data'"
      ]
    },
    {
      "cell_type": "markdown",
      "metadata": {
        "id": "DQSNGMRSUwDh"
      },
      "source": [
        "##### data"
      ]
    },
    {
      "cell_type": "markdown",
      "source": [
        "###### nou"
      ],
      "metadata": {
        "id": "LANKN7MO6X8L"
      }
    },
    {
      "cell_type": "code",
      "source": [
        "data = [['tom', 10], ['nick', 15], ['juli', 14]]\n",
        " \n",
        "# Create the pandas DataFrame\n",
        "df = pd.DataFrame(data, columns=['Makan', 'Tidur'])"
      ],
      "metadata": {
        "colab": {
          "base_uri": "https://localhost:8080/"
        },
        "id": "MYb9Q1Tf7Hez",
        "outputId": "d2fecf9d-2d0f-41e1-e9ea-54fda962b86c"
      },
      "execution_count": null,
      "outputs": [
        {
          "output_type": "stream",
          "name": "stdout",
          "text": [
            "time: 4.67 ms (started: 2022-06-23 19:08:44 +00:00)\n"
          ]
        }
      ]
    },
    {
      "cell_type": "code",
      "source": [
        "df.loc[df['Makan'] == 'Tidur', 'B'] = 20"
      ],
      "metadata": {
        "colab": {
          "base_uri": "https://localhost:8080/"
        },
        "id": "G6bh2zfT7IgV",
        "outputId": "25c5ecf9-dc04-458e-d7cf-f9b69a0edd3e"
      },
      "execution_count": null,
      "outputs": [
        {
          "output_type": "stream",
          "name": "stdout",
          "text": [
            "time: 3.81 ms (started: 2022-06-23 19:08:52 +00:00)\n"
          ]
        }
      ]
    },
    {
      "cell_type": "code",
      "source": [
        "from google.colab import files\n",
        "uploaded = files.upload()"
      ],
      "metadata": {
        "colab": {
          "resources": {
            "http://localhost:8080/nbextensions/google.colab/files.js": {
              "data": "Ly8gQ29weXJpZ2h0IDIwMTcgR29vZ2xlIExMQwovLwovLyBMaWNlbnNlZCB1bmRlciB0aGUgQXBhY2hlIExpY2Vuc2UsIFZlcnNpb24gMi4wICh0aGUgIkxpY2Vuc2UiKTsKLy8geW91IG1heSBub3QgdXNlIHRoaXMgZmlsZSBleGNlcHQgaW4gY29tcGxpYW5jZSB3aXRoIHRoZSBMaWNlbnNlLgovLyBZb3UgbWF5IG9idGFpbiBhIGNvcHkgb2YgdGhlIExpY2Vuc2UgYXQKLy8KLy8gICAgICBodHRwOi8vd3d3LmFwYWNoZS5vcmcvbGljZW5zZXMvTElDRU5TRS0yLjAKLy8KLy8gVW5sZXNzIHJlcXVpcmVkIGJ5IGFwcGxpY2FibGUgbGF3IG9yIGFncmVlZCB0byBpbiB3cml0aW5nLCBzb2Z0d2FyZQovLyBkaXN0cmlidXRlZCB1bmRlciB0aGUgTGljZW5zZSBpcyBkaXN0cmlidXRlZCBvbiBhbiAiQVMgSVMiIEJBU0lTLAovLyBXSVRIT1VUIFdBUlJBTlRJRVMgT1IgQ09ORElUSU9OUyBPRiBBTlkgS0lORCwgZWl0aGVyIGV4cHJlc3Mgb3IgaW1wbGllZC4KLy8gU2VlIHRoZSBMaWNlbnNlIGZvciB0aGUgc3BlY2lmaWMgbGFuZ3VhZ2UgZ292ZXJuaW5nIHBlcm1pc3Npb25zIGFuZAovLyBsaW1pdGF0aW9ucyB1bmRlciB0aGUgTGljZW5zZS4KCi8qKgogKiBAZmlsZW92ZXJ2aWV3IEhlbHBlcnMgZm9yIGdvb2dsZS5jb2xhYiBQeXRob24gbW9kdWxlLgogKi8KKGZ1bmN0aW9uKHNjb3BlKSB7CmZ1bmN0aW9uIHNwYW4odGV4dCwgc3R5bGVBdHRyaWJ1dGVzID0ge30pIHsKICBjb25zdCBlbGVtZW50ID0gZG9jdW1lbnQuY3JlYXRlRWxlbWVudCgnc3BhbicpOwogIGVsZW1lbnQudGV4dENvbnRlbnQgPSB0ZXh0OwogIGZvciAoY29uc3Qga2V5IG9mIE9iamVjdC5rZXlzKHN0eWxlQXR0cmlidXRlcykpIHsKICAgIGVsZW1lbnQuc3R5bGVba2V5XSA9IHN0eWxlQXR0cmlidXRlc1trZXldOwogIH0KICByZXR1cm4gZWxlbWVudDsKfQoKLy8gTWF4IG51bWJlciBvZiBieXRlcyB3aGljaCB3aWxsIGJlIHVwbG9hZGVkIGF0IGEgdGltZS4KY29uc3QgTUFYX1BBWUxPQURfU0laRSA9IDEwMCAqIDEwMjQ7CgpmdW5jdGlvbiBfdXBsb2FkRmlsZXMoaW5wdXRJZCwgb3V0cHV0SWQpIHsKICBjb25zdCBzdGVwcyA9IHVwbG9hZEZpbGVzU3RlcChpbnB1dElkLCBvdXRwdXRJZCk7CiAgY29uc3Qgb3V0cHV0RWxlbWVudCA9IGRvY3VtZW50LmdldEVsZW1lbnRCeUlkKG91dHB1dElkKTsKICAvLyBDYWNoZSBzdGVwcyBvbiB0aGUgb3V0cHV0RWxlbWVudCB0byBtYWtlIGl0IGF2YWlsYWJsZSBmb3IgdGhlIG5leHQgY2FsbAogIC8vIHRvIHVwbG9hZEZpbGVzQ29udGludWUgZnJvbSBQeXRob24uCiAgb3V0cHV0RWxlbWVudC5zdGVwcyA9IHN0ZXBzOwoKICByZXR1cm4gX3VwbG9hZEZpbGVzQ29udGludWUob3V0cHV0SWQpOwp9CgovLyBUaGlzIGlzIHJvdWdobHkgYW4gYXN5bmMgZ2VuZXJhdG9yIChub3Qgc3VwcG9ydGVkIGluIHRoZSBicm93c2VyIHlldCksCi8vIHdoZXJlIHRoZXJlIGFyZSBtdWx0aXBsZSBhc3luY2hyb25vdXMgc3RlcHMgYW5kIHRoZSBQeXRob24gc2lkZSBpcyBnb2luZwovLyB0byBwb2xsIGZvciBjb21wbGV0aW9uIG9mIGVhY2ggc3RlcC4KLy8gVGhpcyB1c2VzIGEgUHJvbWlzZSB0byBibG9jayB0aGUgcHl0aG9uIHNpZGUgb24gY29tcGxldGlvbiBvZiBlYWNoIHN0ZXAsCi8vIHRoZW4gcGFzc2VzIHRoZSByZXN1bHQgb2YgdGhlIHByZXZpb3VzIHN0ZXAgYXMgdGhlIGlucHV0IHRvIHRoZSBuZXh0IHN0ZXAuCmZ1bmN0aW9uIF91cGxvYWRGaWxlc0NvbnRpbnVlKG91dHB1dElkKSB7CiAgY29uc3Qgb3V0cHV0RWxlbWVudCA9IGRvY3VtZW50LmdldEVsZW1lbnRCeUlkKG91dHB1dElkKTsKICBjb25zdCBzdGVwcyA9IG91dHB1dEVsZW1lbnQuc3RlcHM7CgogIGNvbnN0IG5leHQgPSBzdGVwcy5uZXh0KG91dHB1dEVsZW1lbnQubGFzdFByb21pc2VWYWx1ZSk7CiAgcmV0dXJuIFByb21pc2UucmVzb2x2ZShuZXh0LnZhbHVlLnByb21pc2UpLnRoZW4oKHZhbHVlKSA9PiB7CiAgICAvLyBDYWNoZSB0aGUgbGFzdCBwcm9taXNlIHZhbHVlIHRvIG1ha2UgaXQgYXZhaWxhYmxlIHRvIHRoZSBuZXh0CiAgICAvLyBzdGVwIG9mIHRoZSBnZW5lcmF0b3IuCiAgICBvdXRwdXRFbGVtZW50Lmxhc3RQcm9taXNlVmFsdWUgPSB2YWx1ZTsKICAgIHJldHVybiBuZXh0LnZhbHVlLnJlc3BvbnNlOwogIH0pOwp9CgovKioKICogR2VuZXJhdG9yIGZ1bmN0aW9uIHdoaWNoIGlzIGNhbGxlZCBiZXR3ZWVuIGVhY2ggYXN5bmMgc3RlcCBvZiB0aGUgdXBsb2FkCiAqIHByb2Nlc3MuCiAqIEBwYXJhbSB7c3RyaW5nfSBpbnB1dElkIEVsZW1lbnQgSUQgb2YgdGhlIGlucHV0IGZpbGUgcGlja2VyIGVsZW1lbnQuCiAqIEBwYXJhbSB7c3RyaW5nfSBvdXRwdXRJZCBFbGVtZW50IElEIG9mIHRoZSBvdXRwdXQgZGlzcGxheS4KICogQHJldHVybiB7IUl0ZXJhYmxlPCFPYmplY3Q+fSBJdGVyYWJsZSBvZiBuZXh0IHN0ZXBzLgogKi8KZnVuY3Rpb24qIHVwbG9hZEZpbGVzU3RlcChpbnB1dElkLCBvdXRwdXRJZCkgewogIGNvbnN0IGlucHV0RWxlbWVudCA9IGRvY3VtZW50LmdldEVsZW1lbnRCeUlkKGlucHV0SWQpOwogIGlucHV0RWxlbWVudC5kaXNhYmxlZCA9IGZhbHNlOwoKICBjb25zdCBvdXRwdXRFbGVtZW50ID0gZG9jdW1lbnQuZ2V0RWxlbWVudEJ5SWQob3V0cHV0SWQpOwogIG91dHB1dEVsZW1lbnQuaW5uZXJIVE1MID0gJyc7CgogIGNvbnN0IHBpY2tlZFByb21pc2UgPSBuZXcgUHJvbWlzZSgocmVzb2x2ZSkgPT4gewogICAgaW5wdXRFbGVtZW50LmFkZEV2ZW50TGlzdGVuZXIoJ2NoYW5nZScsIChlKSA9PiB7CiAgICAgIHJlc29sdmUoZS50YXJnZXQuZmlsZXMpOwogICAgfSk7CiAgfSk7CgogIGNvbnN0IGNhbmNlbCA9IGRvY3VtZW50LmNyZWF0ZUVsZW1lbnQoJ2J1dHRvbicpOwogIGlucHV0RWxlbWVudC5wYXJlbnRFbGVtZW50LmFwcGVuZENoaWxkKGNhbmNlbCk7CiAgY2FuY2VsLnRleHRDb250ZW50ID0gJ0NhbmNlbCB1cGxvYWQnOwogIGNvbnN0IGNhbmNlbFByb21pc2UgPSBuZXcgUHJvbWlzZSgocmVzb2x2ZSkgPT4gewogICAgY2FuY2VsLm9uY2xpY2sgPSAoKSA9PiB7CiAgICAgIHJlc29sdmUobnVsbCk7CiAgICB9OwogIH0pOwoKICAvLyBXYWl0IGZvciB0aGUgdXNlciB0byBwaWNrIHRoZSBmaWxlcy4KICBjb25zdCBmaWxlcyA9IHlpZWxkIHsKICAgIHByb21pc2U6IFByb21pc2UucmFjZShbcGlja2VkUHJvbWlzZSwgY2FuY2VsUHJvbWlzZV0pLAogICAgcmVzcG9uc2U6IHsKICAgICAgYWN0aW9uOiAnc3RhcnRpbmcnLAogICAgfQogIH07CgogIGNhbmNlbC5yZW1vdmUoKTsKCiAgLy8gRGlzYWJsZSB0aGUgaW5wdXQgZWxlbWVudCBzaW5jZSBmdXJ0aGVyIHBpY2tzIGFyZSBub3QgYWxsb3dlZC4KICBpbnB1dEVsZW1lbnQuZGlzYWJsZWQgPSB0cnVlOwoKICBpZiAoIWZpbGVzKSB7CiAgICByZXR1cm4gewogICAgICByZXNwb25zZTogewogICAgICAgIGFjdGlvbjogJ2NvbXBsZXRlJywKICAgICAgfQogICAgfTsKICB9CgogIGZvciAoY29uc3QgZmlsZSBvZiBmaWxlcykgewogICAgY29uc3QgbGkgPSBkb2N1bWVudC5jcmVhdGVFbGVtZW50KCdsaScpOwogICAgbGkuYXBwZW5kKHNwYW4oZmlsZS5uYW1lLCB7Zm9udFdlaWdodDogJ2JvbGQnfSkpOwogICAgbGkuYXBwZW5kKHNwYW4oCiAgICAgICAgYCgke2ZpbGUudHlwZSB8fCAnbi9hJ30pIC0gJHtmaWxlLnNpemV9IGJ5dGVzLCBgICsKICAgICAgICBgbGFzdCBtb2RpZmllZDogJHsKICAgICAgICAgICAgZmlsZS5sYXN0TW9kaWZpZWREYXRlID8gZmlsZS5sYXN0TW9kaWZpZWREYXRlLnRvTG9jYWxlRGF0ZVN0cmluZygpIDoKICAgICAgICAgICAgICAgICAgICAgICAgICAgICAgICAgICAgJ24vYSd9IC0gYCkpOwogICAgY29uc3QgcGVyY2VudCA9IHNwYW4oJzAlIGRvbmUnKTsKICAgIGxpLmFwcGVuZENoaWxkKHBlcmNlbnQpOwoKICAgIG91dHB1dEVsZW1lbnQuYXBwZW5kQ2hpbGQobGkpOwoKICAgIGNvbnN0IGZpbGVEYXRhUHJvbWlzZSA9IG5ldyBQcm9taXNlKChyZXNvbHZlKSA9PiB7CiAgICAgIGNvbnN0IHJlYWRlciA9IG5ldyBGaWxlUmVhZGVyKCk7CiAgICAgIHJlYWRlci5vbmxvYWQgPSAoZSkgPT4gewogICAgICAgIHJlc29sdmUoZS50YXJnZXQucmVzdWx0KTsKICAgICAgfTsKICAgICAgcmVhZGVyLnJlYWRBc0FycmF5QnVmZmVyKGZpbGUpOwogICAgfSk7CiAgICAvLyBXYWl0IGZvciB0aGUgZGF0YSB0byBiZSByZWFkeS4KICAgIGxldCBmaWxlRGF0YSA9IHlpZWxkIHsKICAgICAgcHJvbWlzZTogZmlsZURhdGFQcm9taXNlLAogICAgICByZXNwb25zZTogewogICAgICAgIGFjdGlvbjogJ2NvbnRpbnVlJywKICAgICAgfQogICAgfTsKCiAgICAvLyBVc2UgYSBjaHVua2VkIHNlbmRpbmcgdG8gYXZvaWQgbWVzc2FnZSBzaXplIGxpbWl0cy4gU2VlIGIvNjIxMTU2NjAuCiAgICBsZXQgcG9zaXRpb24gPSAwOwogICAgZG8gewogICAgICBjb25zdCBsZW5ndGggPSBNYXRoLm1pbihmaWxlRGF0YS5ieXRlTGVuZ3RoIC0gcG9zaXRpb24sIE1BWF9QQVlMT0FEX1NJWkUpOwogICAgICBjb25zdCBjaHVuayA9IG5ldyBVaW50OEFycmF5KGZpbGVEYXRhLCBwb3NpdGlvbiwgbGVuZ3RoKTsKICAgICAgcG9zaXRpb24gKz0gbGVuZ3RoOwoKICAgICAgY29uc3QgYmFzZTY0ID0gYnRvYShTdHJpbmcuZnJvbUNoYXJDb2RlLmFwcGx5KG51bGwsIGNodW5rKSk7CiAgICAgIHlpZWxkIHsKICAgICAgICByZXNwb25zZTogewogICAgICAgICAgYWN0aW9uOiAnYXBwZW5kJywKICAgICAgICAgIGZpbGU6IGZpbGUubmFtZSwKICAgICAgICAgIGRhdGE6IGJhc2U2NCwKICAgICAgICB9LAogICAgICB9OwoKICAgICAgbGV0IHBlcmNlbnREb25lID0gZmlsZURhdGEuYnl0ZUxlbmd0aCA9PT0gMCA/CiAgICAgICAgICAxMDAgOgogICAgICAgICAgTWF0aC5yb3VuZCgocG9zaXRpb24gLyBmaWxlRGF0YS5ieXRlTGVuZ3RoKSAqIDEwMCk7CiAgICAgIHBlcmNlbnQudGV4dENvbnRlbnQgPSBgJHtwZXJjZW50RG9uZX0lIGRvbmVgOwoKICAgIH0gd2hpbGUgKHBvc2l0aW9uIDwgZmlsZURhdGEuYnl0ZUxlbmd0aCk7CiAgfQoKICAvLyBBbGwgZG9uZS4KICB5aWVsZCB7CiAgICByZXNwb25zZTogewogICAgICBhY3Rpb246ICdjb21wbGV0ZScsCiAgICB9CiAgfTsKfQoKc2NvcGUuZ29vZ2xlID0gc2NvcGUuZ29vZ2xlIHx8IHt9OwpzY29wZS5nb29nbGUuY29sYWIgPSBzY29wZS5nb29nbGUuY29sYWIgfHwge307CnNjb3BlLmdvb2dsZS5jb2xhYi5fZmlsZXMgPSB7CiAgX3VwbG9hZEZpbGVzLAogIF91cGxvYWRGaWxlc0NvbnRpbnVlLAp9Owp9KShzZWxmKTsK",
              "ok": true,
              "headers": [
                [
                  "content-type",
                  "application/javascript"
                ]
              ],
              "status": 200,
              "status_text": ""
            }
          },
          "base_uri": "https://localhost:8080/",
          "height": 90
        },
        "id": "nQunfWCkhBDT",
        "outputId": "6adfbdce-ac90-41ee-ba9a-e512b14e1930"
      },
      "execution_count": null,
      "outputs": [
        {
          "output_type": "display_data",
          "data": {
            "text/plain": [
              "<IPython.core.display.HTML object>"
            ],
            "text/html": [
              "\n",
              "     <input type=\"file\" id=\"files-853a2514-b2ce-4b1c-885c-95ae11fbbf13\" name=\"files[]\" multiple disabled\n",
              "        style=\"border:none\" />\n",
              "     <output id=\"result-853a2514-b2ce-4b1c-885c-95ae11fbbf13\">\n",
              "      Upload widget is only available when the cell has been executed in the\n",
              "      current browser session. Please rerun this cell to enable.\n",
              "      </output>\n",
              "      <script src=\"/nbextensions/google.colab/files.js\"></script> "
            ]
          },
          "metadata": {}
        },
        {
          "output_type": "stream",
          "name": "stdout",
          "text": [
            "Saving cek.xlsx to cek.xlsx\n",
            "time: 15 s (started: 2022-06-22 17:44:36 +00:00)\n"
          ]
        }
      ]
    },
    {
      "cell_type": "code",
      "source": [
        "import pandas as pd\n",
        "df = pd.read_excel('cek.xlsx');"
      ],
      "metadata": {
        "id": "_nm--JkqhGeH"
      },
      "execution_count": null,
      "outputs": []
    },
    {
      "cell_type": "code",
      "source": [
        "df['TanggalDonor'] = pd.to_datetime(df['TanggalDonor'])\n",
        "months = df[\"TanggalDonor\"].dt.year * 12 + \\\n",
        "          df[\"TanggalDonor\"].dt.month  # series\n",
        "df[\"Bulan\"] = months - min(months) + 1"
      ],
      "metadata": {
        "colab": {
          "base_uri": "https://localhost:8080/"
        },
        "id": "LwD2XKRLhTAv",
        "outputId": "844b7909-5f8e-4bd3-d8b2-880e5c431a8b"
      },
      "execution_count": null,
      "outputs": [
        {
          "output_type": "stream",
          "name": "stdout",
          "text": [
            "time: 16.8 ms (started: 2022-06-22 17:46:37 +00:00)\n"
          ]
        }
      ]
    },
    {
      "cell_type": "code",
      "source": [
        "df"
      ],
      "metadata": {
        "colab": {
          "base_uri": "https://localhost:8080/",
          "height": 646
        },
        "id": "sUCo-hEuhS8c",
        "outputId": "6bca19e6-b2a5-4edf-8032-86defadd237a"
      },
      "execution_count": null,
      "outputs": [
        {
          "output_type": "execute_result",
          "data": {
            "text/plain": [
              "    NomerDonor               NamaDonor  NoKantong        TanggalDonor  Umur  \\\n",
              "0     20029078   MARSOEDI SANTOSO IR *   16150139 2017-01-03 15:42:12    56   \n",
              "1     20029078   MARSOEDI SANTOSO IR *   16150139 2018-01-03 15:42:12    56   \n",
              "2     20029078   MARSOEDI SANTOSO IR *   16150139 2019-01-03 15:42:12    56   \n",
              "3     20029078   MARSOEDI SANTOSO IR *   16150139 2020-01-03 15:42:12    56   \n",
              "4     20029078   MARSOEDI SANTOSO IR *   16150139 2021-01-03 15:42:12    56   \n",
              "5     20029099                    SAPA   16150139 2021-01-03 15:42:12    56   \n",
              "6     20029099                    SAPA   16150139 2021-01-06 15:42:12    56   \n",
              "7     20029099                    SAPA   16150139 2021-01-09 15:42:12    56   \n",
              "8     20029599               NO JANGAN   16150139 2017-01-03 15:42:12    56   \n",
              "9     20029599               NO JANGAN   16150139 2019-01-06 15:42:12    56   \n",
              "10    20029599               NO JANGAN   16150139 2021-01-09 15:42:12    56   \n",
              "\n",
              "    JKel            Lokasi  Volume JenisKantong  BloodType        NoTlp  \\\n",
              "0   Pria  UTD PMI SURABAYA  350 cc       Triple  O Positif  81248897057   \n",
              "1   Pria  UTD PMI SURABAYA  350 cc       Triple  O Positif  81248897057   \n",
              "2   Pria  UTD PMI SURABAYA  350 cc       Triple  O Positif  81248897057   \n",
              "3   Pria  UTD PMI SURABAYA  350 cc       Triple  O Positif  81248897057   \n",
              "4   Pria  UTD PMI SURABAYA  350 cc       Triple  O Positif  81248897057   \n",
              "5   Pria  UTD PMI SURABAYA  350 cc       Triple  O Positif  81248897057   \n",
              "6   Pria  UTD PMI SURABAYA  350 cc       Triple  O Positif  81248897057   \n",
              "7   Pria  UTD PMI SURABAYA  350 cc       Triple  O Positif  81248897057   \n",
              "8   Pria  UTD PMI SURABAYA  350 cc       Triple  O Positif  81248897057   \n",
              "9   Pria  UTD PMI SURABAYA  350 cc       Triple  O Positif  81248897057   \n",
              "10  Pria  UTD PMI SURABAYA  350 cc       Triple  O Positif  81248897057   \n",
              "\n",
              "                   Email  Bulan  \n",
              "0   skripsiwid@gmail.com      1  \n",
              "1   skripsiwid@gmail.com     13  \n",
              "2   skripsiwid@gmail.com     25  \n",
              "3   skripsiwid@gmail.com     37  \n",
              "4   skripsiwid@gmail.com     49  \n",
              "5   skripsiwid@gmail.com     49  \n",
              "6   skripsiwid@gmail.com     49  \n",
              "7   skripsiwid@gmail.com     49  \n",
              "8   skripsiwid@gmail.com      1  \n",
              "9   skripsiwid@gmail.com     25  \n",
              "10  skripsiwid@gmail.com     49  "
            ],
            "text/html": [
              "\n",
              "  <div id=\"df-af7fb1ac-d8b5-4517-8559-c5dea9128cb2\">\n",
              "    <div class=\"colab-df-container\">\n",
              "      <div>\n",
              "<style scoped>\n",
              "    .dataframe tbody tr th:only-of-type {\n",
              "        vertical-align: middle;\n",
              "    }\n",
              "\n",
              "    .dataframe tbody tr th {\n",
              "        vertical-align: top;\n",
              "    }\n",
              "\n",
              "    .dataframe thead th {\n",
              "        text-align: right;\n",
              "    }\n",
              "</style>\n",
              "<table border=\"1\" class=\"dataframe\">\n",
              "  <thead>\n",
              "    <tr style=\"text-align: right;\">\n",
              "      <th></th>\n",
              "      <th>NomerDonor</th>\n",
              "      <th>NamaDonor</th>\n",
              "      <th>NoKantong</th>\n",
              "      <th>TanggalDonor</th>\n",
              "      <th>Umur</th>\n",
              "      <th>JKel</th>\n",
              "      <th>Lokasi</th>\n",
              "      <th>Volume</th>\n",
              "      <th>JenisKantong</th>\n",
              "      <th>BloodType</th>\n",
              "      <th>NoTlp</th>\n",
              "      <th>Email</th>\n",
              "      <th>Bulan</th>\n",
              "    </tr>\n",
              "  </thead>\n",
              "  <tbody>\n",
              "    <tr>\n",
              "      <th>0</th>\n",
              "      <td>20029078</td>\n",
              "      <td>MARSOEDI SANTOSO IR *</td>\n",
              "      <td>16150139</td>\n",
              "      <td>2017-01-03 15:42:12</td>\n",
              "      <td>56</td>\n",
              "      <td>Pria</td>\n",
              "      <td>UTD PMI SURABAYA</td>\n",
              "      <td>350 cc</td>\n",
              "      <td>Triple</td>\n",
              "      <td>O Positif</td>\n",
              "      <td>81248897057</td>\n",
              "      <td>skripsiwid@gmail.com</td>\n",
              "      <td>1</td>\n",
              "    </tr>\n",
              "    <tr>\n",
              "      <th>1</th>\n",
              "      <td>20029078</td>\n",
              "      <td>MARSOEDI SANTOSO IR *</td>\n",
              "      <td>16150139</td>\n",
              "      <td>2018-01-03 15:42:12</td>\n",
              "      <td>56</td>\n",
              "      <td>Pria</td>\n",
              "      <td>UTD PMI SURABAYA</td>\n",
              "      <td>350 cc</td>\n",
              "      <td>Triple</td>\n",
              "      <td>O Positif</td>\n",
              "      <td>81248897057</td>\n",
              "      <td>skripsiwid@gmail.com</td>\n",
              "      <td>13</td>\n",
              "    </tr>\n",
              "    <tr>\n",
              "      <th>2</th>\n",
              "      <td>20029078</td>\n",
              "      <td>MARSOEDI SANTOSO IR *</td>\n",
              "      <td>16150139</td>\n",
              "      <td>2019-01-03 15:42:12</td>\n",
              "      <td>56</td>\n",
              "      <td>Pria</td>\n",
              "      <td>UTD PMI SURABAYA</td>\n",
              "      <td>350 cc</td>\n",
              "      <td>Triple</td>\n",
              "      <td>O Positif</td>\n",
              "      <td>81248897057</td>\n",
              "      <td>skripsiwid@gmail.com</td>\n",
              "      <td>25</td>\n",
              "    </tr>\n",
              "    <tr>\n",
              "      <th>3</th>\n",
              "      <td>20029078</td>\n",
              "      <td>MARSOEDI SANTOSO IR *</td>\n",
              "      <td>16150139</td>\n",
              "      <td>2020-01-03 15:42:12</td>\n",
              "      <td>56</td>\n",
              "      <td>Pria</td>\n",
              "      <td>UTD PMI SURABAYA</td>\n",
              "      <td>350 cc</td>\n",
              "      <td>Triple</td>\n",
              "      <td>O Positif</td>\n",
              "      <td>81248897057</td>\n",
              "      <td>skripsiwid@gmail.com</td>\n",
              "      <td>37</td>\n",
              "    </tr>\n",
              "    <tr>\n",
              "      <th>4</th>\n",
              "      <td>20029078</td>\n",
              "      <td>MARSOEDI SANTOSO IR *</td>\n",
              "      <td>16150139</td>\n",
              "      <td>2021-01-03 15:42:12</td>\n",
              "      <td>56</td>\n",
              "      <td>Pria</td>\n",
              "      <td>UTD PMI SURABAYA</td>\n",
              "      <td>350 cc</td>\n",
              "      <td>Triple</td>\n",
              "      <td>O Positif</td>\n",
              "      <td>81248897057</td>\n",
              "      <td>skripsiwid@gmail.com</td>\n",
              "      <td>49</td>\n",
              "    </tr>\n",
              "    <tr>\n",
              "      <th>5</th>\n",
              "      <td>20029099</td>\n",
              "      <td>SAPA</td>\n",
              "      <td>16150139</td>\n",
              "      <td>2021-01-03 15:42:12</td>\n",
              "      <td>56</td>\n",
              "      <td>Pria</td>\n",
              "      <td>UTD PMI SURABAYA</td>\n",
              "      <td>350 cc</td>\n",
              "      <td>Triple</td>\n",
              "      <td>O Positif</td>\n",
              "      <td>81248897057</td>\n",
              "      <td>skripsiwid@gmail.com</td>\n",
              "      <td>49</td>\n",
              "    </tr>\n",
              "    <tr>\n",
              "      <th>6</th>\n",
              "      <td>20029099</td>\n",
              "      <td>SAPA</td>\n",
              "      <td>16150139</td>\n",
              "      <td>2021-01-06 15:42:12</td>\n",
              "      <td>56</td>\n",
              "      <td>Pria</td>\n",
              "      <td>UTD PMI SURABAYA</td>\n",
              "      <td>350 cc</td>\n",
              "      <td>Triple</td>\n",
              "      <td>O Positif</td>\n",
              "      <td>81248897057</td>\n",
              "      <td>skripsiwid@gmail.com</td>\n",
              "      <td>49</td>\n",
              "    </tr>\n",
              "    <tr>\n",
              "      <th>7</th>\n",
              "      <td>20029099</td>\n",
              "      <td>SAPA</td>\n",
              "      <td>16150139</td>\n",
              "      <td>2021-01-09 15:42:12</td>\n",
              "      <td>56</td>\n",
              "      <td>Pria</td>\n",
              "      <td>UTD PMI SURABAYA</td>\n",
              "      <td>350 cc</td>\n",
              "      <td>Triple</td>\n",
              "      <td>O Positif</td>\n",
              "      <td>81248897057</td>\n",
              "      <td>skripsiwid@gmail.com</td>\n",
              "      <td>49</td>\n",
              "    </tr>\n",
              "    <tr>\n",
              "      <th>8</th>\n",
              "      <td>20029599</td>\n",
              "      <td>NO JANGAN</td>\n",
              "      <td>16150139</td>\n",
              "      <td>2017-01-03 15:42:12</td>\n",
              "      <td>56</td>\n",
              "      <td>Pria</td>\n",
              "      <td>UTD PMI SURABAYA</td>\n",
              "      <td>350 cc</td>\n",
              "      <td>Triple</td>\n",
              "      <td>O Positif</td>\n",
              "      <td>81248897057</td>\n",
              "      <td>skripsiwid@gmail.com</td>\n",
              "      <td>1</td>\n",
              "    </tr>\n",
              "    <tr>\n",
              "      <th>9</th>\n",
              "      <td>20029599</td>\n",
              "      <td>NO JANGAN</td>\n",
              "      <td>16150139</td>\n",
              "      <td>2019-01-06 15:42:12</td>\n",
              "      <td>56</td>\n",
              "      <td>Pria</td>\n",
              "      <td>UTD PMI SURABAYA</td>\n",
              "      <td>350 cc</td>\n",
              "      <td>Triple</td>\n",
              "      <td>O Positif</td>\n",
              "      <td>81248897057</td>\n",
              "      <td>skripsiwid@gmail.com</td>\n",
              "      <td>25</td>\n",
              "    </tr>\n",
              "    <tr>\n",
              "      <th>10</th>\n",
              "      <td>20029599</td>\n",
              "      <td>NO JANGAN</td>\n",
              "      <td>16150139</td>\n",
              "      <td>2021-01-09 15:42:12</td>\n",
              "      <td>56</td>\n",
              "      <td>Pria</td>\n",
              "      <td>UTD PMI SURABAYA</td>\n",
              "      <td>350 cc</td>\n",
              "      <td>Triple</td>\n",
              "      <td>O Positif</td>\n",
              "      <td>81248897057</td>\n",
              "      <td>skripsiwid@gmail.com</td>\n",
              "      <td>49</td>\n",
              "    </tr>\n",
              "  </tbody>\n",
              "</table>\n",
              "</div>\n",
              "      <button class=\"colab-df-convert\" onclick=\"convertToInteractive('df-af7fb1ac-d8b5-4517-8559-c5dea9128cb2')\"\n",
              "              title=\"Convert this dataframe to an interactive table.\"\n",
              "              style=\"display:none;\">\n",
              "        \n",
              "  <svg xmlns=\"http://www.w3.org/2000/svg\" height=\"24px\"viewBox=\"0 0 24 24\"\n",
              "       width=\"24px\">\n",
              "    <path d=\"M0 0h24v24H0V0z\" fill=\"none\"/>\n",
              "    <path d=\"M18.56 5.44l.94 2.06.94-2.06 2.06-.94-2.06-.94-.94-2.06-.94 2.06-2.06.94zm-11 1L8.5 8.5l.94-2.06 2.06-.94-2.06-.94L8.5 2.5l-.94 2.06-2.06.94zm10 10l.94 2.06.94-2.06 2.06-.94-2.06-.94-.94-2.06-.94 2.06-2.06.94z\"/><path d=\"M17.41 7.96l-1.37-1.37c-.4-.4-.92-.59-1.43-.59-.52 0-1.04.2-1.43.59L10.3 9.45l-7.72 7.72c-.78.78-.78 2.05 0 2.83L4 21.41c.39.39.9.59 1.41.59.51 0 1.02-.2 1.41-.59l7.78-7.78 2.81-2.81c.8-.78.8-2.07 0-2.86zM5.41 20L4 18.59l7.72-7.72 1.47 1.35L5.41 20z\"/>\n",
              "  </svg>\n",
              "      </button>\n",
              "      \n",
              "  <style>\n",
              "    .colab-df-container {\n",
              "      display:flex;\n",
              "      flex-wrap:wrap;\n",
              "      gap: 12px;\n",
              "    }\n",
              "\n",
              "    .colab-df-convert {\n",
              "      background-color: #E8F0FE;\n",
              "      border: none;\n",
              "      border-radius: 50%;\n",
              "      cursor: pointer;\n",
              "      display: none;\n",
              "      fill: #1967D2;\n",
              "      height: 32px;\n",
              "      padding: 0 0 0 0;\n",
              "      width: 32px;\n",
              "    }\n",
              "\n",
              "    .colab-df-convert:hover {\n",
              "      background-color: #E2EBFA;\n",
              "      box-shadow: 0px 1px 2px rgba(60, 64, 67, 0.3), 0px 1px 3px 1px rgba(60, 64, 67, 0.15);\n",
              "      fill: #174EA6;\n",
              "    }\n",
              "\n",
              "    [theme=dark] .colab-df-convert {\n",
              "      background-color: #3B4455;\n",
              "      fill: #D2E3FC;\n",
              "    }\n",
              "\n",
              "    [theme=dark] .colab-df-convert:hover {\n",
              "      background-color: #434B5C;\n",
              "      box-shadow: 0px 1px 3px 1px rgba(0, 0, 0, 0.15);\n",
              "      filter: drop-shadow(0px 1px 2px rgba(0, 0, 0, 0.3));\n",
              "      fill: #FFFFFF;\n",
              "    }\n",
              "  </style>\n",
              "\n",
              "      <script>\n",
              "        const buttonEl =\n",
              "          document.querySelector('#df-af7fb1ac-d8b5-4517-8559-c5dea9128cb2 button.colab-df-convert');\n",
              "        buttonEl.style.display =\n",
              "          google.colab.kernel.accessAllowed ? 'block' : 'none';\n",
              "\n",
              "        async function convertToInteractive(key) {\n",
              "          const element = document.querySelector('#df-af7fb1ac-d8b5-4517-8559-c5dea9128cb2');\n",
              "          const dataTable =\n",
              "            await google.colab.kernel.invokeFunction('convertToInteractive',\n",
              "                                                     [key], {});\n",
              "          if (!dataTable) return;\n",
              "\n",
              "          const docLinkHtml = 'Like what you see? Visit the ' +\n",
              "            '<a target=\"_blank\" href=https://colab.research.google.com/notebooks/data_table.ipynb>data table notebook</a>'\n",
              "            + ' to learn more about interactive tables.';\n",
              "          element.innerHTML = '';\n",
              "          dataTable['output_type'] = 'display_data';\n",
              "          await google.colab.output.renderOutput(dataTable, element);\n",
              "          const docLink = document.createElement('div');\n",
              "          docLink.innerHTML = docLinkHtml;\n",
              "          element.appendChild(docLink);\n",
              "        }\n",
              "      </script>\n",
              "    </div>\n",
              "  </div>\n",
              "  "
            ]
          },
          "metadata": {},
          "execution_count": 7
        },
        {
          "output_type": "stream",
          "name": "stdout",
          "text": [
            "time: 21.3 ms (started: 2022-06-22 17:46:41 +00:00)\n"
          ]
        }
      ]
    },
    {
      "cell_type": "code",
      "source": [
        "df = df.loc[(df['Bulan'] >= df.Bulan.max()-59)\n",
        "                & (df['Bulan'] <= df.Bulan.max())]"
      ],
      "metadata": {
        "colab": {
          "base_uri": "https://localhost:8080/"
        },
        "id": "fUt4Zprchp46",
        "outputId": "a641deb0-f428-4d39-b47e-bd0ba5984e40"
      },
      "execution_count": null,
      "outputs": [
        {
          "output_type": "stream",
          "name": "stdout",
          "text": [
            "time: 11.4 ms (started: 2022-06-22 17:47:22 +00:00)\n"
          ]
        }
      ]
    },
    {
      "cell_type": "code",
      "source": [
        "df"
      ],
      "metadata": {
        "colab": {
          "base_uri": "https://localhost:8080/",
          "height": 646
        },
        "id": "Q5cxPADjhrVA",
        "outputId": "fc222ec6-baac-4a7a-8123-bc5a3a78e7de"
      },
      "execution_count": null,
      "outputs": [
        {
          "output_type": "execute_result",
          "data": {
            "text/plain": [
              "    NomerDonor               NamaDonor  NoKantong        TanggalDonor  Umur  \\\n",
              "0     20029078   MARSOEDI SANTOSO IR *   16150139 2017-01-03 15:42:12    56   \n",
              "1     20029078   MARSOEDI SANTOSO IR *   16150139 2018-01-03 15:42:12    56   \n",
              "2     20029078   MARSOEDI SANTOSO IR *   16150139 2019-01-03 15:42:12    56   \n",
              "3     20029078   MARSOEDI SANTOSO IR *   16150139 2020-01-03 15:42:12    56   \n",
              "4     20029078   MARSOEDI SANTOSO IR *   16150139 2021-01-03 15:42:12    56   \n",
              "5     20029099                    SAPA   16150139 2021-01-03 15:42:12    56   \n",
              "6     20029099                    SAPA   16150139 2021-01-06 15:42:12    56   \n",
              "7     20029099                    SAPA   16150139 2021-01-09 15:42:12    56   \n",
              "8     20029599               NO JANGAN   16150139 2017-01-03 15:42:12    56   \n",
              "9     20029599               NO JANGAN   16150139 2019-01-06 15:42:12    56   \n",
              "10    20029599               NO JANGAN   16150139 2021-01-09 15:42:12    56   \n",
              "\n",
              "    JKel            Lokasi  Volume JenisKantong  BloodType        NoTlp  \\\n",
              "0   Pria  UTD PMI SURABAYA  350 cc       Triple  O Positif  81248897057   \n",
              "1   Pria  UTD PMI SURABAYA  350 cc       Triple  O Positif  81248897057   \n",
              "2   Pria  UTD PMI SURABAYA  350 cc       Triple  O Positif  81248897057   \n",
              "3   Pria  UTD PMI SURABAYA  350 cc       Triple  O Positif  81248897057   \n",
              "4   Pria  UTD PMI SURABAYA  350 cc       Triple  O Positif  81248897057   \n",
              "5   Pria  UTD PMI SURABAYA  350 cc       Triple  O Positif  81248897057   \n",
              "6   Pria  UTD PMI SURABAYA  350 cc       Triple  O Positif  81248897057   \n",
              "7   Pria  UTD PMI SURABAYA  350 cc       Triple  O Positif  81248897057   \n",
              "8   Pria  UTD PMI SURABAYA  350 cc       Triple  O Positif  81248897057   \n",
              "9   Pria  UTD PMI SURABAYA  350 cc       Triple  O Positif  81248897057   \n",
              "10  Pria  UTD PMI SURABAYA  350 cc       Triple  O Positif  81248897057   \n",
              "\n",
              "                   Email  Bulan  \n",
              "0   skripsiwid@gmail.com      1  \n",
              "1   skripsiwid@gmail.com     13  \n",
              "2   skripsiwid@gmail.com     25  \n",
              "3   skripsiwid@gmail.com     37  \n",
              "4   skripsiwid@gmail.com     49  \n",
              "5   skripsiwid@gmail.com     49  \n",
              "6   skripsiwid@gmail.com     49  \n",
              "7   skripsiwid@gmail.com     49  \n",
              "8   skripsiwid@gmail.com      1  \n",
              "9   skripsiwid@gmail.com     25  \n",
              "10  skripsiwid@gmail.com     49  "
            ],
            "text/html": [
              "\n",
              "  <div id=\"df-972621c5-a13e-45a8-a115-561f4e55e856\">\n",
              "    <div class=\"colab-df-container\">\n",
              "      <div>\n",
              "<style scoped>\n",
              "    .dataframe tbody tr th:only-of-type {\n",
              "        vertical-align: middle;\n",
              "    }\n",
              "\n",
              "    .dataframe tbody tr th {\n",
              "        vertical-align: top;\n",
              "    }\n",
              "\n",
              "    .dataframe thead th {\n",
              "        text-align: right;\n",
              "    }\n",
              "</style>\n",
              "<table border=\"1\" class=\"dataframe\">\n",
              "  <thead>\n",
              "    <tr style=\"text-align: right;\">\n",
              "      <th></th>\n",
              "      <th>NomerDonor</th>\n",
              "      <th>NamaDonor</th>\n",
              "      <th>NoKantong</th>\n",
              "      <th>TanggalDonor</th>\n",
              "      <th>Umur</th>\n",
              "      <th>JKel</th>\n",
              "      <th>Lokasi</th>\n",
              "      <th>Volume</th>\n",
              "      <th>JenisKantong</th>\n",
              "      <th>BloodType</th>\n",
              "      <th>NoTlp</th>\n",
              "      <th>Email</th>\n",
              "      <th>Bulan</th>\n",
              "    </tr>\n",
              "  </thead>\n",
              "  <tbody>\n",
              "    <tr>\n",
              "      <th>0</th>\n",
              "      <td>20029078</td>\n",
              "      <td>MARSOEDI SANTOSO IR *</td>\n",
              "      <td>16150139</td>\n",
              "      <td>2017-01-03 15:42:12</td>\n",
              "      <td>56</td>\n",
              "      <td>Pria</td>\n",
              "      <td>UTD PMI SURABAYA</td>\n",
              "      <td>350 cc</td>\n",
              "      <td>Triple</td>\n",
              "      <td>O Positif</td>\n",
              "      <td>81248897057</td>\n",
              "      <td>skripsiwid@gmail.com</td>\n",
              "      <td>1</td>\n",
              "    </tr>\n",
              "    <tr>\n",
              "      <th>1</th>\n",
              "      <td>20029078</td>\n",
              "      <td>MARSOEDI SANTOSO IR *</td>\n",
              "      <td>16150139</td>\n",
              "      <td>2018-01-03 15:42:12</td>\n",
              "      <td>56</td>\n",
              "      <td>Pria</td>\n",
              "      <td>UTD PMI SURABAYA</td>\n",
              "      <td>350 cc</td>\n",
              "      <td>Triple</td>\n",
              "      <td>O Positif</td>\n",
              "      <td>81248897057</td>\n",
              "      <td>skripsiwid@gmail.com</td>\n",
              "      <td>13</td>\n",
              "    </tr>\n",
              "    <tr>\n",
              "      <th>2</th>\n",
              "      <td>20029078</td>\n",
              "      <td>MARSOEDI SANTOSO IR *</td>\n",
              "      <td>16150139</td>\n",
              "      <td>2019-01-03 15:42:12</td>\n",
              "      <td>56</td>\n",
              "      <td>Pria</td>\n",
              "      <td>UTD PMI SURABAYA</td>\n",
              "      <td>350 cc</td>\n",
              "      <td>Triple</td>\n",
              "      <td>O Positif</td>\n",
              "      <td>81248897057</td>\n",
              "      <td>skripsiwid@gmail.com</td>\n",
              "      <td>25</td>\n",
              "    </tr>\n",
              "    <tr>\n",
              "      <th>3</th>\n",
              "      <td>20029078</td>\n",
              "      <td>MARSOEDI SANTOSO IR *</td>\n",
              "      <td>16150139</td>\n",
              "      <td>2020-01-03 15:42:12</td>\n",
              "      <td>56</td>\n",
              "      <td>Pria</td>\n",
              "      <td>UTD PMI SURABAYA</td>\n",
              "      <td>350 cc</td>\n",
              "      <td>Triple</td>\n",
              "      <td>O Positif</td>\n",
              "      <td>81248897057</td>\n",
              "      <td>skripsiwid@gmail.com</td>\n",
              "      <td>37</td>\n",
              "    </tr>\n",
              "    <tr>\n",
              "      <th>4</th>\n",
              "      <td>20029078</td>\n",
              "      <td>MARSOEDI SANTOSO IR *</td>\n",
              "      <td>16150139</td>\n",
              "      <td>2021-01-03 15:42:12</td>\n",
              "      <td>56</td>\n",
              "      <td>Pria</td>\n",
              "      <td>UTD PMI SURABAYA</td>\n",
              "      <td>350 cc</td>\n",
              "      <td>Triple</td>\n",
              "      <td>O Positif</td>\n",
              "      <td>81248897057</td>\n",
              "      <td>skripsiwid@gmail.com</td>\n",
              "      <td>49</td>\n",
              "    </tr>\n",
              "    <tr>\n",
              "      <th>5</th>\n",
              "      <td>20029099</td>\n",
              "      <td>SAPA</td>\n",
              "      <td>16150139</td>\n",
              "      <td>2021-01-03 15:42:12</td>\n",
              "      <td>56</td>\n",
              "      <td>Pria</td>\n",
              "      <td>UTD PMI SURABAYA</td>\n",
              "      <td>350 cc</td>\n",
              "      <td>Triple</td>\n",
              "      <td>O Positif</td>\n",
              "      <td>81248897057</td>\n",
              "      <td>skripsiwid@gmail.com</td>\n",
              "      <td>49</td>\n",
              "    </tr>\n",
              "    <tr>\n",
              "      <th>6</th>\n",
              "      <td>20029099</td>\n",
              "      <td>SAPA</td>\n",
              "      <td>16150139</td>\n",
              "      <td>2021-01-06 15:42:12</td>\n",
              "      <td>56</td>\n",
              "      <td>Pria</td>\n",
              "      <td>UTD PMI SURABAYA</td>\n",
              "      <td>350 cc</td>\n",
              "      <td>Triple</td>\n",
              "      <td>O Positif</td>\n",
              "      <td>81248897057</td>\n",
              "      <td>skripsiwid@gmail.com</td>\n",
              "      <td>49</td>\n",
              "    </tr>\n",
              "    <tr>\n",
              "      <th>7</th>\n",
              "      <td>20029099</td>\n",
              "      <td>SAPA</td>\n",
              "      <td>16150139</td>\n",
              "      <td>2021-01-09 15:42:12</td>\n",
              "      <td>56</td>\n",
              "      <td>Pria</td>\n",
              "      <td>UTD PMI SURABAYA</td>\n",
              "      <td>350 cc</td>\n",
              "      <td>Triple</td>\n",
              "      <td>O Positif</td>\n",
              "      <td>81248897057</td>\n",
              "      <td>skripsiwid@gmail.com</td>\n",
              "      <td>49</td>\n",
              "    </tr>\n",
              "    <tr>\n",
              "      <th>8</th>\n",
              "      <td>20029599</td>\n",
              "      <td>NO JANGAN</td>\n",
              "      <td>16150139</td>\n",
              "      <td>2017-01-03 15:42:12</td>\n",
              "      <td>56</td>\n",
              "      <td>Pria</td>\n",
              "      <td>UTD PMI SURABAYA</td>\n",
              "      <td>350 cc</td>\n",
              "      <td>Triple</td>\n",
              "      <td>O Positif</td>\n",
              "      <td>81248897057</td>\n",
              "      <td>skripsiwid@gmail.com</td>\n",
              "      <td>1</td>\n",
              "    </tr>\n",
              "    <tr>\n",
              "      <th>9</th>\n",
              "      <td>20029599</td>\n",
              "      <td>NO JANGAN</td>\n",
              "      <td>16150139</td>\n",
              "      <td>2019-01-06 15:42:12</td>\n",
              "      <td>56</td>\n",
              "      <td>Pria</td>\n",
              "      <td>UTD PMI SURABAYA</td>\n",
              "      <td>350 cc</td>\n",
              "      <td>Triple</td>\n",
              "      <td>O Positif</td>\n",
              "      <td>81248897057</td>\n",
              "      <td>skripsiwid@gmail.com</td>\n",
              "      <td>25</td>\n",
              "    </tr>\n",
              "    <tr>\n",
              "      <th>10</th>\n",
              "      <td>20029599</td>\n",
              "      <td>NO JANGAN</td>\n",
              "      <td>16150139</td>\n",
              "      <td>2021-01-09 15:42:12</td>\n",
              "      <td>56</td>\n",
              "      <td>Pria</td>\n",
              "      <td>UTD PMI SURABAYA</td>\n",
              "      <td>350 cc</td>\n",
              "      <td>Triple</td>\n",
              "      <td>O Positif</td>\n",
              "      <td>81248897057</td>\n",
              "      <td>skripsiwid@gmail.com</td>\n",
              "      <td>49</td>\n",
              "    </tr>\n",
              "  </tbody>\n",
              "</table>\n",
              "</div>\n",
              "      <button class=\"colab-df-convert\" onclick=\"convertToInteractive('df-972621c5-a13e-45a8-a115-561f4e55e856')\"\n",
              "              title=\"Convert this dataframe to an interactive table.\"\n",
              "              style=\"display:none;\">\n",
              "        \n",
              "  <svg xmlns=\"http://www.w3.org/2000/svg\" height=\"24px\"viewBox=\"0 0 24 24\"\n",
              "       width=\"24px\">\n",
              "    <path d=\"M0 0h24v24H0V0z\" fill=\"none\"/>\n",
              "    <path d=\"M18.56 5.44l.94 2.06.94-2.06 2.06-.94-2.06-.94-.94-2.06-.94 2.06-2.06.94zm-11 1L8.5 8.5l.94-2.06 2.06-.94-2.06-.94L8.5 2.5l-.94 2.06-2.06.94zm10 10l.94 2.06.94-2.06 2.06-.94-2.06-.94-.94-2.06-.94 2.06-2.06.94z\"/><path d=\"M17.41 7.96l-1.37-1.37c-.4-.4-.92-.59-1.43-.59-.52 0-1.04.2-1.43.59L10.3 9.45l-7.72 7.72c-.78.78-.78 2.05 0 2.83L4 21.41c.39.39.9.59 1.41.59.51 0 1.02-.2 1.41-.59l7.78-7.78 2.81-2.81c.8-.78.8-2.07 0-2.86zM5.41 20L4 18.59l7.72-7.72 1.47 1.35L5.41 20z\"/>\n",
              "  </svg>\n",
              "      </button>\n",
              "      \n",
              "  <style>\n",
              "    .colab-df-container {\n",
              "      display:flex;\n",
              "      flex-wrap:wrap;\n",
              "      gap: 12px;\n",
              "    }\n",
              "\n",
              "    .colab-df-convert {\n",
              "      background-color: #E8F0FE;\n",
              "      border: none;\n",
              "      border-radius: 50%;\n",
              "      cursor: pointer;\n",
              "      display: none;\n",
              "      fill: #1967D2;\n",
              "      height: 32px;\n",
              "      padding: 0 0 0 0;\n",
              "      width: 32px;\n",
              "    }\n",
              "\n",
              "    .colab-df-convert:hover {\n",
              "      background-color: #E2EBFA;\n",
              "      box-shadow: 0px 1px 2px rgba(60, 64, 67, 0.3), 0px 1px 3px 1px rgba(60, 64, 67, 0.15);\n",
              "      fill: #174EA6;\n",
              "    }\n",
              "\n",
              "    [theme=dark] .colab-df-convert {\n",
              "      background-color: #3B4455;\n",
              "      fill: #D2E3FC;\n",
              "    }\n",
              "\n",
              "    [theme=dark] .colab-df-convert:hover {\n",
              "      background-color: #434B5C;\n",
              "      box-shadow: 0px 1px 3px 1px rgba(0, 0, 0, 0.15);\n",
              "      filter: drop-shadow(0px 1px 2px rgba(0, 0, 0, 0.3));\n",
              "      fill: #FFFFFF;\n",
              "    }\n",
              "  </style>\n",
              "\n",
              "      <script>\n",
              "        const buttonEl =\n",
              "          document.querySelector('#df-972621c5-a13e-45a8-a115-561f4e55e856 button.colab-df-convert');\n",
              "        buttonEl.style.display =\n",
              "          google.colab.kernel.accessAllowed ? 'block' : 'none';\n",
              "\n",
              "        async function convertToInteractive(key) {\n",
              "          const element = document.querySelector('#df-972621c5-a13e-45a8-a115-561f4e55e856');\n",
              "          const dataTable =\n",
              "            await google.colab.kernel.invokeFunction('convertToInteractive',\n",
              "                                                     [key], {});\n",
              "          if (!dataTable) return;\n",
              "\n",
              "          const docLinkHtml = 'Like what you see? Visit the ' +\n",
              "            '<a target=\"_blank\" href=https://colab.research.google.com/notebooks/data_table.ipynb>data table notebook</a>'\n",
              "            + ' to learn more about interactive tables.';\n",
              "          element.innerHTML = '';\n",
              "          dataTable['output_type'] = 'display_data';\n",
              "          await google.colab.output.renderOutput(dataTable, element);\n",
              "          const docLink = document.createElement('div');\n",
              "          docLink.innerHTML = docLinkHtml;\n",
              "          element.appendChild(docLink);\n",
              "        }\n",
              "      </script>\n",
              "    </div>\n",
              "  </div>\n",
              "  "
            ]
          },
          "metadata": {},
          "execution_count": 9
        },
        {
          "output_type": "stream",
          "name": "stdout",
          "text": [
            "time: 20.1 ms (started: 2022-06-22 17:47:28 +00:00)\n"
          ]
        }
      ]
    },
    {
      "cell_type": "code",
      "source": [
        "new_cols = pd.RangeIndex(df['Bulan'].min(), df['Bulan'].max()+1)\n",
        "res = (\n",
        "        pd.crosstab(df['NomerDonor'], df['Bulan'])\n",
        "            .reindex(columns=new_cols, fill_value=0)\n",
        ")"
      ],
      "metadata": {
        "colab": {
          "base_uri": "https://localhost:8080/"
        },
        "id": "MAqW5tnQh0pF",
        "outputId": "062eb0e3-3b6e-4f03-a9f2-1c1fef3e9383"
      },
      "execution_count": null,
      "outputs": [
        {
          "output_type": "stream",
          "name": "stdout",
          "text": [
            "time: 19.6 ms (started: 2022-06-22 17:48:32 +00:00)\n"
          ]
        }
      ]
    },
    {
      "cell_type": "code",
      "source": [
        "res"
      ],
      "metadata": {
        "colab": {
          "base_uri": "https://localhost:8080/",
          "height": 221
        },
        "id": "hAhbuWUCh396",
        "outputId": "140772f9-1993-4172-97eb-ae0665197edf"
      },
      "execution_count": null,
      "outputs": [
        {
          "output_type": "execute_result",
          "data": {
            "text/plain": [
              "            1   2   3   4   5   6   7   8   9   10  ...  40  41  42  43  44  \\\n",
              "NomerDonor                                          ...                       \n",
              "20029078     1   0   0   0   0   0   0   0   0   0  ...   0   0   0   0   0   \n",
              "20029099     0   0   0   0   0   0   0   0   0   0  ...   0   0   0   0   0   \n",
              "20029599     1   0   0   0   0   0   0   0   0   0  ...   0   0   0   0   0   \n",
              "\n",
              "            45  46  47  48  49  \n",
              "NomerDonor                      \n",
              "20029078     0   0   0   0   1  \n",
              "20029099     0   0   0   0   3  \n",
              "20029599     0   0   0   0   1  \n",
              "\n",
              "[3 rows x 49 columns]"
            ],
            "text/html": [
              "\n",
              "  <div id=\"df-a6ad5931-452e-4382-ab33-40d90e6a9440\">\n",
              "    <div class=\"colab-df-container\">\n",
              "      <div>\n",
              "<style scoped>\n",
              "    .dataframe tbody tr th:only-of-type {\n",
              "        vertical-align: middle;\n",
              "    }\n",
              "\n",
              "    .dataframe tbody tr th {\n",
              "        vertical-align: top;\n",
              "    }\n",
              "\n",
              "    .dataframe thead th {\n",
              "        text-align: right;\n",
              "    }\n",
              "</style>\n",
              "<table border=\"1\" class=\"dataframe\">\n",
              "  <thead>\n",
              "    <tr style=\"text-align: right;\">\n",
              "      <th></th>\n",
              "      <th>1</th>\n",
              "      <th>2</th>\n",
              "      <th>3</th>\n",
              "      <th>4</th>\n",
              "      <th>5</th>\n",
              "      <th>6</th>\n",
              "      <th>7</th>\n",
              "      <th>8</th>\n",
              "      <th>9</th>\n",
              "      <th>10</th>\n",
              "      <th>...</th>\n",
              "      <th>40</th>\n",
              "      <th>41</th>\n",
              "      <th>42</th>\n",
              "      <th>43</th>\n",
              "      <th>44</th>\n",
              "      <th>45</th>\n",
              "      <th>46</th>\n",
              "      <th>47</th>\n",
              "      <th>48</th>\n",
              "      <th>49</th>\n",
              "    </tr>\n",
              "    <tr>\n",
              "      <th>NomerDonor</th>\n",
              "      <th></th>\n",
              "      <th></th>\n",
              "      <th></th>\n",
              "      <th></th>\n",
              "      <th></th>\n",
              "      <th></th>\n",
              "      <th></th>\n",
              "      <th></th>\n",
              "      <th></th>\n",
              "      <th></th>\n",
              "      <th></th>\n",
              "      <th></th>\n",
              "      <th></th>\n",
              "      <th></th>\n",
              "      <th></th>\n",
              "      <th></th>\n",
              "      <th></th>\n",
              "      <th></th>\n",
              "      <th></th>\n",
              "      <th></th>\n",
              "      <th></th>\n",
              "    </tr>\n",
              "  </thead>\n",
              "  <tbody>\n",
              "    <tr>\n",
              "      <th>20029078</th>\n",
              "      <td>1</td>\n",
              "      <td>0</td>\n",
              "      <td>0</td>\n",
              "      <td>0</td>\n",
              "      <td>0</td>\n",
              "      <td>0</td>\n",
              "      <td>0</td>\n",
              "      <td>0</td>\n",
              "      <td>0</td>\n",
              "      <td>0</td>\n",
              "      <td>...</td>\n",
              "      <td>0</td>\n",
              "      <td>0</td>\n",
              "      <td>0</td>\n",
              "      <td>0</td>\n",
              "      <td>0</td>\n",
              "      <td>0</td>\n",
              "      <td>0</td>\n",
              "      <td>0</td>\n",
              "      <td>0</td>\n",
              "      <td>1</td>\n",
              "    </tr>\n",
              "    <tr>\n",
              "      <th>20029099</th>\n",
              "      <td>0</td>\n",
              "      <td>0</td>\n",
              "      <td>0</td>\n",
              "      <td>0</td>\n",
              "      <td>0</td>\n",
              "      <td>0</td>\n",
              "      <td>0</td>\n",
              "      <td>0</td>\n",
              "      <td>0</td>\n",
              "      <td>0</td>\n",
              "      <td>...</td>\n",
              "      <td>0</td>\n",
              "      <td>0</td>\n",
              "      <td>0</td>\n",
              "      <td>0</td>\n",
              "      <td>0</td>\n",
              "      <td>0</td>\n",
              "      <td>0</td>\n",
              "      <td>0</td>\n",
              "      <td>0</td>\n",
              "      <td>3</td>\n",
              "    </tr>\n",
              "    <tr>\n",
              "      <th>20029599</th>\n",
              "      <td>1</td>\n",
              "      <td>0</td>\n",
              "      <td>0</td>\n",
              "      <td>0</td>\n",
              "      <td>0</td>\n",
              "      <td>0</td>\n",
              "      <td>0</td>\n",
              "      <td>0</td>\n",
              "      <td>0</td>\n",
              "      <td>0</td>\n",
              "      <td>...</td>\n",
              "      <td>0</td>\n",
              "      <td>0</td>\n",
              "      <td>0</td>\n",
              "      <td>0</td>\n",
              "      <td>0</td>\n",
              "      <td>0</td>\n",
              "      <td>0</td>\n",
              "      <td>0</td>\n",
              "      <td>0</td>\n",
              "      <td>1</td>\n",
              "    </tr>\n",
              "  </tbody>\n",
              "</table>\n",
              "<p>3 rows × 49 columns</p>\n",
              "</div>\n",
              "      <button class=\"colab-df-convert\" onclick=\"convertToInteractive('df-a6ad5931-452e-4382-ab33-40d90e6a9440')\"\n",
              "              title=\"Convert this dataframe to an interactive table.\"\n",
              "              style=\"display:none;\">\n",
              "        \n",
              "  <svg xmlns=\"http://www.w3.org/2000/svg\" height=\"24px\"viewBox=\"0 0 24 24\"\n",
              "       width=\"24px\">\n",
              "    <path d=\"M0 0h24v24H0V0z\" fill=\"none\"/>\n",
              "    <path d=\"M18.56 5.44l.94 2.06.94-2.06 2.06-.94-2.06-.94-.94-2.06-.94 2.06-2.06.94zm-11 1L8.5 8.5l.94-2.06 2.06-.94-2.06-.94L8.5 2.5l-.94 2.06-2.06.94zm10 10l.94 2.06.94-2.06 2.06-.94-2.06-.94-.94-2.06-.94 2.06-2.06.94z\"/><path d=\"M17.41 7.96l-1.37-1.37c-.4-.4-.92-.59-1.43-.59-.52 0-1.04.2-1.43.59L10.3 9.45l-7.72 7.72c-.78.78-.78 2.05 0 2.83L4 21.41c.39.39.9.59 1.41.59.51 0 1.02-.2 1.41-.59l7.78-7.78 2.81-2.81c.8-.78.8-2.07 0-2.86zM5.41 20L4 18.59l7.72-7.72 1.47 1.35L5.41 20z\"/>\n",
              "  </svg>\n",
              "      </button>\n",
              "      \n",
              "  <style>\n",
              "    .colab-df-container {\n",
              "      display:flex;\n",
              "      flex-wrap:wrap;\n",
              "      gap: 12px;\n",
              "    }\n",
              "\n",
              "    .colab-df-convert {\n",
              "      background-color: #E8F0FE;\n",
              "      border: none;\n",
              "      border-radius: 50%;\n",
              "      cursor: pointer;\n",
              "      display: none;\n",
              "      fill: #1967D2;\n",
              "      height: 32px;\n",
              "      padding: 0 0 0 0;\n",
              "      width: 32px;\n",
              "    }\n",
              "\n",
              "    .colab-df-convert:hover {\n",
              "      background-color: #E2EBFA;\n",
              "      box-shadow: 0px 1px 2px rgba(60, 64, 67, 0.3), 0px 1px 3px 1px rgba(60, 64, 67, 0.15);\n",
              "      fill: #174EA6;\n",
              "    }\n",
              "\n",
              "    [theme=dark] .colab-df-convert {\n",
              "      background-color: #3B4455;\n",
              "      fill: #D2E3FC;\n",
              "    }\n",
              "\n",
              "    [theme=dark] .colab-df-convert:hover {\n",
              "      background-color: #434B5C;\n",
              "      box-shadow: 0px 1px 3px 1px rgba(0, 0, 0, 0.15);\n",
              "      filter: drop-shadow(0px 1px 2px rgba(0, 0, 0, 0.3));\n",
              "      fill: #FFFFFF;\n",
              "    }\n",
              "  </style>\n",
              "\n",
              "      <script>\n",
              "        const buttonEl =\n",
              "          document.querySelector('#df-a6ad5931-452e-4382-ab33-40d90e6a9440 button.colab-df-convert');\n",
              "        buttonEl.style.display =\n",
              "          google.colab.kernel.accessAllowed ? 'block' : 'none';\n",
              "\n",
              "        async function convertToInteractive(key) {\n",
              "          const element = document.querySelector('#df-a6ad5931-452e-4382-ab33-40d90e6a9440');\n",
              "          const dataTable =\n",
              "            await google.colab.kernel.invokeFunction('convertToInteractive',\n",
              "                                                     [key], {});\n",
              "          if (!dataTable) return;\n",
              "\n",
              "          const docLinkHtml = 'Like what you see? Visit the ' +\n",
              "            '<a target=\"_blank\" href=https://colab.research.google.com/notebooks/data_table.ipynb>data table notebook</a>'\n",
              "            + ' to learn more about interactive tables.';\n",
              "          element.innerHTML = '';\n",
              "          dataTable['output_type'] = 'display_data';\n",
              "          await google.colab.output.renderOutput(dataTable, element);\n",
              "          const docLink = document.createElement('div');\n",
              "          docLink.innerHTML = docLinkHtml;\n",
              "          element.appendChild(docLink);\n",
              "        }\n",
              "      </script>\n",
              "    </div>\n",
              "  </div>\n",
              "  "
            ]
          },
          "metadata": {},
          "execution_count": 13
        },
        {
          "output_type": "stream",
          "name": "stdout",
          "text": [
            "time: 19.7 ms (started: 2022-06-22 17:48:36 +00:00)\n"
          ]
        }
      ]
    },
    {
      "cell_type": "markdown",
      "metadata": {
        "id": "beoiYn0WrCfQ"
      },
      "source": [
        "###### df _ normal (2017 - 2022) -> feb 22"
      ]
    },
    {
      "cell_type": "code",
      "execution_count": null,
      "metadata": {
        "colab": {
          "base_uri": "https://localhost:8080/"
        },
        "id": "GE9yqrFUrCfQ",
        "outputId": "949609b0-c637-470c-e19e-483f2064f35a"
      },
      "outputs": [
        {
          "output_type": "stream",
          "name": "stdout",
          "text": [
            "time: 753 µs (started: 2022-07-01 08:53:59 +00:00)\n"
          ]
        }
      ],
      "source": [
        "jenis = ['Triple', 'Quadruple', 'Single', 'Double Besar']"
      ]
    },
    {
      "cell_type": "code",
      "execution_count": null,
      "metadata": {
        "colab": {
          "base_uri": "https://localhost:8080/"
        },
        "id": "9rO3z8oArCfQ",
        "outputId": "c3b80e40-a67a-440f-d837-7a1d996ee965"
      },
      "outputs": [
        {
          "output_type": "stream",
          "name": "stdout",
          "text": [
            "time: 775 ms (started: 2022-07-01 08:54:00 +00:00)\n"
          ]
        }
      ],
      "source": [
        "import pandas as pd\n",
        "df = pd.read_csv('dp17-21.csv')\n",
        "df.JenisKantong = df.JenisKantong.str.title()\n",
        "df = df[df['JenisKantong'].isin(jenis)]"
      ]
    },
    {
      "cell_type": "code",
      "execution_count": null,
      "metadata": {
        "colab": {
          "base_uri": "https://localhost:8080/"
        },
        "id": "b-vIGtrclI9Y",
        "outputId": "e7687bec-e3bb-4615-d915-640ae9902f72"
      },
      "outputs": [
        {
          "output_type": "stream",
          "name": "stderr",
          "text": [
            "/usr/local/lib/python3.7/dist-packages/ipykernel_launcher.py:2: SettingWithCopyWarning: \n",
            "A value is trying to be set on a copy of a slice from a DataFrame.\n",
            "Try using .loc[row_indexer,col_indexer] = value instead\n",
            "\n",
            "See the caveats in the documentation: https://pandas.pydata.org/pandas-docs/stable/user_guide/indexing.html#returning-a-view-versus-a-copy\n",
            "  \n",
            "/usr/local/lib/python3.7/dist-packages/pandas/core/indexing.py:1684: SettingWithCopyWarning: \n",
            "A value is trying to be set on a copy of a slice from a DataFrame.\n",
            "Try using .loc[row_indexer,col_indexer] = value instead\n",
            "\n",
            "See the caveats in the documentation: https://pandas.pydata.org/pandas-docs/stable/user_guide/indexing.html#returning-a-view-versus-a-copy\n",
            "  self.obj[key] = infer_fill_value(value)\n",
            "/usr/local/lib/python3.7/dist-packages/pandas/core/indexing.py:1817: SettingWithCopyWarning: \n",
            "A value is trying to be set on a copy of a slice from a DataFrame.\n",
            "Try using .loc[row_indexer,col_indexer] = value instead\n",
            "\n",
            "See the caveats in the documentation: https://pandas.pydata.org/pandas-docs/stable/user_guide/indexing.html#returning-a-view-versus-a-copy\n",
            "  self._setitem_single_column(loc, value, pi)\n"
          ]
        },
        {
          "output_type": "stream",
          "name": "stdout",
          "text": [
            "time: 447 ms (started: 2022-07-01 08:54:01 +00:00)\n"
          ]
        }
      ],
      "source": [
        "def changegol(df):\n",
        "        df['BloodType'] = df['BloodType'].str.lower()\n",
        "        df.loc[df['BloodType'] == 'a positif', 'GolDrh'] = 0\n",
        "        df.loc[df['BloodType'] == 'a negatif', 'GolDrh'] = 1\n",
        "        df.loc[df['BloodType'] == 'b positif', 'GolDrh'] = 2\n",
        "        df.loc[df['BloodType'] == 'b negatif', 'GolDrh'] = 3\n",
        "        df.loc[df['BloodType'] == 'ab positif', 'GolDrh'] = 4\n",
        "        df.loc[df['BloodType'] == 'ab negatif', 'GolDrh'] = 5\n",
        "        df.loc[df['BloodType'] == 'o positif', 'GolDrh'] = 6\n",
        "        df.loc[df['BloodType'] == 'o negatif', 'GolDrh'] = 7\n",
        "        jenis = ['Triple', 'Quadruple', 'Single', 'Double Besar']\n",
        "        df.JenisKantong = df.JenisKantong.str.title()\n",
        "        df = df[df['JenisKantong'].isin(jenis)]\n",
        "        return df\n",
        "\n",
        "df = changegol(df)"
      ]
    },
    {
      "cell_type": "code",
      "execution_count": null,
      "metadata": {
        "colab": {
          "base_uri": "https://localhost:8080/"
        },
        "id": "C3JSrsmprCfQ",
        "outputId": "e12bf996-86dc-4fd3-8848-d900f93985c5"
      },
      "outputs": [
        {
          "output_type": "stream",
          "name": "stdout",
          "text": [
            "time: 24.7 ms (started: 2022-07-01 08:54:01 +00:00)\n"
          ]
        }
      ],
      "source": [
        "d22 = df.loc[(df['TanggalDonor'] > '2022-01-31 23:59:59.999')]\n",
        "d22 = d22.loc[(d22['Lokasi'] == 'UTD PMI SURABAYA')]"
      ]
    },
    {
      "cell_type": "code",
      "execution_count": null,
      "metadata": {
        "colab": {
          "base_uri": "https://localhost:8080/"
        },
        "id": "ZhPdPieerCfQ",
        "outputId": "5cf50c00-5f1f-4ab6-80fe-d8f7cfa2b163"
      },
      "outputs": [
        {
          "output_type": "stream",
          "name": "stdout",
          "text": [
            "time: 65.3 ms (started: 2022-07-01 08:54:01 +00:00)\n"
          ]
        }
      ],
      "source": [
        "df = df.loc[(df['TanggalDonor'] <= '2022-01-31 23:59:59.999')]"
      ]
    },
    {
      "cell_type": "code",
      "execution_count": null,
      "metadata": {
        "colab": {
          "base_uri": "https://localhost:8080/"
        },
        "id": "wOb0murqrCfQ",
        "outputId": "04d78502-4496-43d1-fed7-d2ab45923152"
      },
      "outputs": [
        {
          "output_type": "stream",
          "name": "stdout",
          "text": [
            "time: 15.1 ms (started: 2022-07-01 08:54:01 +00:00)\n"
          ]
        }
      ],
      "source": [
        "d22 = d22[d22.NomerDonor.isin(df.NomerDonor)]"
      ]
    },
    {
      "cell_type": "markdown",
      "metadata": {
        "id": "jmYqJTap-cCD"
      },
      "source": [
        "###### df _ before corona (2015-2019) -> jan 2020"
      ]
    },
    {
      "cell_type": "code",
      "execution_count": null,
      "metadata": {
        "colab": {
          "base_uri": "https://localhost:8080/"
        },
        "id": "LrQYyUzE-cCF",
        "outputId": "f3d2e4da-3871-42d2-ed42-b76af3401049"
      },
      "outputs": [
        {
          "output_type": "stream",
          "name": "stdout",
          "text": [
            "time: 1.04 ms (started: 2022-07-01 08:53:42 +00:00)\n"
          ]
        }
      ],
      "source": [
        "jenis = ['Triple', 'Quadruple', 'Single', 'Double Besar']"
      ]
    },
    {
      "cell_type": "code",
      "execution_count": null,
      "metadata": {
        "colab": {
          "base_uri": "https://localhost:8080/"
        },
        "id": "O2XgaSxO-cCG",
        "outputId": "ae286b46-99fa-465b-f757-fa2da049b053"
      },
      "outputs": [
        {
          "output_type": "stream",
          "name": "stdout",
          "text": [
            "time: 1.33 s (started: 2022-07-01 08:53:42 +00:00)\n"
          ]
        }
      ],
      "source": [
        "import pandas as pd\n",
        "df = pd.read_csv('dp15-19.csv')\n",
        "df.JenisKantong = df.JenisKantong.str.title()\n",
        "df = df[df['JenisKantong'].isin(jenis)]"
      ]
    },
    {
      "cell_type": "code",
      "execution_count": null,
      "metadata": {
        "colab": {
          "base_uri": "https://localhost:8080/"
        },
        "id": "NmuiZzzH-cCG",
        "outputId": "b5678f64-f5c9-44cb-e324-a6d0dee6b1a8"
      },
      "outputs": [
        {
          "output_type": "stream",
          "name": "stderr",
          "text": [
            "/usr/local/lib/python3.7/dist-packages/ipykernel_launcher.py:3: SettingWithCopyWarning: \n",
            "A value is trying to be set on a copy of a slice from a DataFrame.\n",
            "Try using .loc[row_indexer,col_indexer] = value instead\n",
            "\n",
            "See the caveats in the documentation: https://pandas.pydata.org/pandas-docs/stable/user_guide/indexing.html#returning-a-view-versus-a-copy\n",
            "  This is separate from the ipykernel package so we can avoid doing imports until\n",
            "/usr/local/lib/python3.7/dist-packages/pandas/core/indexing.py:1684: SettingWithCopyWarning: \n",
            "A value is trying to be set on a copy of a slice from a DataFrame.\n",
            "Try using .loc[row_indexer,col_indexer] = value instead\n",
            "\n",
            "See the caveats in the documentation: https://pandas.pydata.org/pandas-docs/stable/user_guide/indexing.html#returning-a-view-versus-a-copy\n",
            "  self.obj[key] = infer_fill_value(value)\n",
            "/usr/local/lib/python3.7/dist-packages/pandas/core/indexing.py:1817: SettingWithCopyWarning: \n",
            "A value is trying to be set on a copy of a slice from a DataFrame.\n",
            "Try using .loc[row_indexer,col_indexer] = value instead\n",
            "\n",
            "See the caveats in the documentation: https://pandas.pydata.org/pandas-docs/stable/user_guide/indexing.html#returning-a-view-versus-a-copy\n",
            "  self._setitem_single_column(loc, value, pi)\n"
          ]
        },
        {
          "output_type": "stream",
          "name": "stdout",
          "text": [
            "time: 533 ms (started: 2022-07-01 08:53:44 +00:00)\n"
          ]
        },
        {
          "output_type": "stream",
          "name": "stderr",
          "text": [
            "/usr/local/lib/python3.7/dist-packages/pandas/core/generic.py:5516: SettingWithCopyWarning: \n",
            "A value is trying to be set on a copy of a slice from a DataFrame.\n",
            "Try using .loc[row_indexer,col_indexer] = value instead\n",
            "\n",
            "See the caveats in the documentation: https://pandas.pydata.org/pandas-docs/stable/user_guide/indexing.html#returning-a-view-versus-a-copy\n",
            "  self[name] = value\n"
          ]
        }
      ],
      "source": [
        "def changegol(df):\n",
        "        df = df.loc[(df['Umur'] >= 17) & (df['Umur'] <= 64)]\n",
        "        df['BloodType'] = df['BloodType'].str.lower()\n",
        "        df.loc[df['BloodType'] == 'a positif', 'GolDrh'] = 'A Positif'\n",
        "        df.loc[df['BloodType'] == 'a negatif', 'GolDrh'] = 'A Negatif'\n",
        "        df.loc[df['BloodType'] == 'b positif', 'GolDrh'] = 'B Positif'\n",
        "        df.loc[df['BloodType'] == 'b negatif', 'GolDrh'] = 'B Negatif'\n",
        "        df.loc[df['BloodType'] == 'ab positif', 'GolDrh'] = 'AB Positif'\n",
        "        df.loc[df['BloodType'] == 'ab negatif', 'GolDrh'] = 'AB Negatif'\n",
        "        df.loc[df['BloodType'] == 'o positif', 'GolDrh'] = 'O Positif'\n",
        "        df.loc[df['BloodType'] == 'o negatif', 'GolDrh'] = 'O Negatif'\n",
        "        jenis = ['Triple', 'Quadruple', 'Single', 'Double Besar']\n",
        "        df.JenisKantong = df.JenisKantong.str.title()\n",
        "        df = df[df['JenisKantong'].isin(jenis)]\n",
        "        return df\n",
        "\n",
        "df = changegol(df)"
      ]
    },
    {
      "cell_type": "code",
      "execution_count": null,
      "metadata": {
        "colab": {
          "base_uri": "https://localhost:8080/"
        },
        "id": "RHZOPtI2-cCH",
        "outputId": "3a448f6c-b9d8-416a-f452-80d6ae65a82a"
      },
      "outputs": [
        {
          "output_type": "stream",
          "name": "stdout",
          "text": [
            "time: 25.2 ms (started: 2022-07-01 08:53:44 +00:00)\n"
          ]
        }
      ],
      "source": [
        "d22 = df.loc[(df['TanggalDonor'] > '2019-12-31 23:59:59.999')]\n",
        "d22 = d22.loc[(d22['Lokasi'] == 'UTD PMI SURABAYA')]"
      ]
    },
    {
      "cell_type": "code",
      "execution_count": null,
      "metadata": {
        "colab": {
          "base_uri": "https://localhost:8080/"
        },
        "id": "ZekfC_X_-cCH",
        "outputId": "6cfb6656-b927-46f3-9246-66e1811a4a53"
      },
      "outputs": [
        {
          "output_type": "stream",
          "name": "stdout",
          "text": [
            "time: 68.5 ms (started: 2022-07-01 08:53:44 +00:00)\n"
          ]
        }
      ],
      "source": [
        "df = df.loc[(df['TanggalDonor'] <= '2019-12-31 23:59:59.999')]"
      ]
    },
    {
      "cell_type": "code",
      "execution_count": null,
      "metadata": {
        "colab": {
          "base_uri": "https://localhost:8080/"
        },
        "id": "ZKfdtRnW-cCI",
        "outputId": "d766189b-6b0b-4eb3-d13d-c351a563d1f4"
      },
      "outputs": [
        {
          "output_type": "stream",
          "name": "stdout",
          "text": [
            "time: 11.7 ms (started: 2022-07-01 08:53:44 +00:00)\n"
          ]
        }
      ],
      "source": [
        "d22 = d22[d22.NomerDonor.isin(df.NomerDonor)]"
      ]
    },
    {
      "cell_type": "markdown",
      "metadata": {
        "id": "21fV7DBG-dm1"
      },
      "source": [
        "###### df _ after corona (2020-2022) -> feb 22"
      ]
    },
    {
      "cell_type": "code",
      "execution_count": null,
      "metadata": {
        "colab": {
          "base_uri": "https://localhost:8080/"
        },
        "id": "B4fFRhFM-dm2",
        "outputId": "37ca30aa-aab5-4e4c-f891-5bc5137f256e"
      },
      "outputs": [
        {
          "output_type": "stream",
          "name": "stdout",
          "text": [
            "time: 1.11 ms (started: 2022-07-01 08:53:20 +00:00)\n"
          ]
        }
      ],
      "source": [
        "jenis = ['Triple', 'Quadruple', 'Single', 'Double Besar']"
      ]
    },
    {
      "cell_type": "code",
      "execution_count": null,
      "metadata": {
        "colab": {
          "base_uri": "https://localhost:8080/"
        },
        "id": "OUP-rr9P-dm3",
        "outputId": "dea8f55b-7f53-40f7-c2ea-cdb2cbd93b0e"
      },
      "outputs": [
        {
          "output_type": "stream",
          "name": "stdout",
          "text": [
            "time: 400 ms (started: 2022-07-01 08:53:20 +00:00)\n"
          ]
        }
      ],
      "source": [
        "import pandas as pd\n",
        "df = pd.read_csv('dp20-22.csv')\n",
        "df.JenisKantong = df.JenisKantong.str.title()\n",
        "df = df[df['JenisKantong'].isin(jenis)]"
      ]
    },
    {
      "cell_type": "code",
      "execution_count": null,
      "metadata": {
        "colab": {
          "base_uri": "https://localhost:8080/"
        },
        "id": "jveicbD4-dm3",
        "outputId": "8739a19c-c447-4a96-a91d-a028eed0be91"
      },
      "outputs": [
        {
          "output_type": "stream",
          "name": "stdout",
          "text": [
            "time: 259 ms (started: 2022-07-01 08:53:21 +00:00)\n"
          ]
        }
      ],
      "source": [
        "def changegol(df):\n",
        "        df['BloodType'] = df['BloodType'].str.lower()\n",
        "        df.loc[df['BloodType'] == 'a positif', 'GolDrh'] = 'A Positif'\n",
        "        df.loc[df['BloodType'] == 'a negatif', 'GolDrh'] = 'A Negatif'\n",
        "        df.loc[df['BloodType'] == 'b positif', 'GolDrh'] = 'B Positif'\n",
        "        df.loc[df['BloodType'] == 'b negatif', 'GolDrh'] = 'B Negatif'\n",
        "        df.loc[df['BloodType'] == 'ab positif', 'GolDrh'] = 'AB Positif'\n",
        "        df.loc[df['BloodType'] == 'ab negatif', 'GolDrh'] = 'AB Negatif'\n",
        "        df.loc[df['BloodType'] == 'o positif', 'GolDrh'] = 'O Positif'\n",
        "        df.loc[df['BloodType'] == 'o negatif', 'GolDrh'] = 'O Negatif'\n",
        "        jenis = ['Triple', 'Quadruple', 'Single', 'Double Besar']\n",
        "        df.JenisKantong = df.JenisKantong.str.title()\n",
        "        df = df[df['JenisKantong'].isin(jenis)]\n",
        "        return df\n",
        "\n",
        "df = changegol(df)"
      ]
    },
    {
      "cell_type": "code",
      "execution_count": null,
      "metadata": {
        "colab": {
          "base_uri": "https://localhost:8080/"
        },
        "id": "3JXIiAUO-dm4",
        "outputId": "8a436dc1-793e-4eb5-9c7e-7ec39f909b3f"
      },
      "outputs": [
        {
          "output_type": "stream",
          "name": "stdout",
          "text": [
            "time: 26.7 ms (started: 2022-07-01 08:53:21 +00:00)\n"
          ]
        }
      ],
      "source": [
        "d22 = df.loc[(df['TanggalDonor'] > '2022-01-31 23:59:59.999')]\n",
        "d22 = d22.loc[(d22['Lokasi'] == 'UTD PMI SURABAYA')]"
      ]
    },
    {
      "cell_type": "code",
      "execution_count": null,
      "metadata": {
        "colab": {
          "base_uri": "https://localhost:8080/"
        },
        "id": "r0IQIP1j-dm4",
        "outputId": "abebc60d-131c-4fb4-8b54-9f11df730497"
      },
      "outputs": [
        {
          "output_type": "stream",
          "name": "stdout",
          "text": [
            "time: 24.8 ms (started: 2022-07-01 08:53:21 +00:00)\n"
          ]
        }
      ],
      "source": [
        "df = df.loc[(df['TanggalDonor'] <= '2022-01-31 23:59:59.999')]"
      ]
    },
    {
      "cell_type": "code",
      "execution_count": null,
      "metadata": {
        "colab": {
          "base_uri": "https://localhost:8080/"
        },
        "id": "a85VnGgx-dm5",
        "outputId": "0d5d5394-c79f-44ca-8658-cd71183f7298"
      },
      "outputs": [
        {
          "output_type": "stream",
          "name": "stdout",
          "text": [
            "time: 9.97 ms (started: 2022-07-01 08:53:21 +00:00)\n"
          ]
        }
      ],
      "source": [
        "d22 = d22[d22.NomerDonor.isin(df.NomerDonor)]"
      ]
    },
    {
      "cell_type": "markdown",
      "metadata": {
        "id": "t4dItZnUUnJ-"
      },
      "source": [
        "##### ranking"
      ]
    },
    {
      "cell_type": "code",
      "execution_count": null,
      "metadata": {
        "id": "M78sM9Ep3W-Q",
        "colab": {
          "base_uri": "https://localhost:8080/"
        },
        "outputId": "5103e701-3dbd-42aa-b614-c6be2c7e6217"
      },
      "outputs": [
        {
          "output_type": "stream",
          "name": "stdout",
          "text": [
            "Looking in indexes: https://pypi.org/simple, https://us-python.pkg.dev/colab-wheels/public/simple/\n",
            "Collecting pyspark\n",
            "  Downloading pyspark-3.3.0.tar.gz (281.3 MB)\n",
            "\u001b[K     |████████████████████████████████| 281.3 MB 39 kB/s \n",
            "\u001b[?25hCollecting py4j==0.10.9.5\n",
            "  Downloading py4j-0.10.9.5-py2.py3-none-any.whl (199 kB)\n",
            "\u001b[K     |████████████████████████████████| 199 kB 44.4 MB/s \n",
            "\u001b[?25hBuilding wheels for collected packages: pyspark\n",
            "  Building wheel for pyspark (setup.py) ... \u001b[?25l\u001b[?25hdone\n",
            "  Created wheel for pyspark: filename=pyspark-3.3.0-py2.py3-none-any.whl size=281764026 sha256=949c226ca72afd816113f14ab713be7c2bb8f680c98977ec7437662b762709b0\n",
            "  Stored in directory: /root/.cache/pip/wheels/7a/8e/1b/f73a52650d2e5f337708d9f6a1750d451a7349a867f928b885\n",
            "Successfully built pyspark\n",
            "Installing collected packages: py4j, pyspark\n",
            "Successfully installed py4j-0.10.9.5 pyspark-3.3.0\n",
            "Looking in indexes: https://pypi.org/simple, https://us-python.pkg.dev/colab-wheels/public/simple/\n",
            "Collecting findspark\n",
            "  Downloading findspark-2.0.1-py2.py3-none-any.whl (4.4 kB)\n",
            "Installing collected packages: findspark\n",
            "Successfully installed findspark-2.0.1\n",
            "time: 45.3 s (started: 2022-07-01 08:47:13 +00:00)\n"
          ]
        }
      ],
      "source": [
        "from datetime import date\n",
        "import pandas as pd\n",
        "import time\n",
        "import datetime\n",
        "import numpy as np\n",
        "import tensorflow_hub as hub\n",
        "import math\n",
        "import requests\n",
        "!pip install pyspark\n",
        "!pip install findspark\n",
        "import findspark\n",
        "findspark.init()\n",
        "from pyspark.ml.recommendation import ALS\n",
        "from pyspark import SparkContext, SQLContext, SparkConf, StorageLevel\n",
        "from pyspark.sql import SparkSession\n",
        "from pyspark.conf import SparkConf\n",
        "from pyspark.ml.feature import StringIndexer\n",
        "from pyspark.sql.functions import col\n",
        "from pyspark.mllib.recommendation import Rating\n",
        "from pyspark.ml import Pipeline\n",
        "def _initialize_spark() -> SparkSession:\n",
        "    \"\"\"Create a Spark Session for Streamlit app\"\"\"\n",
        "    conf = SparkConf().setAppName(\"lecture-lyon2\").setMaster(\"local\")\n",
        "    spark = SparkSession.builder.config(conf=conf).getOrCreate()\n",
        "    return spark, spark.sparkContext"
      ]
    },
    {
      "cell_type": "code",
      "execution_count": null,
      "metadata": {
        "colab": {
          "base_uri": "https://localhost:8080/"
        },
        "id": "F5YnDc5-zv4F",
        "outputId": "f0f69e2e-5a1c-4ad2-b68c-a362f53c5ead"
      },
      "outputs": [
        {
          "output_type": "stream",
          "name": "stdout",
          "text": [
            "time: 17.7 ms (started: 2022-06-26 22:45:28 +00:00)\n"
          ]
        }
      ],
      "source": [
        "def rating(df):\n",
        "    donor = df[['NomerDonor', 'TanggalDonor',\n",
        "                'GolDrh', 'JKel', 'Lokasi', 'Umur']]\n",
        "    donor = donor.drop_duplicates()\n",
        "    donor.loc[donor['Umur'] >= 65, 'AgeCat'] = 0\n",
        "    donor.loc[donor['Umur'] < 65, 'AgeCat'] = 3\n",
        "    donor.loc[donor['JKel'] == 'Pria', 'JKCat'] = 1\n",
        "    donor.loc[donor['JKel'] == 'Wanita', 'JKCat'] = 0\n",
        "    # for index, row in donor.iterrows():\n",
        "    #     if row.Umur >= 65:\n",
        "    #         donor.at[index, 'AgeCat'] = 0\n",
        "    #     else:\n",
        "    #         donor.at[index, 'AgeCat'] = 3\n",
        "    #     if row.JKel == 'Pria':\n",
        "    #         donor.at[index, 'JKCat'] = 1\n",
        "    #     else:\n",
        "    #         donor.at[index, 'JKCat'] = 0\n",
        "    lok = 'UTD PMI SURABAYA'\n",
        "    location = donor.query(str(\"Lokasi == '\") +\n",
        "        lok + \"'\").groupby('NomerDonor').count()\n",
        "    location = location[['GolDrh']]\n",
        "    location.columns = ['Loc']\n",
        "    location['NomerDonor'] = location.index\n",
        "    location = location.rename_axis(index=None, columns=None)\n",
        "    donor = pd.merge(donor, location, on=['NomerDonor'])\n",
        "    \n",
        "    location = donor.groupby('NomerDonor').count()\n",
        "    location = location[['GolDrh']]\n",
        "    location.columns = ['Freq']\n",
        "    location['NomerDonor'] = location.index\n",
        "    location = location.rename_axis(index=None, columns=None)\n",
        "    donor = pd.merge(donor, location, on=['NomerDonor'])\n",
        "    # \n",
        "    donor['Loc'] = donor['Loc']/donor['Freq']\n",
        "    donor = donor[['NomerDonor', 'TanggalDonor',\n",
        "                   'GolDrh', 'AgeCat', 'JKCat', 'Loc']]\n",
        "    return donor"
      ]
    },
    {
      "cell_type": "code",
      "execution_count": null,
      "metadata": {
        "colab": {
          "base_uri": "https://localhost:8080/"
        },
        "id": "XljyBBXvmxLL",
        "outputId": "d1a1f423-9e16-45af-cdfb-eb4863aea174"
      },
      "outputs": [
        {
          "output_type": "stream",
          "name": "stdout",
          "text": [
            "time: 821 µs (started: 2022-06-26 22:45:28 +00:00)\n"
          ]
        }
      ],
      "source": [
        "# maks = donor['Loc'].max()"
      ]
    },
    {
      "cell_type": "code",
      "execution_count": null,
      "metadata": {
        "colab": {
          "base_uri": "https://localhost:8080/"
        },
        "id": "B3dD3qTvmxLL",
        "outputId": "6cb8ffc2-3e8b-4835-c9d6-ffd94f804308"
      },
      "outputs": [
        {
          "output_type": "stream",
          "name": "stdout",
          "text": [
            "time: 595 µs (started: 2022-06-26 22:45:28 +00:00)\n"
          ]
        }
      ],
      "source": [
        "# donor['Loc'] = donor['Loc']/maks"
      ]
    },
    {
      "cell_type": "code",
      "execution_count": null,
      "metadata": {
        "colab": {
          "base_uri": "https://localhost:8080/"
        },
        "id": "uPXcsC1LmxLL",
        "outputId": "f8780969-61dd-43a0-b8df-9778a8bb005a"
      },
      "outputs": [
        {
          "output_type": "stream",
          "name": "stdout",
          "text": [
            "time: 627 µs (started: 2022-06-26 22:45:28 +00:00)\n"
          ]
        }
      ],
      "source": [
        "# donor = donor[['NomerDonor', 'TanggalDonor', 'BloodType', 'AgeCat', 'JKCat', 'Loc']]"
      ]
    },
    {
      "cell_type": "code",
      "execution_count": null,
      "metadata": {
        "colab": {
          "base_uri": "https://localhost:8080/"
        },
        "id": "ukvs2501QOsR",
        "outputId": "a81f1d7a-620c-41df-ba4f-24fbc02ce3c9"
      },
      "outputs": [
        {
          "output_type": "stream",
          "name": "stdout",
          "text": [
            "time: 12.6 ms (started: 2022-06-26 22:45:28 +00:00)\n"
          ]
        }
      ],
      "source": [
        "def rate1nopred(donor, classified):\n",
        "    rated = pd.merge(donor, classified, on=['NomerDonor'])\n",
        "    rated.loc[rated['Recency'] <= 60, 'Rating'] = 0\n",
        "    rated.loc[rated['Recency'] > 60, 'Rating'] = ((6 - rated['Category']*rated['Loc']) + rated['AgeCat'] + rated['JKCat'])\n",
        "    \n",
        "    # for i, r in rated.iterrows():\n",
        "    #     if r.Recency <= 60:\n",
        "    #         rated.at[i, 'Rating'] = 0\n",
        "    #     else:\n",
        "    #         rated.at[i, 'Rating'] = ((r.Category*r.Loc) + r.AgeCat + r.JKCat)\n",
        "    rated = rated[['NomerDonor', 'GolDrh', 'Rating']]\n",
        "    oldmax = rated.Rating.max()\n",
        "    oldmin = rated.Rating.min()\n",
        "    OldRange = (oldmax - oldmin)\n",
        "    NewRange = 4\n",
        "    for i, r in rated.iterrows():\n",
        "        rated.at[i, 'Rating'] = (\n",
        "            float(((r.Rating - oldmin) * NewRange)) / OldRange) + 1\n",
        "    # rated['NomerDonor'] = rated.NomerDonor.astype(int)\n",
        "    return rated"
      ]
    },
    {
      "cell_type": "code",
      "execution_count": null,
      "metadata": {
        "colab": {
          "base_uri": "https://localhost:8080/"
        },
        "id": "1Sy89h-q24N9",
        "outputId": "525ec168-aa7b-4b38-bff3-9f49188d67cf"
      },
      "outputs": [
        {
          "output_type": "stream",
          "name": "stdout",
          "text": [
            "time: 10.6 ms (started: 2022-06-26 22:45:28 +00:00)\n"
          ]
        }
      ],
      "source": [
        "def rate2nopred(donor, classified):\n",
        "    rated = pd.merge(donor, classified, on=['NomerDonor'])\n",
        "    rated.loc[rated['Recency'] <= 60, 'Rating'] = 0\n",
        "    rated.loc[rated['Recency'] > 60, 'Rating'] = ((6 - rated['Category'] + rated['AgeCat'] + rated['JKCat'])*rated['Loc'])\n",
        "    \n",
        "    # for i, r in rated.iterrows():\n",
        "    #     if r.Recency <= 60:\n",
        "    #         rated.at[i, 'Rating'] = 0\n",
        "    #     else:\n",
        "    #         rated.at[i, 'Rating'] = ((r.Category + r.AgeCat + r.JKCat)*r.Loc)\n",
        "    rated = rated[['NomerDonor', 'GolDrh', 'Rating']]\n",
        "    oldmax = rated.Rating.max()\n",
        "    oldmin = rated.Rating.min()\n",
        "    OldRange = (oldmax - oldmin)\n",
        "    NewRange = 4\n",
        "    for i, r in rated.iterrows():\n",
        "        rated.at[i, 'Rating'] = (\n",
        "            float(((r.Rating - oldmin) * NewRange)) / OldRange) + 1\n",
        "    # rated['NomerDonor'] = rated.NomerDonor.astype(int)\n",
        "    return rated"
      ]
    },
    {
      "cell_type": "code",
      "execution_count": null,
      "metadata": {
        "colab": {
          "base_uri": "https://localhost:8080/"
        },
        "id": "AlEDdheP96Vd",
        "outputId": "e8b0c1c3-9ec0-4a33-ab5b-e1b6aabc2fc7"
      },
      "outputs": [
        {
          "output_type": "stream",
          "name": "stdout",
          "text": [
            "time: 9.94 ms (started: 2022-06-26 22:45:28 +00:00)\n"
          ]
        }
      ],
      "source": [
        "def rate1pred(donor, classified):\n",
        "    rated = pd.merge(donor, classified, on=['NomerDonor'])\n",
        "    rated.loc[rated['Recency'] <= 60, 'Rating'] = 0\n",
        "    rated.loc[(rated['Recency'] > 60) & (rated['Calon'] == 0), 'Rating'] = ((6 - rated['Category'] * rated['Loc']) + rated['AgeCat'] + rated['JKCat'])\n",
        "    rated.loc[(rated['Recency'] > 60) & (rated['Calon'] == 1), 'Rating'] = ((6 - rated['Category'] * 3 * rated['Loc']) + rated['AgeCat'] + rated['JKCat'])\n",
        "    \n",
        "    # for i, r in rated.iterrows():\n",
        "    #     if r.Recency <= 60:\n",
        "    #         rated.at[i, 'Rating'] = 0\n",
        "    #     else:\n",
        "    #         if r.Calon == 1:\n",
        "    #             rated.at[i, 'Rating'] = ((r.Category * 3 * r.Loc) + r.AgeCat + r.JKCat)\n",
        "    #         else:\n",
        "    #             rated.at[i, 'Rating'] = ((r.Category * r.Loc) + r.AgeCat + r.JKCat)\n",
        "    rated = rated[['NomerDonor', 'GolDrh', 'Rating']]\n",
        "    oldmax = rated.Rating.max()\n",
        "    oldmin = rated.Rating.min()\n",
        "    OldRange = (oldmax - oldmin)\n",
        "    NewRange = 4\n",
        "    for i, r in rated.iterrows():\n",
        "        rated.at[i, 'Rating'] = (\n",
        "            float(((r.Rating - oldmin) * NewRange)) / OldRange) + 1\n",
        "    # rated['NomerDonor'] = rated.NomerDonor.astype(int)\n",
        "    return rated"
      ]
    },
    {
      "cell_type": "code",
      "execution_count": null,
      "metadata": {
        "colab": {
          "base_uri": "https://localhost:8080/"
        },
        "id": "FxDXQ0RP96OC",
        "outputId": "72e9a77a-1a0e-499c-cbc0-d091d5ff42e9"
      },
      "outputs": [
        {
          "output_type": "stream",
          "name": "stdout",
          "text": [
            "time: 17.2 ms (started: 2022-06-26 22:45:28 +00:00)\n"
          ]
        }
      ],
      "source": [
        "def rate2pred(donor, classified):\n",
        "    rated = pd.merge(donor, classified, on=['NomerDonor'])\n",
        "    rated.loc[rated['Recency'] <= 60, 'Rating'] = 0\n",
        "    rated.loc[(rated['Recency'] > 60) & (rated['Calon'] == 0), 'Rating'] = ((6-rated['Category'] + rated['AgeCat'] + rated['JKCat']) * rated['Loc'])\n",
        "    rated.loc[(rated['Recency'] > 60) & (rated['Calon'] == 1), 'Rating'] = ((6-rated['Category'] + 3 + rated['AgeCat'] + rated['JKCat']) * rated['Loc'])\n",
        "    \n",
        "    # for i, r in rated.iterrows():\n",
        "    #     if r.Recency <= 60:\n",
        "    #         rated.at[i, 'Rating'] = 0\n",
        "    #     else:\n",
        "    #         if r.Calon == 1:\n",
        "    #             rated.at[i, 'Rating'] = ((r.Category + 3 + r.AgeCat + r.JKCat)* r.Loc)\n",
        "    #         else:\n",
        "    #             rated.at[i, 'Rating'] = ((r.Category + r.AgeCat + r.JKCat)* r.Loc)\n",
        "    rated = rated[['NomerDonor', 'GolDrh', 'Rating']]\n",
        "    oldmax = rated.Rating.max()\n",
        "    oldmin = rated.Rating.min()\n",
        "    OldRange = (oldmax - oldmin)\n",
        "    NewRange = 4\n",
        "    for i, r in rated.iterrows():\n",
        "        rated.at[i, 'Rating'] = (\n",
        "            float(((r.Rating - oldmin) * NewRange)) / OldRange) + 1\n",
        "    # rated['NomerDonor'] = rated.NomerDonor.astype(int)\n",
        "    return rated"
      ]
    },
    {
      "cell_type": "code",
      "execution_count": null,
      "metadata": {
        "colab": {
          "base_uri": "https://localhost:8080/"
        },
        "id": "4db8x7oxV58H",
        "outputId": "6882b87c-1400-4435-b848-f0074f8100da"
      },
      "outputs": [
        {
          "output_type": "stream",
          "name": "stdout",
          "text": [
            "time: 12.2 ms (started: 2022-06-26 22:45:28 +00:00)\n"
          ]
        }
      ],
      "source": [
        "def preprocann(df):\n",
        "    df['TanggalDonor'] = pd.to_datetime(df['TanggalDonor'])\n",
        "    months = df[\"TanggalDonor\"].dt.year * 12 + \\\n",
        "             df[\"TanggalDonor\"].dt.month  # series\n",
        "    df[\"Bulan\"] = months - min(months) + 1\n",
        "    df = df.loc[(df['Bulan'] >= df.Bulan.max()-59)\n",
        "                & (df['Bulan'] <= df.Bulan.max())]\n",
        "    # ndf = df[['NomerDonor']].join(pd.get_dummies(\n",
        "    #     df['Bulan'])).groupby('NomerDonor').max()\n",
        "    new_cols = pd.RangeIndex(df['Bulan'].min(), df['Bulan'].max()+1)\n",
        "    res = (\n",
        "        pd.crosstab(df['NomerDonor'], df['Bulan'])\n",
        "            .reindex(columns=new_cols, fill_value=0)\n",
        "    )\n",
        "    # res = res[res.columns[::-1]]\n",
        "    max = df.Bulan.max()\n",
        "    if max < 60:\n",
        "        while (max < 60):\n",
        "            max = max+1\n",
        "            res.insert(0, 'a'+str(max), 0)\n",
        "    return res"
      ]
    },
    {
      "cell_type": "markdown",
      "metadata": {
        "id": "UVam_dVIhkcF"
      },
      "source": [
        "##### implementation pred"
      ]
    },
    {
      "cell_type": "code",
      "execution_count": null,
      "metadata": {
        "colab": {
          "base_uri": "https://localhost:8080/"
        },
        "id": "-G-8Alx4TiNf",
        "outputId": "c7e3bb01-a0eb-4a17-a224-428b537ae6a3"
      },
      "outputs": [
        {
          "output_type": "stream",
          "name": "stdout",
          "text": [
            "time: 2.11 s (started: 2022-06-26 22:51:04 +00:00)\n"
          ]
        }
      ],
      "source": [
        "import tensorflow_hub as hub\n",
        "modelpred = hub.load('modelpred')\n",
        "modelannrbc = hub.load('modelannrbc90')\n",
        "modelann = hub.load('modelann')"
      ]
    },
    {
      "cell_type": "code",
      "execution_count": null,
      "metadata": {
        "colab": {
          "base_uri": "https://localhost:8080/"
        },
        "id": "X23yNd92V1Ex",
        "outputId": "cdfe95ae-dc16-493e-dbee-4a2a0cd5db43"
      },
      "outputs": [
        {
          "output_type": "stream",
          "name": "stdout",
          "text": [
            "time: 13.9 ms (started: 2022-06-26 22:45:30 +00:00)\n"
          ]
        }
      ],
      "source": [
        "def ANNpred(model, df):\n",
        "    dfs = preprocann(df)\n",
        "    preds = []\n",
        "    for i, r in dfs.iterrows():\n",
        "        # print(r)\n",
        "        l = []\n",
        "        l.append(r)\n",
        "        pred = model(l)\n",
        "        preds.append([pred.numpy()[0][0], pred.numpy()[0][1]])\n",
        "    ndfp = pd.DataFrame(preds, columns=['No', 'Yes'])\n",
        "    \n",
        "    ndfp.loc[ndfp['No'] > ndfp['Yes'], 'Calon'] = 0\n",
        "    ndfp.loc[ndfp['Yes'] >= ndfp['No'], 'Calon'] = 1\n",
        "\n",
        "    # for i, r in ndfp.iterrows():\n",
        "    #     if r.No > r.Yes:\n",
        "    #         ndfp.at[i, 'Calon'] = 0\n",
        "    #     else:\n",
        "    #         ndfp.at[i, 'Calon'] = 1\n",
        "        # # calon -> 1, bkn -> 0\n",
        "\n",
        "    dfs['Calon'] = ndfp['Calon'].values\n",
        "    dfs['NomerDonor'] = dfs.index\n",
        "    dfs = dfs[['NomerDonor', 'Calon']]\n",
        "    \n",
        "\n",
        "    simpen = df.groupby(['NomerDonor', 'NamaDonor', 'JKel', 'GolDrh'], as_index=False,\n",
        "                        sort=False)['TanggalDonor', 'Umur'].max()\n",
        "    global annd\n",
        "    annd = pd.merge(dfs, simpen, on='NomerDonor', how='left')\n",
        "    ann = annd[['NomerDonor', 'Calon']]\n",
        "    return ann"
      ]
    },
    {
      "cell_type": "markdown",
      "metadata": {
        "id": "iRXv7xE4SKAV"
      },
      "source": [
        "##### ANN"
      ]
    },
    {
      "cell_type": "markdown",
      "metadata": {
        "id": "f04dWMinqfdv"
      },
      "source": [
        "###### ann"
      ]
    },
    {
      "cell_type": "code",
      "execution_count": null,
      "metadata": {
        "id": "gasUItFOH4MP",
        "colab": {
          "base_uri": "https://localhost:8080/"
        },
        "outputId": "47939122-00fb-40b3-cbd7-e730f55bba95"
      },
      "outputs": [
        {
          "output_type": "stream",
          "name": "stdout",
          "text": [
            "time: 1.07 ms (started: 2022-06-26 22:45:30 +00:00)\n"
          ]
        }
      ],
      "source": [
        "# import pandas as pd\n",
        "# dm = pd.read_csv('dummy ann updated.csv')\n",
        "# dm = dm.fillna(0)\n",
        "# sblme = dm\n",
        "# rbcsdata = pd.read_csv('rbc untuk ann.csv')\n",
        "# t = rbcsdata\n",
        "# # merged = pd.merge(test, ctest, on=['NomerDonor'], how='left').fillna(0)"
      ]
    },
    {
      "cell_type": "code",
      "execution_count": null,
      "metadata": {
        "id": "SevrasyqH4HT",
        "colab": {
          "base_uri": "https://localhost:8080/"
        },
        "outputId": "54ea11fa-7413-4ff8-db19-494dbb7ca1af"
      },
      "outputs": [
        {
          "output_type": "stream",
          "name": "stdout",
          "text": [
            "time: 2.49 ms (started: 2022-06-26 22:45:30 +00:00)\n"
          ]
        }
      ],
      "source": [
        "# ctest = rbcsdata\n",
        "# ctest = preprocann(ctest)\n",
        "# ctest.rename(columns={ctest.columns[0]: 'a1', ctest.columns[1]: 'a2', ctest.columns[2]: 'a3'\n",
        "# , ctest.columns[3]: 'a4', ctest.columns[4]: 'a5', ctest.columns[5]: 'a6', ctest.columns[6]: 'a7'\n",
        "# , ctest.columns[7]: 'a8', ctest.columns[8]: 'a9', ctest.columns[9]: 'a10', ctest.columns[10]: 'a11'\n",
        "# , ctest.columns[11]: 'a12', ctest.columns[12]: 'b1', ctest.columns[13]: 'b2', ctest.columns[14]: 'b3'\n",
        "# , ctest.columns[15]: 'b4', ctest.columns[16]: 'b5', ctest.columns[17]: 'b6', ctest.columns[18]: 'b7'\n",
        "# , ctest.columns[19]: 'b8', ctest.columns[20]: 'b9', ctest.columns[21]: 'b10', ctest.columns[22]: 'b11'\n",
        "# , ctest.columns[23]: 'b12', ctest.columns[24]: 'c1', ctest.columns[25]: 'c2', ctest.columns[26]: 'c3'\n",
        "# , ctest.columns[27]: 'c4', ctest.columns[28]: 'c5', ctest.columns[29]: 'c6', ctest.columns[30]: 'c7'\n",
        "# , ctest.columns[31]: 'c8', ctest.columns[32]: 'c9', ctest.columns[33]: 'c10', ctest.columns[34]: 'c11'\n",
        "# , ctest.columns[35]: 'c12', ctest.columns[36]: 'd1', ctest.columns[37]: 'd2', ctest.columns[38]: 'd3'\n",
        "# , ctest.columns[39]: 'd4', ctest.columns[40]: 'd5', ctest.columns[41]: 'd6', ctest.columns[42]: 'd7'\n",
        "# , ctest.columns[43]: 'd8', ctest.columns[44]: 'd9', ctest.columns[45]: 'd10', ctest.columns[46]: 'd11'\n",
        "# , ctest.columns[47]: 'd12', ctest.columns[48]: 'e1', ctest.columns[49]: 'e2', ctest.columns[50]: 'e3'\n",
        "# , ctest.columns[51]: 'e4', ctest.columns[52]: 'e5', ctest.columns[53]: 'e6', ctest.columns[54]: 'e7'\n",
        "# , ctest.columns[55]: 'e8', ctest.columns[56]: 'e9', ctest.columns[57]: 'e10', ctest.columns[58]: 'e11'\n",
        "# , ctest.columns[59]: 'e12'},inplace=True)\n",
        "# ctest['NomerDonor'] = ctest.index\n",
        "# ctest = ctest.reset_index(drop=True)\n",
        "# t = t[['NomerDonor', 'Category']]\n",
        "# testt = pd.merge(ctest, t, on=['NomerDonor'], how='inner')\n",
        "# testt = testt.drop_duplicates()\n",
        "# testt = testt.drop(['NomerDonor'], axis=1)"
      ]
    },
    {
      "cell_type": "code",
      "execution_count": null,
      "metadata": {
        "id": "GDVUFFCZH4Fr",
        "colab": {
          "base_uri": "https://localhost:8080/"
        },
        "outputId": "f0d75962-e44b-415f-9b16-0b7bfdf644cc"
      },
      "outputs": [
        {
          "output_type": "stream",
          "name": "stdout",
          "text": [
            "time: 387 µs (started: 2022-06-26 22:45:30 +00:00)\n"
          ]
        }
      ],
      "source": [
        "# # sample = testt.sample(frac=0.9, random_state=1)\n",
        "# dm = dm.merge(testt, how='outer')"
      ]
    },
    {
      "cell_type": "code",
      "execution_count": null,
      "metadata": {
        "id": "PJjZD-hIQzb7",
        "colab": {
          "base_uri": "https://localhost:8080/"
        },
        "outputId": "4933e280-6e0c-4b7c-d874-8d4a073c93c6"
      },
      "outputs": [
        {
          "output_type": "stream",
          "name": "stdout",
          "text": [
            "time: 1.83 ms (started: 2022-06-26 22:45:30 +00:00)\n"
          ]
        }
      ],
      "source": [
        "# y = dm.Category\n",
        "# x = dm.drop(columns='Category')\n",
        "\n",
        "# from sklearn.preprocessing import OneHotEncoder\n",
        "\n",
        "# y = OneHotEncoder(sparse=False)\n",
        "# y = y.fit_transform(dm[['Category']])\n",
        "# test_y = pd.DataFrame(y)\n",
        "\n",
        "# test_y.rename(columns={ test_y.columns[0]: \"Cat1\", test_y.columns[1]: \"Cat2\", test_y.columns[2]: \"Cat3\",\n",
        "#                     test_y.columns[3]: \"Cat4\",test_y.columns[4]: \"Cat5\"}, \n",
        "#           inplace=True)\n",
        "\n",
        "# from sklearn.model_selection import train_test_split\n",
        "\n",
        "# y.astype(int)\n",
        "# x.astype(int)\n",
        "# train_x, test_x, train_y, test_y = train_test_split(x,y,test_size=0.2, random_state=43)"
      ]
    },
    {
      "cell_type": "code",
      "execution_count": null,
      "metadata": {
        "id": "dcxcKM99yhZq",
        "colab": {
          "base_uri": "https://localhost:8080/"
        },
        "outputId": "eb7ee194-5249-4d1e-a04b-08e3e3036147"
      },
      "outputs": [
        {
          "output_type": "stream",
          "name": "stdout",
          "text": [
            "time: 2.55 ms (started: 2022-06-26 22:45:30 +00:00)\n"
          ]
        }
      ],
      "source": [
        "# # neural network\n",
        "# import tensorflow as tf\n",
        "\n",
        "# modelann = tf.keras.models.Sequential()\n",
        "# # modelann.add(tf.keras.layers.Dense(units = 64, activation = 'relu', input_shape=(60,)))\n",
        "# # modelann.add(tf.keras.layers.Dense(units = 128 , activation = 'relu', input_shape=(60,)))\n",
        "# # modelann.add(tf.keras.layers.Dense(units = 256, activation = 'relu', input_shape=(60,)))\n",
        "# modelann.add(tf.keras.layers.Dense(units = 1024, activation = 'sigmoid', input_shape=(60,)))\n",
        "# # modelann.add(tf.keras.layers.Dropout(0.3))\n",
        "# modelann.add(tf.keras.layers.Dense(units = 1024, activation = 'sigmoid'))\n",
        "# # modelann.add(tf.keras.layers.Dropout(0.4))\n",
        "# # # modelann.add(tf.keras.layers.Dense(units = 128, activation = 'relu'))\n",
        "# # modelann.add(tf.keras.layers.Dropout(0.3))\n",
        "# # modelann.add(tf.keras.layers.Dense(units = 64, activation = 'relu'))\n",
        "# # modelann.add(tf.keras.layers.Dropout(0.3))\n",
        "# # modelann.add(tf.keras.layers.Dense(units = 32, activation = 'relu'))\n",
        "# # modelann.add(tf.keras.layers.Dense(units = 16, activation = 'relu'))\n",
        "# # modelann.add(tf.keras.layers.Dropout(0.3))\n",
        "# modelann.add(tf.keras.layers.Dense(units = 5, activation = 'sigmoid'))\n",
        "\n",
        "# modelann.compile(optimizer = 'adam', loss = 'categorical_crossentropy', metrics = ['accuracy'])\n",
        "# history = modelann.fit(train_x, train_y, validation_data = (test_x,test_y), epochs =20)"
      ]
    },
    {
      "cell_type": "code",
      "execution_count": null,
      "metadata": {
        "id": "P0b1M2paZz68",
        "colab": {
          "base_uri": "https://localhost:8080/"
        },
        "outputId": "5c3af236-8239-48b6-dac3-8651eb97fd94"
      },
      "outputs": [
        {
          "output_type": "stream",
          "name": "stdout",
          "text": [
            "time: 476 µs (started: 2022-06-26 22:45:30 +00:00)\n"
          ]
        }
      ],
      "source": [
        "# saveed = \"modelannrbc100\"\n",
        "# tf.saved_model.save(modelann, saveed)"
      ]
    },
    {
      "cell_type": "code",
      "execution_count": null,
      "metadata": {
        "id": "NIs8f-MAIYwM",
        "colab": {
          "base_uri": "https://localhost:8080/"
        },
        "outputId": "d9a44141-1a18-4ee7-fc3a-d4fcecd749cb"
      },
      "outputs": [
        {
          "output_type": "stream",
          "name": "stdout",
          "text": [
            "time: 1.53 ms (started: 2022-06-26 22:45:30 +00:00)\n"
          ]
        }
      ],
      "source": [
        "# # 0.35\n",
        "# import matplotlib.pyplot as plt\n",
        "# fig, ax = plt.subplots(1, figsize=(8,6))\n",
        "# plt.plot(history.history['accuracy'])\n",
        "# plt.plot(history.history['val_accuracy'])\n",
        "# plt.title('Model accuracy')\n",
        "# plt.ylabel('Accuracy')\n",
        "# plt.xlabel('Epoch')\n",
        "# plt.legend(['Train', 'Test'], loc='upper left')\n",
        "# plt.show()"
      ]
    },
    {
      "cell_type": "markdown",
      "metadata": {
        "id": "CX29BuIHqnwf"
      },
      "source": [
        "###### func"
      ]
    },
    {
      "cell_type": "code",
      "execution_count": null,
      "metadata": {
        "colab": {
          "base_uri": "https://localhost:8080/"
        },
        "id": "HjovuYWdtYhz",
        "outputId": "51bb8210-4e08-4194-f157-00d026ae58e9"
      },
      "outputs": [
        {
          "output_type": "stream",
          "name": "stdout",
          "text": [
            "time: 25.6 ms (started: 2022-06-26 22:45:30 +00:00)\n"
          ]
        }
      ],
      "source": [
        "from datetime import date\n",
        "\n",
        "def ANNClass(model, df):\n",
        "    dfs = preprocann(df)\n",
        "    preds = []\n",
        "    for i, r in dfs.iterrows():\n",
        "          # print(r)\n",
        "          l = []\n",
        "          l.append(r)\n",
        "          pred = model(l)\n",
        "          preds.append([pred.numpy()[0][0], pred.numpy()[0][1], pred.numpy()[0][2], pred.numpy()[0][3], pred.numpy()[0][4]])\n",
        "    ndfd = pd.DataFrame(preds, columns = ['Cat1', 'Cat2', 'Cat3', 'Cat4', 'Cat5'])\n",
        "    ndfd['Category'] = (ndfd['Cat1']*0.2) + (ndfd['Cat2']*0.2) + (ndfd['Cat3']*0.2) + (ndfd['Cat4']*0.2) + (ndfd['Cat5']*0.2)\n",
        "    \n",
        "    # for i, r in ndfd.iterrows():\n",
        "    #     ndfd.at[i,'Category'] = r.Cat1*0.2 + r.Cat2*0.2 + r.Cat3*0.2 + r.Cat4*0.2 + r.Cat5*0.2\n",
        "    oldmax = ndfd.Category.max()  \n",
        "    oldmin = ndfd.Category.min()\n",
        "    OldRange = (oldmax - oldmin)\n",
        "    NewRange = 4\n",
        "    ndfd['Category'] = ((((ndfd['Category'] - oldmin) * NewRange)) / OldRange) + 1\n",
        "    \n",
        "    # for i, r in ndfd.iterrows():\n",
        "    #    ndfd.at[i, 'Category'] = (float(((r.Category - oldmin) * NewRange)) / OldRange) + 1\n",
        "    hasil = dfs\n",
        "    hasil['Category'] = ndfd['Category'].values\n",
        "    hasil['NomerDonor'] = hasil.index\n",
        "    hasil = hasil[['NomerDonor', 'Category']]\n",
        "    hasil = hasil.rename_axis(index=None, columns=None)\n",
        "    ann = hasil\n",
        "    simpen = df.groupby(['NomerDonor'], as_index=False, sort=False)['TanggalDonor'].max()\n",
        "    annd = pd.merge(ann, simpen, on='NomerDonor', how='left')\n",
        "    today = pd.to_datetime(date.today())\n",
        "    annd['Recency'] = (today - annd['TanggalDonor']).dt.days\n",
        "    ann = annd[['NomerDonor', 'Category', 'Recency']]\n",
        "    ann[\"Category\"] = pd.to_numeric(ann[\"Category\"])\n",
        "    return ann\n"
      ]
    },
    {
      "cell_type": "code",
      "execution_count": null,
      "metadata": {
        "colab": {
          "base_uri": "https://localhost:8080/"
        },
        "id": "AvJOBEO25TTi",
        "outputId": "93212b76-2098-44d7-f07a-f9c28aa013c8"
      },
      "outputs": [
        {
          "output_type": "stream",
          "name": "stdout",
          "text": [
            "time: 21.2 ms (started: 2022-06-26 22:45:30 +00:00)\n"
          ]
        }
      ],
      "source": [
        "def ANNImplementation(model, df):\n",
        "      dfs = preprocann(df)\n",
        "      # preds = []\n",
        "      # for i, r in dfs.iterrows():\n",
        "      #     # print(r)\n",
        "      #     l = []\n",
        "      #     l.append(r)\n",
        "      #     pred = model(l)\n",
        "      #     preds.append([pred.numpy()[0][0], pred.numpy()[0][1], pred.numpy()[0][2], pred.numpy()[0][3], pred.numpy()[0][4]])\n",
        "      ndfp = model.predict(dfs)\n",
        "      ndfd = pd.DataFrame(ndfp, columns = ['Cat1', 'Cat2', 'Cat3', 'Cat4', 'Cat5'])\n",
        "\n",
        "      # masi bukan find max!!!\n",
        "      for i, r in ndfd.iterrows():\n",
        "          ndfd.at[i,'Category'] = r.Cat1*0.2 + r.Cat2*0.2 + r.Cat3*0.2 + r.Cat4*0.2 + r.Cat5*0.2\n",
        "      oldmax = ndfd.Category.max()  \n",
        "      oldmin = ndfd.Category.min()\n",
        "      OldRange = (oldmax - oldmin)\n",
        "      NewRange = 4\n",
        "      ndfd['Category'] = ((((ndfd['Category'] - oldmin) * NewRange)) / OldRange) + 1\n",
        "    \n",
        "      # for i, r in ndfd.iterrows():\n",
        "      #    ndfd.at[i, 'Category'] = (float(((r.Category - oldmin) * NewRange)) / OldRange) + 1\n",
        "      hasil = dfs\n",
        "      hasil['Category'] = ndfd['Category'].values\n",
        "      hasil['NomerDonor'] = hasil.index\n",
        "      hasil = hasil[['NomerDonor', 'Category']]\n",
        "      hasil = hasil.rename_axis(index=None, columns=None)\n",
        "      ann = hasil\n",
        "      simpen = df.groupby(['NomerDonor'], as_index=False, sort=False)['TanggalDonor'].max()\n",
        "      annd = pd.merge(ann, simpen, on='NomerDonor', how='left')\n",
        "      today = pd.to_datetime(date.today())\n",
        "      annd['Recency'] = (today - annd['TanggalDonor']).dt.days\n",
        "      ann = annd[['NomerDonor', 'Category', 'Recency']]\n",
        "      ann[\"Category\"] = pd.to_numeric(ann[\"Category\"])\n",
        "      return ann\n"
      ]
    },
    {
      "cell_type": "markdown",
      "metadata": {
        "id": "OK7ODTOCT9YC"
      },
      "source": [
        "##### RBC"
      ]
    },
    {
      "cell_type": "code",
      "execution_count": null,
      "metadata": {
        "colab": {
          "base_uri": "https://localhost:8080/"
        },
        "id": "Ze44sRVgUEUk",
        "outputId": "bc7f0442-d493-4d1a-b17e-c24ff6fe41ad"
      },
      "outputs": [
        {
          "output_type": "stream",
          "name": "stdout",
          "text": [
            "time: 89.5 ms (started: 2022-06-26 22:45:30 +00:00)\n"
          ]
        }
      ],
      "source": [
        "def recency(df):\n",
        "    df[\"TanggalDonor\"] = pd.to_datetime(df[\"TanggalDonor\"])\n",
        "    tenddate = pd.to_datetime(date.today())\n",
        "    copydf = df[['NomerDonor','TanggalDonor']]\n",
        "    copydf.sort_values(by='TanggalDonor', ascending = True, inplace=True)\n",
        "    copydf[\"Counter\"] = copydf.groupby(['NomerDonor']).cumcount(ascending=False) + 1\n",
        "    df_r = copydf.loc[copydf['Counter'] <= 3]\n",
        "    df_r[\"TanggalDonor\"] = pd.to_datetime(df_r[\"TanggalDonor\"])\n",
        "    df_r = df_r.drop_duplicates([\"NomerDonor\", \"TanggalDonor\"])\n",
        "    df_r[\"Recency1\"] = (tenddate - df_r['TanggalDonor']).dt.days\n",
        "    df_r[\"Recency3\"] = df_r[\"Recency1\"]\n",
        "    df_r1 = df_r.groupby(['NomerDonor'], as_index=False).agg({\"Recency1\": np.min, \"Recency3\": np.mean, \"Counter\":np.max})\n",
        "    df_r1[\"Recency3\"] = np.round(df_r1[\"Recency3\"], decimals = 2)\n",
        "    df_r1 = df_r1[['NomerDonor', 'Recency1', 'Recency3']]\n",
        "    return df_r1\n",
        "\n",
        "def frequency(df):\n",
        "    df[\"TanggalDonor\"] = pd.to_datetime(df[\"TanggalDonor\"])\n",
        "    df_f = df.sort_values(by=\"TanggalDonor\",ascending=True) \\\n",
        "        .set_index('TanggalDonor') \\\n",
        "        .last(\"12M\")\n",
        "    df_f['TanggalDonor'] = df_f.index\n",
        "    df_f1 = df_f.groupby(\n",
        "        by=['NomerDonor'], as_index=False)['TanggalDonor'].count()\n",
        "    df_f1.columns = ['NomerDonor', 'Frequency1']\n",
        "    df_sorted = df.sort_values(by=\"TanggalDonor\",ascending=True) \\\n",
        "        .set_index('TanggalDonor')\n",
        "    df_sorted['TanggalDonor'] = df_sorted.index\n",
        "    df_f2 = df_sorted.groupby(\n",
        "        by=['NomerDonor'], as_index=False)['TanggalDonor'].count()\n",
        "    df_f2.columns = ['NomerDonor', 'Frequency']\n",
        "    df_f = pd.merge(df_f2, df_f1, on=['NomerDonor'], how='left').fillna(0)\n",
        "    return df_f\n",
        "\n",
        "def intervalmean(df):\n",
        "    df.TanggalDonor = pd.to_datetime(df.TanggalDonor, errors='coerce')\n",
        "    df[\"IVT\"] = df.groupby(['NomerDonor'], as_index=False)[\"TanggalDonor\"].transform(lambda x: abs(x.shift(1) - x))\n",
        "    df[\"IVT\"] = df[\"IVT\"].dt.days\n",
        "    df[\"Interval\"] = df[\"IVT\"]\n",
        "    df_p = df.groupby(['NomerDonor'], as_index=False).agg({\"IVT\": [np.max,np.min],\n",
        "                                                           \"Interval\": [np.mean]})\n",
        "    df_p.columns = [\"\".join(col).strip() for col in df_p.columns.values]\n",
        "    df_p = df_p.fillna(0)\n",
        "    df_p = df_p[['NomerDonor', 'Intervalmean']]\n",
        "    return df_p\n",
        "\n",
        "def preprocrbc(df):\n",
        "    df['TanggalDonor']= pd.to_datetime(df['TanggalDonor'])\n",
        "    months = df[\"TanggalDonor\"].dt.year * 12 + df[\"TanggalDonor\"].dt.month  # series\n",
        "    df[\"Bulan\"] = months - min(months) + 1\n",
        "    df = df.loc[(df['Bulan'] >= df.Bulan.max()-59) & (df['Bulan'] <= df.Bulan.max())]\n",
        "    # df['Bulan'] = df['Bulan']-48\n",
        "    cdf = df[['NomerDonor', 'GolDrh']]\n",
        "    cdf = cdf.drop_duplicates()\n",
        "    cdf = pd.merge(cdf, recency(df), on=['NomerDonor'])\n",
        "    cdf = pd.merge(cdf, frequency(df), on=['NomerDonor'])\n",
        "    cdf = pd.merge(cdf, intervalmean(df), on=['NomerDonor'])\n",
        "    return cdf\n",
        "\n",
        "# RBC Implementation\n",
        "def RBCimplementation(df):\n",
        "    rbcdf = preprocrbc(df)\n",
        "    for index, row in rbcdf.iterrows():\n",
        "        if row.Recency1 <= 100 and row.Recency3 <= 182.0 and row.Intervalmean <= 120.0 and row.Frequency >= 3:\n",
        "            rbcdf.at[index,'Category'] = 1\n",
        "        elif row.Recency1 <= 182 and row.Recency3 <= 365.0 and row.Intervalmean <= 182.0 and row.Frequency >= 3:\n",
        "            rbcdf.at[index,'Category'] = 2\n",
        "        elif row.Recency1 <= 182:\n",
        "            rbcdf.at[index,'Category'] = 3\n",
        "        elif row.Recency1 <= 365:\n",
        "            rbcdf.at[index,'Category'] = 4\n",
        "        else:\n",
        "            rbcdf.at[index,'Category'] = 5\n",
        "    rbc = rbcdf[['NomerDonor', 'Category', 'Recency1']]\n",
        "    rbc.rename(columns = {'Recency1':'Recency'}, inplace = True)\n",
        "    return rbc"
      ]
    },
    {
      "cell_type": "markdown",
      "metadata": {
        "id": "4JfdtsIrVPQz"
      },
      "source": [
        "##### ANN (**nopred**)"
      ]
    },
    {
      "cell_type": "code",
      "source": [
        "modelann = hub.load('modelannrbc10')"
      ],
      "metadata": {
        "colab": {
          "base_uri": "https://localhost:8080/"
        },
        "id": "Vyb_wlRTTrq1",
        "outputId": "b136a4da-3c06-4bec-f6d5-d2f9a4856581"
      },
      "execution_count": null,
      "outputs": [
        {
          "output_type": "stream",
          "name": "stdout",
          "text": [
            "time: 281 ms (started: 2022-06-24 17:38:06 +00:00)\n"
          ]
        }
      ]
    },
    {
      "cell_type": "code",
      "execution_count": null,
      "metadata": {
        "colab": {
          "base_uri": "https://localhost:8080/"
        },
        "id": "AIrK3UnjVWMq",
        "outputId": "75b9d864-4cb1-4ce1-96f8-ab8349dcb311"
      },
      "outputs": [
        {
          "output_type": "stream",
          "name": "stdout",
          "text": [
            "time: 24.8 s (started: 2022-06-24 17:42:43 +00:00)\n"
          ]
        },
        {
          "output_type": "stream",
          "name": "stderr",
          "text": [
            "/usr/local/lib/python3.7/dist-packages/ipykernel_launcher.py:36: SettingWithCopyWarning: \n",
            "A value is trying to be set on a copy of a slice from a DataFrame.\n",
            "Try using .loc[row_indexer,col_indexer] = value instead\n",
            "\n",
            "See the caveats in the documentation: https://pandas.pydata.org/pandas-docs/stable/user_guide/indexing.html#returning-a-view-versus-a-copy\n"
          ]
        }
      ],
      "source": [
        "donor = rating(df)\n",
        "ann = ANNClass(modelann, df) \n",
        "ann.reset_index(drop = True, inplace = True)\n",
        "# rated = rate2nopred(donor, ann)"
      ]
    },
    {
      "cell_type": "code",
      "execution_count": null,
      "metadata": {
        "colab": {
          "base_uri": "https://localhost:8080/"
        },
        "id": "o5tO8hZkTCQ9",
        "outputId": "809398ca-4307-46c2-b69c-60e7686fb935"
      },
      "outputs": [
        {
          "output_type": "stream",
          "name": "stdout",
          "text": [
            "time: 14.8 s (started: 2022-06-24 17:43:08 +00:00)\n"
          ]
        }
      ],
      "source": [
        "# donor = rating(df)\n",
        "# ann = ANNClass(modelann, df) \n",
        "# ann.reset_index(drop = True, inplace = True)\n",
        "rated = rate2nopred(donor, ann)"
      ]
    },
    {
      "cell_type": "markdown",
      "metadata": {
        "id": "KO5SUf3yVWz5"
      },
      "source": [
        "##### RBC **(nopred)**"
      ]
    },
    {
      "cell_type": "code",
      "execution_count": null,
      "metadata": {
        "id": "XD15TJVzVeRf",
        "colab": {
          "base_uri": "https://localhost:8080/"
        },
        "outputId": "125d1481-b8e4-42cf-903a-d87ee38b8264"
      },
      "outputs": [
        {
          "output_type": "stream",
          "name": "stderr",
          "text": [
            "/usr/local/lib/python3.7/dist-packages/pandas/util/_decorators.py:311: SettingWithCopyWarning: \n",
            "A value is trying to be set on a copy of a slice from a DataFrame\n",
            "\n",
            "See the caveats in the documentation: https://pandas.pydata.org/pandas-docs/stable/user_guide/indexing.html#returning-a-view-versus-a-copy\n",
            "  return func(*args, **kwargs)\n",
            "/usr/local/lib/python3.7/dist-packages/ipykernel_launcher.py:6: SettingWithCopyWarning: \n",
            "A value is trying to be set on a copy of a slice from a DataFrame.\n",
            "Try using .loc[row_indexer,col_indexer] = value instead\n",
            "\n",
            "See the caveats in the documentation: https://pandas.pydata.org/pandas-docs/stable/user_guide/indexing.html#returning-a-view-versus-a-copy\n",
            "  \n",
            "/usr/local/lib/python3.7/dist-packages/ipykernel_launcher.py:8: SettingWithCopyWarning: \n",
            "A value is trying to be set on a copy of a slice from a DataFrame.\n",
            "Try using .loc[row_indexer,col_indexer] = value instead\n",
            "\n",
            "See the caveats in the documentation: https://pandas.pydata.org/pandas-docs/stable/user_guide/indexing.html#returning-a-view-versus-a-copy\n",
            "  \n"
          ]
        },
        {
          "output_type": "stream",
          "name": "stdout",
          "text": [
            "time: 45.9 s (started: 2022-06-26 23:28:21 +00:00)\n"
          ]
        },
        {
          "output_type": "stream",
          "name": "stderr",
          "text": [
            "/usr/local/lib/python3.7/dist-packages/pandas/core/frame.py:5047: SettingWithCopyWarning: \n",
            "A value is trying to be set on a copy of a slice from a DataFrame\n",
            "\n",
            "See the caveats in the documentation: https://pandas.pydata.org/pandas-docs/stable/user_guide/indexing.html#returning-a-view-versus-a-copy\n",
            "  errors=errors,\n"
          ]
        }
      ],
      "source": [
        "donor = rating(df)\n",
        "rbc = RBCimplementation(df)\n",
        "rbc.reset_index(drop = True, inplace = True)\n",
        "# rated = rate1nopred(donor, rbc)"
      ]
    },
    {
      "cell_type": "code",
      "source": [
        "# df.loc[(df['NomerDonor'] == '002T073698')]"
      ],
      "metadata": {
        "id": "o50yTbo2QJLW"
      },
      "execution_count": null,
      "outputs": []
    },
    {
      "cell_type": "code",
      "source": [
        "# comb = pd.merge(df, rbc, on=['NomerDonor'], how='left')"
      ],
      "metadata": {
        "colab": {
          "base_uri": "https://localhost:8080/"
        },
        "id": "NXnrf7ZMLn-H",
        "outputId": "9969fbbe-8549-479e-9902-7715889b3799"
      },
      "execution_count": null,
      "outputs": [
        {
          "output_type": "stream",
          "name": "stdout",
          "text": [
            "time: 98.3 ms (started: 2022-06-26 23:29:07 +00:00)\n"
          ]
        }
      ]
    },
    {
      "cell_type": "code",
      "source": [
        "# comb.to_csv('hasilrbc.csv',  index = False)"
      ],
      "metadata": {
        "colab": {
          "base_uri": "https://localhost:8080/"
        },
        "id": "5driKMWFLzDd",
        "outputId": "45a14fe5-e386-4260-e753-41cf9d6d5da9"
      },
      "execution_count": null,
      "outputs": [
        {
          "output_type": "stream",
          "name": "stdout",
          "text": [
            "time: 1.66 s (started: 2022-06-26 23:29:07 +00:00)\n"
          ]
        }
      ]
    },
    {
      "cell_type": "code",
      "source": [
        "rbc.loc[(rbc['Category'] == 1)]"
      ],
      "metadata": {
        "colab": {
          "base_uri": "https://localhost:8080/",
          "height": 67
        },
        "id": "72kXZ0o5PfGN",
        "outputId": "0bfd4aae-47d9-48d9-c495-29e5ddb4d0f5"
      },
      "execution_count": null,
      "outputs": [
        {
          "output_type": "execute_result",
          "data": {
            "text/plain": [
              "Empty DataFrame\n",
              "Columns: [NomerDonor, Category, Recency]\n",
              "Index: []"
            ],
            "text/html": [
              "\n",
              "  <div id=\"df-96f1d87c-a047-44c1-91d5-72390fccbe86\">\n",
              "    <div class=\"colab-df-container\">\n",
              "      <div>\n",
              "<style scoped>\n",
              "    .dataframe tbody tr th:only-of-type {\n",
              "        vertical-align: middle;\n",
              "    }\n",
              "\n",
              "    .dataframe tbody tr th {\n",
              "        vertical-align: top;\n",
              "    }\n",
              "\n",
              "    .dataframe thead th {\n",
              "        text-align: right;\n",
              "    }\n",
              "</style>\n",
              "<table border=\"1\" class=\"dataframe\">\n",
              "  <thead>\n",
              "    <tr style=\"text-align: right;\">\n",
              "      <th></th>\n",
              "      <th>NomerDonor</th>\n",
              "      <th>Category</th>\n",
              "      <th>Recency</th>\n",
              "    </tr>\n",
              "  </thead>\n",
              "  <tbody>\n",
              "  </tbody>\n",
              "</table>\n",
              "</div>\n",
              "      <button class=\"colab-df-convert\" onclick=\"convertToInteractive('df-96f1d87c-a047-44c1-91d5-72390fccbe86')\"\n",
              "              title=\"Convert this dataframe to an interactive table.\"\n",
              "              style=\"display:none;\">\n",
              "        \n",
              "  <svg xmlns=\"http://www.w3.org/2000/svg\" height=\"24px\"viewBox=\"0 0 24 24\"\n",
              "       width=\"24px\">\n",
              "    <path d=\"M0 0h24v24H0V0z\" fill=\"none\"/>\n",
              "    <path d=\"M18.56 5.44l.94 2.06.94-2.06 2.06-.94-2.06-.94-.94-2.06-.94 2.06-2.06.94zm-11 1L8.5 8.5l.94-2.06 2.06-.94-2.06-.94L8.5 2.5l-.94 2.06-2.06.94zm10 10l.94 2.06.94-2.06 2.06-.94-2.06-.94-.94-2.06-.94 2.06-2.06.94z\"/><path d=\"M17.41 7.96l-1.37-1.37c-.4-.4-.92-.59-1.43-.59-.52 0-1.04.2-1.43.59L10.3 9.45l-7.72 7.72c-.78.78-.78 2.05 0 2.83L4 21.41c.39.39.9.59 1.41.59.51 0 1.02-.2 1.41-.59l7.78-7.78 2.81-2.81c.8-.78.8-2.07 0-2.86zM5.41 20L4 18.59l7.72-7.72 1.47 1.35L5.41 20z\"/>\n",
              "  </svg>\n",
              "      </button>\n",
              "      \n",
              "  <style>\n",
              "    .colab-df-container {\n",
              "      display:flex;\n",
              "      flex-wrap:wrap;\n",
              "      gap: 12px;\n",
              "    }\n",
              "\n",
              "    .colab-df-convert {\n",
              "      background-color: #E8F0FE;\n",
              "      border: none;\n",
              "      border-radius: 50%;\n",
              "      cursor: pointer;\n",
              "      display: none;\n",
              "      fill: #1967D2;\n",
              "      height: 32px;\n",
              "      padding: 0 0 0 0;\n",
              "      width: 32px;\n",
              "    }\n",
              "\n",
              "    .colab-df-convert:hover {\n",
              "      background-color: #E2EBFA;\n",
              "      box-shadow: 0px 1px 2px rgba(60, 64, 67, 0.3), 0px 1px 3px 1px rgba(60, 64, 67, 0.15);\n",
              "      fill: #174EA6;\n",
              "    }\n",
              "\n",
              "    [theme=dark] .colab-df-convert {\n",
              "      background-color: #3B4455;\n",
              "      fill: #D2E3FC;\n",
              "    }\n",
              "\n",
              "    [theme=dark] .colab-df-convert:hover {\n",
              "      background-color: #434B5C;\n",
              "      box-shadow: 0px 1px 3px 1px rgba(0, 0, 0, 0.15);\n",
              "      filter: drop-shadow(0px 1px 2px rgba(0, 0, 0, 0.3));\n",
              "      fill: #FFFFFF;\n",
              "    }\n",
              "  </style>\n",
              "\n",
              "      <script>\n",
              "        const buttonEl =\n",
              "          document.querySelector('#df-96f1d87c-a047-44c1-91d5-72390fccbe86 button.colab-df-convert');\n",
              "        buttonEl.style.display =\n",
              "          google.colab.kernel.accessAllowed ? 'block' : 'none';\n",
              "\n",
              "        async function convertToInteractive(key) {\n",
              "          const element = document.querySelector('#df-96f1d87c-a047-44c1-91d5-72390fccbe86');\n",
              "          const dataTable =\n",
              "            await google.colab.kernel.invokeFunction('convertToInteractive',\n",
              "                                                     [key], {});\n",
              "          if (!dataTable) return;\n",
              "\n",
              "          const docLinkHtml = 'Like what you see? Visit the ' +\n",
              "            '<a target=\"_blank\" href=https://colab.research.google.com/notebooks/data_table.ipynb>data table notebook</a>'\n",
              "            + ' to learn more about interactive tables.';\n",
              "          element.innerHTML = '';\n",
              "          dataTable['output_type'] = 'display_data';\n",
              "          await google.colab.output.renderOutput(dataTable, element);\n",
              "          const docLink = document.createElement('div');\n",
              "          docLink.innerHTML = docLinkHtml;\n",
              "          element.appendChild(docLink);\n",
              "        }\n",
              "      </script>\n",
              "    </div>\n",
              "  </div>\n",
              "  "
            ]
          },
          "metadata": {},
          "execution_count": 39
        },
        {
          "output_type": "stream",
          "name": "stdout",
          "text": [
            "time: 8.16 ms (started: 2022-06-26 22:41:56 +00:00)\n"
          ]
        }
      ]
    },
    {
      "cell_type": "code",
      "source": [
        "# rbc"
      ],
      "metadata": {
        "colab": {
          "base_uri": "https://localhost:8080/",
          "height": 441
        },
        "id": "Z8GrGNmMKmbp",
        "outputId": "2829a2f3-20df-467c-e76d-ef074bf0dd30"
      },
      "execution_count": null,
      "outputs": [
        {
          "output_type": "execute_result",
          "data": {
            "text/plain": [
              "       NomerDonor  Category  Recency\n",
              "0      002T086874       2.0      152\n",
              "1      0020155446       4.0      190\n",
              "2      002T080168       4.0      198\n",
              "3      0020005472       4.0      269\n",
              "4      002I007125       2.0      168\n",
              "...           ...       ...      ...\n",
              "24255  002T096900       3.0      161\n",
              "24256  002K002448       3.0      153\n",
              "24257  0020058608       3.0      163\n",
              "24258  002B166851       3.0      155\n",
              "24259  0020089640       3.0      162\n",
              "\n",
              "[24260 rows x 3 columns]"
            ],
            "text/html": [
              "\n",
              "  <div id=\"df-61af8c57-c227-426b-b9d4-41872fb8f001\">\n",
              "    <div class=\"colab-df-container\">\n",
              "      <div>\n",
              "<style scoped>\n",
              "    .dataframe tbody tr th:only-of-type {\n",
              "        vertical-align: middle;\n",
              "    }\n",
              "\n",
              "    .dataframe tbody tr th {\n",
              "        vertical-align: top;\n",
              "    }\n",
              "\n",
              "    .dataframe thead th {\n",
              "        text-align: right;\n",
              "    }\n",
              "</style>\n",
              "<table border=\"1\" class=\"dataframe\">\n",
              "  <thead>\n",
              "    <tr style=\"text-align: right;\">\n",
              "      <th></th>\n",
              "      <th>NomerDonor</th>\n",
              "      <th>Category</th>\n",
              "      <th>Recency</th>\n",
              "    </tr>\n",
              "  </thead>\n",
              "  <tbody>\n",
              "    <tr>\n",
              "      <th>0</th>\n",
              "      <td>002T086874</td>\n",
              "      <td>2.0</td>\n",
              "      <td>152</td>\n",
              "    </tr>\n",
              "    <tr>\n",
              "      <th>1</th>\n",
              "      <td>0020155446</td>\n",
              "      <td>4.0</td>\n",
              "      <td>190</td>\n",
              "    </tr>\n",
              "    <tr>\n",
              "      <th>2</th>\n",
              "      <td>002T080168</td>\n",
              "      <td>4.0</td>\n",
              "      <td>198</td>\n",
              "    </tr>\n",
              "    <tr>\n",
              "      <th>3</th>\n",
              "      <td>0020005472</td>\n",
              "      <td>4.0</td>\n",
              "      <td>269</td>\n",
              "    </tr>\n",
              "    <tr>\n",
              "      <th>4</th>\n",
              "      <td>002I007125</td>\n",
              "      <td>2.0</td>\n",
              "      <td>168</td>\n",
              "    </tr>\n",
              "    <tr>\n",
              "      <th>...</th>\n",
              "      <td>...</td>\n",
              "      <td>...</td>\n",
              "      <td>...</td>\n",
              "    </tr>\n",
              "    <tr>\n",
              "      <th>24255</th>\n",
              "      <td>002T096900</td>\n",
              "      <td>3.0</td>\n",
              "      <td>161</td>\n",
              "    </tr>\n",
              "    <tr>\n",
              "      <th>24256</th>\n",
              "      <td>002K002448</td>\n",
              "      <td>3.0</td>\n",
              "      <td>153</td>\n",
              "    </tr>\n",
              "    <tr>\n",
              "      <th>24257</th>\n",
              "      <td>0020058608</td>\n",
              "      <td>3.0</td>\n",
              "      <td>163</td>\n",
              "    </tr>\n",
              "    <tr>\n",
              "      <th>24258</th>\n",
              "      <td>002B166851</td>\n",
              "      <td>3.0</td>\n",
              "      <td>155</td>\n",
              "    </tr>\n",
              "    <tr>\n",
              "      <th>24259</th>\n",
              "      <td>0020089640</td>\n",
              "      <td>3.0</td>\n",
              "      <td>162</td>\n",
              "    </tr>\n",
              "  </tbody>\n",
              "</table>\n",
              "<p>24260 rows × 3 columns</p>\n",
              "</div>\n",
              "      <button class=\"colab-df-convert\" onclick=\"convertToInteractive('df-61af8c57-c227-426b-b9d4-41872fb8f001')\"\n",
              "              title=\"Convert this dataframe to an interactive table.\"\n",
              "              style=\"display:none;\">\n",
              "        \n",
              "  <svg xmlns=\"http://www.w3.org/2000/svg\" height=\"24px\"viewBox=\"0 0 24 24\"\n",
              "       width=\"24px\">\n",
              "    <path d=\"M0 0h24v24H0V0z\" fill=\"none\"/>\n",
              "    <path d=\"M18.56 5.44l.94 2.06.94-2.06 2.06-.94-2.06-.94-.94-2.06-.94 2.06-2.06.94zm-11 1L8.5 8.5l.94-2.06 2.06-.94-2.06-.94L8.5 2.5l-.94 2.06-2.06.94zm10 10l.94 2.06.94-2.06 2.06-.94-2.06-.94-.94-2.06-.94 2.06-2.06.94z\"/><path d=\"M17.41 7.96l-1.37-1.37c-.4-.4-.92-.59-1.43-.59-.52 0-1.04.2-1.43.59L10.3 9.45l-7.72 7.72c-.78.78-.78 2.05 0 2.83L4 21.41c.39.39.9.59 1.41.59.51 0 1.02-.2 1.41-.59l7.78-7.78 2.81-2.81c.8-.78.8-2.07 0-2.86zM5.41 20L4 18.59l7.72-7.72 1.47 1.35L5.41 20z\"/>\n",
              "  </svg>\n",
              "      </button>\n",
              "      \n",
              "  <style>\n",
              "    .colab-df-container {\n",
              "      display:flex;\n",
              "      flex-wrap:wrap;\n",
              "      gap: 12px;\n",
              "    }\n",
              "\n",
              "    .colab-df-convert {\n",
              "      background-color: #E8F0FE;\n",
              "      border: none;\n",
              "      border-radius: 50%;\n",
              "      cursor: pointer;\n",
              "      display: none;\n",
              "      fill: #1967D2;\n",
              "      height: 32px;\n",
              "      padding: 0 0 0 0;\n",
              "      width: 32px;\n",
              "    }\n",
              "\n",
              "    .colab-df-convert:hover {\n",
              "      background-color: #E2EBFA;\n",
              "      box-shadow: 0px 1px 2px rgba(60, 64, 67, 0.3), 0px 1px 3px 1px rgba(60, 64, 67, 0.15);\n",
              "      fill: #174EA6;\n",
              "    }\n",
              "\n",
              "    [theme=dark] .colab-df-convert {\n",
              "      background-color: #3B4455;\n",
              "      fill: #D2E3FC;\n",
              "    }\n",
              "\n",
              "    [theme=dark] .colab-df-convert:hover {\n",
              "      background-color: #434B5C;\n",
              "      box-shadow: 0px 1px 3px 1px rgba(0, 0, 0, 0.15);\n",
              "      filter: drop-shadow(0px 1px 2px rgba(0, 0, 0, 0.3));\n",
              "      fill: #FFFFFF;\n",
              "    }\n",
              "  </style>\n",
              "\n",
              "      <script>\n",
              "        const buttonEl =\n",
              "          document.querySelector('#df-61af8c57-c227-426b-b9d4-41872fb8f001 button.colab-df-convert');\n",
              "        buttonEl.style.display =\n",
              "          google.colab.kernel.accessAllowed ? 'block' : 'none';\n",
              "\n",
              "        async function convertToInteractive(key) {\n",
              "          const element = document.querySelector('#df-61af8c57-c227-426b-b9d4-41872fb8f001');\n",
              "          const dataTable =\n",
              "            await google.colab.kernel.invokeFunction('convertToInteractive',\n",
              "                                                     [key], {});\n",
              "          if (!dataTable) return;\n",
              "\n",
              "          const docLinkHtml = 'Like what you see? Visit the ' +\n",
              "            '<a target=\"_blank\" href=https://colab.research.google.com/notebooks/data_table.ipynb>data table notebook</a>'\n",
              "            + ' to learn more about interactive tables.';\n",
              "          element.innerHTML = '';\n",
              "          dataTable['output_type'] = 'display_data';\n",
              "          await google.colab.output.renderOutput(dataTable, element);\n",
              "          const docLink = document.createElement('div');\n",
              "          docLink.innerHTML = docLinkHtml;\n",
              "          element.appendChild(docLink);\n",
              "        }\n",
              "      </script>\n",
              "    </div>\n",
              "  </div>\n",
              "  "
            ]
          },
          "metadata": {},
          "execution_count": 32
        },
        {
          "output_type": "stream",
          "name": "stdout",
          "text": [
            "time: 15.2 ms (started: 2022-06-26 22:38:21 +00:00)\n"
          ]
        }
      ]
    },
    {
      "cell_type": "code",
      "execution_count": null,
      "metadata": {
        "colab": {
          "base_uri": "https://localhost:8080/"
        },
        "id": "biUbGty38IX8",
        "outputId": "8dedcbad-6d6b-4065-a4a1-3750731b4ab3"
      },
      "outputs": [
        {
          "output_type": "stream",
          "name": "stdout",
          "text": [
            "time: 27.5 s (started: 2022-06-25 19:18:14 +00:00)\n"
          ]
        }
      ],
      "source": [
        "# donor = rating(df)\n",
        "# rbc = RBCimplementation(df)\n",
        "# rbc.reset_index(drop = True, inplace = True)\n",
        "rated = rate2nopred(donor, rbc)"
      ]
    },
    {
      "cell_type": "markdown",
      "metadata": {
        "id": "LAt-GS8kVeps"
      },
      "source": [
        "##### ANN (w/ pred)"
      ]
    },
    {
      "cell_type": "code",
      "source": [
        "# comb = pd.merge(df, ann, on=['NomerDonor'], how='left')\n",
        "# comb.to_csv('hasilann.csv',  index = False)"
      ],
      "metadata": {
        "colab": {
          "base_uri": "https://localhost:8080/"
        },
        "id": "hik5WWm-NTzu",
        "outputId": "e73947c0-cb48-4b5a-f4c5-364b14b73a1a"
      },
      "execution_count": null,
      "outputs": [
        {
          "output_type": "stream",
          "name": "stdout",
          "text": [
            "time: 2.85 s (started: 2022-06-26 22:51:42 +00:00)\n"
          ]
        }
      ]
    },
    {
      "cell_type": "code",
      "execution_count": null,
      "metadata": {
        "colab": {
          "base_uri": "https://localhost:8080/"
        },
        "id": "kmpom-NaVhv7",
        "outputId": "fd2259f8-e04f-4171-e0b5-7a0c5263cac3"
      },
      "outputs": [
        {
          "output_type": "stream",
          "name": "stdout",
          "text": [
            "time: 23.3 s (started: 2022-06-26 23:30:03 +00:00)\n"
          ]
        },
        {
          "output_type": "stream",
          "name": "stderr",
          "text": [
            "/usr/local/lib/python3.7/dist-packages/ipykernel_launcher.py:36: SettingWithCopyWarning: \n",
            "A value is trying to be set on a copy of a slice from a DataFrame.\n",
            "Try using .loc[row_indexer,col_indexer] = value instead\n",
            "\n",
            "See the caveats in the documentation: https://pandas.pydata.org/pandas-docs/stable/user_guide/indexing.html#returning-a-view-versus-a-copy\n"
          ]
        }
      ],
      "source": [
        "donor = rating(df)\n",
        "ann = ANNClass(modelannrbc, df)\n",
        "# pred = ANNpred(modelpred, df)\n",
        "# pred.reset_index(drop = True, inplace = True)\n",
        "# # ann.reset_index(drop = True, inplace = True)\n",
        "# annpred = pd.merge(ann, pred, on=['NomerDonor'])\n",
        "# rated = rate2pred(donor, annpred)"
      ]
    },
    {
      "cell_type": "code",
      "source": [
        "# comb = pd.merge(df, ann, on=['NomerDonor'], how='left')\n",
        "# comb.to_csv('hasilannrbc.csv',  index = False)"
      ],
      "metadata": {
        "colab": {
          "base_uri": "https://localhost:8080/"
        },
        "id": "IBIDApQLNDtp",
        "outputId": "ec95ce62-f8ff-4d67-b3aa-f7b5e35acad5"
      },
      "execution_count": null,
      "outputs": [
        {
          "output_type": "stream",
          "name": "stdout",
          "text": [
            "time: 1.11 s (started: 2022-06-26 23:30:26 +00:00)\n"
          ]
        }
      ]
    },
    {
      "cell_type": "markdown",
      "metadata": {
        "id": "ddNV4ycHViR3"
      },
      "source": [
        "##### RBC (w/ pred)"
      ]
    },
    {
      "cell_type": "code",
      "execution_count": null,
      "metadata": {
        "colab": {
          "base_uri": "https://localhost:8080/"
        },
        "id": "QpHIK8tsVlbj",
        "outputId": "46424fc1-a674-4bf6-fb11-774abee63e89"
      },
      "outputs": [
        {
          "output_type": "stream",
          "name": "stderr",
          "text": [
            "/usr/local/lib/python3.7/dist-packages/pandas/util/_decorators.py:311: SettingWithCopyWarning: \n",
            "A value is trying to be set on a copy of a slice from a DataFrame\n",
            "\n",
            "See the caveats in the documentation: https://pandas.pydata.org/pandas-docs/stable/user_guide/indexing.html#returning-a-view-versus-a-copy\n",
            "  return func(*args, **kwargs)\n",
            "/usr/local/lib/python3.7/dist-packages/ipykernel_launcher.py:6: SettingWithCopyWarning: \n",
            "A value is trying to be set on a copy of a slice from a DataFrame.\n",
            "Try using .loc[row_indexer,col_indexer] = value instead\n",
            "\n",
            "See the caveats in the documentation: https://pandas.pydata.org/pandas-docs/stable/user_guide/indexing.html#returning-a-view-versus-a-copy\n",
            "  \n",
            "/usr/local/lib/python3.7/dist-packages/ipykernel_launcher.py:8: SettingWithCopyWarning: \n",
            "A value is trying to be set on a copy of a slice from a DataFrame.\n",
            "Try using .loc[row_indexer,col_indexer] = value instead\n",
            "\n",
            "See the caveats in the documentation: https://pandas.pydata.org/pandas-docs/stable/user_guide/indexing.html#returning-a-view-versus-a-copy\n",
            "  \n",
            "/usr/local/lib/python3.7/dist-packages/pandas/core/frame.py:5047: SettingWithCopyWarning: \n",
            "A value is trying to be set on a copy of a slice from a DataFrame\n",
            "\n",
            "See the caveats in the documentation: https://pandas.pydata.org/pandas-docs/stable/user_guide/indexing.html#returning-a-view-versus-a-copy\n",
            "  errors=errors,\n"
          ]
        },
        {
          "output_type": "stream",
          "name": "stdout",
          "text": [
            "time: 1min 7s (started: 2022-06-24 03:20:01 +00:00)\n"
          ]
        },
        {
          "output_type": "stream",
          "name": "stderr",
          "text": [
            "/usr/local/lib/python3.7/dist-packages/ipykernel_launcher.py:28: FutureWarning: Indexing with multiple keys (implicitly converted to a tuple of keys) will be deprecated, use a list instead.\n"
          ]
        }
      ],
      "source": [
        "donor = rating(df)\n",
        "rbc = RBCimplementation(df)\n",
        "pred = ANNpred(modelpred, df)\n",
        "pred.reset_index(drop = True, inplace = True)\n",
        "rbc.reset_index(drop = True, inplace = True)\n",
        "rbcpred = pd.merge(pred, rbc, on=['NomerDonor'])\n",
        "# rated = rate1pred(donor, rbcpred)"
      ]
    },
    {
      "cell_type": "code",
      "source": [
        "rated = rate2pred(donor, rbcpred)"
      ],
      "metadata": {
        "colab": {
          "base_uri": "https://localhost:8080/"
        },
        "id": "GzKrCXaBKcnL",
        "outputId": "b8ff3c6b-f305-4bfa-a228-1253e6fdaaad"
      },
      "execution_count": null,
      "outputs": [
        {
          "output_type": "stream",
          "name": "stdout",
          "text": [
            "time: 8.44 s (started: 2022-06-24 03:23:01 +00:00)\n"
          ]
        }
      ]
    },
    {
      "cell_type": "markdown",
      "metadata": {
        "id": "8p0R3sU7iMmd"
      },
      "source": [
        "##### - - - als dari pycharm"
      ]
    },
    {
      "cell_type": "code",
      "execution_count": null,
      "metadata": {
        "id": "67T3gulJMu5y",
        "colab": {
          "base_uri": "https://localhost:8080/"
        },
        "outputId": "f2878e15-6d2b-443c-83cc-bd15e3e0a654"
      },
      "outputs": [
        {
          "output_type": "stream",
          "name": "stdout",
          "text": [
            "time: 33.1 s (started: 2022-06-24 17:51:26 +00:00)\n"
          ]
        }
      ],
      "source": [
        "spark, sc = _initialize_spark()\n",
        "jum = rated.NomerDonor.nunique()\n",
        "annsdf = spark.createDataFrame(rated)\n",
        "indexer1 = StringIndexer(inputCol=\"NomerDonor\", outputCol=\"NomerDonorIndex\")\n",
        "transformed = indexer1.fit(annsdf).transform(annsdf)\n",
        "# transformed.show()\n",
        "indexer2 = StringIndexer(inputCol=\"GolDrh\", outputCol=\"GolDrhIndex\")\n",
        "transformed = indexer2.fit(transformed).transform(transformed)\n",
        "# transformed.show()\n",
        "als1=ALS(maxIter=10,regParam=0.01,rank=25,userCol=\"GolDrhIndex\",itemCol=\"NomerDonorIndex\",ratingCol=\"Rating\",coldStartStrategy=\"drop\",nonnegative=True)\n",
        "model=als1.fit(transformed)\n",
        "trans = transformed.toPandas()\n",
        "recs=model.recommendForAllUsers(jum).toPandas()\n",
        "# recs"
      ]
    },
    {
      "cell_type": "code",
      "execution_count": null,
      "metadata": {
        "id": "lI9zUeCzgqGs",
        "colab": {
          "base_uri": "https://localhost:8080/"
        },
        "outputId": "fa422295-fb65-41fc-92e0-4ce882bc461d"
      },
      "outputs": [
        {
          "output_type": "stream",
          "name": "stderr",
          "text": [
            "/usr/local/lib/python3.7/dist-packages/ipykernel_launcher.py:14: SettingWithCopyWarning: \n",
            "A value is trying to be set on a copy of a slice from a DataFrame.\n",
            "Try using .loc[row_indexer,col_indexer] = value instead\n",
            "\n",
            "See the caveats in the documentation: https://pandas.pydata.org/pandas-docs/stable/user_guide/indexing.html#returning-a-view-versus-a-copy\n",
            "  \n"
          ]
        },
        {
          "output_type": "stream",
          "name": "stdout",
          "text": [
            "0.0003343489538208025\n",
            "time: 37.8 s (started: 2022-06-24 17:51:59 +00:00)\n"
          ]
        }
      ],
      "source": [
        "nrecs=recs.recommendations.apply(pd.Series) \\\n",
        "    .merge(recs, right_index = True, left_index = True) \\\n",
        "    .drop([\"recommendations\"], axis = 1) \\\n",
        "    .melt(id_vars = ['GolDrhIndex'], value_name = \"recommendation\") \\\n",
        "    .drop(\"variable\", axis = 1) \\\n",
        "    .dropna()\n",
        "nrecs=nrecs.sort_values('GolDrhIndex')\n",
        "nrecs=pd.concat([nrecs['recommendation'].apply(pd.Series), nrecs['GolDrhIndex']], axis = 1)\n",
        "nrecs.columns = [ 'NomerDonorIndex', 'Rating', 'GolDrhIndex']\n",
        "md=transformed.select(transformed['GolDrh'],transformed['GolDrhIndex'],transformed['NomerDonor'],transformed['NomerDonorIndex'])\n",
        "md=md.toPandas()\n",
        "dict1 =dict(zip(md['GolDrhIndex'],md['GolDrh']))\n",
        "dict2=dict(zip(md['NomerDonorIndex'],md['NomerDonor']))\n",
        "nrecs['GolDrh']=nrecs['GolDrhIndex'].map(dict1)\n",
        "nrecs['NomerDonor']=nrecs['NomerDonorIndex'].map(dict2)\n",
        "nrecs=nrecs.sort_values('GolDrh')\n",
        "nrecs.reset_index(drop=True, inplace=True)\n",
        "new=nrecs[['GolDrh','NomerDonor','Rating']]\n",
        "new['recommendations'] = list(new.NomerDonor)\n",
        "res=new[['GolDrh','recommendations']]\n",
        "res_new=res['recommendations'].groupby([res.GolDrh]).apply(list).reset_index()\n",
        "# st.write(res_new)\n",
        "# st.write(d22)\n",
        "d22f = d22[['NomerDonor', 'GolDrh']]\n",
        "d22f = d22f.merge(res_new, on='GolDrh', how='left')\n",
        "# st.write(d22f)\n",
        "for i, row in d22f.iterrows():\n",
        "    if row.NomerDonor in row.recommendations:\n",
        "        rank = row.recommendations.index(row.NomerDonor)+1\n",
        "        score = 1.0/rank\n",
        "        d22f.at[i, 'Rank'] = rank\n",
        "        d22f.at[i, 'Score']  = score\n",
        "    else:\n",
        "        d22f.at[i, 'Rank'] = 0\n",
        "        d22f.at[i, 'Score'] = 0\n",
        "print(d22f.Score.mean())"
      ]
    },
    {
      "cell_type": "markdown",
      "metadata": {
        "id": "36KeaDQAT4_4"
      },
      "source": [
        "## gapake"
      ]
    },
    {
      "cell_type": "code",
      "source": [
        "d1 = df.loc[(df['TanggalDonor'] < '2022-01-01 00:00:00.999') & (df['TanggalDonor'] > '2021-01-01 00:00:00.999')]\n",
        "\n",
        "t22 = d1.TanggalDonor.nunique()\n",
        "t22"
      ],
      "metadata": {
        "colab": {
          "base_uri": "https://localhost:8080/"
        },
        "id": "NVS6PZ7l6Kcr",
        "outputId": "e22396e2-b855-4691-d265-d341d960e7ec"
      },
      "execution_count": null,
      "outputs": [
        {
          "output_type": "execute_result",
          "data": {
            "text/plain": [
              "60552"
            ]
          },
          "metadata": {},
          "execution_count": 18
        },
        {
          "output_type": "stream",
          "name": "stdout",
          "text": [
            "time: 40.8 ms (started: 2022-07-01 06:53:17 +00:00)\n"
          ]
        }
      ]
    },
    {
      "cell_type": "code",
      "source": [
        "data = [['2015', t15], ['2016', t16], ['2017', t17], ['2018', t18], ['2019', t19], ['2020', t20], ['2021', t21], ['2022', t22]]\n",
        " \n",
        "# Create the pandas DataFrame\n",
        "jum = pd.DataFrame(data, columns=['Year', 'Unique Donors'])"
      ],
      "metadata": {
        "colab": {
          "base_uri": "https://localhost:8080/"
        },
        "id": "UPOwJOuR8cmB",
        "outputId": "65e7fbe7-b345-4941-bc0e-a61f2d8b4b0b"
      },
      "execution_count": null,
      "outputs": [
        {
          "output_type": "stream",
          "name": "stdout",
          "text": [
            "time: 3.29 ms (started: 2022-06-26 17:02:37 +00:00)\n"
          ]
        }
      ]
    },
    {
      "cell_type": "code",
      "source": [
        "df.Lokasi.nunique()"
      ],
      "metadata": {
        "colab": {
          "base_uri": "https://localhost:8080/"
        },
        "id": "Il_ufxXO6KXm",
        "outputId": "2cecd29c-7302-4497-801d-abcf029ec80f"
      },
      "execution_count": null,
      "outputs": [
        {
          "output_type": "execute_result",
          "data": {
            "text/plain": [
              "445"
            ]
          },
          "metadata": {},
          "execution_count": 91
        },
        {
          "output_type": "stream",
          "name": "stdout",
          "text": [
            "time: 16.2 ms (started: 2022-06-26 17:21:41 +00:00)\n"
          ]
        }
      ]
    },
    {
      "cell_type": "code",
      "source": [
        "d1 = df.loc[(df['TanggalDonor'] < '2022-02-01 00:00:00.999') & (df['TanggalDonor'] > '2022-01-01 00:00:00.999')]\n"
      ],
      "metadata": {
        "id": "4LuIGcqw6KVR"
      },
      "execution_count": null,
      "outputs": []
    },
    {
      "cell_type": "code",
      "source": [
        "d1.NoKantong.duplicated().sum()"
      ],
      "metadata": {
        "colab": {
          "base_uri": "https://localhost:8080/"
        },
        "id": "UvV0DX4sh6Sf",
        "outputId": "02de44a4-fc6c-49c6-eec0-5c4d9cae62c0"
      },
      "execution_count": null,
      "outputs": [
        {
          "output_type": "execute_result",
          "data": {
            "text/plain": [
              "0"
            ]
          },
          "metadata": {},
          "execution_count": 15
        },
        {
          "output_type": "stream",
          "name": "stdout",
          "text": [
            "time: 8.02 ms (started: 2022-07-01 06:52:33 +00:00)\n"
          ]
        }
      ]
    },
    {
      "cell_type": "code",
      "source": [
        "print(d1[d1['Lokasi'] != 'UTD PMI SURABAYA'].NomerDonor.nunique())"
      ],
      "metadata": {
        "colab": {
          "base_uri": "https://localhost:8080/"
        },
        "id": "OOycMCoc6KSx",
        "outputId": "4a090ff6-9f38-4d90-a060-f2e19216de6f"
      },
      "execution_count": null,
      "outputs": [
        {
          "output_type": "stream",
          "name": "stdout",
          "text": [
            "11841\n",
            "time: 17.1 ms (started: 2022-07-01 06:55:36 +00:00)\n"
          ]
        }
      ]
    },
    {
      "cell_type": "code",
      "source": [
        "df[df['Umur'] > 65].NomerDonor.nunique()"
      ],
      "metadata": {
        "colab": {
          "base_uri": "https://localhost:8080/"
        },
        "id": "kikJCmlaRyC7",
        "outputId": "4c9f24e8-b1bd-4013-c606-7fbd6f8267c0"
      },
      "execution_count": null,
      "outputs": [
        {
          "output_type": "execute_result",
          "data": {
            "text/plain": [
              "511"
            ]
          },
          "metadata": {},
          "execution_count": 190
        },
        {
          "output_type": "stream",
          "name": "stdout",
          "text": [
            "time: 22.8 ms (started: 2022-06-26 18:30:25 +00:00)\n"
          ]
        }
      ]
    },
    {
      "cell_type": "code",
      "source": [
        "filter = df[['NomerDonor', 'NamaDonor', 'Umur', 'JKel', 'TanggalDonor', 'Lokasi', 'Volume']]"
      ],
      "metadata": {
        "colab": {
          "base_uri": "https://localhost:8080/"
        },
        "id": "Og85sCeyVUsw",
        "outputId": "0df691bf-9794-47a1-cb86-792556706bab"
      },
      "execution_count": null,
      "outputs": [
        {
          "output_type": "stream",
          "name": "stdout",
          "text": [
            "time: 15.8 ms (started: 2022-06-26 18:47:06 +00:00)\n"
          ]
        }
      ]
    },
    {
      "cell_type": "code",
      "source": [
        "filter[filter['NomerDonor'] == '0020007097']"
      ],
      "metadata": {
        "colab": {
          "base_uri": "https://localhost:8080/",
          "height": 959
        },
        "id": "OY81cAkQ6KQX",
        "outputId": "bf448a00-09e2-4d6c-fda7-1af3bd5fef31"
      },
      "execution_count": null,
      "outputs": [
        {
          "output_type": "execute_result",
          "data": {
            "text/plain": [
              "       NomerDonor       NamaDonor  Umur  JKel             TanggalDonor  \\\n",
              "52828  0020007097  DEDIK PURWANTO    45  Pria  2015-03-06 12:56:05.070   \n",
              "52829  0020007097  DEDIK PURWANTO    45  Pria  2015-06-05 12:36:02.820   \n",
              "52830  0020007097  DEDIK PURWANTO    45  Pria  2015-09-11 09:48:06.000   \n",
              "52831  0020007097  DEDIK PURWANTO    45  Pria  2015-12-04 09:50:16.000   \n",
              "52832  0020007097  DEDIK PURWANTO    46  Pria  2016-03-04 10:03:07.000   \n",
              "52833  0020007097  DEDIK PURWANTO    46  Pria  2016-09-09 09:56:38.000   \n",
              "52834  0020007097  DEDIK PURWANTO    46  Pria  2016-12-29 16:41:15.000   \n",
              "52835  0020007097  DEDIK PURWANTO    47  Pria  2017-04-09 08:10:59.000   \n",
              "52836  0020007097  DEDIK PURWANTO    47  Pria  2017-06-09 19:57:12.000   \n",
              "52837  0020007097  DEDIK PURWANTO    47  Pria  2017-12-28 15:19:25.000   \n",
              "52838  0020007097  DEDIK PURWANTO    48  Pria  2018-05-15 18:23:18.000   \n",
              "52839  0020007097  DEDIK PURWANTO    48  Pria  2018-08-24 08:56:48.000   \n",
              "52840  0020007097  DEDIK PURWANTO    48  Pria  2018-11-16 09:30:52.000   \n",
              "52841  0020007097  DEDIK PURWANTO    49  Pria  2019-02-08 09:42:31.000   \n",
              "52842  0020007097  DEDIK PURWANTO    49  Pria  2019-05-06 18:25:04.000   \n",
              "52843  0020007097  DEDIK PURWANTO    49  Pria  2019-08-02 08:38:58.000   \n",
              "52844  0020007097  DEDIK PURWANTO    49  Pria  2019-12-09 18:30:49.117   \n",
              "\n",
              "                              Lokasi  Volume  \n",
              "52828                    PT. AGRINDO  350 cc  \n",
              "52829                    PT. AGRINDO  350 cc  \n",
              "52830                    PT. AGRINDO  350 cc  \n",
              "52831                    PT. AGRINDO  350 cc  \n",
              "52832                    PT. AGRINDO  350 cc  \n",
              "52833                    PT. AGRINDO  350 cc  \n",
              "52834  MOBIL UNIT I UDD PMI KOTA SBY  350 cc  \n",
              "52835            UPN VETERAN/PRAMUKA  350 cc  \n",
              "52836         HARMONIS TAMAN BUNGKUL  350 cc  \n",
              "52837  MOBIL UNIT I UDD PMI KOTA SBY  350 cc  \n",
              "52838         HARMONIS TAMAN BUNGKUL  350 cc  \n",
              "52839                    PT. AGRINDO  350 cc  \n",
              "52840                    PT. AGRINDO  350 cc  \n",
              "52841                    PT. AGRINDO  350 cc  \n",
              "52842         HARMONIS TAMAN BUNGKUL  350 cc  \n",
              "52843                    PT. AGRINDO  350 cc  \n",
              "52844               UTD PMI SURABAYA  450 cc  "
            ],
            "text/html": [
              "\n",
              "  <div id=\"df-7212c308-27ea-46d5-a691-1bfb20d6a3e7\">\n",
              "    <div class=\"colab-df-container\">\n",
              "      <div>\n",
              "<style scoped>\n",
              "    .dataframe tbody tr th:only-of-type {\n",
              "        vertical-align: middle;\n",
              "    }\n",
              "\n",
              "    .dataframe tbody tr th {\n",
              "        vertical-align: top;\n",
              "    }\n",
              "\n",
              "    .dataframe thead th {\n",
              "        text-align: right;\n",
              "    }\n",
              "</style>\n",
              "<table border=\"1\" class=\"dataframe\">\n",
              "  <thead>\n",
              "    <tr style=\"text-align: right;\">\n",
              "      <th></th>\n",
              "      <th>NomerDonor</th>\n",
              "      <th>NamaDonor</th>\n",
              "      <th>Umur</th>\n",
              "      <th>JKel</th>\n",
              "      <th>TanggalDonor</th>\n",
              "      <th>Lokasi</th>\n",
              "      <th>Volume</th>\n",
              "    </tr>\n",
              "  </thead>\n",
              "  <tbody>\n",
              "    <tr>\n",
              "      <th>52828</th>\n",
              "      <td>0020007097</td>\n",
              "      <td>DEDIK PURWANTO</td>\n",
              "      <td>45</td>\n",
              "      <td>Pria</td>\n",
              "      <td>2015-03-06 12:56:05.070</td>\n",
              "      <td>PT. AGRINDO</td>\n",
              "      <td>350 cc</td>\n",
              "    </tr>\n",
              "    <tr>\n",
              "      <th>52829</th>\n",
              "      <td>0020007097</td>\n",
              "      <td>DEDIK PURWANTO</td>\n",
              "      <td>45</td>\n",
              "      <td>Pria</td>\n",
              "      <td>2015-06-05 12:36:02.820</td>\n",
              "      <td>PT. AGRINDO</td>\n",
              "      <td>350 cc</td>\n",
              "    </tr>\n",
              "    <tr>\n",
              "      <th>52830</th>\n",
              "      <td>0020007097</td>\n",
              "      <td>DEDIK PURWANTO</td>\n",
              "      <td>45</td>\n",
              "      <td>Pria</td>\n",
              "      <td>2015-09-11 09:48:06.000</td>\n",
              "      <td>PT. AGRINDO</td>\n",
              "      <td>350 cc</td>\n",
              "    </tr>\n",
              "    <tr>\n",
              "      <th>52831</th>\n",
              "      <td>0020007097</td>\n",
              "      <td>DEDIK PURWANTO</td>\n",
              "      <td>45</td>\n",
              "      <td>Pria</td>\n",
              "      <td>2015-12-04 09:50:16.000</td>\n",
              "      <td>PT. AGRINDO</td>\n",
              "      <td>350 cc</td>\n",
              "    </tr>\n",
              "    <tr>\n",
              "      <th>52832</th>\n",
              "      <td>0020007097</td>\n",
              "      <td>DEDIK PURWANTO</td>\n",
              "      <td>46</td>\n",
              "      <td>Pria</td>\n",
              "      <td>2016-03-04 10:03:07.000</td>\n",
              "      <td>PT. AGRINDO</td>\n",
              "      <td>350 cc</td>\n",
              "    </tr>\n",
              "    <tr>\n",
              "      <th>52833</th>\n",
              "      <td>0020007097</td>\n",
              "      <td>DEDIK PURWANTO</td>\n",
              "      <td>46</td>\n",
              "      <td>Pria</td>\n",
              "      <td>2016-09-09 09:56:38.000</td>\n",
              "      <td>PT. AGRINDO</td>\n",
              "      <td>350 cc</td>\n",
              "    </tr>\n",
              "    <tr>\n",
              "      <th>52834</th>\n",
              "      <td>0020007097</td>\n",
              "      <td>DEDIK PURWANTO</td>\n",
              "      <td>46</td>\n",
              "      <td>Pria</td>\n",
              "      <td>2016-12-29 16:41:15.000</td>\n",
              "      <td>MOBIL UNIT I UDD PMI KOTA SBY</td>\n",
              "      <td>350 cc</td>\n",
              "    </tr>\n",
              "    <tr>\n",
              "      <th>52835</th>\n",
              "      <td>0020007097</td>\n",
              "      <td>DEDIK PURWANTO</td>\n",
              "      <td>47</td>\n",
              "      <td>Pria</td>\n",
              "      <td>2017-04-09 08:10:59.000</td>\n",
              "      <td>UPN VETERAN/PRAMUKA</td>\n",
              "      <td>350 cc</td>\n",
              "    </tr>\n",
              "    <tr>\n",
              "      <th>52836</th>\n",
              "      <td>0020007097</td>\n",
              "      <td>DEDIK PURWANTO</td>\n",
              "      <td>47</td>\n",
              "      <td>Pria</td>\n",
              "      <td>2017-06-09 19:57:12.000</td>\n",
              "      <td>HARMONIS TAMAN BUNGKUL</td>\n",
              "      <td>350 cc</td>\n",
              "    </tr>\n",
              "    <tr>\n",
              "      <th>52837</th>\n",
              "      <td>0020007097</td>\n",
              "      <td>DEDIK PURWANTO</td>\n",
              "      <td>47</td>\n",
              "      <td>Pria</td>\n",
              "      <td>2017-12-28 15:19:25.000</td>\n",
              "      <td>MOBIL UNIT I UDD PMI KOTA SBY</td>\n",
              "      <td>350 cc</td>\n",
              "    </tr>\n",
              "    <tr>\n",
              "      <th>52838</th>\n",
              "      <td>0020007097</td>\n",
              "      <td>DEDIK PURWANTO</td>\n",
              "      <td>48</td>\n",
              "      <td>Pria</td>\n",
              "      <td>2018-05-15 18:23:18.000</td>\n",
              "      <td>HARMONIS TAMAN BUNGKUL</td>\n",
              "      <td>350 cc</td>\n",
              "    </tr>\n",
              "    <tr>\n",
              "      <th>52839</th>\n",
              "      <td>0020007097</td>\n",
              "      <td>DEDIK PURWANTO</td>\n",
              "      <td>48</td>\n",
              "      <td>Pria</td>\n",
              "      <td>2018-08-24 08:56:48.000</td>\n",
              "      <td>PT. AGRINDO</td>\n",
              "      <td>350 cc</td>\n",
              "    </tr>\n",
              "    <tr>\n",
              "      <th>52840</th>\n",
              "      <td>0020007097</td>\n",
              "      <td>DEDIK PURWANTO</td>\n",
              "      <td>48</td>\n",
              "      <td>Pria</td>\n",
              "      <td>2018-11-16 09:30:52.000</td>\n",
              "      <td>PT. AGRINDO</td>\n",
              "      <td>350 cc</td>\n",
              "    </tr>\n",
              "    <tr>\n",
              "      <th>52841</th>\n",
              "      <td>0020007097</td>\n",
              "      <td>DEDIK PURWANTO</td>\n",
              "      <td>49</td>\n",
              "      <td>Pria</td>\n",
              "      <td>2019-02-08 09:42:31.000</td>\n",
              "      <td>PT. AGRINDO</td>\n",
              "      <td>350 cc</td>\n",
              "    </tr>\n",
              "    <tr>\n",
              "      <th>52842</th>\n",
              "      <td>0020007097</td>\n",
              "      <td>DEDIK PURWANTO</td>\n",
              "      <td>49</td>\n",
              "      <td>Pria</td>\n",
              "      <td>2019-05-06 18:25:04.000</td>\n",
              "      <td>HARMONIS TAMAN BUNGKUL</td>\n",
              "      <td>350 cc</td>\n",
              "    </tr>\n",
              "    <tr>\n",
              "      <th>52843</th>\n",
              "      <td>0020007097</td>\n",
              "      <td>DEDIK PURWANTO</td>\n",
              "      <td>49</td>\n",
              "      <td>Pria</td>\n",
              "      <td>2019-08-02 08:38:58.000</td>\n",
              "      <td>PT. AGRINDO</td>\n",
              "      <td>350 cc</td>\n",
              "    </tr>\n",
              "    <tr>\n",
              "      <th>52844</th>\n",
              "      <td>0020007097</td>\n",
              "      <td>DEDIK PURWANTO</td>\n",
              "      <td>49</td>\n",
              "      <td>Pria</td>\n",
              "      <td>2019-12-09 18:30:49.117</td>\n",
              "      <td>UTD PMI SURABAYA</td>\n",
              "      <td>450 cc</td>\n",
              "    </tr>\n",
              "  </tbody>\n",
              "</table>\n",
              "</div>\n",
              "      <button class=\"colab-df-convert\" onclick=\"convertToInteractive('df-7212c308-27ea-46d5-a691-1bfb20d6a3e7')\"\n",
              "              title=\"Convert this dataframe to an interactive table.\"\n",
              "              style=\"display:none;\">\n",
              "        \n",
              "  <svg xmlns=\"http://www.w3.org/2000/svg\" height=\"24px\"viewBox=\"0 0 24 24\"\n",
              "       width=\"24px\">\n",
              "    <path d=\"M0 0h24v24H0V0z\" fill=\"none\"/>\n",
              "    <path d=\"M18.56 5.44l.94 2.06.94-2.06 2.06-.94-2.06-.94-.94-2.06-.94 2.06-2.06.94zm-11 1L8.5 8.5l.94-2.06 2.06-.94-2.06-.94L8.5 2.5l-.94 2.06-2.06.94zm10 10l.94 2.06.94-2.06 2.06-.94-2.06-.94-.94-2.06-.94 2.06-2.06.94z\"/><path d=\"M17.41 7.96l-1.37-1.37c-.4-.4-.92-.59-1.43-.59-.52 0-1.04.2-1.43.59L10.3 9.45l-7.72 7.72c-.78.78-.78 2.05 0 2.83L4 21.41c.39.39.9.59 1.41.59.51 0 1.02-.2 1.41-.59l7.78-7.78 2.81-2.81c.8-.78.8-2.07 0-2.86zM5.41 20L4 18.59l7.72-7.72 1.47 1.35L5.41 20z\"/>\n",
              "  </svg>\n",
              "      </button>\n",
              "      \n",
              "  <style>\n",
              "    .colab-df-container {\n",
              "      display:flex;\n",
              "      flex-wrap:wrap;\n",
              "      gap: 12px;\n",
              "    }\n",
              "\n",
              "    .colab-df-convert {\n",
              "      background-color: #E8F0FE;\n",
              "      border: none;\n",
              "      border-radius: 50%;\n",
              "      cursor: pointer;\n",
              "      display: none;\n",
              "      fill: #1967D2;\n",
              "      height: 32px;\n",
              "      padding: 0 0 0 0;\n",
              "      width: 32px;\n",
              "    }\n",
              "\n",
              "    .colab-df-convert:hover {\n",
              "      background-color: #E2EBFA;\n",
              "      box-shadow: 0px 1px 2px rgba(60, 64, 67, 0.3), 0px 1px 3px 1px rgba(60, 64, 67, 0.15);\n",
              "      fill: #174EA6;\n",
              "    }\n",
              "\n",
              "    [theme=dark] .colab-df-convert {\n",
              "      background-color: #3B4455;\n",
              "      fill: #D2E3FC;\n",
              "    }\n",
              "\n",
              "    [theme=dark] .colab-df-convert:hover {\n",
              "      background-color: #434B5C;\n",
              "      box-shadow: 0px 1px 3px 1px rgba(0, 0, 0, 0.15);\n",
              "      filter: drop-shadow(0px 1px 2px rgba(0, 0, 0, 0.3));\n",
              "      fill: #FFFFFF;\n",
              "    }\n",
              "  </style>\n",
              "\n",
              "      <script>\n",
              "        const buttonEl =\n",
              "          document.querySelector('#df-7212c308-27ea-46d5-a691-1bfb20d6a3e7 button.colab-df-convert');\n",
              "        buttonEl.style.display =\n",
              "          google.colab.kernel.accessAllowed ? 'block' : 'none';\n",
              "\n",
              "        async function convertToInteractive(key) {\n",
              "          const element = document.querySelector('#df-7212c308-27ea-46d5-a691-1bfb20d6a3e7');\n",
              "          const dataTable =\n",
              "            await google.colab.kernel.invokeFunction('convertToInteractive',\n",
              "                                                     [key], {});\n",
              "          if (!dataTable) return;\n",
              "\n",
              "          const docLinkHtml = 'Like what you see? Visit the ' +\n",
              "            '<a target=\"_blank\" href=https://colab.research.google.com/notebooks/data_table.ipynb>data table notebook</a>'\n",
              "            + ' to learn more about interactive tables.';\n",
              "          element.innerHTML = '';\n",
              "          dataTable['output_type'] = 'display_data';\n",
              "          await google.colab.output.renderOutput(dataTable, element);\n",
              "          const docLink = document.createElement('div');\n",
              "          docLink.innerHTML = docLinkHtml;\n",
              "          element.appendChild(docLink);\n",
              "        }\n",
              "      </script>\n",
              "    </div>\n",
              "  </div>\n",
              "  "
            ]
          },
          "metadata": {},
          "execution_count": 200
        },
        {
          "output_type": "stream",
          "name": "stdout",
          "text": [
            "time: 27.3 ms (started: 2022-06-26 18:47:07 +00:00)\n"
          ]
        }
      ]
    },
    {
      "cell_type": "code",
      "source": [
        "d22[d22['NomerDonor'] == '0020007097']"
      ],
      "metadata": {
        "colab": {
          "base_uri": "https://localhost:8080/",
          "height": 131
        },
        "id": "y2BdFiTsO9Yh",
        "outputId": "be2c909a-f3c0-4e79-c2b8-6d8890af3f8f"
      },
      "execution_count": null,
      "outputs": [
        {
          "output_type": "execute_result",
          "data": {
            "text/plain": [
              "Empty DataFrame\n",
              "Columns: [NomerDonor, NamaDonor, NoKantong, TanggalDonor, Umur, JKel, Lokasi, Volume, JenisKantong, BloodType, NoTlp, Email, GolDrh]\n",
              "Index: []"
            ],
            "text/html": [
              "\n",
              "  <div id=\"df-f231f2fc-5443-4295-b1f1-8b560470e615\">\n",
              "    <div class=\"colab-df-container\">\n",
              "      <div>\n",
              "<style scoped>\n",
              "    .dataframe tbody tr th:only-of-type {\n",
              "        vertical-align: middle;\n",
              "    }\n",
              "\n",
              "    .dataframe tbody tr th {\n",
              "        vertical-align: top;\n",
              "    }\n",
              "\n",
              "    .dataframe thead th {\n",
              "        text-align: right;\n",
              "    }\n",
              "</style>\n",
              "<table border=\"1\" class=\"dataframe\">\n",
              "  <thead>\n",
              "    <tr style=\"text-align: right;\">\n",
              "      <th></th>\n",
              "      <th>NomerDonor</th>\n",
              "      <th>NamaDonor</th>\n",
              "      <th>NoKantong</th>\n",
              "      <th>TanggalDonor</th>\n",
              "      <th>Umur</th>\n",
              "      <th>JKel</th>\n",
              "      <th>Lokasi</th>\n",
              "      <th>Volume</th>\n",
              "      <th>JenisKantong</th>\n",
              "      <th>BloodType</th>\n",
              "      <th>NoTlp</th>\n",
              "      <th>Email</th>\n",
              "      <th>GolDrh</th>\n",
              "    </tr>\n",
              "  </thead>\n",
              "  <tbody>\n",
              "  </tbody>\n",
              "</table>\n",
              "</div>\n",
              "      <button class=\"colab-df-convert\" onclick=\"convertToInteractive('df-f231f2fc-5443-4295-b1f1-8b560470e615')\"\n",
              "              title=\"Convert this dataframe to an interactive table.\"\n",
              "              style=\"display:none;\">\n",
              "        \n",
              "  <svg xmlns=\"http://www.w3.org/2000/svg\" height=\"24px\"viewBox=\"0 0 24 24\"\n",
              "       width=\"24px\">\n",
              "    <path d=\"M0 0h24v24H0V0z\" fill=\"none\"/>\n",
              "    <path d=\"M18.56 5.44l.94 2.06.94-2.06 2.06-.94-2.06-.94-.94-2.06-.94 2.06-2.06.94zm-11 1L8.5 8.5l.94-2.06 2.06-.94-2.06-.94L8.5 2.5l-.94 2.06-2.06.94zm10 10l.94 2.06.94-2.06 2.06-.94-2.06-.94-.94-2.06-.94 2.06-2.06.94z\"/><path d=\"M17.41 7.96l-1.37-1.37c-.4-.4-.92-.59-1.43-.59-.52 0-1.04.2-1.43.59L10.3 9.45l-7.72 7.72c-.78.78-.78 2.05 0 2.83L4 21.41c.39.39.9.59 1.41.59.51 0 1.02-.2 1.41-.59l7.78-7.78 2.81-2.81c.8-.78.8-2.07 0-2.86zM5.41 20L4 18.59l7.72-7.72 1.47 1.35L5.41 20z\"/>\n",
              "  </svg>\n",
              "      </button>\n",
              "      \n",
              "  <style>\n",
              "    .colab-df-container {\n",
              "      display:flex;\n",
              "      flex-wrap:wrap;\n",
              "      gap: 12px;\n",
              "    }\n",
              "\n",
              "    .colab-df-convert {\n",
              "      background-color: #E8F0FE;\n",
              "      border: none;\n",
              "      border-radius: 50%;\n",
              "      cursor: pointer;\n",
              "      display: none;\n",
              "      fill: #1967D2;\n",
              "      height: 32px;\n",
              "      padding: 0 0 0 0;\n",
              "      width: 32px;\n",
              "    }\n",
              "\n",
              "    .colab-df-convert:hover {\n",
              "      background-color: #E2EBFA;\n",
              "      box-shadow: 0px 1px 2px rgba(60, 64, 67, 0.3), 0px 1px 3px 1px rgba(60, 64, 67, 0.15);\n",
              "      fill: #174EA6;\n",
              "    }\n",
              "\n",
              "    [theme=dark] .colab-df-convert {\n",
              "      background-color: #3B4455;\n",
              "      fill: #D2E3FC;\n",
              "    }\n",
              "\n",
              "    [theme=dark] .colab-df-convert:hover {\n",
              "      background-color: #434B5C;\n",
              "      box-shadow: 0px 1px 3px 1px rgba(0, 0, 0, 0.15);\n",
              "      filter: drop-shadow(0px 1px 2px rgba(0, 0, 0, 0.3));\n",
              "      fill: #FFFFFF;\n",
              "    }\n",
              "  </style>\n",
              "\n",
              "      <script>\n",
              "        const buttonEl =\n",
              "          document.querySelector('#df-f231f2fc-5443-4295-b1f1-8b560470e615 button.colab-df-convert');\n",
              "        buttonEl.style.display =\n",
              "          google.colab.kernel.accessAllowed ? 'block' : 'none';\n",
              "\n",
              "        async function convertToInteractive(key) {\n",
              "          const element = document.querySelector('#df-f231f2fc-5443-4295-b1f1-8b560470e615');\n",
              "          const dataTable =\n",
              "            await google.colab.kernel.invokeFunction('convertToInteractive',\n",
              "                                                     [key], {});\n",
              "          if (!dataTable) return;\n",
              "\n",
              "          const docLinkHtml = 'Like what you see? Visit the ' +\n",
              "            '<a target=\"_blank\" href=https://colab.research.google.com/notebooks/data_table.ipynb>data table notebook</a>'\n",
              "            + ' to learn more about interactive tables.';\n",
              "          element.innerHTML = '';\n",
              "          dataTable['output_type'] = 'display_data';\n",
              "          await google.colab.output.renderOutput(dataTable, element);\n",
              "          const docLink = document.createElement('div');\n",
              "          docLink.innerHTML = docLinkHtml;\n",
              "          element.appendChild(docLink);\n",
              "        }\n",
              "      </script>\n",
              "    </div>\n",
              "  </div>\n",
              "  "
            ]
          },
          "metadata": {},
          "execution_count": 180
        },
        {
          "output_type": "stream",
          "name": "stdout",
          "text": [
            "time: 9.3 ms (started: 2022-06-26 18:22:00 +00:00)\n"
          ]
        }
      ]
    },
    {
      "cell_type": "code",
      "source": [
        "d22[d22['Lokasi'] == 'UTD PMI SURABAYA'].NomerDonor.unique()"
      ],
      "metadata": {
        "colab": {
          "base_uri": "https://localhost:8080/"
        },
        "id": "GgEgx8QS6KNw",
        "outputId": "0a130688-f8e3-4940-c771-5b38a860afd8"
      },
      "execution_count": null,
      "outputs": [
        {
          "output_type": "execute_result",
          "data": {
            "text/plain": [
              "array(['002T080168', '002T057271', '002A162503', ..., '002M019071',\n",
              "       '002T050931', '002T006097'], dtype=object)"
            ]
          },
          "metadata": {},
          "execution_count": 144
        },
        {
          "output_type": "stream",
          "name": "stdout",
          "text": [
            "time: 7.64 ms (started: 2022-06-26 18:06:14 +00:00)\n"
          ]
        }
      ]
    },
    {
      "cell_type": "code",
      "source": [],
      "metadata": {
        "id": "FKT6_nHf6KLh"
      },
      "execution_count": null,
      "outputs": []
    },
    {
      "cell_type": "code",
      "source": [
        "import numpy as np"
      ],
      "metadata": {
        "id": "qLxiJ6F56KI3",
        "colab": {
          "base_uri": "https://localhost:8080/"
        },
        "outputId": "9f66dd15-3450-4058-a6df-13c3d7526a33"
      },
      "execution_count": null,
      "outputs": [
        {
          "output_type": "stream",
          "name": "stdout",
          "text": [
            "time: 1.48 ms (started: 2022-07-01 08:05:56 +00:00)\n"
          ]
        }
      ]
    },
    {
      "cell_type": "code",
      "source": [
        "df.TanggalDonor = pd.to_datetime(df.TanggalDonor, errors='coerce')\n",
        "df[\"IVT\"] = df.groupby(['NomerDonor'], as_index=False)[\"TanggalDonor\"].transform(lambda x: abs(x.shift(1) - x))\n",
        "df[\"IVT\"] = df[\"IVT\"].dt.days\n",
        "df[\"Interval\"] = df[\"IVT\"]\n",
        "df_p = df.groupby(['NomerDonor'], as_index=False).agg({\"IVT\": [np.max,np.min],\n",
        "                                                        \"Interval\": [np.mean]})\n",
        "df_p.columns = [\"\".join(col).strip() for col in df_p.columns.values]\n",
        "df_p = df_p.fillna(0)\n",
        "df_p = df_p[['NomerDonor', 'Intervalmean']]"
      ],
      "metadata": {
        "colab": {
          "base_uri": "https://localhost:8080/"
        },
        "id": "xdckaS-fyfLK",
        "outputId": "7902183c-aed8-46fd-922f-a118465723e2"
      },
      "execution_count": null,
      "outputs": [
        {
          "output_type": "stream",
          "name": "stdout",
          "text": [
            "time: 48.8 s (started: 2022-07-01 08:47:58 +00:00)\n"
          ]
        }
      ]
    },
    {
      "cell_type": "code",
      "source": [
        "df_p"
      ],
      "metadata": {
        "id": "mCIdC1yl7czX"
      },
      "execution_count": null,
      "outputs": []
    },
    {
      "cell_type": "code",
      "source": [
        "df_p.Intervalmean.quantile([0.2,0.5,0.75])"
      ],
      "metadata": {
        "colab": {
          "base_uri": "https://localhost:8080/"
        },
        "id": "uHhPjVGeyfHn",
        "outputId": "f91c730a-2187-443c-9704-506d8bebead8"
      },
      "execution_count": null,
      "outputs": [
        {
          "output_type": "execute_result",
          "data": {
            "text/plain": [
              "0.20     86.427068\n",
              "0.50    115.125000\n",
              "0.75    150.400000\n",
              "Name: Intervalmean, dtype: float64"
            ]
          },
          "metadata": {},
          "execution_count": 38
        },
        {
          "output_type": "stream",
          "name": "stdout",
          "text": [
            "time: 9.55 ms (started: 2022-07-01 08:43:36 +00:00)\n"
          ]
        }
      ]
    },
    {
      "cell_type": "code",
      "source": [
        "df[\"TanggalDonor\"] = pd.to_datetime(df[\"TanggalDonor\"])\n",
        "tenddate = pd.to_datetime(date.today())\n",
        "copydf = df[['NomerDonor','TanggalDonor']]\n",
        "copydf.sort_values(by='TanggalDonor', ascending = True, inplace=True)\n",
        "copydf[\"Counter\"] = copydf.groupby(['NomerDonor']).cumcount(ascending=False) + 1\n",
        "df_r = copydf.loc[copydf['Counter'] <= 3]\n",
        "df_r[\"TanggalDonor\"] = pd.to_datetime(df_r[\"TanggalDonor\"])\n",
        "df_r = df_r.drop_duplicates([\"NomerDonor\", \"TanggalDonor\"])\n",
        "df_r[\"Recency1\"] = (tenddate - df_r['TanggalDonor']).dt.days\n",
        "df_r[\"Recency3\"] = df_r[\"Recency1\"]\n",
        "df_r1 = df_r.groupby(['NomerDonor'], as_index=False).agg({\"Recency1\": np.min, \"Recency3\": np.mean, \"Counter\":np.max})\n",
        "df_r1[\"Recency3\"] = np.round(df_r1[\"Recency3\"], decimals = 2)\n",
        "df_r1 = df_r1[['NomerDonor', 'Recency1', 'Recency3']]"
      ],
      "metadata": {
        "colab": {
          "base_uri": "https://localhost:8080/"
        },
        "id": "Y9Xy2JzqyfFV",
        "outputId": "f94c6a9d-d08b-471e-e093-898274e721d7"
      },
      "execution_count": null,
      "outputs": [
        {
          "output_type": "stream",
          "name": "stderr",
          "text": [
            "/usr/local/lib/python3.7/dist-packages/pandas/util/_decorators.py:311: SettingWithCopyWarning: \n",
            "A value is trying to be set on a copy of a slice from a DataFrame\n",
            "\n",
            "See the caveats in the documentation: https://pandas.pydata.org/pandas-docs/stable/user_guide/indexing.html#returning-a-view-versus-a-copy\n",
            "  return func(*args, **kwargs)\n",
            "/usr/local/lib/python3.7/dist-packages/ipykernel_launcher.py:5: SettingWithCopyWarning: \n",
            "A value is trying to be set on a copy of a slice from a DataFrame.\n",
            "Try using .loc[row_indexer,col_indexer] = value instead\n",
            "\n",
            "See the caveats in the documentation: https://pandas.pydata.org/pandas-docs/stable/user_guide/indexing.html#returning-a-view-versus-a-copy\n",
            "  \"\"\"\n"
          ]
        },
        {
          "output_type": "stream",
          "name": "stdout",
          "text": [
            "time: 475 ms (started: 2022-07-01 08:54:11 +00:00)\n"
          ]
        },
        {
          "output_type": "stream",
          "name": "stderr",
          "text": [
            "/usr/local/lib/python3.7/dist-packages/ipykernel_launcher.py:7: SettingWithCopyWarning: \n",
            "A value is trying to be set on a copy of a slice from a DataFrame.\n",
            "Try using .loc[row_indexer,col_indexer] = value instead\n",
            "\n",
            "See the caveats in the documentation: https://pandas.pydata.org/pandas-docs/stable/user_guide/indexing.html#returning-a-view-versus-a-copy\n",
            "  import sys\n"
          ]
        }
      ]
    },
    {
      "cell_type": "code",
      "source": [
        "df_r1[df_r1['Recency3'] < 240]"
      ],
      "metadata": {
        "colab": {
          "base_uri": "https://localhost:8080/",
          "height": 441
        },
        "id": "p9GOHbvmyfC9",
        "outputId": "8df88ff6-4a97-43c6-a54b-29d88318f34c"
      },
      "execution_count": null,
      "outputs": [
        {
          "output_type": "execute_result",
          "data": {
            "text/plain": [
              "       NomerDonor  Recency1  Recency3\n",
              "23     0020000325       160    232.33\n",
              "26     0020000351       164    231.67\n",
              "31     0020000369       150    219.33\n",
              "37     0020000417       165    235.67\n",
              "43     0020000450       159    218.33\n",
              "...           ...       ...       ...\n",
              "26482  002T182113       164    226.33\n",
              "26486  002T182252       193    224.50\n",
              "26487  002T182263       158    232.67\n",
              "26497  002T182623       152    225.67\n",
              "26498  002T182657       184    216.50\n",
              "\n",
              "[1784 rows x 3 columns]"
            ],
            "text/html": [
              "\n",
              "  <div id=\"df-6f91fe40-7433-44df-adf2-ea30f9b28c77\">\n",
              "    <div class=\"colab-df-container\">\n",
              "      <div>\n",
              "<style scoped>\n",
              "    .dataframe tbody tr th:only-of-type {\n",
              "        vertical-align: middle;\n",
              "    }\n",
              "\n",
              "    .dataframe tbody tr th {\n",
              "        vertical-align: top;\n",
              "    }\n",
              "\n",
              "    .dataframe thead th {\n",
              "        text-align: right;\n",
              "    }\n",
              "</style>\n",
              "<table border=\"1\" class=\"dataframe\">\n",
              "  <thead>\n",
              "    <tr style=\"text-align: right;\">\n",
              "      <th></th>\n",
              "      <th>NomerDonor</th>\n",
              "      <th>Recency1</th>\n",
              "      <th>Recency3</th>\n",
              "    </tr>\n",
              "  </thead>\n",
              "  <tbody>\n",
              "    <tr>\n",
              "      <th>23</th>\n",
              "      <td>0020000325</td>\n",
              "      <td>160</td>\n",
              "      <td>232.33</td>\n",
              "    </tr>\n",
              "    <tr>\n",
              "      <th>26</th>\n",
              "      <td>0020000351</td>\n",
              "      <td>164</td>\n",
              "      <td>231.67</td>\n",
              "    </tr>\n",
              "    <tr>\n",
              "      <th>31</th>\n",
              "      <td>0020000369</td>\n",
              "      <td>150</td>\n",
              "      <td>219.33</td>\n",
              "    </tr>\n",
              "    <tr>\n",
              "      <th>37</th>\n",
              "      <td>0020000417</td>\n",
              "      <td>165</td>\n",
              "      <td>235.67</td>\n",
              "    </tr>\n",
              "    <tr>\n",
              "      <th>43</th>\n",
              "      <td>0020000450</td>\n",
              "      <td>159</td>\n",
              "      <td>218.33</td>\n",
              "    </tr>\n",
              "    <tr>\n",
              "      <th>...</th>\n",
              "      <td>...</td>\n",
              "      <td>...</td>\n",
              "      <td>...</td>\n",
              "    </tr>\n",
              "    <tr>\n",
              "      <th>26482</th>\n",
              "      <td>002T182113</td>\n",
              "      <td>164</td>\n",
              "      <td>226.33</td>\n",
              "    </tr>\n",
              "    <tr>\n",
              "      <th>26486</th>\n",
              "      <td>002T182252</td>\n",
              "      <td>193</td>\n",
              "      <td>224.50</td>\n",
              "    </tr>\n",
              "    <tr>\n",
              "      <th>26487</th>\n",
              "      <td>002T182263</td>\n",
              "      <td>158</td>\n",
              "      <td>232.67</td>\n",
              "    </tr>\n",
              "    <tr>\n",
              "      <th>26497</th>\n",
              "      <td>002T182623</td>\n",
              "      <td>152</td>\n",
              "      <td>225.67</td>\n",
              "    </tr>\n",
              "    <tr>\n",
              "      <th>26498</th>\n",
              "      <td>002T182657</td>\n",
              "      <td>184</td>\n",
              "      <td>216.50</td>\n",
              "    </tr>\n",
              "  </tbody>\n",
              "</table>\n",
              "<p>1784 rows × 3 columns</p>\n",
              "</div>\n",
              "      <button class=\"colab-df-convert\" onclick=\"convertToInteractive('df-6f91fe40-7433-44df-adf2-ea30f9b28c77')\"\n",
              "              title=\"Convert this dataframe to an interactive table.\"\n",
              "              style=\"display:none;\">\n",
              "        \n",
              "  <svg xmlns=\"http://www.w3.org/2000/svg\" height=\"24px\"viewBox=\"0 0 24 24\"\n",
              "       width=\"24px\">\n",
              "    <path d=\"M0 0h24v24H0V0z\" fill=\"none\"/>\n",
              "    <path d=\"M18.56 5.44l.94 2.06.94-2.06 2.06-.94-2.06-.94-.94-2.06-.94 2.06-2.06.94zm-11 1L8.5 8.5l.94-2.06 2.06-.94-2.06-.94L8.5 2.5l-.94 2.06-2.06.94zm10 10l.94 2.06.94-2.06 2.06-.94-2.06-.94-.94-2.06-.94 2.06-2.06.94z\"/><path d=\"M17.41 7.96l-1.37-1.37c-.4-.4-.92-.59-1.43-.59-.52 0-1.04.2-1.43.59L10.3 9.45l-7.72 7.72c-.78.78-.78 2.05 0 2.83L4 21.41c.39.39.9.59 1.41.59.51 0 1.02-.2 1.41-.59l7.78-7.78 2.81-2.81c.8-.78.8-2.07 0-2.86zM5.41 20L4 18.59l7.72-7.72 1.47 1.35L5.41 20z\"/>\n",
              "  </svg>\n",
              "      </button>\n",
              "      \n",
              "  <style>\n",
              "    .colab-df-container {\n",
              "      display:flex;\n",
              "      flex-wrap:wrap;\n",
              "      gap: 12px;\n",
              "    }\n",
              "\n",
              "    .colab-df-convert {\n",
              "      background-color: #E8F0FE;\n",
              "      border: none;\n",
              "      border-radius: 50%;\n",
              "      cursor: pointer;\n",
              "      display: none;\n",
              "      fill: #1967D2;\n",
              "      height: 32px;\n",
              "      padding: 0 0 0 0;\n",
              "      width: 32px;\n",
              "    }\n",
              "\n",
              "    .colab-df-convert:hover {\n",
              "      background-color: #E2EBFA;\n",
              "      box-shadow: 0px 1px 2px rgba(60, 64, 67, 0.3), 0px 1px 3px 1px rgba(60, 64, 67, 0.15);\n",
              "      fill: #174EA6;\n",
              "    }\n",
              "\n",
              "    [theme=dark] .colab-df-convert {\n",
              "      background-color: #3B4455;\n",
              "      fill: #D2E3FC;\n",
              "    }\n",
              "\n",
              "    [theme=dark] .colab-df-convert:hover {\n",
              "      background-color: #434B5C;\n",
              "      box-shadow: 0px 1px 3px 1px rgba(0, 0, 0, 0.15);\n",
              "      filter: drop-shadow(0px 1px 2px rgba(0, 0, 0, 0.3));\n",
              "      fill: #FFFFFF;\n",
              "    }\n",
              "  </style>\n",
              "\n",
              "      <script>\n",
              "        const buttonEl =\n",
              "          document.querySelector('#df-6f91fe40-7433-44df-adf2-ea30f9b28c77 button.colab-df-convert');\n",
              "        buttonEl.style.display =\n",
              "          google.colab.kernel.accessAllowed ? 'block' : 'none';\n",
              "\n",
              "        async function convertToInteractive(key) {\n",
              "          const element = document.querySelector('#df-6f91fe40-7433-44df-adf2-ea30f9b28c77');\n",
              "          const dataTable =\n",
              "            await google.colab.kernel.invokeFunction('convertToInteractive',\n",
              "                                                     [key], {});\n",
              "          if (!dataTable) return;\n",
              "\n",
              "          const docLinkHtml = 'Like what you see? Visit the ' +\n",
              "            '<a target=\"_blank\" href=https://colab.research.google.com/notebooks/data_table.ipynb>data table notebook</a>'\n",
              "            + ' to learn more about interactive tables.';\n",
              "          element.innerHTML = '';\n",
              "          dataTable['output_type'] = 'display_data';\n",
              "          await google.colab.output.renderOutput(dataTable, element);\n",
              "          const docLink = document.createElement('div');\n",
              "          docLink.innerHTML = docLinkHtml;\n",
              "          element.appendChild(docLink);\n",
              "        }\n",
              "      </script>\n",
              "    </div>\n",
              "  </div>\n",
              "  "
            ]
          },
          "metadata": {},
          "execution_count": 80
        },
        {
          "output_type": "stream",
          "name": "stdout",
          "text": [
            "time: 18.4 ms (started: 2022-07-01 09:05:54 +00:00)\n"
          ]
        }
      ]
    },
    {
      "cell_type": "code",
      "source": [
        "df_r1.Recency3.quantile([0.1,0.5,0.75])"
      ],
      "metadata": {
        "id": "tT8HTYOjyfAj"
      },
      "execution_count": null,
      "outputs": []
    },
    {
      "cell_type": "code",
      "source": [],
      "metadata": {
        "id": "o9Wo4D0Uye95"
      },
      "execution_count": null,
      "outputs": []
    },
    {
      "cell_type": "code",
      "source": [],
      "metadata": {
        "id": "c0KHwkOxye7h"
      },
      "execution_count": null,
      "outputs": []
    },
    {
      "cell_type": "code",
      "execution_count": null,
      "metadata": {
        "id": "gvoKj2mx2mif"
      },
      "outputs": [],
      "source": [
        "import pandas as pd\n",
        " \n",
        "# initialise data of lists.\n",
        "data = {'Name':[20, 10, 15, 10], 'Age':[20, 21, 19, 18]}\n",
        " \n",
        "# Create DataFrame\n",
        "df = pd.DataFrame(data)"
      ]
    },
    {
      "cell_type": "code",
      "execution_count": null,
      "metadata": {
        "colab": {
          "base_uri": "https://localhost:8080/",
          "height": 175
        },
        "id": "DDN_6NDL2mdo",
        "outputId": "e50b8bd1-acc2-4ba4-8f50-75841bcb9ec5"
      },
      "outputs": [
        {
          "data": {
            "text/html": [
              "\n",
              "  <div id=\"df-bae64054-e37a-4370-aa05-58679a478160\">\n",
              "    <div class=\"colab-df-container\">\n",
              "      <div>\n",
              "<style scoped>\n",
              "    .dataframe tbody tr th:only-of-type {\n",
              "        vertical-align: middle;\n",
              "    }\n",
              "\n",
              "    .dataframe tbody tr th {\n",
              "        vertical-align: top;\n",
              "    }\n",
              "\n",
              "    .dataframe thead th {\n",
              "        text-align: right;\n",
              "    }\n",
              "</style>\n",
              "<table border=\"1\" class=\"dataframe\">\n",
              "  <thead>\n",
              "    <tr style=\"text-align: right;\">\n",
              "      <th></th>\n",
              "      <th>Name</th>\n",
              "      <th>Age</th>\n",
              "      <th>hasil</th>\n",
              "    </tr>\n",
              "  </thead>\n",
              "  <tbody>\n",
              "    <tr>\n",
              "      <th>0</th>\n",
              "      <td>20</td>\n",
              "      <td>20</td>\n",
              "      <td>200.0</td>\n",
              "    </tr>\n",
              "    <tr>\n",
              "      <th>1</th>\n",
              "      <td>10</td>\n",
              "      <td>21</td>\n",
              "      <td>105.0</td>\n",
              "    </tr>\n",
              "    <tr>\n",
              "      <th>2</th>\n",
              "      <td>15</td>\n",
              "      <td>19</td>\n",
              "      <td>142.5</td>\n",
              "    </tr>\n",
              "    <tr>\n",
              "      <th>3</th>\n",
              "      <td>10</td>\n",
              "      <td>18</td>\n",
              "      <td>90.0</td>\n",
              "    </tr>\n",
              "  </tbody>\n",
              "</table>\n",
              "</div>\n",
              "      <button class=\"colab-df-convert\" onclick=\"convertToInteractive('df-bae64054-e37a-4370-aa05-58679a478160')\"\n",
              "              title=\"Convert this dataframe to an interactive table.\"\n",
              "              style=\"display:none;\">\n",
              "        \n",
              "  <svg xmlns=\"http://www.w3.org/2000/svg\" height=\"24px\"viewBox=\"0 0 24 24\"\n",
              "       width=\"24px\">\n",
              "    <path d=\"M0 0h24v24H0V0z\" fill=\"none\"/>\n",
              "    <path d=\"M18.56 5.44l.94 2.06.94-2.06 2.06-.94-2.06-.94-.94-2.06-.94 2.06-2.06.94zm-11 1L8.5 8.5l.94-2.06 2.06-.94-2.06-.94L8.5 2.5l-.94 2.06-2.06.94zm10 10l.94 2.06.94-2.06 2.06-.94-2.06-.94-.94-2.06-.94 2.06-2.06.94z\"/><path d=\"M17.41 7.96l-1.37-1.37c-.4-.4-.92-.59-1.43-.59-.52 0-1.04.2-1.43.59L10.3 9.45l-7.72 7.72c-.78.78-.78 2.05 0 2.83L4 21.41c.39.39.9.59 1.41.59.51 0 1.02-.2 1.41-.59l7.78-7.78 2.81-2.81c.8-.78.8-2.07 0-2.86zM5.41 20L4 18.59l7.72-7.72 1.47 1.35L5.41 20z\"/>\n",
              "  </svg>\n",
              "      </button>\n",
              "      \n",
              "  <style>\n",
              "    .colab-df-container {\n",
              "      display:flex;\n",
              "      flex-wrap:wrap;\n",
              "      gap: 12px;\n",
              "    }\n",
              "\n",
              "    .colab-df-convert {\n",
              "      background-color: #E8F0FE;\n",
              "      border: none;\n",
              "      border-radius: 50%;\n",
              "      cursor: pointer;\n",
              "      display: none;\n",
              "      fill: #1967D2;\n",
              "      height: 32px;\n",
              "      padding: 0 0 0 0;\n",
              "      width: 32px;\n",
              "    }\n",
              "\n",
              "    .colab-df-convert:hover {\n",
              "      background-color: #E2EBFA;\n",
              "      box-shadow: 0px 1px 2px rgba(60, 64, 67, 0.3), 0px 1px 3px 1px rgba(60, 64, 67, 0.15);\n",
              "      fill: #174EA6;\n",
              "    }\n",
              "\n",
              "    [theme=dark] .colab-df-convert {\n",
              "      background-color: #3B4455;\n",
              "      fill: #D2E3FC;\n",
              "    }\n",
              "\n",
              "    [theme=dark] .colab-df-convert:hover {\n",
              "      background-color: #434B5C;\n",
              "      box-shadow: 0px 1px 3px 1px rgba(0, 0, 0, 0.15);\n",
              "      filter: drop-shadow(0px 1px 2px rgba(0, 0, 0, 0.3));\n",
              "      fill: #FFFFFF;\n",
              "    }\n",
              "  </style>\n",
              "\n",
              "      <script>\n",
              "        const buttonEl =\n",
              "          document.querySelector('#df-bae64054-e37a-4370-aa05-58679a478160 button.colab-df-convert');\n",
              "        buttonEl.style.display =\n",
              "          google.colab.kernel.accessAllowed ? 'block' : 'none';\n",
              "\n",
              "        async function convertToInteractive(key) {\n",
              "          const element = document.querySelector('#df-bae64054-e37a-4370-aa05-58679a478160');\n",
              "          const dataTable =\n",
              "            await google.colab.kernel.invokeFunction('convertToInteractive',\n",
              "                                                     [key], {});\n",
              "          if (!dataTable) return;\n",
              "\n",
              "          const docLinkHtml = 'Like what you see? Visit the ' +\n",
              "            '<a target=\"_blank\" href=https://colab.research.google.com/notebooks/data_table.ipynb>data table notebook</a>'\n",
              "            + ' to learn more about interactive tables.';\n",
              "          element.innerHTML = '';\n",
              "          dataTable['output_type'] = 'display_data';\n",
              "          await google.colab.output.renderOutput(dataTable, element);\n",
              "          const docLink = document.createElement('div');\n",
              "          docLink.innerHTML = docLinkHtml;\n",
              "          element.appendChild(docLink);\n",
              "        }\n",
              "      </script>\n",
              "    </div>\n",
              "  </div>\n",
              "  "
            ],
            "text/plain": [
              "   Name  Age  hasil\n",
              "0    20   20  200.0\n",
              "1    10   21  105.0\n",
              "2    15   19  142.5\n",
              "3    10   18   90.0"
            ]
          },
          "execution_count": 8,
          "metadata": {},
          "output_type": "execute_result"
        }
      ],
      "source": [
        "df"
      ]
    },
    {
      "cell_type": "code",
      "execution_count": null,
      "metadata": {
        "id": "YXw0Vins2mah"
      },
      "outputs": [],
      "source": [
        "df['Lebih'] = 1"
      ]
    },
    {
      "cell_type": "code",
      "execution_count": null,
      "metadata": {
        "colab": {
          "base_uri": "https://localhost:8080/"
        },
        "id": "1Za__TF_dLG5",
        "outputId": "47a6ba62-e782-4231-bf2f-c59e79633437"
      },
      "outputs": [
        {
          "name": "stderr",
          "output_type": "stream",
          "text": [
            "/usr/local/lib/python3.7/dist-packages/ipykernel_launcher.py:1: SettingWithCopyWarning: \n",
            "A value is trying to be set on a copy of a slice from a DataFrame.\n",
            "Try using .loc[row_indexer,col_indexer] = value instead\n",
            "\n",
            "See the caveats in the documentation: https://pandas.pydata.org/pandas-docs/stable/user_guide/indexing.html#returning-a-view-versus-a-copy\n",
            "  \"\"\"Entry point for launching an IPython kernel.\n"
          ]
        }
      ],
      "source": [
        "df[df.hasil < 100]['Lebih'] = 0"
      ]
    },
    {
      "cell_type": "code",
      "execution_count": null,
      "metadata": {
        "colab": {
          "base_uri": "https://localhost:8080/",
          "height": 175
        },
        "id": "9_C2Hrt12mXs",
        "outputId": "a5a89c40-4fd7-459d-bba3-71b695eb5a33"
      },
      "outputs": [
        {
          "data": {
            "text/html": [
              "\n",
              "  <div id=\"df-93839d39-939d-4aa1-8304-4939433d2db9\">\n",
              "    <div class=\"colab-df-container\">\n",
              "      <div>\n",
              "<style scoped>\n",
              "    .dataframe tbody tr th:only-of-type {\n",
              "        vertical-align: middle;\n",
              "    }\n",
              "\n",
              "    .dataframe tbody tr th {\n",
              "        vertical-align: top;\n",
              "    }\n",
              "\n",
              "    .dataframe thead th {\n",
              "        text-align: right;\n",
              "    }\n",
              "</style>\n",
              "<table border=\"1\" class=\"dataframe\">\n",
              "  <thead>\n",
              "    <tr style=\"text-align: right;\">\n",
              "      <th></th>\n",
              "      <th>Name</th>\n",
              "      <th>Age</th>\n",
              "      <th>hasil</th>\n",
              "      <th>Lebih</th>\n",
              "      <th>lebih</th>\n",
              "      <th>lebihh</th>\n",
              "      <th>akhir</th>\n",
              "    </tr>\n",
              "  </thead>\n",
              "  <tbody>\n",
              "    <tr>\n",
              "      <th>0</th>\n",
              "      <td>20</td>\n",
              "      <td>20</td>\n",
              "      <td>200.0</td>\n",
              "      <td>5</td>\n",
              "      <td>4400.0</td>\n",
              "      <td>200</td>\n",
              "      <td>220.0</td>\n",
              "    </tr>\n",
              "    <tr>\n",
              "      <th>1</th>\n",
              "      <td>10</td>\n",
              "      <td>21</td>\n",
              "      <td>105.0</td>\n",
              "      <td>5</td>\n",
              "      <td>1260.0</td>\n",
              "      <td>210</td>\n",
              "      <td>378.0</td>\n",
              "    </tr>\n",
              "    <tr>\n",
              "      <th>2</th>\n",
              "      <td>15</td>\n",
              "      <td>19</td>\n",
              "      <td>142.5</td>\n",
              "      <td>5</td>\n",
              "      <td>2422.5</td>\n",
              "      <td>190</td>\n",
              "      <td>0.0</td>\n",
              "    </tr>\n",
              "    <tr>\n",
              "      <th>3</th>\n",
              "      <td>10</td>\n",
              "      <td>18</td>\n",
              "      <td>90.0</td>\n",
              "      <td>0</td>\n",
              "      <td>0.0</td>\n",
              "      <td>180</td>\n",
              "      <td>0.0</td>\n",
              "    </tr>\n",
              "  </tbody>\n",
              "</table>\n",
              "</div>\n",
              "      <button class=\"colab-df-convert\" onclick=\"convertToInteractive('df-93839d39-939d-4aa1-8304-4939433d2db9')\"\n",
              "              title=\"Convert this dataframe to an interactive table.\"\n",
              "              style=\"display:none;\">\n",
              "        \n",
              "  <svg xmlns=\"http://www.w3.org/2000/svg\" height=\"24px\"viewBox=\"0 0 24 24\"\n",
              "       width=\"24px\">\n",
              "    <path d=\"M0 0h24v24H0V0z\" fill=\"none\"/>\n",
              "    <path d=\"M18.56 5.44l.94 2.06.94-2.06 2.06-.94-2.06-.94-.94-2.06-.94 2.06-2.06.94zm-11 1L8.5 8.5l.94-2.06 2.06-.94-2.06-.94L8.5 2.5l-.94 2.06-2.06.94zm10 10l.94 2.06.94-2.06 2.06-.94-2.06-.94-.94-2.06-.94 2.06-2.06.94z\"/><path d=\"M17.41 7.96l-1.37-1.37c-.4-.4-.92-.59-1.43-.59-.52 0-1.04.2-1.43.59L10.3 9.45l-7.72 7.72c-.78.78-.78 2.05 0 2.83L4 21.41c.39.39.9.59 1.41.59.51 0 1.02-.2 1.41-.59l7.78-7.78 2.81-2.81c.8-.78.8-2.07 0-2.86zM5.41 20L4 18.59l7.72-7.72 1.47 1.35L5.41 20z\"/>\n",
              "  </svg>\n",
              "      </button>\n",
              "      \n",
              "  <style>\n",
              "    .colab-df-container {\n",
              "      display:flex;\n",
              "      flex-wrap:wrap;\n",
              "      gap: 12px;\n",
              "    }\n",
              "\n",
              "    .colab-df-convert {\n",
              "      background-color: #E8F0FE;\n",
              "      border: none;\n",
              "      border-radius: 50%;\n",
              "      cursor: pointer;\n",
              "      display: none;\n",
              "      fill: #1967D2;\n",
              "      height: 32px;\n",
              "      padding: 0 0 0 0;\n",
              "      width: 32px;\n",
              "    }\n",
              "\n",
              "    .colab-df-convert:hover {\n",
              "      background-color: #E2EBFA;\n",
              "      box-shadow: 0px 1px 2px rgba(60, 64, 67, 0.3), 0px 1px 3px 1px rgba(60, 64, 67, 0.15);\n",
              "      fill: #174EA6;\n",
              "    }\n",
              "\n",
              "    [theme=dark] .colab-df-convert {\n",
              "      background-color: #3B4455;\n",
              "      fill: #D2E3FC;\n",
              "    }\n",
              "\n",
              "    [theme=dark] .colab-df-convert:hover {\n",
              "      background-color: #434B5C;\n",
              "      box-shadow: 0px 1px 3px 1px rgba(0, 0, 0, 0.15);\n",
              "      filter: drop-shadow(0px 1px 2px rgba(0, 0, 0, 0.3));\n",
              "      fill: #FFFFFF;\n",
              "    }\n",
              "  </style>\n",
              "\n",
              "      <script>\n",
              "        const buttonEl =\n",
              "          document.querySelector('#df-93839d39-939d-4aa1-8304-4939433d2db9 button.colab-df-convert');\n",
              "        buttonEl.style.display =\n",
              "          google.colab.kernel.accessAllowed ? 'block' : 'none';\n",
              "\n",
              "        async function convertToInteractive(key) {\n",
              "          const element = document.querySelector('#df-93839d39-939d-4aa1-8304-4939433d2db9');\n",
              "          const dataTable =\n",
              "            await google.colab.kernel.invokeFunction('convertToInteractive',\n",
              "                                                     [key], {});\n",
              "          if (!dataTable) return;\n",
              "\n",
              "          const docLinkHtml = 'Like what you see? Visit the ' +\n",
              "            '<a target=\"_blank\" href=https://colab.research.google.com/notebooks/data_table.ipynb>data table notebook</a>'\n",
              "            + ' to learn more about interactive tables.';\n",
              "          element.innerHTML = '';\n",
              "          dataTable['output_type'] = 'display_data';\n",
              "          await google.colab.output.renderOutput(dataTable, element);\n",
              "          const docLink = document.createElement('div');\n",
              "          docLink.innerHTML = docLinkHtml;\n",
              "          element.appendChild(docLink);\n",
              "        }\n",
              "      </script>\n",
              "    </div>\n",
              "  </div>\n",
              "  "
            ],
            "text/plain": [
              "   Name  Age  hasil  Lebih   lebih  lebihh  akhir\n",
              "0    20   20  200.0      5  4400.0     200  220.0\n",
              "1    10   21  105.0      5  1260.0     210  378.0\n",
              "2    15   19  142.5      5  2422.5     190    0.0\n",
              "3    10   18   90.0      0     0.0     180    0.0"
            ]
          },
          "execution_count": 54,
          "metadata": {},
          "output_type": "execute_result"
        }
      ],
      "source": [
        "df"
      ]
    },
    {
      "cell_type": "code",
      "execution_count": null,
      "metadata": {
        "id": "s28ba7MQ2mU9"
      },
      "outputs": [],
      "source": [
        "df.loc[(df['Lebih'] == 0) & (df['lebihh'] >= 200), 'akhir'] = (df['hasil']+df['Age'])*3\n",
        "df.loc[(df['Lebih'] == 1) & (df['lebihh'] >= 200), 'akhir'] = (df['hasil']+df['Age'])*1"
      ]
    },
    {
      "cell_type": "code",
      "execution_count": null,
      "metadata": {
        "id": "RTuD7A1m2mSD"
      },
      "outputs": [],
      "source": [
        "df.loc[df['hasil'] < df['lebih'], 'Lebih'] = 5"
      ]
    },
    {
      "cell_type": "code",
      "execution_count": null,
      "metadata": {
        "id": "AdO1pkzN2mPZ"
      },
      "outputs": [],
      "source": [
        "df = df.drop(columns=['akhir'])"
      ]
    },
    {
      "cell_type": "code",
      "execution_count": null,
      "metadata": {
        "id": "NZyhRr0K2mMn"
      },
      "outputs": [],
      "source": [
        "data = {'Name':[20, 10], 'Age':[20, 21]}\n",
        "data = pd.DataFrame(data)"
      ]
    },
    {
      "cell_type": "code",
      "execution_count": null,
      "metadata": {
        "id": "Ir-tKu1p2mJ9"
      },
      "outputs": [],
      "source": [
        "df1 = pd.concat([df, data]).drop_duplicates(subset=['Name', 'Age'], keep=False)"
      ]
    },
    {
      "cell_type": "code",
      "execution_count": null,
      "metadata": {
        "colab": {
          "base_uri": "https://localhost:8080/",
          "height": 112
        },
        "id": "ndfjwjNh2mHL",
        "outputId": "f298aa20-3d73-451b-f9a0-9cd8b0d6adb8"
      },
      "outputs": [
        {
          "data": {
            "text/html": [
              "\n",
              "  <div id=\"df-2f024544-4d0c-49a7-a978-3f0c0b785feb\">\n",
              "    <div class=\"colab-df-container\">\n",
              "      <div>\n",
              "<style scoped>\n",
              "    .dataframe tbody tr th:only-of-type {\n",
              "        vertical-align: middle;\n",
              "    }\n",
              "\n",
              "    .dataframe tbody tr th {\n",
              "        vertical-align: top;\n",
              "    }\n",
              "\n",
              "    .dataframe thead th {\n",
              "        text-align: right;\n",
              "    }\n",
              "</style>\n",
              "<table border=\"1\" class=\"dataframe\">\n",
              "  <thead>\n",
              "    <tr style=\"text-align: right;\">\n",
              "      <th></th>\n",
              "      <th>Name</th>\n",
              "      <th>Age</th>\n",
              "      <th>hasil</th>\n",
              "      <th>Lebih</th>\n",
              "      <th>lebih</th>\n",
              "      <th>lebihh</th>\n",
              "      <th>akhir</th>\n",
              "    </tr>\n",
              "  </thead>\n",
              "  <tbody>\n",
              "    <tr>\n",
              "      <th>2</th>\n",
              "      <td>15</td>\n",
              "      <td>19</td>\n",
              "      <td>142.5</td>\n",
              "      <td>5.0</td>\n",
              "      <td>2422.5</td>\n",
              "      <td>190.0</td>\n",
              "      <td>0.0</td>\n",
              "    </tr>\n",
              "    <tr>\n",
              "      <th>3</th>\n",
              "      <td>10</td>\n",
              "      <td>18</td>\n",
              "      <td>90.0</td>\n",
              "      <td>0.0</td>\n",
              "      <td>0.0</td>\n",
              "      <td>180.0</td>\n",
              "      <td>0.0</td>\n",
              "    </tr>\n",
              "  </tbody>\n",
              "</table>\n",
              "</div>\n",
              "      <button class=\"colab-df-convert\" onclick=\"convertToInteractive('df-2f024544-4d0c-49a7-a978-3f0c0b785feb')\"\n",
              "              title=\"Convert this dataframe to an interactive table.\"\n",
              "              style=\"display:none;\">\n",
              "        \n",
              "  <svg xmlns=\"http://www.w3.org/2000/svg\" height=\"24px\"viewBox=\"0 0 24 24\"\n",
              "       width=\"24px\">\n",
              "    <path d=\"M0 0h24v24H0V0z\" fill=\"none\"/>\n",
              "    <path d=\"M18.56 5.44l.94 2.06.94-2.06 2.06-.94-2.06-.94-.94-2.06-.94 2.06-2.06.94zm-11 1L8.5 8.5l.94-2.06 2.06-.94-2.06-.94L8.5 2.5l-.94 2.06-2.06.94zm10 10l.94 2.06.94-2.06 2.06-.94-2.06-.94-.94-2.06-.94 2.06-2.06.94z\"/><path d=\"M17.41 7.96l-1.37-1.37c-.4-.4-.92-.59-1.43-.59-.52 0-1.04.2-1.43.59L10.3 9.45l-7.72 7.72c-.78.78-.78 2.05 0 2.83L4 21.41c.39.39.9.59 1.41.59.51 0 1.02-.2 1.41-.59l7.78-7.78 2.81-2.81c.8-.78.8-2.07 0-2.86zM5.41 20L4 18.59l7.72-7.72 1.47 1.35L5.41 20z\"/>\n",
              "  </svg>\n",
              "      </button>\n",
              "      \n",
              "  <style>\n",
              "    .colab-df-container {\n",
              "      display:flex;\n",
              "      flex-wrap:wrap;\n",
              "      gap: 12px;\n",
              "    }\n",
              "\n",
              "    .colab-df-convert {\n",
              "      background-color: #E8F0FE;\n",
              "      border: none;\n",
              "      border-radius: 50%;\n",
              "      cursor: pointer;\n",
              "      display: none;\n",
              "      fill: #1967D2;\n",
              "      height: 32px;\n",
              "      padding: 0 0 0 0;\n",
              "      width: 32px;\n",
              "    }\n",
              "\n",
              "    .colab-df-convert:hover {\n",
              "      background-color: #E2EBFA;\n",
              "      box-shadow: 0px 1px 2px rgba(60, 64, 67, 0.3), 0px 1px 3px 1px rgba(60, 64, 67, 0.15);\n",
              "      fill: #174EA6;\n",
              "    }\n",
              "\n",
              "    [theme=dark] .colab-df-convert {\n",
              "      background-color: #3B4455;\n",
              "      fill: #D2E3FC;\n",
              "    }\n",
              "\n",
              "    [theme=dark] .colab-df-convert:hover {\n",
              "      background-color: #434B5C;\n",
              "      box-shadow: 0px 1px 3px 1px rgba(0, 0, 0, 0.15);\n",
              "      filter: drop-shadow(0px 1px 2px rgba(0, 0, 0, 0.3));\n",
              "      fill: #FFFFFF;\n",
              "    }\n",
              "  </style>\n",
              "\n",
              "      <script>\n",
              "        const buttonEl =\n",
              "          document.querySelector('#df-2f024544-4d0c-49a7-a978-3f0c0b785feb button.colab-df-convert');\n",
              "        buttonEl.style.display =\n",
              "          google.colab.kernel.accessAllowed ? 'block' : 'none';\n",
              "\n",
              "        async function convertToInteractive(key) {\n",
              "          const element = document.querySelector('#df-2f024544-4d0c-49a7-a978-3f0c0b785feb');\n",
              "          const dataTable =\n",
              "            await google.colab.kernel.invokeFunction('convertToInteractive',\n",
              "                                                     [key], {});\n",
              "          if (!dataTable) return;\n",
              "\n",
              "          const docLinkHtml = 'Like what you see? Visit the ' +\n",
              "            '<a target=\"_blank\" href=https://colab.research.google.com/notebooks/data_table.ipynb>data table notebook</a>'\n",
              "            + ' to learn more about interactive tables.';\n",
              "          element.innerHTML = '';\n",
              "          dataTable['output_type'] = 'display_data';\n",
              "          await google.colab.output.renderOutput(dataTable, element);\n",
              "          const docLink = document.createElement('div');\n",
              "          docLink.innerHTML = docLinkHtml;\n",
              "          element.appendChild(docLink);\n",
              "        }\n",
              "      </script>\n",
              "    </div>\n",
              "  </div>\n",
              "  "
            ],
            "text/plain": [
              "   Name  Age  hasil  Lebih   lebih  lebihh  akhir\n",
              "2    15   19  142.5    5.0  2422.5   190.0    0.0\n",
              "3    10   18   90.0    0.0     0.0   180.0    0.0"
            ]
          },
          "execution_count": 70,
          "metadata": {},
          "output_type": "execute_result"
        }
      ],
      "source": [
        "df1"
      ]
    },
    {
      "cell_type": "code",
      "execution_count": null,
      "metadata": {
        "id": "EAP0BvdN2mEt"
      },
      "outputs": [],
      "source": []
    },
    {
      "cell_type": "code",
      "execution_count": null,
      "metadata": {
        "id": "sltXRpDn2mCh"
      },
      "outputs": [],
      "source": []
    },
    {
      "cell_type": "code",
      "execution_count": null,
      "metadata": {
        "id": "nPnhjDFL2l9f"
      },
      "outputs": [],
      "source": []
    },
    {
      "cell_type": "code",
      "execution_count": null,
      "metadata": {
        "id": "nLT6hOEJ2l7B"
      },
      "outputs": [],
      "source": []
    },
    {
      "cell_type": "markdown",
      "metadata": {
        "id": "7St2wg2Urj7n"
      },
      "source": [
        "### ann + 10% rbc --------------------------------------------------------------------------------"
      ]
    },
    {
      "cell_type": "markdown",
      "metadata": {
        "id": "wt-Gyuforj7n"
      },
      "source": [
        "#### _ before corona (2015-2019)"
      ]
    },
    {
      "cell_type": "markdown",
      "metadata": {
        "id": "mLGpblddrj7o"
      },
      "source": [
        "##### --- read df"
      ]
    },
    {
      "cell_type": "markdown",
      "metadata": {
        "id": "MXz_UDMarj7o"
      },
      "source": [
        "###### - - - df"
      ]
    },
    {
      "cell_type": "code",
      "execution_count": null,
      "metadata": {
        "id": "ISS_6U9urj7o"
      },
      "outputs": [],
      "source": [
        "jenis = ['Triple', 'Quadruple', 'Single', 'Double Besar']"
      ]
    },
    {
      "cell_type": "code",
      "execution_count": null,
      "metadata": {
        "id": "1oJZ_GMxrj7o"
      },
      "outputs": [],
      "source": [
        "import pandas as pd\n",
        "df = pd.read_csv('d15-19.csv')\n",
        "df.JenisKantong = df.JenisKantong.str.title()\n",
        "df = df[df['JenisKantong'].isin(jenis)]"
      ]
    },
    {
      "cell_type": "code",
      "execution_count": null,
      "metadata": {
        "id": "QDX7PmY0rj7o"
      },
      "outputs": [],
      "source": [
        "d22 = df.loc[(df['TanggalDonor'] > '2019-11-30 11:59:59.999')]\n",
        "d22 = d22.loc[(d22['Lokasi'] == 'UTD PMI SURABAYA')]"
      ]
    },
    {
      "cell_type": "code",
      "execution_count": null,
      "metadata": {
        "id": "AqHTOHTmrj7o"
      },
      "outputs": [],
      "source": [
        "df = df.loc[(df['TanggalDonor'] <= '2019-11-30 11:59:59.999')]"
      ]
    },
    {
      "cell_type": "code",
      "execution_count": null,
      "metadata": {
        "id": "iJMyl2X7rj7o"
      },
      "outputs": [],
      "source": [
        "d22 = d22[d22.NomerDonor.isin(df.NomerDonor)]"
      ]
    },
    {
      "cell_type": "markdown",
      "metadata": {
        "id": "Ncc3pfhGrj7o"
      },
      "source": [
        "###### - - - test"
      ]
    },
    {
      "cell_type": "code",
      "execution_count": null,
      "metadata": {
        "id": "DctN7nHerj7o"
      },
      "outputs": [],
      "source": [
        "jenis = ['Triple', 'Quadruple', 'Single', 'Double Besar']"
      ]
    },
    {
      "cell_type": "code",
      "execution_count": null,
      "metadata": {
        "id": "h-pjM5l6rj7p"
      },
      "outputs": [],
      "source": [
        "import pandas as pd\n",
        "test = pd.read_csv('d15-19.csv')\n",
        "test.JenisKantong = test.JenisKantong.str.title()\n",
        "test = test[test['JenisKantong'].isin(jenis)]"
      ]
    },
    {
      "cell_type": "code",
      "execution_count": null,
      "metadata": {
        "id": "9I7Q0CWxrj7p"
      },
      "outputs": [],
      "source": [
        "test.JenisKantong.unique()"
      ]
    },
    {
      "cell_type": "markdown",
      "metadata": {
        "id": "gIsWVlOlrj7p"
      },
      "source": [
        "##### --- data training"
      ]
    },
    {
      "cell_type": "code",
      "execution_count": null,
      "metadata": {
        "id": "mUyzjjl-rj7p"
      },
      "outputs": [],
      "source": [
        "import pandas as pd\n",
        "dm = pd.read_csv('dummy ann updated.csv')"
      ]
    },
    {
      "cell_type": "code",
      "execution_count": null,
      "metadata": {
        "id": "3bNyDAURrj7p"
      },
      "outputs": [],
      "source": [
        "dm = dm.fillna(0)"
      ]
    },
    {
      "cell_type": "code",
      "execution_count": null,
      "metadata": {
        "id": "JcUhe1bqrj7q"
      },
      "outputs": [],
      "source": [
        "ctest = pd.read_csv('rbc untuk ann.csv')\n",
        "# merged = pd.merge(test, ctest, on=['NomerDonor'], how='left').fillna(0)"
      ]
    },
    {
      "cell_type": "code",
      "execution_count": null,
      "metadata": {
        "id": "ei1FntXHfgFD"
      },
      "outputs": [],
      "source": [
        "t = ctest"
      ]
    },
    {
      "cell_type": "code",
      "execution_count": null,
      "metadata": {
        "id": "i-f42H1AfpWR"
      },
      "outputs": [],
      "source": [
        "def preproc(df):\n",
        "  df['TanggalDonor']= pd.to_datetime(df['TanggalDonor'])\n",
        "  months = df[\"TanggalDonor\"].dt.year * 12 + df[\"TanggalDonor\"].dt.month  # series\n",
        "  df[\"Bulan\"] = months - min(months) + 1\n",
        "  df = df.loc[(df['Bulan'] >= df.Bulan.max()-59) & (df['Bulan'] <= df.Bulan.max())]\n",
        "    # print(df.Bulan.max())\n",
        "  # df['Bulan'] = df['Bulan']-48\n",
        "  ndf=df[['NomerDonor']].join(pd.get_dummies(df['Bulan'])).groupby('NomerDonor').max()\n",
        "  if df.Bulan.max() <60:\n",
        "    ndf.insert(0, 'a1', 0)\n",
        "  return ndf"
      ]
    },
    {
      "cell_type": "code",
      "execution_count": null,
      "metadata": {
        "id": "qwlQetN5rj7q"
      },
      "outputs": [],
      "source": [
        "ctest = preproc(ctest)"
      ]
    },
    {
      "cell_type": "code",
      "execution_count": null,
      "metadata": {
        "id": "3j9VzPjHfuu1"
      },
      "outputs": [],
      "source": [
        "ctest.rename(columns={ctest.columns[0]: 'a1', ctest.columns[1]: 'a2', ctest.columns[2]: 'a3'\n",
        ", ctest.columns[3]: 'a4', ctest.columns[4]: 'a5', ctest.columns[5]: 'a6', ctest.columns[6]: 'a7'\n",
        ", ctest.columns[7]: 'a8', ctest.columns[8]: 'a9', ctest.columns[9]: 'a10', ctest.columns[10]: 'a11'\n",
        ", ctest.columns[11]: 'a12', ctest.columns[12]: 'b1', ctest.columns[13]: 'b2', ctest.columns[14]: 'b3'\n",
        ", ctest.columns[15]: 'b4', ctest.columns[16]: 'b5', ctest.columns[17]: 'b6', ctest.columns[18]: 'b7'\n",
        ", ctest.columns[19]: 'b8', ctest.columns[20]: 'b9', ctest.columns[21]: 'b10', ctest.columns[22]: 'b11'\n",
        ", ctest.columns[23]: 'b12', ctest.columns[24]: 'c1', ctest.columns[25]: 'c2', ctest.columns[26]: 'c3'\n",
        ", ctest.columns[27]: 'c4', ctest.columns[28]: 'c5', ctest.columns[29]: 'c6', ctest.columns[30]: 'c7'\n",
        ", ctest.columns[31]: 'c8', ctest.columns[32]: 'c9', ctest.columns[33]: 'c10', ctest.columns[34]: 'c11'\n",
        ", ctest.columns[35]: 'c12', ctest.columns[36]: 'd1', ctest.columns[37]: 'd2', ctest.columns[38]: 'd3'\n",
        ", ctest.columns[39]: 'd4', ctest.columns[40]: 'd5', ctest.columns[41]: 'd6', ctest.columns[42]: 'd7'\n",
        ", ctest.columns[43]: 'd8', ctest.columns[44]: 'd9', ctest.columns[45]: 'd10', ctest.columns[46]: 'd11'\n",
        ", ctest.columns[47]: 'd12', ctest.columns[48]: 'e1', ctest.columns[49]: 'e2', ctest.columns[50]: 'e3'\n",
        ", ctest.columns[51]: 'e4', ctest.columns[52]: 'e5', ctest.columns[53]: 'e6', ctest.columns[54]: 'e7'\n",
        ", ctest.columns[55]: 'e8', ctest.columns[56]: 'e9', ctest.columns[57]: 'e10', ctest.columns[58]: 'e11'\n",
        ", ctest.columns[59]: 'e12'},inplace=True)"
      ]
    },
    {
      "cell_type": "code",
      "execution_count": null,
      "metadata": {
        "id": "jdJqVRUGgLRN"
      },
      "outputs": [],
      "source": [
        "ctest['NomerDonor'] = ctest.index\n",
        "ctest = ctest.reset_index(drop=True)"
      ]
    },
    {
      "cell_type": "code",
      "execution_count": null,
      "metadata": {
        "id": "-dVM8Kerg3Hq"
      },
      "outputs": [],
      "source": [
        "t = t[['NomerDonor', 'Category']]"
      ]
    },
    {
      "cell_type": "code",
      "execution_count": null,
      "metadata": {
        "id": "dGv5thq2gYky"
      },
      "outputs": [],
      "source": [
        "testt = pd.merge(ctest, t, on=['NomerDonor'], how='inner')\n",
        "testt = testt.drop_duplicates()\n",
        "testt = testt.drop(['NomerDonor'], axis=1)"
      ]
    },
    {
      "cell_type": "code",
      "execution_count": null,
      "metadata": {
        "id": "amJ-mA74iMBo"
      },
      "outputs": [],
      "source": [
        "sample = testt.sample(frac=0.1, random_state=1)"
      ]
    },
    {
      "cell_type": "code",
      "execution_count": null,
      "metadata": {
        "id": "MKln_XCrnB7R"
      },
      "outputs": [],
      "source": [
        "sample"
      ]
    },
    {
      "cell_type": "code",
      "execution_count": null,
      "metadata": {
        "id": "mvUhbBcfnegM"
      },
      "outputs": [],
      "source": [
        "dm = dm.merge(sample, how='outer')"
      ]
    },
    {
      "cell_type": "code",
      "execution_count": null,
      "metadata": {
        "id": "p5V9JZRRpJ_E"
      },
      "outputs": [],
      "source": [
        "y = dm.Category\n",
        "x = dm.drop(columns='Category')"
      ]
    },
    {
      "cell_type": "code",
      "execution_count": null,
      "metadata": {
        "id": "CJVqG9e3nWbz"
      },
      "outputs": [],
      "source": [
        "from sklearn.preprocessing import OneHotEncoder\n",
        "\n",
        "y = OneHotEncoder(sparse=False)\n",
        "y = y.fit_transform(dm[['Category']])\n",
        "test_y = pd.DataFrame(y)"
      ]
    },
    {
      "cell_type": "code",
      "execution_count": null,
      "metadata": {
        "id": "1wyuG6unnWYY"
      },
      "outputs": [],
      "source": [
        "test_y.rename(columns={ test_y.columns[0]: \"Cat1\", test_y.columns[1]: \"Cat2\", test_y.columns[2]: \"Cat3\",\n",
        "                    test_y.columns[3]: \"Cat4\",test_y.columns[4]: \"Cat5\"}, \n",
        "          inplace=True)"
      ]
    },
    {
      "cell_type": "code",
      "execution_count": null,
      "metadata": {
        "id": "SeUlAt34nWVr"
      },
      "outputs": [],
      "source": [
        "from sklearn.model_selection import train_test_split\n",
        "\n",
        "y.astype(int)\n",
        "x.astype(int)\n",
        "train_x, test_x, train_y, test_y = train_test_split(x,y,test_size=0.2, random_state=43)"
      ]
    },
    {
      "cell_type": "markdown",
      "metadata": {
        "id": "_JblgaVFrj7s"
      },
      "source": [
        "##### --- training & testing"
      ]
    },
    {
      "cell_type": "code",
      "execution_count": null,
      "metadata": {
        "id": "Fe86-4s4rj7s"
      },
      "outputs": [],
      "source": [
        "# neural network\n",
        "import tensorflow as tf\n",
        "\n",
        "model = tf.keras.models.Sequential()\n",
        "# model.add(tf.keras.layers.Dense(units = 64, activation = 'relu', input_shape=(60,)))\n",
        "# model.add(tf.keras.layers.Dense(units = 128 , activation = 'relu', input_shape=(60,)))\n",
        "model.add(tf.keras.layers.Dense(units = 256, activation = 'relu', input_shape=(60,)))\n",
        "# model.add(tf.keras.layers.Dropout(0.3))\n",
        "# model.add(tf.keras.layers.Dense(units = 128, activation = 'relu'))\n",
        "# model.add(tf.keras.layers.Dropout(0.4))\n",
        "# # model.add(tf.keras.layers.Dense(units = 128, activation = 'relu'))\n",
        "# model.add(tf.keras.layers.Dropout(0.3))\n",
        "# model.add(tf.keras.layers.Dense(units = 64, activation = 'relu'))\n",
        "model.add(tf.keras.layers.Dropout(0.3))\n",
        "# model.add(tf.keras.layers.Dense(units = 32, activation = 'relu'))\n",
        "# model.add(tf.keras.layers.Dense(units = 16, activation = 'relu'))\n",
        "# model.add(tf.keras.layers.Dropout(0.3))\n",
        "model.add(tf.keras.layers.Dense(units = 5, activation = 'softmax'))\n",
        "\n",
        "model.compile(optimizer = 'adam', loss = 'categorical_crossentropy', metrics = ['accuracy'])\n",
        "history = model.fit(train_x, train_y, validation_data = (test_x,test_y), epochs =20)"
      ]
    },
    {
      "cell_type": "code",
      "execution_count": null,
      "metadata": {
        "id": "-QaZflfErj7s"
      },
      "outputs": [],
      "source": [
        "pred_y = model.predict(test_x)\n",
        "test_loss, test_accuracy = model.evaluate(test_x, test_y)\n",
        "print(test_loss, test_accuracy)"
      ]
    },
    {
      "cell_type": "code",
      "execution_count": null,
      "metadata": {
        "id": "nhSCU1tErj7s"
      },
      "outputs": [],
      "source": [
        "# 0.35\n",
        "import matplotlib.pyplot as plt\n",
        "fig, ax = plt.subplots(1, figsize=(8,6))\n",
        "plt.plot(history.history['accuracy'])\n",
        "plt.plot(history.history['val_accuracy'])\n",
        "plt.title('Model accuracy')\n",
        "plt.ylabel('Accuracy')\n",
        "plt.xlabel('Epoch')\n",
        "plt.legend(['Train', 'Test'], loc='upper left')\n",
        "plt.show()"
      ]
    },
    {
      "cell_type": "markdown",
      "metadata": {
        "id": "RAqSIZ-VqZSd"
      },
      "source": [
        "##### --- implementation"
      ]
    },
    {
      "cell_type": "code",
      "execution_count": null,
      "metadata": {
        "id": "AlEdXqHSqZSd"
      },
      "outputs": [],
      "source": [
        "def preproc(df):\n",
        "  df['TanggalDonor']= pd.to_datetime(df['TanggalDonor'])\n",
        "  months = df[\"TanggalDonor\"].dt.year * 12 + df[\"TanggalDonor\"].dt.month  # series\n",
        "  df[\"Bulan\"] = months - min(months) + 1\n",
        "  df = df.loc[(df['Bulan'] >= df.Bulan.max()-59) & (df['Bulan'] <= df.Bulan.max())]\n",
        "    # print(df.Bulan.max())\n",
        "  # df['Bulan'] = df['Bulan']-48\n",
        "  ndf=df[['NomerDonor']].join(pd.get_dummies(df['Bulan'])).groupby('NomerDonor').max()\n",
        "  if df.Bulan.max() <60:\n",
        "    ndf.insert(0, 'a1', 0)\n",
        "  return ndf"
      ]
    },
    {
      "cell_type": "code",
      "execution_count": null,
      "metadata": {
        "id": "6jTcbrfgqZSd"
      },
      "outputs": [],
      "source": [
        "dfs = preproc(df)\n",
        "dfs"
      ]
    },
    {
      "cell_type": "code",
      "execution_count": null,
      "metadata": {
        "id": "YGRU8jjpqZSe"
      },
      "outputs": [],
      "source": [
        "ndfp = model.predict(dfs)"
      ]
    },
    {
      "cell_type": "code",
      "execution_count": null,
      "metadata": {
        "id": "0zZA7cMiqZSe"
      },
      "outputs": [],
      "source": [
        "ndfd = pd.DataFrame(ndfp, columns = ['Cat1', 'Cat2', 'Cat3', 'Cat4', 'Cat5'])"
      ]
    },
    {
      "cell_type": "code",
      "execution_count": null,
      "metadata": {
        "id": "nqsFHjsvqZSe"
      },
      "outputs": [],
      "source": [
        "for i, r in ndfd.iterrows():\n",
        "  ndfd.at[i,'Category']  = (0.2 * r.Cat1) + (0.2 * r.Cat2) + (0.2 * r.Cat3) + (0.2 * r.Cat4) + (0.2 * r.Cat5)"
      ]
    },
    {
      "cell_type": "code",
      "execution_count": null,
      "metadata": {
        "id": "ITYJzXg_qZSe"
      },
      "outputs": [],
      "source": [
        "oldmax = ndfd.Category.max()  \n",
        "oldmin = ndfd.Category.min()\n",
        "OldRange = (oldmax - oldmin)\n",
        "NewRange = 4\n",
        "for i, r in ndfd.iterrows():\n",
        "  ndfd.at[i, 'Category'] = (float(((r.Category - oldmin) * NewRange)) / OldRange) + 1"
      ]
    },
    {
      "cell_type": "code",
      "execution_count": null,
      "metadata": {
        "id": "7ciytDfRqZSe"
      },
      "outputs": [],
      "source": [
        "hasil = dfs\n",
        "hasil['Category'] = ndfd['Category'].values\n",
        "hasil['NomerDonor'] = hasil.index\n",
        "hasil = hasil[['NomerDonor', 'Category']]"
      ]
    },
    {
      "cell_type": "code",
      "execution_count": null,
      "metadata": {
        "id": "uf3PMiCuqZSe"
      },
      "outputs": [],
      "source": [
        "hasil = hasil.rename_axis(index=None, columns=None)"
      ]
    },
    {
      "cell_type": "code",
      "execution_count": null,
      "metadata": {
        "id": "vxrhnfBhqZSe"
      },
      "outputs": [],
      "source": [
        "ann = hasil"
      ]
    },
    {
      "cell_type": "code",
      "execution_count": null,
      "metadata": {
        "id": "hnrP2zT3qZSe"
      },
      "outputs": [],
      "source": [
        "simpen = df.groupby(['NomerDonor'], as_index=False, sort=False)['TanggalDonor'].max()\n",
        "annd = pd.merge(ann, simpen, on='NomerDonor', how='left')"
      ]
    },
    {
      "cell_type": "code",
      "execution_count": null,
      "metadata": {
        "id": "urIhzoaFqZSe"
      },
      "outputs": [],
      "source": [
        "from datetime import date\n",
        "\n",
        "today = pd.to_datetime(date.today())\n",
        "today = annd['TanggalDonor'].max()\n",
        "annd['Recency'] = (today - annd['TanggalDonor']).dt.days"
      ]
    },
    {
      "cell_type": "code",
      "execution_count": null,
      "metadata": {
        "id": "pLUJwHPRqZSf"
      },
      "outputs": [],
      "source": [
        "ann = annd[['NomerDonor', 'Category', 'Recency']]"
      ]
    },
    {
      "cell_type": "code",
      "execution_count": null,
      "metadata": {
        "id": "Y34EXPMZqZSf"
      },
      "outputs": [],
      "source": [
        "ann.Category.unique()"
      ]
    },
    {
      "cell_type": "markdown",
      "metadata": {
        "id": "Hdvdub8MqlTG"
      },
      "source": [
        "##### --- rankin"
      ]
    },
    {
      "cell_type": "markdown",
      "metadata": {
        "id": "32fTYLvTqlTG"
      },
      "source": [
        "###### - - - df ranking"
      ]
    },
    {
      "cell_type": "code",
      "execution_count": null,
      "metadata": {
        "id": "3mNObOoYqlTG"
      },
      "outputs": [],
      "source": [
        "donor = df[['NomerDonor', 'TanggalDonor', 'BloodType', 'JKel', 'Lokasi', 'Umur']]\n",
        "donor = donor.drop_duplicates()"
      ]
    },
    {
      "cell_type": "code",
      "execution_count": null,
      "metadata": {
        "id": "gNBs0GPjqlTG"
      },
      "outputs": [],
      "source": [
        "donor"
      ]
    },
    {
      "cell_type": "code",
      "execution_count": null,
      "metadata": {
        "id": "f4ZAZinXqlTH"
      },
      "outputs": [],
      "source": [
        "for index, row in donor.iterrows():\n",
        "  if row.Umur >= 65:\n",
        "    donor.at[index,'AgeCat'] = 0\n",
        "  else:\n",
        "    donor.at[index,'AgeCat'] = 3\n",
        "  if row.JKel == 'Pria':\n",
        "    donor.at[index,'JKCat'] = 3\n",
        "  else:\n",
        "    donor.at[index,'JKCat'] = 2"
      ]
    },
    {
      "cell_type": "code",
      "execution_count": null,
      "metadata": {
        "id": "ReYzfgeVqlTH"
      },
      "outputs": [],
      "source": [
        "lok = 'UTD PMI SURABAYA'\n",
        "location = donor.query(str(\"Lokasi == '\") + lok + \"'\").groupby('NomerDonor').count()"
      ]
    },
    {
      "cell_type": "code",
      "execution_count": null,
      "metadata": {
        "id": "fqvLWghFqlTH"
      },
      "outputs": [],
      "source": [
        "location = location[['BloodType']]\n",
        "location.columns = ['Loc']\n",
        "location['NomerDonor'] = location.index"
      ]
    },
    {
      "cell_type": "code",
      "execution_count": null,
      "metadata": {
        "id": "-1WUoQsSqlTH"
      },
      "outputs": [],
      "source": [
        "location = location.rename_axis(index=None, columns=None)"
      ]
    },
    {
      "cell_type": "code",
      "execution_count": null,
      "metadata": {
        "id": "f9cEv5AOqlTH"
      },
      "outputs": [],
      "source": [
        "donor = pd.merge(donor, location, on=['NomerDonor'])"
      ]
    },
    {
      "cell_type": "code",
      "execution_count": null,
      "metadata": {
        "id": "MB1atos1qlTH"
      },
      "outputs": [],
      "source": [
        "maks = donor['Loc'].max()"
      ]
    },
    {
      "cell_type": "code",
      "execution_count": null,
      "metadata": {
        "id": "iSMFtO0PqlTH"
      },
      "outputs": [],
      "source": [
        "donor['Loc'] = donor['Loc']/maks"
      ]
    },
    {
      "cell_type": "code",
      "execution_count": null,
      "metadata": {
        "id": "wQ8mpo9kqlTH"
      },
      "outputs": [],
      "source": [
        "donor = donor[['NomerDonor', 'TanggalDonor', 'BloodType', 'AgeCat', 'JKCat', 'Loc']]"
      ]
    },
    {
      "cell_type": "code",
      "execution_count": null,
      "metadata": {
        "id": "x0DIhaphqlTH"
      },
      "outputs": [],
      "source": [
        "donor = donor.sort_values('TanggalDonor')"
      ]
    },
    {
      "cell_type": "markdown",
      "metadata": {
        "id": "ETlrGtjfqlTI"
      },
      "source": [
        "###### - - - ranking bkn desimal"
      ]
    },
    {
      "cell_type": "code",
      "execution_count": null,
      "metadata": {
        "id": "amPRhyKPqlTI"
      },
      "outputs": [],
      "source": [
        "import pandas as pd\n",
        "# ann = pd.read_csv('classifiedann.csv')"
      ]
    },
    {
      "cell_type": "code",
      "execution_count": null,
      "metadata": {
        "id": "iT9sZZrcqlTI"
      },
      "outputs": [],
      "source": [
        "anndf = pd.merge(donor, ann, on=['NomerDonor'])"
      ]
    },
    {
      "cell_type": "code",
      "execution_count": null,
      "metadata": {
        "id": "-aoQTwRjqlTI"
      },
      "outputs": [],
      "source": [
        "for i, r in anndf.iterrows():\n",
        "  if r.Recency <= 60:\n",
        "    anndf.at[i, 'Rating'] = 0\n",
        "  else:\n",
        "    anndf.at[i, 'Rating'] = ((r.Category*2) + r.AgeCat + r.JKCat)"
      ]
    },
    {
      "cell_type": "code",
      "execution_count": null,
      "metadata": {
        "id": "Bo0GHbQNqlTI"
      },
      "outputs": [],
      "source": [
        "anndf = anndf[['NomerDonor', 'BloodType', 'Rating']]"
      ]
    },
    {
      "cell_type": "code",
      "execution_count": null,
      "metadata": {
        "id": "q76OoScBqlTI"
      },
      "outputs": [],
      "source": [
        "oldmax = anndf.Rating.max()  \n",
        "oldmin = anndf.Rating.min()\n",
        "OldRange = (oldmax - oldmin)\n",
        "NewRange = 4\n",
        "for i, r in anndf.iterrows():\n",
        "  anndf.at[i, 'Rating'] = (float(((r.Rating - oldmin) * NewRange)) / OldRange) + 1"
      ]
    },
    {
      "cell_type": "code",
      "execution_count": null,
      "metadata": {
        "id": "LV-WxruyqlTI"
      },
      "outputs": [],
      "source": [
        "anndf.Rating.sort_values().unique()"
      ]
    },
    {
      "cell_type": "code",
      "execution_count": null,
      "metadata": {
        "id": "Sl6j2yYKqlTI"
      },
      "outputs": [],
      "source": [
        "# anndf.info()"
      ]
    },
    {
      "cell_type": "code",
      "execution_count": null,
      "metadata": {
        "id": "OhFfNULgqlTI"
      },
      "outputs": [],
      "source": [
        "anndf['NomerDonor'] = anndf.NomerDonor.astype(int)"
      ]
    },
    {
      "cell_type": "code",
      "execution_count": null,
      "metadata": {
        "id": "xkp3FLDxqlTJ"
      },
      "outputs": [],
      "source": [
        "from google.colab import files\n",
        "# anndf.to_csv('ann + 10 no8.csv', index=False) \n",
        "# files.download('no4.csv')"
      ]
    },
    {
      "cell_type": "markdown",
      "metadata": {
        "id": "IGuWwKVRyfWo"
      },
      "source": [
        "##### --- als"
      ]
    },
    {
      "cell_type": "markdown",
      "metadata": {
        "id": "6hEyKsQDyfWo"
      },
      "source": [
        "###### - - - als"
      ]
    },
    {
      "cell_type": "code",
      "execution_count": null,
      "metadata": {
        "id": "si_tsGLuyfWo"
      },
      "outputs": [],
      "source": [
        "import pandas as pd\n",
        "anndf = pd.read_csv('ann + 10 no8.csv')"
      ]
    },
    {
      "cell_type": "code",
      "execution_count": null,
      "metadata": {
        "id": "RiXdwWEJyfWp"
      },
      "outputs": [],
      "source": [
        "jum = anndf.NomerDonor.nunique()"
      ]
    },
    {
      "cell_type": "markdown",
      "metadata": {
        "id": "cVJQlPP8yfWp"
      },
      "source": [
        "###### - - - gapt"
      ]
    },
    {
      "cell_type": "code",
      "execution_count": null,
      "metadata": {
        "id": "tm5PjW4FyfWp"
      },
      "outputs": [],
      "source": [
        "!pip install pyspark"
      ]
    },
    {
      "cell_type": "code",
      "execution_count": null,
      "metadata": {
        "id": "IWhsYvKoyfWp"
      },
      "outputs": [],
      "source": [
        "import pyspark\n",
        "sc = pyspark.SparkContext(appName=\"PMI\")"
      ]
    },
    {
      "cell_type": "code",
      "execution_count": null,
      "metadata": {
        "id": "Zmb6enbryfWp"
      },
      "outputs": [],
      "source": [
        "sql = pyspark.SQLContext(sc)"
      ]
    },
    {
      "cell_type": "code",
      "execution_count": null,
      "metadata": {
        "id": "RzxBUSD9yfWp"
      },
      "outputs": [],
      "source": [
        "#sql\n",
        "from pyspark.sql import SparkSession\n",
        "spark = SparkSession(sc)"
      ]
    },
    {
      "cell_type": "markdown",
      "metadata": {
        "id": "we5W25GWyfWp"
      },
      "source": [
        "###### - - - start"
      ]
    },
    {
      "cell_type": "code",
      "execution_count": null,
      "metadata": {
        "id": "XlzBSkKvyfWp"
      },
      "outputs": [],
      "source": [
        "annsdf=spark.createDataFrame(anndf) \n",
        "# annsdf.printSchema()\n",
        "# annsdf.show()"
      ]
    },
    {
      "cell_type": "code",
      "execution_count": null,
      "metadata": {
        "id": "5BSnqfHNyfWq"
      },
      "outputs": [],
      "source": [
        "from pyspark.ml.evaluation import RegressionEvaluator\n",
        "from pyspark.ml.recommendation import ALS\n",
        "from pyspark.ml.tuning import TrainValidationSplit, ParamGridBuilder, CrossValidator\n",
        "\n",
        "#Misah antara data training dan data test\n",
        "# (training, test) = annsdf.randomSplit([0.8, 0.2])\n",
        "\n",
        "#buat ALS model, col-colnya paten BTW harus ada user, item yang diprediksi dan rating\n",
        "als1=ALS(maxIter=10,regParam=0.01,rank=25,userCol=\"BloodType\",itemCol=\"NomerDonor\",ratingCol=\"Rating\",coldStartStrategy=\"drop\",nonnegative=True)\n",
        "model=als1.fit(annsdf)"
      ]
    },
    {
      "cell_type": "code",
      "execution_count": null,
      "metadata": {
        "id": "31mEW6p_yfWq"
      },
      "outputs": [],
      "source": [
        "bloodfoc = model.recommendForAllUsers(jum)"
      ]
    },
    {
      "cell_type": "code",
      "execution_count": null,
      "metadata": {
        "id": "6Gq97fNCyfWq"
      },
      "outputs": [],
      "source": [
        "bloodfoc.select(\"BloodType\", \"recommendations.NomerDonor\", 'recommendations.Rating').show(10, False)"
      ]
    },
    {
      "cell_type": "markdown",
      "metadata": {
        "id": "5j4uKEF1yfWq"
      },
      "source": [
        "###### MRR ANN"
      ]
    },
    {
      "cell_type": "code",
      "execution_count": null,
      "metadata": {
        "id": "dk_t_THdyfWq"
      },
      "outputs": [],
      "source": [
        "model_df = bloodfoc.select(\"BloodType\", \"recommendations.NomerDonor\")\n",
        "model_df.show(5, False)"
      ]
    },
    {
      "cell_type": "code",
      "execution_count": null,
      "metadata": {
        "id": "sDY79McIyfWq"
      },
      "outputs": [],
      "source": [
        "#rename\n",
        "model_df = model_df.withColumnRenamed(\"BloodType\",\"BloodTypeModel\") \n",
        "model_df = model_df.withColumnRenamed(\"NomerDonor\",\"NomerDonorRanking\") "
      ]
    },
    {
      "cell_type": "code",
      "execution_count": null,
      "metadata": {
        "id": "YjYLOIQxyfWq"
      },
      "outputs": [],
      "source": [
        "d22b = spark.createDataFrame(d22)\n",
        "d22b.printSchema()\n",
        "d22b.show(5)"
      ]
    },
    {
      "cell_type": "code",
      "execution_count": null,
      "metadata": {
        "id": "mgu45QLMyfWq"
      },
      "outputs": [],
      "source": [
        "#join table sample dan model yang sudah dibuat\n",
        "joined_df = d22b.join(model_df, d22b.BloodType == model_df.BloodTypeModel)\n",
        "joined_df.show(3)"
      ]
    },
    {
      "cell_type": "code",
      "execution_count": null,
      "metadata": {
        "id": "FVXMmWOYyfWq"
      },
      "outputs": [],
      "source": [
        "joined_df.createOrReplaceTempView(\"joined_df\")"
      ]
    },
    {
      "cell_type": "code",
      "execution_count": null,
      "metadata": {
        "id": "-cBx8iKAyfWr"
      },
      "outputs": [],
      "source": [
        "def reciprocal_rank(row):\n",
        "    if row['NomerDonor'] in row['NomerDonorRanking']:\n",
        "        rank = row['NomerDonorRanking'].index(row['NomerDonor']) + 1\n",
        "        score = 1.0/float(rank)\n",
        "    else:\n",
        "        rank = 0\n",
        "        score = 0.0\n",
        "    return (row[0], row[1], row[9], rank, score)"
      ]
    },
    {
      "cell_type": "code",
      "execution_count": null,
      "metadata": {
        "id": "vqSCyMi2yfWr"
      },
      "outputs": [],
      "source": [
        "#get reciprocal score for all event type\n",
        "rr_all = joined_df.rdd.map(reciprocal_rank).toDF(['NomerDonor', 'NamaDonor','BloodType', 'Ranking', 'reciprocal_score'])\n",
        "rr_all.show(20, False)"
      ]
    },
    {
      "cell_type": "code",
      "execution_count": null,
      "metadata": {
        "id": "lHdNusjDyfWr"
      },
      "outputs": [],
      "source": [
        "rr_all.createOrReplaceTempView(\"rr_all\")"
      ]
    },
    {
      "cell_type": "code",
      "execution_count": null,
      "metadata": {
        "id": "NW-qaI_JyfWr"
      },
      "outputs": [],
      "source": [
        "# sumdf = spark.sql(\"\")\n",
        "# sumdf.show()"
      ]
    },
    {
      "cell_type": "code",
      "execution_count": null,
      "metadata": {
        "id": "Bf17lPT0yfWr"
      },
      "outputs": [],
      "source": [
        "sumdf = spark.sql(\"select count(*) from rr_all\")\n",
        "sumdf.show()"
      ]
    },
    {
      "cell_type": "code",
      "execution_count": null,
      "metadata": {
        "id": "j9w6XmSMyfWr"
      },
      "outputs": [],
      "source": [
        "sumdf = spark.sql(\"select count(*) from rr_all where reciprocal_score > 0.0\")\n",
        "sumdf.show()"
      ]
    },
    {
      "cell_type": "code",
      "execution_count": null,
      "metadata": {
        "id": "n-Rh0JA6yfWr"
      },
      "outputs": [],
      "source": [
        "sumdf = spark.sql(\"select * from rr_all where reciprocal_score <= 0.0\")\n",
        "sumdf.show()"
      ]
    },
    {
      "cell_type": "code",
      "execution_count": null,
      "metadata": {
        "id": "2N8fQSifyfWr"
      },
      "outputs": [],
      "source": [
        "all_mrr = rr_all.agg({\"reciprocal_score\":\"avg\"}).collect()[0]['avg(reciprocal_score)']"
      ]
    },
    {
      "cell_type": "code",
      "execution_count": null,
      "metadata": {
        "id": "BS1enS-myfWr"
      },
      "outputs": [],
      "source": [
        "all_mrr"
      ]
    },
    {
      "cell_type": "markdown",
      "metadata": {
        "id": "5NyYDGuDxhLQ"
      },
      "source": [
        "### ann + 20% rbc --------------------------------------------------------------------------------"
      ]
    },
    {
      "cell_type": "markdown",
      "metadata": {
        "id": "0d-4XnTgxhLR"
      },
      "source": [
        "#### _ before corona (2015-2019)"
      ]
    },
    {
      "cell_type": "markdown",
      "metadata": {
        "id": "T_XFtH8KxhLS"
      },
      "source": [
        "##### --- read df"
      ]
    },
    {
      "cell_type": "markdown",
      "metadata": {
        "id": "SXeUGwjZxhLT"
      },
      "source": [
        "###### - - - df"
      ]
    },
    {
      "cell_type": "code",
      "execution_count": null,
      "metadata": {
        "id": "u8IESE89xhLT"
      },
      "outputs": [],
      "source": [
        "jenis = ['Triple', 'Quadruple', 'Single', 'Double Besar']"
      ]
    },
    {
      "cell_type": "code",
      "execution_count": null,
      "metadata": {
        "id": "0JJCbAGvxhLU"
      },
      "outputs": [],
      "source": [
        "import pandas as pd\n",
        "df = pd.read_csv('d15-19.csv')\n",
        "df.JenisKantong = df.JenisKantong.str.title()\n",
        "df = df[df['JenisKantong'].isin(jenis)]"
      ]
    },
    {
      "cell_type": "code",
      "execution_count": null,
      "metadata": {
        "id": "DjLB79RexhLU"
      },
      "outputs": [],
      "source": [
        "d22 = df.loc[(df['TanggalDonor'] > '2019-11-30 11:59:59.999')]\n",
        "d22 = d22.loc[(d22['Lokasi'] == 'UTD PMI SURABAYA')]"
      ]
    },
    {
      "cell_type": "code",
      "execution_count": null,
      "metadata": {
        "id": "bMqWMibVxhLV"
      },
      "outputs": [],
      "source": [
        "df = df.loc[(df['TanggalDonor'] <= '2019-11-30 11:59:59.999')]"
      ]
    },
    {
      "cell_type": "code",
      "execution_count": null,
      "metadata": {
        "id": "Ynoz8tuixhLW"
      },
      "outputs": [],
      "source": [
        "d22 = d22[d22.NomerDonor.isin(df.NomerDonor)]"
      ]
    },
    {
      "cell_type": "markdown",
      "metadata": {
        "id": "CxJAL0lwxhLZ"
      },
      "source": [
        "##### --- data training"
      ]
    },
    {
      "cell_type": "code",
      "execution_count": null,
      "metadata": {
        "id": "chVmlC8QxhLZ"
      },
      "outputs": [],
      "source": [
        "import pandas as pd\n",
        "dm = pd.read_csv('dummy ann updated.csv')"
      ]
    },
    {
      "cell_type": "code",
      "execution_count": null,
      "metadata": {
        "id": "68RSbXf_xhLa"
      },
      "outputs": [],
      "source": [
        "dm = dm.fillna(0)"
      ]
    },
    {
      "cell_type": "code",
      "execution_count": null,
      "metadata": {
        "id": "107Kd-wsxhLb"
      },
      "outputs": [],
      "source": [
        "ctest = pd.read_csv('rbc untuk ann.csv')\n",
        "# merged = pd.merge(test, ctest, on=['NomerDonor'], how='left').fillna(0)"
      ]
    },
    {
      "cell_type": "code",
      "execution_count": null,
      "metadata": {
        "id": "hQZzTZFNxhLb"
      },
      "outputs": [],
      "source": [
        "t = ctest"
      ]
    },
    {
      "cell_type": "code",
      "execution_count": null,
      "metadata": {
        "id": "RKpxLQR5xhLc"
      },
      "outputs": [],
      "source": [
        "def preproc(df):\n",
        "  df['TanggalDonor']= pd.to_datetime(df['TanggalDonor'])\n",
        "  months = df[\"TanggalDonor\"].dt.year * 12 + df[\"TanggalDonor\"].dt.month  # series\n",
        "  df[\"Bulan\"] = months - min(months) + 1\n",
        "  df = df.loc[(df['Bulan'] >= df.Bulan.max()-59) & (df['Bulan'] <= df.Bulan.max())]\n",
        "    # print(df.Bulan.max())\n",
        "  # df['Bulan'] = df['Bulan']-48\n",
        "  ndf=df[['NomerDonor']].join(pd.get_dummies(df['Bulan'])).groupby('NomerDonor').max()\n",
        "  if df.Bulan.max() <60:\n",
        "    ndf.insert(0, 'a1', 0)\n",
        "  return ndf"
      ]
    },
    {
      "cell_type": "code",
      "execution_count": null,
      "metadata": {
        "id": "MbjlT3OmxhLc"
      },
      "outputs": [],
      "source": [
        "ctest = preproc(ctest)"
      ]
    },
    {
      "cell_type": "code",
      "execution_count": null,
      "metadata": {
        "id": "6vydAZ2lxhLd"
      },
      "outputs": [],
      "source": [
        "ctest.rename(columns={ctest.columns[0]: 'a1', ctest.columns[1]: 'a2', ctest.columns[2]: 'a3'\n",
        ", ctest.columns[3]: 'a4', ctest.columns[4]: 'a5', ctest.columns[5]: 'a6', ctest.columns[6]: 'a7'\n",
        ", ctest.columns[7]: 'a8', ctest.columns[8]: 'a9', ctest.columns[9]: 'a10', ctest.columns[10]: 'a11'\n",
        ", ctest.columns[11]: 'a12', ctest.columns[12]: 'b1', ctest.columns[13]: 'b2', ctest.columns[14]: 'b3'\n",
        ", ctest.columns[15]: 'b4', ctest.columns[16]: 'b5', ctest.columns[17]: 'b6', ctest.columns[18]: 'b7'\n",
        ", ctest.columns[19]: 'b8', ctest.columns[20]: 'b9', ctest.columns[21]: 'b10', ctest.columns[22]: 'b11'\n",
        ", ctest.columns[23]: 'b12', ctest.columns[24]: 'c1', ctest.columns[25]: 'c2', ctest.columns[26]: 'c3'\n",
        ", ctest.columns[27]: 'c4', ctest.columns[28]: 'c5', ctest.columns[29]: 'c6', ctest.columns[30]: 'c7'\n",
        ", ctest.columns[31]: 'c8', ctest.columns[32]: 'c9', ctest.columns[33]: 'c10', ctest.columns[34]: 'c11'\n",
        ", ctest.columns[35]: 'c12', ctest.columns[36]: 'd1', ctest.columns[37]: 'd2', ctest.columns[38]: 'd3'\n",
        ", ctest.columns[39]: 'd4', ctest.columns[40]: 'd5', ctest.columns[41]: 'd6', ctest.columns[42]: 'd7'\n",
        ", ctest.columns[43]: 'd8', ctest.columns[44]: 'd9', ctest.columns[45]: 'd10', ctest.columns[46]: 'd11'\n",
        ", ctest.columns[47]: 'd12', ctest.columns[48]: 'e1', ctest.columns[49]: 'e2', ctest.columns[50]: 'e3'\n",
        ", ctest.columns[51]: 'e4', ctest.columns[52]: 'e5', ctest.columns[53]: 'e6', ctest.columns[54]: 'e7'\n",
        ", ctest.columns[55]: 'e8', ctest.columns[56]: 'e9', ctest.columns[57]: 'e10', ctest.columns[58]: 'e11'\n",
        ", ctest.columns[59]: 'e12'},inplace=True)"
      ]
    },
    {
      "cell_type": "code",
      "execution_count": null,
      "metadata": {
        "id": "mkwETA9VxhLd"
      },
      "outputs": [],
      "source": [
        "ctest['NomerDonor'] = ctest.index\n",
        "ctest = ctest.reset_index(drop=True)"
      ]
    },
    {
      "cell_type": "code",
      "execution_count": null,
      "metadata": {
        "id": "yvBoZR74xhLe"
      },
      "outputs": [],
      "source": [
        "t = t[['NomerDonor', 'Category']]"
      ]
    },
    {
      "cell_type": "code",
      "execution_count": null,
      "metadata": {
        "id": "rVdU7NudxhLe"
      },
      "outputs": [],
      "source": [
        "testt = pd.merge(ctest, t, on=['NomerDonor'], how='inner')\n",
        "testt = testt.drop_duplicates()\n",
        "testt = testt.drop(['NomerDonor'], axis=1)"
      ]
    },
    {
      "cell_type": "code",
      "execution_count": null,
      "metadata": {
        "id": "2ePHXuh6xhLf"
      },
      "outputs": [],
      "source": [
        "sample = testt.sample(frac=0.2, random_state=1)"
      ]
    },
    {
      "cell_type": "code",
      "execution_count": null,
      "metadata": {
        "id": "HWyT_K1XxhLg"
      },
      "outputs": [],
      "source": [
        "dm = dm.merge(sample, how='outer')"
      ]
    },
    {
      "cell_type": "code",
      "execution_count": null,
      "metadata": {
        "id": "B7fzxMQZxhLh"
      },
      "outputs": [],
      "source": [
        "y = dm.Category\n",
        "x = dm.drop(columns='Category')"
      ]
    },
    {
      "cell_type": "code",
      "execution_count": null,
      "metadata": {
        "id": "W9fIjYe_xhLh"
      },
      "outputs": [],
      "source": [
        "from sklearn.preprocessing import OneHotEncoder\n",
        "\n",
        "y = OneHotEncoder(sparse=False)\n",
        "y = y.fit_transform(dm[['Category']])\n",
        "test_y = pd.DataFrame(y)"
      ]
    },
    {
      "cell_type": "code",
      "execution_count": null,
      "metadata": {
        "id": "aOhW_nrDxhLi"
      },
      "outputs": [],
      "source": [
        "test_y.rename(columns={ test_y.columns[0]: \"Cat1\", test_y.columns[1]: \"Cat2\", test_y.columns[2]: \"Cat3\",\n",
        "                    test_y.columns[3]: \"Cat4\",test_y.columns[4]: \"Cat5\"}, \n",
        "          inplace=True)"
      ]
    },
    {
      "cell_type": "code",
      "execution_count": null,
      "metadata": {
        "id": "9lGiGGrFxhLi"
      },
      "outputs": [],
      "source": [
        "from sklearn.model_selection import train_test_split\n",
        "\n",
        "y.astype(int)\n",
        "x.astype(int)\n",
        "train_x, test_x, train_y, test_y = train_test_split(x,y,test_size=0.2, random_state=43)"
      ]
    },
    {
      "cell_type": "markdown",
      "metadata": {
        "id": "PVD-wJFNxhLj"
      },
      "source": [
        "##### --- training & testing"
      ]
    },
    {
      "cell_type": "code",
      "execution_count": null,
      "metadata": {
        "id": "9EGxe-gUxhLk"
      },
      "outputs": [],
      "source": [
        "# neural network\n",
        "import tensorflow as tf\n",
        "\n",
        "model = tf.keras.models.Sequential()\n",
        "# model.add(tf.keras.layers.Dense(units = 64, activation = 'relu', input_shape=(60,)))\n",
        "# model.add(tf.keras.layers.Dense(units = 128 , activation = 'relu', input_shape=(60,)))\n",
        "model.add(tf.keras.layers.Dense(units = 256, activation = 'relu', input_shape=(60,)))\n",
        "# model.add(tf.keras.layers.Dropout(0.3))\n",
        "# model.add(tf.keras.layers.Dense(units = 128, activation = 'relu'))\n",
        "# model.add(tf.keras.layers.Dropout(0.4))\n",
        "# # model.add(tf.keras.layers.Dense(units = 128, activation = 'relu'))\n",
        "# model.add(tf.keras.layers.Dropout(0.3))\n",
        "# model.add(tf.keras.layers.Dense(units = 64, activation = 'relu'))\n",
        "# model.add(tf.keras.layers.Dropout(0.3))\n",
        "model.add(tf.keras.layers.Dense(units = 32, activation = 'relu'))\n",
        "# model.add(tf.keras.layers.Dense(units = 16, activation = 'relu'))\n",
        "# model.add(tf.keras.layers.Dropout(0.3))\n",
        "model.add(tf.keras.layers.Dense(units = 5, activation = 'softmax'))\n",
        "\n",
        "model.compile(optimizer = 'adam', loss = 'categorical_crossentropy', metrics = ['accuracy'])\n",
        "history = model.fit(train_x, train_y, validation_data = (test_x,test_y), epochs =20)"
      ]
    },
    {
      "cell_type": "code",
      "execution_count": null,
      "metadata": {
        "id": "tZMBIxaDxhLk"
      },
      "outputs": [],
      "source": [
        "pred_y = model.predict(test_x)\n",
        "test_loss, test_accuracy = model.evaluate(test_x, test_y)\n",
        "print(test_loss, test_accuracy)"
      ]
    },
    {
      "cell_type": "code",
      "execution_count": null,
      "metadata": {
        "id": "pDKWsppOxhLl"
      },
      "outputs": [],
      "source": [
        "# 0.35\n",
        "import matplotlib.pyplot as plt\n",
        "fig, ax = plt.subplots(1, figsize=(8,6))\n",
        "plt.plot(history.history['accuracy'])\n",
        "plt.plot(history.history['val_accuracy'])\n",
        "plt.title('Model accuracy')\n",
        "plt.ylabel('Accuracy')\n",
        "plt.xlabel('Epoch')\n",
        "plt.legend(['Train', 'Test'], loc='upper left')\n",
        "plt.show()"
      ]
    },
    {
      "cell_type": "markdown",
      "metadata": {
        "id": "G7IOZOJvxhLm"
      },
      "source": [
        "##### --- implementation"
      ]
    },
    {
      "cell_type": "code",
      "execution_count": null,
      "metadata": {
        "id": "WgjBs4AGxhLm"
      },
      "outputs": [],
      "source": [
        "def preproc(df):\n",
        "  df['TanggalDonor']= pd.to_datetime(df['TanggalDonor'])\n",
        "  months = df[\"TanggalDonor\"].dt.year * 12 + df[\"TanggalDonor\"].dt.month  # series\n",
        "  df[\"Bulan\"] = months - min(months) + 1\n",
        "  df = df.loc[(df['Bulan'] >= df.Bulan.max()-59) & (df['Bulan'] <= df.Bulan.max())]\n",
        "    # print(df.Bulan.max())\n",
        "  # df['Bulan'] = df['Bulan']-48\n",
        "  ndf=df[['NomerDonor']].join(pd.get_dummies(df['Bulan'])).groupby('NomerDonor').max()\n",
        "  if df.Bulan.max() <60:\n",
        "    ndf.insert(0, 'a1', 0)\n",
        "  return ndf"
      ]
    },
    {
      "cell_type": "code",
      "execution_count": null,
      "metadata": {
        "id": "EJpFExaXxhLn"
      },
      "outputs": [],
      "source": [
        "dfs = preproc(df)\n",
        "dfs"
      ]
    },
    {
      "cell_type": "code",
      "execution_count": null,
      "metadata": {
        "id": "jI9XoJaVxhLo"
      },
      "outputs": [],
      "source": [
        "ndfp = model.predict(dfs)"
      ]
    },
    {
      "cell_type": "code",
      "execution_count": null,
      "metadata": {
        "id": "MKmjrCD_xhLo"
      },
      "outputs": [],
      "source": [
        "ndfd = pd.DataFrame(ndfp, columns = ['Cat1', 'Cat2', 'Cat3', 'Cat4', 'Cat5'])"
      ]
    },
    {
      "cell_type": "code",
      "execution_count": null,
      "metadata": {
        "id": "4ySsayeZxhLp"
      },
      "outputs": [],
      "source": [
        "for i, r in ndfd.iterrows():\n",
        "  ndfd.at[i,'Category']  = (0.2 * r.Cat1) + (0.2 * r.Cat2) + (0.2 * r.Cat3) + (0.2 * r.Cat4) + (0.2 * r.Cat5)"
      ]
    },
    {
      "cell_type": "code",
      "execution_count": null,
      "metadata": {
        "id": "kNMQ1PnYxhLp"
      },
      "outputs": [],
      "source": [
        "oldmax = ndfd.Category.max()  \n",
        "oldmin = ndfd.Category.min()\n",
        "OldRange = (oldmax - oldmin)\n",
        "NewRange = 4\n",
        "for i, r in ndfd.iterrows():\n",
        "  ndfd.at[i, 'Category'] = (float(((r.Category - oldmin) * NewRange)) / OldRange) + 1"
      ]
    },
    {
      "cell_type": "code",
      "execution_count": null,
      "metadata": {
        "id": "0_wyRR0QxhLq"
      },
      "outputs": [],
      "source": [
        "hasil = dfs\n",
        "hasil['Category'] = ndfd['Category'].values\n",
        "hasil['NomerDonor'] = hasil.index\n",
        "hasil = hasil[['NomerDonor', 'Category']]"
      ]
    },
    {
      "cell_type": "code",
      "execution_count": null,
      "metadata": {
        "id": "3W6l4qCsxhLq"
      },
      "outputs": [],
      "source": [
        "hasil = hasil.rename_axis(index=None, columns=None)"
      ]
    },
    {
      "cell_type": "code",
      "execution_count": null,
      "metadata": {
        "id": "jmci-yYDxhLr"
      },
      "outputs": [],
      "source": [
        "ann = hasil"
      ]
    },
    {
      "cell_type": "code",
      "execution_count": null,
      "metadata": {
        "id": "3ZttPT4txhLs"
      },
      "outputs": [],
      "source": [
        "simpen = df.groupby(['NomerDonor'], as_index=False, sort=False)['TanggalDonor'].max()\n",
        "annd = pd.merge(ann, simpen, on='NomerDonor', how='left')"
      ]
    },
    {
      "cell_type": "code",
      "execution_count": null,
      "metadata": {
        "id": "6OjqzcX0xhLs"
      },
      "outputs": [],
      "source": [
        "from datetime import date\n",
        "\n",
        "today = pd.to_datetime(date.today())\n",
        "today = annd['TanggalDonor'].max()\n",
        "annd['Recency'] = (today - annd['TanggalDonor']).dt.days"
      ]
    },
    {
      "cell_type": "code",
      "execution_count": null,
      "metadata": {
        "id": "QtGb3R0AxhLt"
      },
      "outputs": [],
      "source": [
        "ann = annd[['NomerDonor', 'Category', 'Recency']]"
      ]
    },
    {
      "cell_type": "code",
      "execution_count": null,
      "metadata": {
        "id": "5ILqwrkVxhLt"
      },
      "outputs": [],
      "source": [
        "ann.Category.unique()"
      ]
    },
    {
      "cell_type": "markdown",
      "metadata": {
        "id": "B88xXN4ExhLt"
      },
      "source": [
        "###### - - - df ranking"
      ]
    },
    {
      "cell_type": "code",
      "execution_count": null,
      "metadata": {
        "id": "MGCJboMFxhLu"
      },
      "outputs": [],
      "source": [
        "donor = df[['NomerDonor', 'TanggalDonor', 'BloodType', 'JKel', 'Lokasi', 'Umur']]\n",
        "donor = donor.drop_duplicates()"
      ]
    },
    {
      "cell_type": "code",
      "execution_count": null,
      "metadata": {
        "id": "2jWQtx4LxhLu"
      },
      "outputs": [],
      "source": [
        "donor"
      ]
    },
    {
      "cell_type": "code",
      "execution_count": null,
      "metadata": {
        "id": "qHpKB0JgxhLv"
      },
      "outputs": [],
      "source": [
        "for index, row in donor.iterrows():\n",
        "  if row.Umur >= 65:\n",
        "    donor.at[index,'AgeCat'] = 0\n",
        "  else:\n",
        "    donor.at[index,'AgeCat'] = 3\n",
        "  if row.JKel == 'Pria':\n",
        "    donor.at[index,'JKCat'] = 3\n",
        "  else:\n",
        "    donor.at[index,'JKCat'] = 2"
      ]
    },
    {
      "cell_type": "code",
      "execution_count": null,
      "metadata": {
        "id": "6FZm67bvxhLv"
      },
      "outputs": [],
      "source": [
        "lok = 'UTD PMI SURABAYA'\n",
        "location = donor.query(str(\"Lokasi == '\") + lok + \"'\").groupby('NomerDonor').count()"
      ]
    },
    {
      "cell_type": "code",
      "execution_count": null,
      "metadata": {
        "id": "eNNSSRuMxhLw"
      },
      "outputs": [],
      "source": [
        "location = location[['BloodType']]\n",
        "location.columns = ['Loc']\n",
        "location['NomerDonor'] = location.index"
      ]
    },
    {
      "cell_type": "code",
      "execution_count": null,
      "metadata": {
        "id": "08jrG8PCxhLw"
      },
      "outputs": [],
      "source": [
        "location = location.rename_axis(index=None, columns=None)"
      ]
    },
    {
      "cell_type": "code",
      "execution_count": null,
      "metadata": {
        "id": "KPmD5Y1XxhLx"
      },
      "outputs": [],
      "source": [
        "donor = pd.merge(donor, location, on=['NomerDonor'])"
      ]
    },
    {
      "cell_type": "code",
      "execution_count": null,
      "metadata": {
        "id": "08IgKuogxhLx"
      },
      "outputs": [],
      "source": [
        "maks = donor['Loc'].max()"
      ]
    },
    {
      "cell_type": "code",
      "execution_count": null,
      "metadata": {
        "id": "br03YIlcxhLy"
      },
      "outputs": [],
      "source": [
        "donor['Loc'] = donor['Loc']/maks"
      ]
    },
    {
      "cell_type": "code",
      "execution_count": null,
      "metadata": {
        "id": "KSG2nLpqxhLy"
      },
      "outputs": [],
      "source": [
        "donor = donor[['NomerDonor', 'TanggalDonor', 'BloodType', 'AgeCat', 'JKCat', 'Loc']]"
      ]
    },
    {
      "cell_type": "code",
      "execution_count": null,
      "metadata": {
        "id": "htv4xU2GxhLy"
      },
      "outputs": [],
      "source": [
        "donor = donor.sort_values('TanggalDonor')"
      ]
    },
    {
      "cell_type": "markdown",
      "metadata": {
        "id": "InwTPY54xhLz"
      },
      "source": [
        "###### - - - ranking"
      ]
    },
    {
      "cell_type": "code",
      "execution_count": null,
      "metadata": {
        "id": "9orF39tyxhLz"
      },
      "outputs": [],
      "source": [
        "import pandas as pd\n",
        "# ann = pd.read_csv('classifiedann.csv')"
      ]
    },
    {
      "cell_type": "code",
      "execution_count": null,
      "metadata": {
        "id": "AU3TlvZUxhL0"
      },
      "outputs": [],
      "source": [
        "# rbc.rename(columns = {'Recency1':'Recency'}, inplace = True)"
      ]
    },
    {
      "cell_type": "code",
      "execution_count": null,
      "metadata": {
        "id": "-ykopxpixhL0"
      },
      "outputs": [],
      "source": [
        "anndf = pd.merge(donor, ann, on=['NomerDonor'])"
      ]
    },
    {
      "cell_type": "code",
      "execution_count": null,
      "metadata": {
        "id": "IzzMNJ86xhL1"
      },
      "outputs": [],
      "source": [
        "for i, r in anndf.iterrows():\n",
        "  if r.Recency <= 60:\n",
        "    anndf.at[i, 'Rating'] = 0\n",
        "  else:\n",
        "    if r.Category == 1:\n",
        "      anndf.at[i, 'Rating'] = (10 + r.AgeCat + r.JKCat)\n",
        "    elif r.Category == 2:\n",
        "      anndf.at[i, 'Rating'] = (8 + r.AgeCat + r.JKCat) \n",
        "    elif r.Category == 3:\n",
        "      anndf.at[i, 'Rating'] = (6 + r.AgeCat + r.JKCat )\n",
        "    elif r.Category == 4:\n",
        "      anndf.at[i, 'Rating'] = (4 + r.AgeCat + r.JKCat )\n",
        "    else:\n",
        "      anndf.at[i, 'Rating'] = (2 + r.AgeCat + r.JKCat )"
      ]
    },
    {
      "cell_type": "code",
      "execution_count": null,
      "metadata": {
        "id": "X7GpNB3nxhL1"
      },
      "outputs": [],
      "source": [
        "anndf = anndf[['NomerDonor', 'BloodType', 'Rating']]"
      ]
    },
    {
      "cell_type": "code",
      "execution_count": null,
      "metadata": {
        "id": "bDcB0OepxhL2"
      },
      "outputs": [],
      "source": [
        "oldmax = anndf.Rating.max()  \n",
        "oldmin = anndf.Rating.min()\n",
        "OldRange = (oldmax - oldmin)\n",
        "NewRange = 4\n",
        "for i, r in anndf.iterrows():\n",
        "  anndf.at[i, 'Rating'] = (float(((r.Rating - oldmin) * NewRange)) / OldRange) + 1"
      ]
    },
    {
      "cell_type": "code",
      "execution_count": null,
      "metadata": {
        "id": "qxhmmwFrxhL2"
      },
      "outputs": [],
      "source": [
        "anndf.Rating.sort_values().unique()"
      ]
    },
    {
      "cell_type": "code",
      "execution_count": null,
      "metadata": {
        "id": "B0b_5QoPxhL3"
      },
      "outputs": [],
      "source": [
        "# anndf.info()"
      ]
    },
    {
      "cell_type": "code",
      "execution_count": null,
      "metadata": {
        "id": "MZY_CDEDxhL3"
      },
      "outputs": [],
      "source": [
        "anndf['NomerDonor'] = anndf.NomerDonor.astype(int)"
      ]
    },
    {
      "cell_type": "code",
      "execution_count": null,
      "metadata": {
        "id": "G_UytfQxxhL3"
      },
      "outputs": [],
      "source": [
        "from google.colab import files\n",
        "# anndf.to_csv('annnoloc.csv', index=False) \n",
        "# files.download('d17-21.csv')"
      ]
    },
    {
      "cell_type": "markdown",
      "metadata": {
        "id": "69m2A-OoxhL4"
      },
      "source": [
        "##### --- rankin"
      ]
    },
    {
      "cell_type": "markdown",
      "metadata": {
        "id": "Fl6d-MulxhL4"
      },
      "source": [
        "###### - - - df ranking"
      ]
    },
    {
      "cell_type": "code",
      "execution_count": null,
      "metadata": {
        "id": "uvOlIM61xhL5"
      },
      "outputs": [],
      "source": [
        "donor = df[['NomerDonor', 'TanggalDonor', 'BloodType', 'JKel', 'Lokasi', 'Umur']]\n",
        "donor = donor.drop_duplicates()"
      ]
    },
    {
      "cell_type": "code",
      "execution_count": null,
      "metadata": {
        "id": "H0DposiSxhL5"
      },
      "outputs": [],
      "source": [
        "donor"
      ]
    },
    {
      "cell_type": "code",
      "execution_count": null,
      "metadata": {
        "id": "-5MAtGALxhL6"
      },
      "outputs": [],
      "source": [
        "for index, row in donor.iterrows():\n",
        "  if row.Umur >= 65:\n",
        "    donor.at[index,'AgeCat'] = 0\n",
        "  else:\n",
        "    donor.at[index,'AgeCat'] = 3\n",
        "  if row.JKel == 'Pria':\n",
        "    donor.at[index,'JKCat'] = 3\n",
        "  else:\n",
        "    donor.at[index,'JKCat'] = 2"
      ]
    },
    {
      "cell_type": "code",
      "execution_count": null,
      "metadata": {
        "id": "_b8sv-D-xhL6"
      },
      "outputs": [],
      "source": [
        "lok = 'UTD PMI SURABAYA'\n",
        "location = donor.query(str(\"Lokasi == '\") + lok + \"'\").groupby('NomerDonor').count()"
      ]
    },
    {
      "cell_type": "code",
      "execution_count": null,
      "metadata": {
        "id": "H-1tRfvwxhL7"
      },
      "outputs": [],
      "source": [
        "location = location[['BloodType']]\n",
        "location.columns = ['Loc']\n",
        "location['NomerDonor'] = location.index"
      ]
    },
    {
      "cell_type": "code",
      "execution_count": null,
      "metadata": {
        "id": "AgAWzhwQxhL8"
      },
      "outputs": [],
      "source": [
        "location = location.rename_axis(index=None, columns=None)"
      ]
    },
    {
      "cell_type": "code",
      "execution_count": null,
      "metadata": {
        "id": "0QpAJuzsxhL8"
      },
      "outputs": [],
      "source": [
        "donor = pd.merge(donor, location, on=['NomerDonor'])"
      ]
    },
    {
      "cell_type": "code",
      "execution_count": null,
      "metadata": {
        "id": "ZE9jhsZhxhL9"
      },
      "outputs": [],
      "source": [
        "maks = donor['Loc'].max()"
      ]
    },
    {
      "cell_type": "code",
      "execution_count": null,
      "metadata": {
        "id": "eCM9CuSOxhL9"
      },
      "outputs": [],
      "source": [
        "donor['Loc'] = donor['Loc']/maks"
      ]
    },
    {
      "cell_type": "code",
      "execution_count": null,
      "metadata": {
        "id": "7FCyiTVDxhL9"
      },
      "outputs": [],
      "source": [
        "donor = donor[['NomerDonor', 'TanggalDonor', 'BloodType', 'AgeCat', 'JKCat', 'Loc']]"
      ]
    },
    {
      "cell_type": "code",
      "execution_count": null,
      "metadata": {
        "id": "V5V5xXmTxhL-"
      },
      "outputs": [],
      "source": [
        "donor = donor.sort_values('TanggalDonor')"
      ]
    },
    {
      "cell_type": "markdown",
      "metadata": {
        "id": "4dc937rcxhL-"
      },
      "source": [
        "###### - - - ranking bkn desimal"
      ]
    },
    {
      "cell_type": "code",
      "execution_count": null,
      "metadata": {
        "id": "9ZlJZHRFxhL_"
      },
      "outputs": [],
      "source": [
        "import pandas as pd\n",
        "# ann = pd.read_csv('classifiedann.csv')"
      ]
    },
    {
      "cell_type": "code",
      "execution_count": null,
      "metadata": {
        "id": "C2hpzAWsxhL_"
      },
      "outputs": [],
      "source": [
        "anndf = pd.merge(donor, ann, on=['NomerDonor'])"
      ]
    },
    {
      "cell_type": "code",
      "execution_count": null,
      "metadata": {
        "id": "0V0gfrNLxhMA"
      },
      "outputs": [],
      "source": [
        "for i, r in anndf.iterrows():\n",
        "  if r.Recency <= 60:\n",
        "    anndf.at[i, 'Rating'] = 0\n",
        "  else:\n",
        "    anndf.at[i, 'Rating'] = ((r.Category*2) + r.AgeCat + r.JKCat)"
      ]
    },
    {
      "cell_type": "code",
      "execution_count": null,
      "metadata": {
        "id": "Lccl-M_HxhMA"
      },
      "outputs": [],
      "source": [
        "anndf = anndf[['NomerDonor', 'BloodType', 'Rating']]"
      ]
    },
    {
      "cell_type": "code",
      "execution_count": null,
      "metadata": {
        "id": "NIEzp2ENxhMA"
      },
      "outputs": [],
      "source": [
        "oldmax = anndf.Rating.max()  \n",
        "oldmin = anndf.Rating.min()\n",
        "OldRange = (oldmax - oldmin)\n",
        "NewRange = 4\n",
        "for i, r in anndf.iterrows():\n",
        "  anndf.at[i, 'Rating'] = (float(((r.Rating - oldmin) * NewRange)) / OldRange) + 1"
      ]
    },
    {
      "cell_type": "code",
      "execution_count": null,
      "metadata": {
        "id": "xegvVYDxxhMB"
      },
      "outputs": [],
      "source": [
        "anndf.Rating.sort_values().unique()"
      ]
    },
    {
      "cell_type": "code",
      "execution_count": null,
      "metadata": {
        "id": "8oKCRVZAxhMB"
      },
      "outputs": [],
      "source": [
        "# anndf.info()"
      ]
    },
    {
      "cell_type": "code",
      "execution_count": null,
      "metadata": {
        "id": "6ZKRY_t1xhMC"
      },
      "outputs": [],
      "source": [
        "anndf['NomerDonor'] = anndf.NomerDonor.astype(int)"
      ]
    },
    {
      "cell_type": "code",
      "execution_count": null,
      "metadata": {
        "id": "qOWBUCR-xhMC"
      },
      "outputs": [],
      "source": [
        "from google.colab import files\n",
        "anndf.to_csv('ann + 20 no11.csv', index=False) \n",
        "# files.download('no4.csv')"
      ]
    },
    {
      "cell_type": "markdown",
      "metadata": {
        "id": "_2MbKOBsxhMD"
      },
      "source": [
        "##### --- als"
      ]
    },
    {
      "cell_type": "markdown",
      "metadata": {
        "id": "_QKwMnlnxhMD"
      },
      "source": [
        "###### - - - als"
      ]
    },
    {
      "cell_type": "code",
      "execution_count": null,
      "metadata": {
        "id": "C--YFvxbxhME"
      },
      "outputs": [],
      "source": [
        "import pandas as pd\n",
        "anndf = pd.read_csv('ann + 20 no11.csv')"
      ]
    },
    {
      "cell_type": "code",
      "execution_count": null,
      "metadata": {
        "id": "pxcvmA07xhME"
      },
      "outputs": [],
      "source": [
        "jum = anndf.NomerDonor.nunique()"
      ]
    },
    {
      "cell_type": "markdown",
      "metadata": {
        "id": "WbEIGN6HxhME"
      },
      "source": [
        "###### - - - gapt"
      ]
    },
    {
      "cell_type": "code",
      "execution_count": null,
      "metadata": {
        "id": "eySuNGYKxhMF"
      },
      "outputs": [],
      "source": [
        "!pip install pyspark"
      ]
    },
    {
      "cell_type": "code",
      "execution_count": null,
      "metadata": {
        "id": "CXzp-9aQxhMF"
      },
      "outputs": [],
      "source": [
        "import pyspark\n",
        "sc = pyspark.SparkContext(appName=\"PMI\")"
      ]
    },
    {
      "cell_type": "code",
      "execution_count": null,
      "metadata": {
        "id": "I3FNPe2UxhMG"
      },
      "outputs": [],
      "source": [
        "sql = pyspark.SQLContext(sc)"
      ]
    },
    {
      "cell_type": "code",
      "execution_count": null,
      "metadata": {
        "id": "tw51Wwl6xhMG"
      },
      "outputs": [],
      "source": [
        "#sql\n",
        "from pyspark.sql import SparkSession\n",
        "spark = SparkSession(sc)"
      ]
    },
    {
      "cell_type": "markdown",
      "metadata": {
        "id": "HHtB1bq2xhMH"
      },
      "source": [
        "###### - - - start"
      ]
    },
    {
      "cell_type": "code",
      "execution_count": null,
      "metadata": {
        "id": "VcCep4BOxhMH"
      },
      "outputs": [],
      "source": [
        "annsdf=spark.createDataFrame(anndf) \n",
        "# annsdf.printSchema()\n",
        "# annsdf.show()"
      ]
    },
    {
      "cell_type": "code",
      "execution_count": null,
      "metadata": {
        "id": "7MHLwGXRxhMI"
      },
      "outputs": [],
      "source": [
        "from pyspark.ml.evaluation import RegressionEvaluator\n",
        "from pyspark.ml.recommendation import ALS\n",
        "from pyspark.ml.tuning import TrainValidationSplit, ParamGridBuilder, CrossValidator\n",
        "\n",
        "#Misah antara data training dan data test\n",
        "# (training, test) = annsdf.randomSplit([0.8, 0.2])\n",
        "\n",
        "#buat ALS model, col-colnya paten BTW harus ada user, item yang diprediksi dan rating\n",
        "als1=ALS(maxIter=10,regParam=0.01,rank=25,userCol=\"BloodType\",itemCol=\"NomerDonor\",ratingCol=\"Rating\",coldStartStrategy=\"drop\",nonnegative=True)\n",
        "model=als1.fit(annsdf)"
      ]
    },
    {
      "cell_type": "code",
      "execution_count": null,
      "metadata": {
        "id": "Y33t4DqxxhMI"
      },
      "outputs": [],
      "source": [
        "bloodfoc = model.recommendForAllUsers(jum)"
      ]
    },
    {
      "cell_type": "code",
      "execution_count": null,
      "metadata": {
        "id": "x5Sgt1CKxhMJ"
      },
      "outputs": [],
      "source": [
        "bloodfoc.select(\"BloodType\", \"recommendations.NomerDonor\", 'recommendations.Rating').show(10, False)"
      ]
    },
    {
      "cell_type": "markdown",
      "metadata": {
        "id": "gkU9slSgxhMK"
      },
      "source": [
        "###### MRR ANN"
      ]
    },
    {
      "cell_type": "code",
      "execution_count": null,
      "metadata": {
        "id": "CUTZzu46xhMK"
      },
      "outputs": [],
      "source": [
        "model_df = bloodfoc.select(\"BloodType\", \"recommendations.NomerDonor\")\n",
        "model_df.show(5, False)"
      ]
    },
    {
      "cell_type": "code",
      "execution_count": null,
      "metadata": {
        "id": "n8_GM3ZZxhML"
      },
      "outputs": [],
      "source": [
        "#rename\n",
        "model_df = model_df.withColumnRenamed(\"BloodType\",\"BloodTypeModel\") \n",
        "model_df = model_df.withColumnRenamed(\"NomerDonor\",\"NomerDonorRanking\") "
      ]
    },
    {
      "cell_type": "code",
      "execution_count": null,
      "metadata": {
        "id": "jg8Aq-2BxhML"
      },
      "outputs": [],
      "source": [
        "d22b = spark.createDataFrame(d22)\n",
        "d22b.printSchema()\n",
        "d22b.show(5)"
      ]
    },
    {
      "cell_type": "code",
      "execution_count": null,
      "metadata": {
        "id": "FdZpQXHjxhMM"
      },
      "outputs": [],
      "source": [
        "#join table sample dan model yang sudah dibuat\n",
        "joined_df = d22b.join(model_df, d22b.BloodType == model_df.BloodTypeModel)\n",
        "joined_df.show(3)"
      ]
    },
    {
      "cell_type": "code",
      "execution_count": null,
      "metadata": {
        "id": "1vl6WUH4xhMM"
      },
      "outputs": [],
      "source": [
        "joined_df.createOrReplaceTempView(\"joined_df\")"
      ]
    },
    {
      "cell_type": "code",
      "execution_count": null,
      "metadata": {
        "id": "7waSLl7dxhMN"
      },
      "outputs": [],
      "source": [
        "def reciprocal_rank(row):\n",
        "    if row['NomerDonor'] in row['NomerDonorRanking']:\n",
        "        rank = row['NomerDonorRanking'].index(row['NomerDonor']) + 1\n",
        "        score = 1.0/float(rank)\n",
        "    else:\n",
        "        rank = 0\n",
        "        score = 0.0\n",
        "    return (row[0], row[1], row[9], rank, score)"
      ]
    },
    {
      "cell_type": "code",
      "execution_count": null,
      "metadata": {
        "id": "C3yqxu_KxhMO"
      },
      "outputs": [],
      "source": [
        "#get reciprocal score for all event type\n",
        "rr_all = joined_df.rdd.map(reciprocal_rank).toDF(['NomerDonor', 'NamaDonor','BloodType', 'Ranking', 'reciprocal_score'])\n",
        "rr_all.show(20, False)"
      ]
    },
    {
      "cell_type": "code",
      "execution_count": null,
      "metadata": {
        "id": "oRKEd8eGxhMO"
      },
      "outputs": [],
      "source": [
        "rr_all.createOrReplaceTempView(\"rr_all\")"
      ]
    },
    {
      "cell_type": "code",
      "execution_count": null,
      "metadata": {
        "id": "djn91Pt6xhMP"
      },
      "outputs": [],
      "source": [
        "# sumdf = spark.sql(\"\")\n",
        "# sumdf.show()"
      ]
    },
    {
      "cell_type": "code",
      "execution_count": null,
      "metadata": {
        "id": "YXYA3ZqhxhMP"
      },
      "outputs": [],
      "source": [
        "sumdf = spark.sql(\"select count(*) from rr_all\")\n",
        "sumdf.show()"
      ]
    },
    {
      "cell_type": "code",
      "execution_count": null,
      "metadata": {
        "id": "X9BYSIxIxhMP"
      },
      "outputs": [],
      "source": [
        "sumdf = spark.sql(\"select count(*) from rr_all where reciprocal_score > 0.0\")\n",
        "sumdf.show()"
      ]
    },
    {
      "cell_type": "code",
      "execution_count": null,
      "metadata": {
        "id": "qPLx0u3GxhMQ"
      },
      "outputs": [],
      "source": [
        "sumdf = spark.sql(\"select * from rr_all where reciprocal_score <= 0.0\")\n",
        "sumdf.show()"
      ]
    },
    {
      "cell_type": "code",
      "execution_count": null,
      "metadata": {
        "id": "WTe1tdNExhMR"
      },
      "outputs": [],
      "source": [
        "all_mrr = rr_all.agg({\"reciprocal_score\":\"avg\"}).collect()[0]['avg(reciprocal_score)']"
      ]
    },
    {
      "cell_type": "code",
      "execution_count": null,
      "metadata": {
        "id": "Rl6VWMPGxhMR"
      },
      "outputs": [],
      "source": [
        "all_mrr"
      ]
    },
    {
      "cell_type": "markdown",
      "metadata": {
        "id": "3KnxVyCx-glh"
      },
      "source": [
        "### ann + 30% rbc --------------------------------------------------------------------------------"
      ]
    },
    {
      "cell_type": "markdown",
      "metadata": {
        "id": "LcuyJn_A-glh"
      },
      "source": [
        "#### _ before corona (2015-2019)"
      ]
    },
    {
      "cell_type": "markdown",
      "metadata": {
        "id": "kB-Ymr5Z-gli"
      },
      "source": [
        "##### --- read df"
      ]
    },
    {
      "cell_type": "markdown",
      "metadata": {
        "id": "uzAI8vJu-gli"
      },
      "source": [
        "###### - - - df"
      ]
    },
    {
      "cell_type": "code",
      "execution_count": null,
      "metadata": {
        "id": "JHYMRD5--gli"
      },
      "outputs": [],
      "source": [
        "jenis = ['Triple', 'Quadruple', 'Single', 'Double Besar']"
      ]
    },
    {
      "cell_type": "code",
      "execution_count": null,
      "metadata": {
        "id": "7GwfDRdk-gli"
      },
      "outputs": [],
      "source": [
        "import pandas as pd\n",
        "df = pd.read_csv('d15-19.csv')\n",
        "df.JenisKantong = df.JenisKantong.str.title()\n",
        "df = df[df['JenisKantong'].isin(jenis)]"
      ]
    },
    {
      "cell_type": "code",
      "execution_count": null,
      "metadata": {
        "id": "rBD4ENyg-gli"
      },
      "outputs": [],
      "source": [
        "d22 = df.loc[(df['TanggalDonor'] > '2019-11-30 11:59:59.999')]\n",
        "d22 = d22.loc[(d22['Lokasi'] == 'UTD PMI SURABAYA')]"
      ]
    },
    {
      "cell_type": "code",
      "execution_count": null,
      "metadata": {
        "id": "3IL-h5Qi-gli"
      },
      "outputs": [],
      "source": [
        "df = df.loc[(df['TanggalDonor'] <= '2019-11-30 11:59:59.999')]"
      ]
    },
    {
      "cell_type": "code",
      "execution_count": null,
      "metadata": {
        "id": "nylQ0SNH-gli"
      },
      "outputs": [],
      "source": [
        "d22 = d22[d22.NomerDonor.isin(df.NomerDonor)]"
      ]
    },
    {
      "cell_type": "markdown",
      "metadata": {
        "id": "8LYaw_zE-glj"
      },
      "source": [
        "###### - - - test"
      ]
    },
    {
      "cell_type": "code",
      "execution_count": null,
      "metadata": {
        "id": "bSTi6KTG-glj"
      },
      "outputs": [],
      "source": [
        "jenis = ['Triple', 'Quadruple', 'Single', 'Double Besar']"
      ]
    },
    {
      "cell_type": "code",
      "execution_count": null,
      "metadata": {
        "id": "V4YH2GWU-glj"
      },
      "outputs": [],
      "source": [
        "import pandas as pd\n",
        "test = pd.read_csv('d15-19.csv')\n",
        "test.JenisKantong = test.JenisKantong.str.title()\n",
        "test = test[test['JenisKantong'].isin(jenis)]"
      ]
    },
    {
      "cell_type": "code",
      "execution_count": null,
      "metadata": {
        "id": "SJUqiJ3h-glj"
      },
      "outputs": [],
      "source": [
        "test.JenisKantong.unique()"
      ]
    },
    {
      "cell_type": "markdown",
      "metadata": {
        "id": "s3sjnyvK-glj"
      },
      "source": [
        "##### --- data training"
      ]
    },
    {
      "cell_type": "code",
      "execution_count": null,
      "metadata": {
        "id": "I0nkfvn5-glj"
      },
      "outputs": [],
      "source": [
        "import pandas as pd\n",
        "dm = pd.read_csv('dummy ann updated.csv')"
      ]
    },
    {
      "cell_type": "code",
      "execution_count": null,
      "metadata": {
        "id": "q5f7Ao9D-glj"
      },
      "outputs": [],
      "source": [
        "dm = dm.fillna(0)"
      ]
    },
    {
      "cell_type": "code",
      "execution_count": null,
      "metadata": {
        "id": "txn-Ldef-glk"
      },
      "outputs": [],
      "source": [
        "ctest = pd.read_csv('rbc untuk ann.csv')\n",
        "# merged = pd.merge(test, ctest, on=['NomerDonor'], how='left').fillna(0)"
      ]
    },
    {
      "cell_type": "code",
      "execution_count": null,
      "metadata": {
        "id": "fwcpfeMe-glk"
      },
      "outputs": [],
      "source": [
        "t = ctest"
      ]
    },
    {
      "cell_type": "code",
      "execution_count": null,
      "metadata": {
        "id": "xxWRmczy-glk"
      },
      "outputs": [],
      "source": [
        "def preproc(df):\n",
        "  df['TanggalDonor']= pd.to_datetime(df['TanggalDonor'])\n",
        "  months = df[\"TanggalDonor\"].dt.year * 12 + df[\"TanggalDonor\"].dt.month  # series\n",
        "  df[\"Bulan\"] = months - min(months) + 1\n",
        "  df = df.loc[(df['Bulan'] >= df.Bulan.max()-59) & (df['Bulan'] <= df.Bulan.max())]\n",
        "    # print(df.Bulan.max())\n",
        "  # df['Bulan'] = df['Bulan']-48\n",
        "  ndf=df[['NomerDonor']].join(pd.get_dummies(df['Bulan'])).groupby('NomerDonor').max()\n",
        "  if df.Bulan.max() <60:\n",
        "    ndf.insert(0, 'a1', 0)\n",
        "  return ndf"
      ]
    },
    {
      "cell_type": "code",
      "execution_count": null,
      "metadata": {
        "id": "GonLsFen-glk"
      },
      "outputs": [],
      "source": [
        "ctest = preproc(ctest)"
      ]
    },
    {
      "cell_type": "code",
      "execution_count": null,
      "metadata": {
        "id": "t21999ZU-glk"
      },
      "outputs": [],
      "source": [
        "ctest.rename(columns={ctest.columns[0]: 'a1', ctest.columns[1]: 'a2', ctest.columns[2]: 'a3'\n",
        ", ctest.columns[3]: 'a4', ctest.columns[4]: 'a5', ctest.columns[5]: 'a6', ctest.columns[6]: 'a7'\n",
        ", ctest.columns[7]: 'a8', ctest.columns[8]: 'a9', ctest.columns[9]: 'a10', ctest.columns[10]: 'a11'\n",
        ", ctest.columns[11]: 'a12', ctest.columns[12]: 'b1', ctest.columns[13]: 'b2', ctest.columns[14]: 'b3'\n",
        ", ctest.columns[15]: 'b4', ctest.columns[16]: 'b5', ctest.columns[17]: 'b6', ctest.columns[18]: 'b7'\n",
        ", ctest.columns[19]: 'b8', ctest.columns[20]: 'b9', ctest.columns[21]: 'b10', ctest.columns[22]: 'b11'\n",
        ", ctest.columns[23]: 'b12', ctest.columns[24]: 'c1', ctest.columns[25]: 'c2', ctest.columns[26]: 'c3'\n",
        ", ctest.columns[27]: 'c4', ctest.columns[28]: 'c5', ctest.columns[29]: 'c6', ctest.columns[30]: 'c7'\n",
        ", ctest.columns[31]: 'c8', ctest.columns[32]: 'c9', ctest.columns[33]: 'c10', ctest.columns[34]: 'c11'\n",
        ", ctest.columns[35]: 'c12', ctest.columns[36]: 'd1', ctest.columns[37]: 'd2', ctest.columns[38]: 'd3'\n",
        ", ctest.columns[39]: 'd4', ctest.columns[40]: 'd5', ctest.columns[41]: 'd6', ctest.columns[42]: 'd7'\n",
        ", ctest.columns[43]: 'd8', ctest.columns[44]: 'd9', ctest.columns[45]: 'd10', ctest.columns[46]: 'd11'\n",
        ", ctest.columns[47]: 'd12', ctest.columns[48]: 'e1', ctest.columns[49]: 'e2', ctest.columns[50]: 'e3'\n",
        ", ctest.columns[51]: 'e4', ctest.columns[52]: 'e5', ctest.columns[53]: 'e6', ctest.columns[54]: 'e7'\n",
        ", ctest.columns[55]: 'e8', ctest.columns[56]: 'e9', ctest.columns[57]: 'e10', ctest.columns[58]: 'e11'\n",
        ", ctest.columns[59]: 'e12'},inplace=True)"
      ]
    },
    {
      "cell_type": "code",
      "execution_count": null,
      "metadata": {
        "id": "uNmIZwbU-glk"
      },
      "outputs": [],
      "source": [
        "ctest['NomerDonor'] = ctest.index\n",
        "ctest = ctest.reset_index(drop=True)"
      ]
    },
    {
      "cell_type": "code",
      "execution_count": null,
      "metadata": {
        "id": "sUKrGTxn-gll"
      },
      "outputs": [],
      "source": [
        "t = t[['NomerDonor', 'Category']]"
      ]
    },
    {
      "cell_type": "code",
      "execution_count": null,
      "metadata": {
        "id": "qGyq0o9_-gll"
      },
      "outputs": [],
      "source": [
        "testt = pd.merge(ctest, t, on=['NomerDonor'], how='inner')\n",
        "testt = testt.drop_duplicates()\n",
        "testt = testt.drop(['NomerDonor'], axis=1)"
      ]
    },
    {
      "cell_type": "code",
      "execution_count": null,
      "metadata": {
        "id": "w7I2NFBT-gll"
      },
      "outputs": [],
      "source": [
        "sample = testt.sample(frac=0.3, random_state=1)"
      ]
    },
    {
      "cell_type": "code",
      "execution_count": null,
      "metadata": {
        "id": "zJz8Yagl-gll"
      },
      "outputs": [],
      "source": [
        "dm = dm.merge(sample, how='outer')"
      ]
    },
    {
      "cell_type": "code",
      "execution_count": null,
      "metadata": {
        "id": "3XoobOoq-gll"
      },
      "outputs": [],
      "source": [
        "y = dm.Category\n",
        "x = dm.drop(columns='Category')"
      ]
    },
    {
      "cell_type": "code",
      "execution_count": null,
      "metadata": {
        "id": "18bDzYmF-glm"
      },
      "outputs": [],
      "source": [
        "from sklearn.preprocessing import OneHotEncoder\n",
        "\n",
        "y = OneHotEncoder(sparse=False)\n",
        "y = y.fit_transform(dm[['Category']])\n",
        "test_y = pd.DataFrame(y)"
      ]
    },
    {
      "cell_type": "code",
      "execution_count": null,
      "metadata": {
        "id": "4tl3zKGl-glm"
      },
      "outputs": [],
      "source": [
        "test_y.rename(columns={ test_y.columns[0]: \"Cat1\", test_y.columns[1]: \"Cat2\", test_y.columns[2]: \"Cat3\",\n",
        "                    test_y.columns[3]: \"Cat4\",test_y.columns[4]: \"Cat5\"}, \n",
        "          inplace=True)"
      ]
    },
    {
      "cell_type": "code",
      "execution_count": null,
      "metadata": {
        "id": "DZZ0hQv3-glm"
      },
      "outputs": [],
      "source": [
        "from sklearn.model_selection import train_test_split\n",
        "\n",
        "y.astype(int)\n",
        "x.astype(int)\n",
        "train_x, test_x, train_y, test_y = train_test_split(x,y,test_size=0.2, random_state=43)"
      ]
    },
    {
      "cell_type": "markdown",
      "metadata": {
        "id": "pzMRfd8p-glm"
      },
      "source": [
        "##### --- training & testing"
      ]
    },
    {
      "cell_type": "code",
      "execution_count": null,
      "metadata": {
        "id": "SAM8aW9g-glm"
      },
      "outputs": [],
      "source": [
        "# neural network\n",
        "import tensorflow as tf\n",
        "\n",
        "model = tf.keras.models.Sequential()\n",
        "model.add(tf.keras.layers.Dense(units = 64, activation = 'relu', input_shape=(60,)))\n",
        "# model.add(tf.keras.layers.Dense(units = 128 , activation = 'relu', input_shape=(60,)))\n",
        "# model.add(tf.keras.layers.Dense(units = 256, activation = 'relu', input_shape=(60,)))\n",
        "# model.add(tf.keras.layers.Dropout(0.3))\n",
        "# model.add(tf.keras.layers.Dense(units = 128, activation = 'relu'))\n",
        "# model.add(tf.keras.layers.Dropout(0.4))\n",
        "# # model.add(tf.keras.layers.Dense(units = 128, activation = 'relu'))\n",
        "# model.add(tf.keras.layers.Dropout(0.3))\n",
        "# model.add(tf.keras.layers.Dense(units = 64, activation = 'relu'))\n",
        "# model.add(tf.keras.layers.Dropout(0.3))\n",
        "# model.add(tf.keras.layers.Dense(units = 32, activation = 'relu'))\n",
        "# model.add(tf.keras.layers.Dense(units = 16, activation = 'relu'))\n",
        "# model.add(tf.keras.layers.Dropout(0.3))\n",
        "model.add(tf.keras.layers.Dense(units = 5, activation = 'softmax'))\n",
        "\n",
        "model.compile(optimizer = 'adam', loss = 'categorical_crossentropy', metrics = ['accuracy'])\n",
        "history = model.fit(train_x, train_y, validation_data = (test_x,test_y), epochs =20)"
      ]
    },
    {
      "cell_type": "code",
      "execution_count": null,
      "metadata": {
        "id": "LRCNvTE6-gln"
      },
      "outputs": [],
      "source": [
        "pred_y = model.predict(test_x)\n",
        "test_loss, test_accuracy = model.evaluate(test_x, test_y)\n",
        "print(test_loss, test_accuracy)"
      ]
    },
    {
      "cell_type": "code",
      "execution_count": null,
      "metadata": {
        "id": "Vxny5P60-glo"
      },
      "outputs": [],
      "source": [
        "# 0.35\n",
        "import matplotlib.pyplot as plt\n",
        "fig, ax = plt.subplots(1, figsize=(8,6))\n",
        "plt.plot(history.history['accuracy'])\n",
        "plt.plot(history.history['val_accuracy'])\n",
        "plt.title('Model accuracy')\n",
        "plt.ylabel('Accuracy')\n",
        "plt.xlabel('Epoch')\n",
        "plt.legend(['Train', 'Test'], loc='upper left')\n",
        "plt.show()"
      ]
    },
    {
      "cell_type": "markdown",
      "metadata": {
        "id": "tWkXxNK4-glo"
      },
      "source": [
        "##### --- implementation"
      ]
    },
    {
      "cell_type": "code",
      "execution_count": null,
      "metadata": {
        "id": "OJZ1mi4D-glo"
      },
      "outputs": [],
      "source": [
        "def preproc(df):\n",
        "  df['TanggalDonor']= pd.to_datetime(df['TanggalDonor'])\n",
        "  months = df[\"TanggalDonor\"].dt.year * 12 + df[\"TanggalDonor\"].dt.month  # series\n",
        "  df[\"Bulan\"] = months - min(months) + 1\n",
        "  df = df.loc[(df['Bulan'] >= df.Bulan.max()-59) & (df['Bulan'] <= df.Bulan.max())]\n",
        "    # print(df.Bulan.max())\n",
        "  # df['Bulan'] = df['Bulan']-48\n",
        "  ndf=df[['NomerDonor']].join(pd.get_dummies(df['Bulan'])).groupby('NomerDonor').max()\n",
        "  if df.Bulan.max() <60:\n",
        "    ndf.insert(0, 'a1', 0)\n",
        "  return ndf"
      ]
    },
    {
      "cell_type": "code",
      "execution_count": null,
      "metadata": {
        "id": "bBO7BVh_-glo"
      },
      "outputs": [],
      "source": [
        "dfs = preproc(df)\n",
        "dfs"
      ]
    },
    {
      "cell_type": "code",
      "execution_count": null,
      "metadata": {
        "id": "m3_1YPtD-glo"
      },
      "outputs": [],
      "source": [
        "ndfp = model.predict(dfs)"
      ]
    },
    {
      "cell_type": "code",
      "execution_count": null,
      "metadata": {
        "id": "_qiD0FOY-glo"
      },
      "outputs": [],
      "source": [
        "ndfd = pd.DataFrame(ndfp, columns = ['Cat1', 'Cat2', 'Cat3', 'Cat4', 'Cat5'])"
      ]
    },
    {
      "cell_type": "code",
      "execution_count": null,
      "metadata": {
        "id": "mU-G6OjD-glp"
      },
      "outputs": [],
      "source": [
        "for i, r in ndfd.iterrows():\n",
        "  ndfd.at[i,'Category']  = (0.2 * r.Cat1) + (0.2 * r.Cat2) + (0.2 * r.Cat3) + (0.2 * r.Cat4) + (0.2 * r.Cat5)"
      ]
    },
    {
      "cell_type": "code",
      "execution_count": null,
      "metadata": {
        "id": "pCXwVaTR-glp"
      },
      "outputs": [],
      "source": [
        "oldmax = ndfd.Category.max()  \n",
        "oldmin = ndfd.Category.min()\n",
        "OldRange = (oldmax - oldmin)\n",
        "NewRange = 4\n",
        "for i, r in ndfd.iterrows():\n",
        "  ndfd.at[i, 'Category'] = (float(((r.Category - oldmin) * NewRange)) / OldRange) + 1"
      ]
    },
    {
      "cell_type": "code",
      "execution_count": null,
      "metadata": {
        "id": "8xtiqOdT-glp"
      },
      "outputs": [],
      "source": [
        "hasil = dfs\n",
        "hasil['Category'] = ndfd['Category'].values\n",
        "hasil['NomerDonor'] = hasil.index\n",
        "hasil = hasil[['NomerDonor', 'Category']]"
      ]
    },
    {
      "cell_type": "code",
      "execution_count": null,
      "metadata": {
        "id": "6tGQq9T9-glp"
      },
      "outputs": [],
      "source": [
        "hasil = hasil.rename_axis(index=None, columns=None)"
      ]
    },
    {
      "cell_type": "code",
      "execution_count": null,
      "metadata": {
        "id": "IyboTm1i-glp"
      },
      "outputs": [],
      "source": [
        "ann = hasil"
      ]
    },
    {
      "cell_type": "code",
      "execution_count": null,
      "metadata": {
        "id": "X0Hg1vws-glq"
      },
      "outputs": [],
      "source": [
        "simpen = df.groupby(['NomerDonor'], as_index=False, sort=False)['TanggalDonor'].max()\n",
        "annd = pd.merge(ann, simpen, on='NomerDonor', how='left')"
      ]
    },
    {
      "cell_type": "code",
      "execution_count": null,
      "metadata": {
        "id": "qqCowPBc-glq"
      },
      "outputs": [],
      "source": [
        "from datetime import date\n",
        "\n",
        "today = pd.to_datetime(date.today())\n",
        "today = annd['TanggalDonor'].max()\n",
        "annd['Recency'] = (today - annd['TanggalDonor']).dt.days"
      ]
    },
    {
      "cell_type": "code",
      "execution_count": null,
      "metadata": {
        "id": "8hmwouoH-glq"
      },
      "outputs": [],
      "source": [
        "ann = annd[['NomerDonor', 'Category', 'Recency']]"
      ]
    },
    {
      "cell_type": "code",
      "execution_count": null,
      "metadata": {
        "id": "eHGgT1dH-glq"
      },
      "outputs": [],
      "source": [
        "ann.Category.unique()"
      ]
    },
    {
      "cell_type": "markdown",
      "metadata": {
        "id": "SNQL-8Fa-glq"
      },
      "source": [
        "###### - - - df ranking"
      ]
    },
    {
      "cell_type": "code",
      "execution_count": null,
      "metadata": {
        "id": "B1hRY_p_-glq"
      },
      "outputs": [],
      "source": [
        "donor = df[['NomerDonor', 'TanggalDonor', 'BloodType', 'JKel', 'Lokasi', 'Umur']]\n",
        "donor = donor.drop_duplicates()"
      ]
    },
    {
      "cell_type": "code",
      "execution_count": null,
      "metadata": {
        "id": "WBi8Gf9Y-glq"
      },
      "outputs": [],
      "source": [
        "donor"
      ]
    },
    {
      "cell_type": "code",
      "execution_count": null,
      "metadata": {
        "id": "k18RTpZ3-glr"
      },
      "outputs": [],
      "source": [
        "for index, row in donor.iterrows():\n",
        "  if row.Umur >= 65:\n",
        "    donor.at[index,'AgeCat'] = 0\n",
        "  else:\n",
        "    donor.at[index,'AgeCat'] = 3\n",
        "  if row.JKel == 'Pria':\n",
        "    donor.at[index,'JKCat'] = 3\n",
        "  else:\n",
        "    donor.at[index,'JKCat'] = 2"
      ]
    },
    {
      "cell_type": "code",
      "execution_count": null,
      "metadata": {
        "id": "yirB1VmP-glr"
      },
      "outputs": [],
      "source": [
        "lok = 'UTD PMI SURABAYA'\n",
        "location = donor.query(str(\"Lokasi == '\") + lok + \"'\").groupby('NomerDonor').count()"
      ]
    },
    {
      "cell_type": "code",
      "execution_count": null,
      "metadata": {
        "id": "wj8hS2Lc-glr"
      },
      "outputs": [],
      "source": [
        "location = location[['BloodType']]\n",
        "location.columns = ['Loc']\n",
        "location['NomerDonor'] = location.index"
      ]
    },
    {
      "cell_type": "code",
      "execution_count": null,
      "metadata": {
        "id": "hfIWXpLk-glr"
      },
      "outputs": [],
      "source": [
        "location = location.rename_axis(index=None, columns=None)"
      ]
    },
    {
      "cell_type": "code",
      "execution_count": null,
      "metadata": {
        "id": "poZULGb_-glr"
      },
      "outputs": [],
      "source": [
        "donor = pd.merge(donor, location, on=['NomerDonor'])"
      ]
    },
    {
      "cell_type": "code",
      "execution_count": null,
      "metadata": {
        "id": "1R1lj7Ix-glr"
      },
      "outputs": [],
      "source": [
        "maks = donor['Loc'].max()"
      ]
    },
    {
      "cell_type": "code",
      "execution_count": null,
      "metadata": {
        "id": "ttzq5KLW-glr"
      },
      "outputs": [],
      "source": [
        "donor['Loc'] = donor['Loc']/maks"
      ]
    },
    {
      "cell_type": "code",
      "execution_count": null,
      "metadata": {
        "id": "ee_5z3fs-glr"
      },
      "outputs": [],
      "source": [
        "donor = donor[['NomerDonor', 'TanggalDonor', 'BloodType', 'AgeCat', 'JKCat', 'Loc']]"
      ]
    },
    {
      "cell_type": "code",
      "execution_count": null,
      "metadata": {
        "id": "fYpOkypT-gls"
      },
      "outputs": [],
      "source": [
        "donor = donor.sort_values('TanggalDonor')"
      ]
    },
    {
      "cell_type": "markdown",
      "metadata": {
        "id": "Mf5hNxjr-gls"
      },
      "source": [
        "###### - - - ranking"
      ]
    },
    {
      "cell_type": "code",
      "execution_count": null,
      "metadata": {
        "id": "PH_D5lY--gls"
      },
      "outputs": [],
      "source": [
        "import pandas as pd\n",
        "# ann = pd.read_csv('classifiedann.csv')"
      ]
    },
    {
      "cell_type": "code",
      "execution_count": null,
      "metadata": {
        "id": "9s1LP-HX-gls"
      },
      "outputs": [],
      "source": [
        "# rbc.rename(columns = {'Recency1':'Recency'}, inplace = True)"
      ]
    },
    {
      "cell_type": "code",
      "execution_count": null,
      "metadata": {
        "id": "41Rqcg_f-gls"
      },
      "outputs": [],
      "source": [
        "anndf = pd.merge(donor, ann, on=['NomerDonor'])"
      ]
    },
    {
      "cell_type": "code",
      "execution_count": null,
      "metadata": {
        "id": "TY10ROSQ-gls"
      },
      "outputs": [],
      "source": [
        "for i, r in anndf.iterrows():\n",
        "  if r.Recency <= 60:\n",
        "    anndf.at[i, 'Rating'] = 0\n",
        "  else:\n",
        "    if r.Category == 1:\n",
        "      anndf.at[i, 'Rating'] = (10 + r.AgeCat + r.JKCat)\n",
        "    elif r.Category == 2:\n",
        "      anndf.at[i, 'Rating'] = (8 + r.AgeCat + r.JKCat) \n",
        "    elif r.Category == 3:\n",
        "      anndf.at[i, 'Rating'] = (6 + r.AgeCat + r.JKCat )\n",
        "    elif r.Category == 4:\n",
        "      anndf.at[i, 'Rating'] = (4 + r.AgeCat + r.JKCat )\n",
        "    else:\n",
        "      anndf.at[i, 'Rating'] = (2 + r.AgeCat + r.JKCat )"
      ]
    },
    {
      "cell_type": "code",
      "execution_count": null,
      "metadata": {
        "id": "04XK7hE--gls"
      },
      "outputs": [],
      "source": [
        "anndf = anndf[['NomerDonor', 'BloodType', 'Rating']]"
      ]
    },
    {
      "cell_type": "code",
      "execution_count": null,
      "metadata": {
        "id": "9nRPqU9h-gls"
      },
      "outputs": [],
      "source": [
        "oldmax = anndf.Rating.max()  \n",
        "oldmin = anndf.Rating.min()\n",
        "OldRange = (oldmax - oldmin)\n",
        "NewRange = 4\n",
        "for i, r in anndf.iterrows():\n",
        "  anndf.at[i, 'Rating'] = (float(((r.Rating - oldmin) * NewRange)) / OldRange) + 1"
      ]
    },
    {
      "cell_type": "code",
      "execution_count": null,
      "metadata": {
        "id": "W1pIPBro-gls"
      },
      "outputs": [],
      "source": [
        "anndf.Rating.sort_values().unique()"
      ]
    },
    {
      "cell_type": "code",
      "execution_count": null,
      "metadata": {
        "id": "j-1PZENf-glt"
      },
      "outputs": [],
      "source": [
        "# anndf.info()"
      ]
    },
    {
      "cell_type": "code",
      "execution_count": null,
      "metadata": {
        "id": "kxco6vPz-glt"
      },
      "outputs": [],
      "source": [
        "anndf['NomerDonor'] = anndf.NomerDonor.astype(int)"
      ]
    },
    {
      "cell_type": "code",
      "execution_count": null,
      "metadata": {
        "id": "9w5_7qX4-glt"
      },
      "outputs": [],
      "source": [
        "from google.colab import files\n",
        "# anndf.to_csv('annnoloc.csv', index=False) \n",
        "# files.download('d17-21.csv')"
      ]
    },
    {
      "cell_type": "markdown",
      "metadata": {
        "id": "Fx3y_ir4-glt"
      },
      "source": [
        "##### --- rankin"
      ]
    },
    {
      "cell_type": "markdown",
      "metadata": {
        "id": "0wtj37ZM-glt"
      },
      "source": [
        "###### - - - df ranking"
      ]
    },
    {
      "cell_type": "code",
      "execution_count": null,
      "metadata": {
        "id": "o4gkLSpm-glt"
      },
      "outputs": [],
      "source": [
        "donor = df[['NomerDonor', 'TanggalDonor', 'BloodType', 'JKel', 'Lokasi', 'Umur']]\n",
        "donor = donor.drop_duplicates()"
      ]
    },
    {
      "cell_type": "code",
      "execution_count": null,
      "metadata": {
        "id": "xGzsW1cU-glt"
      },
      "outputs": [],
      "source": [
        "donor"
      ]
    },
    {
      "cell_type": "code",
      "execution_count": null,
      "metadata": {
        "id": "t1iVW2q6-glt"
      },
      "outputs": [],
      "source": [
        "for index, row in donor.iterrows():\n",
        "  if row.Umur >= 65:\n",
        "    donor.at[index,'AgeCat'] = 0\n",
        "  else:\n",
        "    donor.at[index,'AgeCat'] = 3\n",
        "  if row.JKel == 'Pria':\n",
        "    donor.at[index,'JKCat'] = 3\n",
        "  else:\n",
        "    donor.at[index,'JKCat'] = 2"
      ]
    },
    {
      "cell_type": "code",
      "execution_count": null,
      "metadata": {
        "id": "wUsEH7XS-glu"
      },
      "outputs": [],
      "source": [
        "lok = 'UTD PMI SURABAYA'\n",
        "location = donor.query(str(\"Lokasi == '\") + lok + \"'\").groupby('NomerDonor').count()"
      ]
    },
    {
      "cell_type": "code",
      "execution_count": null,
      "metadata": {
        "id": "rGZ9dApR-glu"
      },
      "outputs": [],
      "source": [
        "location = location[['BloodType']]\n",
        "location.columns = ['Loc']\n",
        "location['NomerDonor'] = location.index"
      ]
    },
    {
      "cell_type": "code",
      "execution_count": null,
      "metadata": {
        "id": "CBbRROQq-glu"
      },
      "outputs": [],
      "source": [
        "location = location.rename_axis(index=None, columns=None)"
      ]
    },
    {
      "cell_type": "code",
      "execution_count": null,
      "metadata": {
        "id": "euGWGEbf-glu"
      },
      "outputs": [],
      "source": [
        "donor = pd.merge(donor, location, on=['NomerDonor'])"
      ]
    },
    {
      "cell_type": "code",
      "execution_count": null,
      "metadata": {
        "id": "UBf-deph-glu"
      },
      "outputs": [],
      "source": [
        "maks = donor['Loc'].max()"
      ]
    },
    {
      "cell_type": "code",
      "execution_count": null,
      "metadata": {
        "id": "mWNc6tol-glu"
      },
      "outputs": [],
      "source": [
        "donor['Loc'] = donor['Loc']/maks"
      ]
    },
    {
      "cell_type": "code",
      "execution_count": null,
      "metadata": {
        "id": "MzvL3R_2-glu"
      },
      "outputs": [],
      "source": [
        "donor = donor[['NomerDonor', 'TanggalDonor', 'BloodType', 'AgeCat', 'JKCat', 'Loc']]"
      ]
    },
    {
      "cell_type": "code",
      "execution_count": null,
      "metadata": {
        "id": "_gjPFJai-glu"
      },
      "outputs": [],
      "source": [
        "donor = donor.sort_values('TanggalDonor')"
      ]
    },
    {
      "cell_type": "markdown",
      "metadata": {
        "id": "D6glzJIT-glv"
      },
      "source": [
        "###### - - - ranking bkn desimal"
      ]
    },
    {
      "cell_type": "code",
      "execution_count": null,
      "metadata": {
        "id": "Wf4_PUvp-glv"
      },
      "outputs": [],
      "source": [
        "import pandas as pd\n",
        "# ann = pd.read_csv('classifiedann.csv')"
      ]
    },
    {
      "cell_type": "code",
      "execution_count": null,
      "metadata": {
        "id": "3LVyTITI-glv"
      },
      "outputs": [],
      "source": [
        "anndf = pd.merge(donor, ann, on=['NomerDonor'])"
      ]
    },
    {
      "cell_type": "code",
      "execution_count": null,
      "metadata": {
        "id": "VV7XxnA9-glv"
      },
      "outputs": [],
      "source": [
        "for i, r in anndf.iterrows():\n",
        "  if r.Recency <= 60:\n",
        "    anndf.at[i, 'Rating'] = 0\n",
        "  else:\n",
        "    anndf.at[i, 'Rating'] = ((r.Category*2) + r.AgeCat + r.JKCat)"
      ]
    },
    {
      "cell_type": "code",
      "execution_count": null,
      "metadata": {
        "id": "AAFM84hI-glv"
      },
      "outputs": [],
      "source": [
        "anndf = anndf[['NomerDonor', 'BloodType', 'Rating']]"
      ]
    },
    {
      "cell_type": "code",
      "execution_count": null,
      "metadata": {
        "id": "IsTyTPBZ-glv"
      },
      "outputs": [],
      "source": [
        "oldmax = anndf.Rating.max()  \n",
        "oldmin = anndf.Rating.min()\n",
        "OldRange = (oldmax - oldmin)\n",
        "NewRange = 4\n",
        "for i, r in anndf.iterrows():\n",
        "  anndf.at[i, 'Rating'] = (float(((r.Rating - oldmin) * NewRange)) / OldRange) + 1"
      ]
    },
    {
      "cell_type": "code",
      "execution_count": null,
      "metadata": {
        "id": "pZwnD6wT-glv"
      },
      "outputs": [],
      "source": [
        "anndf.Rating.sort_values().unique()"
      ]
    },
    {
      "cell_type": "code",
      "execution_count": null,
      "metadata": {
        "id": "Wbe7Ay6W-glv"
      },
      "outputs": [],
      "source": [
        "# anndf.info()"
      ]
    },
    {
      "cell_type": "code",
      "execution_count": null,
      "metadata": {
        "id": "W1L0Lbka-glw"
      },
      "outputs": [],
      "source": [
        "anndf['NomerDonor'] = anndf.NomerDonor.astype(int)"
      ]
    },
    {
      "cell_type": "code",
      "execution_count": null,
      "metadata": {
        "id": "nb_D-AJS-glw"
      },
      "outputs": [],
      "source": [
        "from google.colab import files\n",
        "anndf.to_csv('ann + 20 no1.csv', index=False) \n",
        "# files.download('no4.csv')"
      ]
    },
    {
      "cell_type": "markdown",
      "metadata": {
        "id": "Bjm7I7A3-glw"
      },
      "source": [
        "##### --- als"
      ]
    },
    {
      "cell_type": "markdown",
      "metadata": {
        "id": "aox-Rlf4-glw"
      },
      "source": [
        "###### - - - als"
      ]
    },
    {
      "cell_type": "code",
      "execution_count": null,
      "metadata": {
        "id": "tC1UMUgl-glw"
      },
      "outputs": [],
      "source": [
        "import pandas as pd\n",
        "anndf = pd.read_csv('ann + 20 no1.csv')"
      ]
    },
    {
      "cell_type": "code",
      "execution_count": null,
      "metadata": {
        "id": "Kl-N_Rlj-glw"
      },
      "outputs": [],
      "source": [
        "jum = anndf.NomerDonor.nunique()"
      ]
    },
    {
      "cell_type": "markdown",
      "metadata": {
        "id": "6anmI-W4-glw"
      },
      "source": [
        "###### - - - gapt"
      ]
    },
    {
      "cell_type": "code",
      "execution_count": null,
      "metadata": {
        "id": "0Qe_N8fu-glw"
      },
      "outputs": [],
      "source": [
        "!pip install pyspark"
      ]
    },
    {
      "cell_type": "code",
      "execution_count": null,
      "metadata": {
        "id": "1quh6W2S-glx"
      },
      "outputs": [],
      "source": [
        "import pyspark\n",
        "sc = pyspark.SparkContext(appName=\"PMI\")"
      ]
    },
    {
      "cell_type": "code",
      "execution_count": null,
      "metadata": {
        "id": "J8U0b3Ez-glx"
      },
      "outputs": [],
      "source": [
        "sql = pyspark.SQLContext(sc)"
      ]
    },
    {
      "cell_type": "code",
      "execution_count": null,
      "metadata": {
        "id": "1mfRJzJE-glx"
      },
      "outputs": [],
      "source": [
        "#sql\n",
        "from pyspark.sql import SparkSession\n",
        "spark = SparkSession(sc)"
      ]
    },
    {
      "cell_type": "markdown",
      "metadata": {
        "id": "sV9LBBW3-glx"
      },
      "source": [
        "###### - - - start"
      ]
    },
    {
      "cell_type": "code",
      "execution_count": null,
      "metadata": {
        "id": "-qOA37MZ-glx"
      },
      "outputs": [],
      "source": [
        "annsdf=spark.createDataFrame(anndf) \n",
        "# annsdf.printSchema()\n",
        "# annsdf.show()"
      ]
    },
    {
      "cell_type": "code",
      "execution_count": null,
      "metadata": {
        "id": "U2NCUUwg-glx"
      },
      "outputs": [],
      "source": [
        "from pyspark.ml.evaluation import RegressionEvaluator\n",
        "from pyspark.ml.recommendation import ALS\n",
        "from pyspark.ml.tuning import TrainValidationSplit, ParamGridBuilder, CrossValidator\n",
        "\n",
        "#Misah antara data training dan data test\n",
        "# (training, test) = annsdf.randomSplit([0.8, 0.2])\n",
        "\n",
        "#buat ALS model, col-colnya paten BTW harus ada user, item yang diprediksi dan rating\n",
        "als1=ALS(maxIter=10,regParam=0.01,rank=25,userCol=\"BloodType\",itemCol=\"NomerDonor\",ratingCol=\"Rating\",coldStartStrategy=\"drop\",nonnegative=True)\n",
        "model=als1.fit(annsdf)"
      ]
    },
    {
      "cell_type": "code",
      "execution_count": null,
      "metadata": {
        "id": "0BlHDAfg-glx"
      },
      "outputs": [],
      "source": [
        "bloodfoc = model.recommendForAllUsers(jum)"
      ]
    },
    {
      "cell_type": "code",
      "execution_count": null,
      "metadata": {
        "id": "FBOHw5lD-glx"
      },
      "outputs": [],
      "source": [
        "bloodfoc.select(\"BloodType\", \"recommendations.NomerDonor\", 'recommendations.Rating').show(10, False)"
      ]
    },
    {
      "cell_type": "markdown",
      "metadata": {
        "id": "qu9vXycp-gly"
      },
      "source": [
        "###### MRR ANN"
      ]
    },
    {
      "cell_type": "code",
      "execution_count": null,
      "metadata": {
        "id": "jCzAHbem-gly"
      },
      "outputs": [],
      "source": [
        "model_df = bloodfoc.select(\"BloodType\", \"recommendations.NomerDonor\")\n",
        "model_df.show(5, False)"
      ]
    },
    {
      "cell_type": "code",
      "execution_count": null,
      "metadata": {
        "id": "jzxPby_F-gly"
      },
      "outputs": [],
      "source": [
        "#rename\n",
        "model_df = model_df.withColumnRenamed(\"BloodType\",\"BloodTypeModel\") \n",
        "model_df = model_df.withColumnRenamed(\"NomerDonor\",\"NomerDonorRanking\") "
      ]
    },
    {
      "cell_type": "code",
      "execution_count": null,
      "metadata": {
        "id": "spqVasqj-gly"
      },
      "outputs": [],
      "source": [
        "d22b = spark.createDataFrame(d22)\n",
        "d22b.printSchema()\n",
        "d22b.show(5)"
      ]
    },
    {
      "cell_type": "code",
      "execution_count": null,
      "metadata": {
        "id": "HFsaCJoE-gly"
      },
      "outputs": [],
      "source": [
        "#join table sample dan model yang sudah dibuat\n",
        "joined_df = d22b.join(model_df, d22b.BloodType == model_df.BloodTypeModel)\n",
        "joined_df.show(3)"
      ]
    },
    {
      "cell_type": "code",
      "execution_count": null,
      "metadata": {
        "id": "oVYw-iv1-gly"
      },
      "outputs": [],
      "source": [
        "joined_df.createOrReplaceTempView(\"joined_df\")"
      ]
    },
    {
      "cell_type": "code",
      "execution_count": null,
      "metadata": {
        "id": "S-n6EX7k-glz"
      },
      "outputs": [],
      "source": [
        "def reciprocal_rank(row):\n",
        "    if row['NomerDonor'] in row['NomerDonorRanking']:\n",
        "        rank = row['NomerDonorRanking'].index(row['NomerDonor']) + 1\n",
        "        score = 1.0/float(rank)\n",
        "    else:\n",
        "        rank = 0\n",
        "        score = 0.0\n",
        "    return (row[0], row[1], row[9], rank, score)"
      ]
    },
    {
      "cell_type": "code",
      "execution_count": null,
      "metadata": {
        "id": "Bnn4k93f-glz"
      },
      "outputs": [],
      "source": [
        "#get reciprocal score for all event type\n",
        "rr_all = joined_df.rdd.map(reciprocal_rank).toDF(['NomerDonor', 'NamaDonor','BloodType', 'Ranking', 'reciprocal_score'])\n",
        "rr_all.show(20, False)"
      ]
    },
    {
      "cell_type": "code",
      "execution_count": null,
      "metadata": {
        "id": "Yhkh6QpX-glz"
      },
      "outputs": [],
      "source": [
        "rr_all.createOrReplaceTempView(\"rr_all\")"
      ]
    },
    {
      "cell_type": "code",
      "execution_count": null,
      "metadata": {
        "id": "0m8BM304-glz"
      },
      "outputs": [],
      "source": [
        "# sumdf = spark.sql(\"\")\n",
        "# sumdf.show()"
      ]
    },
    {
      "cell_type": "code",
      "execution_count": null,
      "metadata": {
        "id": "triElrdJ-glz"
      },
      "outputs": [],
      "source": [
        "sumdf = spark.sql(\"select count(*) from rr_all\")\n",
        "sumdf.show()"
      ]
    },
    {
      "cell_type": "code",
      "execution_count": null,
      "metadata": {
        "id": "dvB03pEd-glz"
      },
      "outputs": [],
      "source": [
        "sumdf = spark.sql(\"select count(*) from rr_all where reciprocal_score > 0.0\")\n",
        "sumdf.show()"
      ]
    },
    {
      "cell_type": "code",
      "execution_count": null,
      "metadata": {
        "id": "IDSsOLrO-gl0"
      },
      "outputs": [],
      "source": [
        "sumdf = spark.sql(\"select * from rr_all where reciprocal_score <= 0.0\")\n",
        "sumdf.show()"
      ]
    },
    {
      "cell_type": "code",
      "execution_count": null,
      "metadata": {
        "id": "JvFGPGSc-gl0"
      },
      "outputs": [],
      "source": [
        "all_mrr = rr_all.agg({\"reciprocal_score\":\"avg\"}).collect()[0]['avg(reciprocal_score)']"
      ]
    },
    {
      "cell_type": "code",
      "execution_count": null,
      "metadata": {
        "id": "6mGYpiAH-gl1"
      },
      "outputs": [],
      "source": [
        "all_mrr"
      ]
    },
    {
      "cell_type": "markdown",
      "metadata": {
        "id": "ZuX4k9uzekt2"
      },
      "source": [
        "### ann + 40% rbc --------------------------------------------------------------------------------"
      ]
    },
    {
      "cell_type": "markdown",
      "metadata": {
        "id": "GWdbLdrjekt2"
      },
      "source": [
        "#### _ before corona (2015-2019)"
      ]
    },
    {
      "cell_type": "markdown",
      "metadata": {
        "id": "zOWI-yhLekt2"
      },
      "source": [
        "##### --- read df"
      ]
    },
    {
      "cell_type": "markdown",
      "metadata": {
        "id": "NSc_DbtNekt3"
      },
      "source": [
        "###### - - - df"
      ]
    },
    {
      "cell_type": "code",
      "execution_count": null,
      "metadata": {
        "id": "OXBrhqmiekt3"
      },
      "outputs": [],
      "source": [
        "jenis = ['Triple', 'Quadruple', 'Single', 'Double Besar']"
      ]
    },
    {
      "cell_type": "code",
      "execution_count": null,
      "metadata": {
        "id": "tpfUpIagekt3"
      },
      "outputs": [],
      "source": [
        "import pandas as pd\n",
        "df = pd.read_csv('d15-19.csv')\n",
        "df.JenisKantong = df.JenisKantong.str.title()\n",
        "df = df[df['JenisKantong'].isin(jenis)]"
      ]
    },
    {
      "cell_type": "code",
      "execution_count": null,
      "metadata": {
        "id": "KYMtC8FZekt3"
      },
      "outputs": [],
      "source": [
        "d22 = df.loc[(df['TanggalDonor'] > '2019-11-30 11:59:59.999')]\n",
        "d22 = d22.loc[(d22['Lokasi'] == 'UTD PMI SURABAYA')]"
      ]
    },
    {
      "cell_type": "code",
      "execution_count": null,
      "metadata": {
        "id": "TLz1bNL_ekt3"
      },
      "outputs": [],
      "source": [
        "df = df.loc[(df['TanggalDonor'] <= '2019-11-30 11:59:59.999')]"
      ]
    },
    {
      "cell_type": "code",
      "execution_count": null,
      "metadata": {
        "id": "6_RD6iS8ekt3"
      },
      "outputs": [],
      "source": [
        "d22 = d22[d22.NomerDonor.isin(df.NomerDonor)]"
      ]
    },
    {
      "cell_type": "markdown",
      "metadata": {
        "id": "zBkp8kFBekt3"
      },
      "source": [
        "###### - - - test"
      ]
    },
    {
      "cell_type": "code",
      "execution_count": null,
      "metadata": {
        "id": "UEnSQCt-ekt4"
      },
      "outputs": [],
      "source": [
        "jenis = ['Triple', 'Quadruple', 'Single', 'Double Besar']"
      ]
    },
    {
      "cell_type": "code",
      "execution_count": null,
      "metadata": {
        "id": "7yGPnKiBekt4"
      },
      "outputs": [],
      "source": [
        "import pandas as pd\n",
        "test = pd.read_csv('d15-19.csv')\n",
        "test.JenisKantong = test.JenisKantong.str.title()\n",
        "test = test[test['JenisKantong'].isin(jenis)]"
      ]
    },
    {
      "cell_type": "code",
      "execution_count": null,
      "metadata": {
        "id": "dHvzzP50ekt4"
      },
      "outputs": [],
      "source": [
        "test.JenisKantong.unique()"
      ]
    },
    {
      "cell_type": "markdown",
      "metadata": {
        "id": "sAK6LeeXekt4"
      },
      "source": [
        "##### --- data training"
      ]
    },
    {
      "cell_type": "code",
      "execution_count": null,
      "metadata": {
        "id": "F5cH-LAeekt4"
      },
      "outputs": [],
      "source": [
        "import pandas as pd\n",
        "dm = pd.read_csv('dummy ann updated.csv')"
      ]
    },
    {
      "cell_type": "code",
      "execution_count": null,
      "metadata": {
        "id": "Qq0Mb7t8ekt4"
      },
      "outputs": [],
      "source": [
        "dm = dm.fillna(0)"
      ]
    },
    {
      "cell_type": "code",
      "execution_count": null,
      "metadata": {
        "id": "gpCHpoXMekt4"
      },
      "outputs": [],
      "source": [
        "ctest = pd.read_csv('rbc untuk ann.csv')\n",
        "# merged = pd.merge(test, ctest, on=['NomerDonor'], how='left').fillna(0)"
      ]
    },
    {
      "cell_type": "code",
      "execution_count": null,
      "metadata": {
        "id": "13eWz3LYekt5"
      },
      "outputs": [],
      "source": [
        "t = ctest"
      ]
    },
    {
      "cell_type": "code",
      "execution_count": null,
      "metadata": {
        "id": "GS_wxOesekt5"
      },
      "outputs": [],
      "source": [
        "def preproc(df):\n",
        "  df['TanggalDonor']= pd.to_datetime(df['TanggalDonor'])\n",
        "  months = df[\"TanggalDonor\"].dt.year * 12 + df[\"TanggalDonor\"].dt.month  # series\n",
        "  df[\"Bulan\"] = months - min(months) + 1\n",
        "  df = df.loc[(df['Bulan'] >= df.Bulan.max()-59) & (df['Bulan'] <= df.Bulan.max())]\n",
        "    # print(df.Bulan.max())\n",
        "  # df['Bulan'] = df['Bulan']-48\n",
        "  ndf=df[['NomerDonor']].join(pd.get_dummies(df['Bulan'])).groupby('NomerDonor').max()\n",
        "  if df.Bulan.max() <60:\n",
        "    ndf.insert(0, 'a1', 0)\n",
        "  return ndf"
      ]
    },
    {
      "cell_type": "code",
      "execution_count": null,
      "metadata": {
        "id": "dwBxMgW8ekt5"
      },
      "outputs": [],
      "source": [
        "ctest = preproc(ctest)"
      ]
    },
    {
      "cell_type": "code",
      "execution_count": null,
      "metadata": {
        "id": "DCHJ72Fbekt5"
      },
      "outputs": [],
      "source": [
        "ctest.rename(columns={ctest.columns[0]: 'a1', ctest.columns[1]: 'a2', ctest.columns[2]: 'a3'\n",
        ", ctest.columns[3]: 'a4', ctest.columns[4]: 'a5', ctest.columns[5]: 'a6', ctest.columns[6]: 'a7'\n",
        ", ctest.columns[7]: 'a8', ctest.columns[8]: 'a9', ctest.columns[9]: 'a10', ctest.columns[10]: 'a11'\n",
        ", ctest.columns[11]: 'a12', ctest.columns[12]: 'b1', ctest.columns[13]: 'b2', ctest.columns[14]: 'b3'\n",
        ", ctest.columns[15]: 'b4', ctest.columns[16]: 'b5', ctest.columns[17]: 'b6', ctest.columns[18]: 'b7'\n",
        ", ctest.columns[19]: 'b8', ctest.columns[20]: 'b9', ctest.columns[21]: 'b10', ctest.columns[22]: 'b11'\n",
        ", ctest.columns[23]: 'b12', ctest.columns[24]: 'c1', ctest.columns[25]: 'c2', ctest.columns[26]: 'c3'\n",
        ", ctest.columns[27]: 'c4', ctest.columns[28]: 'c5', ctest.columns[29]: 'c6', ctest.columns[30]: 'c7'\n",
        ", ctest.columns[31]: 'c8', ctest.columns[32]: 'c9', ctest.columns[33]: 'c10', ctest.columns[34]: 'c11'\n",
        ", ctest.columns[35]: 'c12', ctest.columns[36]: 'd1', ctest.columns[37]: 'd2', ctest.columns[38]: 'd3'\n",
        ", ctest.columns[39]: 'd4', ctest.columns[40]: 'd5', ctest.columns[41]: 'd6', ctest.columns[42]: 'd7'\n",
        ", ctest.columns[43]: 'd8', ctest.columns[44]: 'd9', ctest.columns[45]: 'd10', ctest.columns[46]: 'd11'\n",
        ", ctest.columns[47]: 'd12', ctest.columns[48]: 'e1', ctest.columns[49]: 'e2', ctest.columns[50]: 'e3'\n",
        ", ctest.columns[51]: 'e4', ctest.columns[52]: 'e5', ctest.columns[53]: 'e6', ctest.columns[54]: 'e7'\n",
        ", ctest.columns[55]: 'e8', ctest.columns[56]: 'e9', ctest.columns[57]: 'e10', ctest.columns[58]: 'e11'\n",
        ", ctest.columns[59]: 'e12'},inplace=True)"
      ]
    },
    {
      "cell_type": "code",
      "execution_count": null,
      "metadata": {
        "id": "oIYfYELHekt5"
      },
      "outputs": [],
      "source": [
        "ctest['NomerDonor'] = ctest.index\n",
        "ctest = ctest.reset_index(drop=True)"
      ]
    },
    {
      "cell_type": "code",
      "execution_count": null,
      "metadata": {
        "id": "c0MBfC-aekt5"
      },
      "outputs": [],
      "source": [
        "t = t[['NomerDonor', 'Category']]"
      ]
    },
    {
      "cell_type": "code",
      "execution_count": null,
      "metadata": {
        "id": "1YUcIV4Iekt5"
      },
      "outputs": [],
      "source": [
        "testt = pd.merge(ctest, t, on=['NomerDonor'], how='inner')\n",
        "testt = testt.drop_duplicates()\n",
        "testt = testt.drop(['NomerDonor'], axis=1)"
      ]
    },
    {
      "cell_type": "code",
      "execution_count": null,
      "metadata": {
        "id": "1kH_T2QDekt6"
      },
      "outputs": [],
      "source": [
        "sample = testt.sample(frac=0.2, random_state=1)"
      ]
    },
    {
      "cell_type": "code",
      "execution_count": null,
      "metadata": {
        "id": "gPNqJGmWekt6"
      },
      "outputs": [],
      "source": [
        "dm = dm.merge(sample, how='outer')"
      ]
    },
    {
      "cell_type": "code",
      "execution_count": null,
      "metadata": {
        "id": "nEwM5ETYekt6"
      },
      "outputs": [],
      "source": [
        "y = dm.Category\n",
        "x = dm.drop(columns='Category')"
      ]
    },
    {
      "cell_type": "code",
      "execution_count": null,
      "metadata": {
        "id": "uwZNrKcDekt6"
      },
      "outputs": [],
      "source": [
        "from sklearn.preprocessing import OneHotEncoder\n",
        "\n",
        "y = OneHotEncoder(sparse=False)\n",
        "y = y.fit_transform(dm[['Category']])\n",
        "test_y = pd.DataFrame(y)"
      ]
    },
    {
      "cell_type": "code",
      "execution_count": null,
      "metadata": {
        "id": "2quoa8YTekt6"
      },
      "outputs": [],
      "source": [
        "test_y.rename(columns={ test_y.columns[0]: \"Cat1\", test_y.columns[1]: \"Cat2\", test_y.columns[2]: \"Cat3\",\n",
        "                    test_y.columns[3]: \"Cat4\",test_y.columns[4]: \"Cat5\"}, \n",
        "          inplace=True)"
      ]
    },
    {
      "cell_type": "code",
      "execution_count": null,
      "metadata": {
        "id": "NmIuYjFSekt6"
      },
      "outputs": [],
      "source": [
        "from sklearn.model_selection import train_test_split\n",
        "\n",
        "y.astype(int)\n",
        "x.astype(int)\n",
        "train_x, test_x, train_y, test_y = train_test_split(x,y,test_size=0.2, random_state=43)"
      ]
    },
    {
      "cell_type": "markdown",
      "metadata": {
        "id": "n_IQh-W9ekt6"
      },
      "source": [
        "##### --- training & testing"
      ]
    },
    {
      "cell_type": "code",
      "execution_count": null,
      "metadata": {
        "id": "WJ1N_ytFekt6"
      },
      "outputs": [],
      "source": [
        "# neural network\n",
        "import tensorflow as tf\n",
        "\n",
        "model = tf.keras.models.Sequential()\n",
        "model.add(tf.keras.layers.Dense(units = 64, activation = 'relu', input_shape=(60,)))\n",
        "# model.add(tf.keras.layers.Dense(units = 128 , activation = 'relu', input_shape=(60,)))\n",
        "# model.add(tf.keras.layers.Dense(units = 256, activation = 'relu', input_shape=(60,)))\n",
        "# model.add(tf.keras.layers.Dropout(0.3))\n",
        "# model.add(tf.keras.layers.Dense(units = 128, activation = 'relu'))\n",
        "# model.add(tf.keras.layers.Dropout(0.4))\n",
        "# # model.add(tf.keras.layers.Dense(units = 128, activation = 'relu'))\n",
        "# model.add(tf.keras.layers.Dropout(0.3))\n",
        "# model.add(tf.keras.layers.Dense(units = 64, activation = 'relu'))\n",
        "# model.add(tf.keras.layers.Dropout(0.3))\n",
        "# model.add(tf.keras.layers.Dense(units = 32, activation = 'relu'))\n",
        "# model.add(tf.keras.layers.Dense(units = 16, activation = 'relu'))\n",
        "# model.add(tf.keras.layers.Dropout(0.3))\n",
        "model.add(tf.keras.layers.Dense(units = 5, activation = 'softmax'))\n",
        "\n",
        "model.compile(optimizer = 'adam', loss = 'categorical_crossentropy', metrics = ['accuracy'])\n",
        "history = model.fit(train_x, train_y, validation_data = (test_x,test_y), epochs =20)"
      ]
    },
    {
      "cell_type": "code",
      "execution_count": null,
      "metadata": {
        "id": "KIpQ_SJwekt7"
      },
      "outputs": [],
      "source": [
        "pred_y = model.predict(test_x)\n",
        "test_loss, test_accuracy = model.evaluate(test_x, test_y)\n",
        "print(test_loss, test_accuracy)"
      ]
    },
    {
      "cell_type": "code",
      "execution_count": null,
      "metadata": {
        "id": "0fS9bejAekt7"
      },
      "outputs": [],
      "source": [
        "# 0.35\n",
        "import matplotlib.pyplot as plt\n",
        "fig, ax = plt.subplots(1, figsize=(8,6))\n",
        "plt.plot(history.history['accuracy'])\n",
        "plt.plot(history.history['val_accuracy'])\n",
        "plt.title('Model accuracy')\n",
        "plt.ylabel('Accuracy')\n",
        "plt.xlabel('Epoch')\n",
        "plt.legend(['Train', 'Test'], loc='upper left')\n",
        "plt.show()"
      ]
    },
    {
      "cell_type": "markdown",
      "metadata": {
        "id": "K0wRJd8Zekt7"
      },
      "source": [
        "##### --- implementation"
      ]
    },
    {
      "cell_type": "code",
      "execution_count": null,
      "metadata": {
        "id": "PyAS7dMbekt7"
      },
      "outputs": [],
      "source": [
        "def preproc(df):\n",
        "  df['TanggalDonor']= pd.to_datetime(df['TanggalDonor'])\n",
        "  months = df[\"TanggalDonor\"].dt.year * 12 + df[\"TanggalDonor\"].dt.month  # series\n",
        "  df[\"Bulan\"] = months - min(months) + 1\n",
        "  df = df.loc[(df['Bulan'] >= df.Bulan.max()-59) & (df['Bulan'] <= df.Bulan.max())]\n",
        "    # print(df.Bulan.max())\n",
        "  # df['Bulan'] = df['Bulan']-48\n",
        "  ndf=df[['NomerDonor']].join(pd.get_dummies(df['Bulan'])).groupby('NomerDonor').max()\n",
        "  if df.Bulan.max() <60:\n",
        "    ndf.insert(0, 'a1', 0)\n",
        "  return ndf"
      ]
    },
    {
      "cell_type": "code",
      "execution_count": null,
      "metadata": {
        "id": "5U-9DhhXekt7"
      },
      "outputs": [],
      "source": [
        "dfs = preproc(df)\n",
        "dfs"
      ]
    },
    {
      "cell_type": "code",
      "execution_count": null,
      "metadata": {
        "id": "dn8pBFFyekt7"
      },
      "outputs": [],
      "source": [
        "ndfp = model.predict(dfs)"
      ]
    },
    {
      "cell_type": "code",
      "execution_count": null,
      "metadata": {
        "id": "08qxSGzjekt8"
      },
      "outputs": [],
      "source": [
        "ndfd = pd.DataFrame(ndfp, columns = ['Cat1', 'Cat2', 'Cat3', 'Cat4', 'Cat5'])"
      ]
    },
    {
      "cell_type": "code",
      "execution_count": null,
      "metadata": {
        "id": "BMeRRoAnekt8"
      },
      "outputs": [],
      "source": [
        "for i, r in ndfd.iterrows():\n",
        "  ndfd.at[i,'Category']  = (0.2 * r.Cat1) + (0.2 * r.Cat2) + (0.2 * r.Cat3) + (0.2 * r.Cat4) + (0.2 * r.Cat5)"
      ]
    },
    {
      "cell_type": "code",
      "execution_count": null,
      "metadata": {
        "id": "PFJYTm_Aekt8"
      },
      "outputs": [],
      "source": [
        "oldmax = ndfd.Category.max()  \n",
        "oldmin = ndfd.Category.min()\n",
        "OldRange = (oldmax - oldmin)\n",
        "NewRange = 4\n",
        "for i, r in ndfd.iterrows():\n",
        "  ndfd.at[i, 'Category'] = (float(((r.Category - oldmin) * NewRange)) / OldRange) + 1"
      ]
    },
    {
      "cell_type": "code",
      "execution_count": null,
      "metadata": {
        "id": "7euxbCFsekt8"
      },
      "outputs": [],
      "source": [
        "hasil = dfs\n",
        "hasil['Category'] = ndfd['Category'].values\n",
        "hasil['NomerDonor'] = hasil.index\n",
        "hasil = hasil[['NomerDonor', 'Category']]"
      ]
    },
    {
      "cell_type": "code",
      "execution_count": null,
      "metadata": {
        "id": "5vbt5Q4kekt8"
      },
      "outputs": [],
      "source": [
        "hasil = hasil.rename_axis(index=None, columns=None)"
      ]
    },
    {
      "cell_type": "code",
      "execution_count": null,
      "metadata": {
        "id": "Rx8NOb2Bekt8"
      },
      "outputs": [],
      "source": [
        "ann = hasil"
      ]
    },
    {
      "cell_type": "code",
      "execution_count": null,
      "metadata": {
        "id": "kFnIA0IYekt8"
      },
      "outputs": [],
      "source": [
        "simpen = df.groupby(['NomerDonor'], as_index=False, sort=False)['TanggalDonor'].max()\n",
        "annd = pd.merge(ann, simpen, on='NomerDonor', how='left')"
      ]
    },
    {
      "cell_type": "code",
      "execution_count": null,
      "metadata": {
        "id": "Aqidw8EEekt8"
      },
      "outputs": [],
      "source": [
        "from datetime import date\n",
        "\n",
        "today = pd.to_datetime(date.today())\n",
        "today = annd['TanggalDonor'].max()\n",
        "annd['Recency'] = (today - annd['TanggalDonor']).dt.days"
      ]
    },
    {
      "cell_type": "code",
      "execution_count": null,
      "metadata": {
        "id": "0u-pzR6qekt9"
      },
      "outputs": [],
      "source": [
        "ann = annd[['NomerDonor', 'Category', 'Recency']]"
      ]
    },
    {
      "cell_type": "code",
      "execution_count": null,
      "metadata": {
        "id": "MF13JD5dekt9"
      },
      "outputs": [],
      "source": [
        "ann.Category.unique()"
      ]
    },
    {
      "cell_type": "markdown",
      "metadata": {
        "id": "TpSDKJogekt9"
      },
      "source": [
        "###### - - - df ranking"
      ]
    },
    {
      "cell_type": "code",
      "execution_count": null,
      "metadata": {
        "id": "SwfveM-Aekt9"
      },
      "outputs": [],
      "source": [
        "donor = df[['NomerDonor', 'TanggalDonor', 'BloodType', 'JKel', 'Lokasi', 'Umur']]\n",
        "donor = donor.drop_duplicates()"
      ]
    },
    {
      "cell_type": "code",
      "execution_count": null,
      "metadata": {
        "id": "gMQsVCEiekt9"
      },
      "outputs": [],
      "source": [
        "donor"
      ]
    },
    {
      "cell_type": "code",
      "execution_count": null,
      "metadata": {
        "id": "_vPtbTNqekt9"
      },
      "outputs": [],
      "source": [
        "for index, row in donor.iterrows():\n",
        "  if row.Umur >= 65:\n",
        "    donor.at[index,'AgeCat'] = 0\n",
        "  else:\n",
        "    donor.at[index,'AgeCat'] = 3\n",
        "  if row.JKel == 'Pria':\n",
        "    donor.at[index,'JKCat'] = 3\n",
        "  else:\n",
        "    donor.at[index,'JKCat'] = 2"
      ]
    },
    {
      "cell_type": "code",
      "execution_count": null,
      "metadata": {
        "id": "XHLudW7rekt9"
      },
      "outputs": [],
      "source": [
        "lok = 'UTD PMI SURABAYA'\n",
        "location = donor.query(str(\"Lokasi == '\") + lok + \"'\").groupby('NomerDonor').count()"
      ]
    },
    {
      "cell_type": "code",
      "execution_count": null,
      "metadata": {
        "id": "eU7iIh8Wekt-"
      },
      "outputs": [],
      "source": [
        "location = location[['BloodType']]\n",
        "location.columns = ['Loc']\n",
        "location['NomerDonor'] = location.index"
      ]
    },
    {
      "cell_type": "code",
      "execution_count": null,
      "metadata": {
        "id": "ThOQ-ibNekt-"
      },
      "outputs": [],
      "source": [
        "location = location.rename_axis(index=None, columns=None)"
      ]
    },
    {
      "cell_type": "code",
      "execution_count": null,
      "metadata": {
        "id": "TU9mQPbdekt-"
      },
      "outputs": [],
      "source": [
        "donor = pd.merge(donor, location, on=['NomerDonor'])"
      ]
    },
    {
      "cell_type": "code",
      "execution_count": null,
      "metadata": {
        "id": "vDUm0diYekt-"
      },
      "outputs": [],
      "source": [
        "maks = donor['Loc'].max()"
      ]
    },
    {
      "cell_type": "code",
      "execution_count": null,
      "metadata": {
        "id": "IWzwKUYbekt-"
      },
      "outputs": [],
      "source": [
        "donor['Loc'] = donor['Loc']/maks"
      ]
    },
    {
      "cell_type": "code",
      "execution_count": null,
      "metadata": {
        "id": "sbrclzF3ekt-"
      },
      "outputs": [],
      "source": [
        "donor = donor[['NomerDonor', 'TanggalDonor', 'BloodType', 'AgeCat', 'JKCat', 'Loc']]"
      ]
    },
    {
      "cell_type": "code",
      "execution_count": null,
      "metadata": {
        "id": "sZkaEEaaekt-"
      },
      "outputs": [],
      "source": [
        "donor = donor.sort_values('TanggalDonor')"
      ]
    },
    {
      "cell_type": "markdown",
      "metadata": {
        "id": "Z3rSXxR7ekt-"
      },
      "source": [
        "###### - - - ranking"
      ]
    },
    {
      "cell_type": "code",
      "execution_count": null,
      "metadata": {
        "id": "AgyX3RWKekt-"
      },
      "outputs": [],
      "source": [
        "import pandas as pd\n",
        "# ann = pd.read_csv('classifiedann.csv')"
      ]
    },
    {
      "cell_type": "code",
      "execution_count": null,
      "metadata": {
        "id": "fvXJJ5YVekt_"
      },
      "outputs": [],
      "source": [
        "# rbc.rename(columns = {'Recency1':'Recency'}, inplace = True)"
      ]
    },
    {
      "cell_type": "code",
      "execution_count": null,
      "metadata": {
        "id": "wmiQaA_pekt_"
      },
      "outputs": [],
      "source": [
        "anndf = pd.merge(donor, ann, on=['NomerDonor'])"
      ]
    },
    {
      "cell_type": "code",
      "execution_count": null,
      "metadata": {
        "id": "wvR6mZdRekt_"
      },
      "outputs": [],
      "source": [
        "for i, r in anndf.iterrows():\n",
        "  if r.Recency <= 60:\n",
        "    anndf.at[i, 'Rating'] = 0\n",
        "  else:\n",
        "    if r.Category == 1:\n",
        "      anndf.at[i, 'Rating'] = (10 + r.AgeCat + r.JKCat)\n",
        "    elif r.Category == 2:\n",
        "      anndf.at[i, 'Rating'] = (8 + r.AgeCat + r.JKCat) \n",
        "    elif r.Category == 3:\n",
        "      anndf.at[i, 'Rating'] = (6 + r.AgeCat + r.JKCat )\n",
        "    elif r.Category == 4:\n",
        "      anndf.at[i, 'Rating'] = (4 + r.AgeCat + r.JKCat )\n",
        "    else:\n",
        "      anndf.at[i, 'Rating'] = (2 + r.AgeCat + r.JKCat )"
      ]
    },
    {
      "cell_type": "code",
      "execution_count": null,
      "metadata": {
        "id": "i8Yex7Lsekt_"
      },
      "outputs": [],
      "source": [
        "anndf = anndf[['NomerDonor', 'BloodType', 'Rating']]"
      ]
    },
    {
      "cell_type": "code",
      "execution_count": null,
      "metadata": {
        "id": "ndx-a-TPekt_"
      },
      "outputs": [],
      "source": [
        "oldmax = anndf.Rating.max()  \n",
        "oldmin = anndf.Rating.min()\n",
        "OldRange = (oldmax - oldmin)\n",
        "NewRange = 4\n",
        "for i, r in anndf.iterrows():\n",
        "  anndf.at[i, 'Rating'] = (float(((r.Rating - oldmin) * NewRange)) / OldRange) + 1"
      ]
    },
    {
      "cell_type": "code",
      "execution_count": null,
      "metadata": {
        "id": "2YulycK4ekt_"
      },
      "outputs": [],
      "source": [
        "anndf.Rating.sort_values().unique()"
      ]
    },
    {
      "cell_type": "code",
      "execution_count": null,
      "metadata": {
        "id": "YO2KIzbYekt_"
      },
      "outputs": [],
      "source": [
        "# anndf.info()"
      ]
    },
    {
      "cell_type": "code",
      "execution_count": null,
      "metadata": {
        "id": "YLfKbpdqekt_"
      },
      "outputs": [],
      "source": [
        "anndf['NomerDonor'] = anndf.NomerDonor.astype(int)"
      ]
    },
    {
      "cell_type": "code",
      "execution_count": null,
      "metadata": {
        "id": "KgueE9JCekuA"
      },
      "outputs": [],
      "source": [
        "from google.colab import files\n",
        "# anndf.to_csv('annnoloc.csv', index=False) \n",
        "# files.download('d17-21.csv')"
      ]
    },
    {
      "cell_type": "markdown",
      "metadata": {
        "id": "zL0BQuoaekuA"
      },
      "source": [
        "##### --- rankin"
      ]
    },
    {
      "cell_type": "markdown",
      "metadata": {
        "id": "Jf1yIQVlekuA"
      },
      "source": [
        "###### - - - df ranking"
      ]
    },
    {
      "cell_type": "code",
      "execution_count": null,
      "metadata": {
        "id": "WjL712LpekuA"
      },
      "outputs": [],
      "source": [
        "donor = df[['NomerDonor', 'TanggalDonor', 'BloodType', 'JKel', 'Lokasi', 'Umur']]\n",
        "donor = donor.drop_duplicates()"
      ]
    },
    {
      "cell_type": "code",
      "execution_count": null,
      "metadata": {
        "id": "_hvg2mNbekuA"
      },
      "outputs": [],
      "source": [
        "donor"
      ]
    },
    {
      "cell_type": "code",
      "execution_count": null,
      "metadata": {
        "id": "nEKxUjL8ekuA"
      },
      "outputs": [],
      "source": [
        "for index, row in donor.iterrows():\n",
        "  if row.Umur >= 65:\n",
        "    donor.at[index,'AgeCat'] = 0\n",
        "  else:\n",
        "    donor.at[index,'AgeCat'] = 3\n",
        "  if row.JKel == 'Pria':\n",
        "    donor.at[index,'JKCat'] = 3\n",
        "  else:\n",
        "    donor.at[index,'JKCat'] = 2"
      ]
    },
    {
      "cell_type": "code",
      "execution_count": null,
      "metadata": {
        "id": "uM6YjeZhekuA"
      },
      "outputs": [],
      "source": [
        "lok = 'UTD PMI SURABAYA'\n",
        "location = donor.query(str(\"Lokasi == '\") + lok + \"'\").groupby('NomerDonor').count()"
      ]
    },
    {
      "cell_type": "code",
      "execution_count": null,
      "metadata": {
        "id": "8Kba5GUpekuA"
      },
      "outputs": [],
      "source": [
        "location = location[['BloodType']]\n",
        "location.columns = ['Loc']\n",
        "location['NomerDonor'] = location.index"
      ]
    },
    {
      "cell_type": "code",
      "execution_count": null,
      "metadata": {
        "id": "0R7_Ua6hekuA"
      },
      "outputs": [],
      "source": [
        "location = location.rename_axis(index=None, columns=None)"
      ]
    },
    {
      "cell_type": "code",
      "execution_count": null,
      "metadata": {
        "id": "PjM_yQm_ekuB"
      },
      "outputs": [],
      "source": [
        "donor = pd.merge(donor, location, on=['NomerDonor'])"
      ]
    },
    {
      "cell_type": "code",
      "execution_count": null,
      "metadata": {
        "id": "LGgXJNjnekuB"
      },
      "outputs": [],
      "source": [
        "maks = donor['Loc'].max()"
      ]
    },
    {
      "cell_type": "code",
      "execution_count": null,
      "metadata": {
        "id": "tzB5VEO7ekuB"
      },
      "outputs": [],
      "source": [
        "donor['Loc'] = donor['Loc']/maks"
      ]
    },
    {
      "cell_type": "code",
      "execution_count": null,
      "metadata": {
        "id": "0TL8PwUqekuB"
      },
      "outputs": [],
      "source": [
        "donor = donor[['NomerDonor', 'TanggalDonor', 'BloodType', 'AgeCat', 'JKCat', 'Loc']]"
      ]
    },
    {
      "cell_type": "code",
      "execution_count": null,
      "metadata": {
        "id": "ZpNZcXl3ekuB"
      },
      "outputs": [],
      "source": [
        "donor = donor.sort_values('TanggalDonor')"
      ]
    },
    {
      "cell_type": "markdown",
      "metadata": {
        "id": "UkyARtbOekuB"
      },
      "source": [
        "###### - - - ranking bkn desimal"
      ]
    },
    {
      "cell_type": "code",
      "execution_count": null,
      "metadata": {
        "id": "Xo8TxhbuekuB"
      },
      "outputs": [],
      "source": [
        "import pandas as pd\n",
        "# ann = pd.read_csv('classifiedann.csv')"
      ]
    },
    {
      "cell_type": "code",
      "execution_count": null,
      "metadata": {
        "id": "ujDmr4b9ekuC"
      },
      "outputs": [],
      "source": [
        "anndf = pd.merge(donor, ann, on=['NomerDonor'])"
      ]
    },
    {
      "cell_type": "code",
      "execution_count": null,
      "metadata": {
        "id": "_CsrwkF9ekuC"
      },
      "outputs": [],
      "source": [
        "for i, r in anndf.iterrows():\n",
        "  if r.Recency <= 60:\n",
        "    anndf.at[i, 'Rating'] = 0\n",
        "  else:\n",
        "    anndf.at[i, 'Rating'] = ((r.Category*2) + r.AgeCat + r.JKCat)"
      ]
    },
    {
      "cell_type": "code",
      "execution_count": null,
      "metadata": {
        "id": "vhusiG4SekuC"
      },
      "outputs": [],
      "source": [
        "anndf = anndf[['NomerDonor', 'BloodType', 'Rating']]"
      ]
    },
    {
      "cell_type": "code",
      "execution_count": null,
      "metadata": {
        "id": "URTI_mIGekuC"
      },
      "outputs": [],
      "source": [
        "oldmax = anndf.Rating.max()  \n",
        "oldmin = anndf.Rating.min()\n",
        "OldRange = (oldmax - oldmin)\n",
        "NewRange = 4\n",
        "for i, r in anndf.iterrows():\n",
        "  anndf.at[i, 'Rating'] = (float(((r.Rating - oldmin) * NewRange)) / OldRange) + 1"
      ]
    },
    {
      "cell_type": "code",
      "execution_count": null,
      "metadata": {
        "id": "0akvUn4-ekuC"
      },
      "outputs": [],
      "source": [
        "anndf.Rating.sort_values().unique()"
      ]
    },
    {
      "cell_type": "code",
      "execution_count": null,
      "metadata": {
        "id": "W5gzubgbekuC"
      },
      "outputs": [],
      "source": [
        "# anndf.info()"
      ]
    },
    {
      "cell_type": "code",
      "execution_count": null,
      "metadata": {
        "id": "oMqSi58tekuD"
      },
      "outputs": [],
      "source": [
        "anndf['NomerDonor'] = anndf.NomerDonor.astype(int)"
      ]
    },
    {
      "cell_type": "code",
      "execution_count": null,
      "metadata": {
        "id": "yj8oEY-CekuD"
      },
      "outputs": [],
      "source": [
        "from google.colab import files\n",
        "anndf.to_csv('ann + 20 no1.csv', index=False) \n",
        "# files.download('no4.csv')"
      ]
    },
    {
      "cell_type": "markdown",
      "metadata": {
        "id": "iaviESELekuD"
      },
      "source": [
        "##### --- als"
      ]
    },
    {
      "cell_type": "markdown",
      "metadata": {
        "id": "MeClWrBLekuD"
      },
      "source": [
        "###### - - - als"
      ]
    },
    {
      "cell_type": "code",
      "execution_count": null,
      "metadata": {
        "id": "fZB4dxv9ekuD"
      },
      "outputs": [],
      "source": [
        "import pandas as pd\n",
        "anndf = pd.read_csv('ann + 20 no1.csv')"
      ]
    },
    {
      "cell_type": "code",
      "execution_count": null,
      "metadata": {
        "id": "D1WEfgGbekuD"
      },
      "outputs": [],
      "source": [
        "jum = anndf.NomerDonor.nunique()"
      ]
    },
    {
      "cell_type": "markdown",
      "metadata": {
        "id": "kqklLEVPekuD"
      },
      "source": [
        "###### - - - gapt"
      ]
    },
    {
      "cell_type": "code",
      "execution_count": null,
      "metadata": {
        "id": "KvSbbWhPekuD"
      },
      "outputs": [],
      "source": [
        "!pip install pyspark"
      ]
    },
    {
      "cell_type": "code",
      "execution_count": null,
      "metadata": {
        "id": "f-HQBJXBekuE"
      },
      "outputs": [],
      "source": [
        "import pyspark\n",
        "sc = pyspark.SparkContext(appName=\"PMI\")"
      ]
    },
    {
      "cell_type": "code",
      "execution_count": null,
      "metadata": {
        "id": "Bk5N5oHTekuE"
      },
      "outputs": [],
      "source": [
        "sql = pyspark.SQLContext(sc)"
      ]
    },
    {
      "cell_type": "code",
      "execution_count": null,
      "metadata": {
        "id": "3OcREcv_ekuE"
      },
      "outputs": [],
      "source": [
        "#sql\n",
        "from pyspark.sql import SparkSession\n",
        "spark = SparkSession(sc)"
      ]
    },
    {
      "cell_type": "markdown",
      "metadata": {
        "id": "mBltb77YekuE"
      },
      "source": [
        "###### - - - start"
      ]
    },
    {
      "cell_type": "code",
      "execution_count": null,
      "metadata": {
        "id": "DOeAGv6kekuE"
      },
      "outputs": [],
      "source": [
        "annsdf=spark.createDataFrame(anndf) \n",
        "# annsdf.printSchema()\n",
        "# annsdf.show()"
      ]
    },
    {
      "cell_type": "code",
      "execution_count": null,
      "metadata": {
        "id": "hLubTx7EekuF"
      },
      "outputs": [],
      "source": [
        "from pyspark.ml.evaluation import RegressionEvaluator\n",
        "from pyspark.ml.recommendation import ALS\n",
        "from pyspark.ml.tuning import TrainValidationSplit, ParamGridBuilder, CrossValidator\n",
        "\n",
        "#Misah antara data training dan data test\n",
        "# (training, test) = annsdf.randomSplit([0.8, 0.2])\n",
        "\n",
        "#buat ALS model, col-colnya paten BTW harus ada user, item yang diprediksi dan rating\n",
        "als1=ALS(maxIter=10,regParam=0.01,rank=25,userCol=\"BloodType\",itemCol=\"NomerDonor\",ratingCol=\"Rating\",coldStartStrategy=\"drop\",nonnegative=True)\n",
        "model=als1.fit(annsdf)"
      ]
    },
    {
      "cell_type": "code",
      "execution_count": null,
      "metadata": {
        "id": "snC2j28NekuF"
      },
      "outputs": [],
      "source": [
        "bloodfoc = model.recommendForAllUsers(jum)"
      ]
    },
    {
      "cell_type": "code",
      "execution_count": null,
      "metadata": {
        "id": "foM8EJMHekuF"
      },
      "outputs": [],
      "source": [
        "bloodfoc.select(\"BloodType\", \"recommendations.NomerDonor\", 'recommendations.Rating').show(10, False)"
      ]
    },
    {
      "cell_type": "markdown",
      "metadata": {
        "id": "pjdgUEg9ekuG"
      },
      "source": [
        "###### MRR ANN"
      ]
    },
    {
      "cell_type": "code",
      "execution_count": null,
      "metadata": {
        "id": "bHzrxxYQekuG"
      },
      "outputs": [],
      "source": [
        "model_df = bloodfoc.select(\"BloodType\", \"recommendations.NomerDonor\")\n",
        "model_df.show(5, False)"
      ]
    },
    {
      "cell_type": "code",
      "execution_count": null,
      "metadata": {
        "id": "orA3HLK3ekuG"
      },
      "outputs": [],
      "source": [
        "#rename\n",
        "model_df = model_df.withColumnRenamed(\"BloodType\",\"BloodTypeModel\") \n",
        "model_df = model_df.withColumnRenamed(\"NomerDonor\",\"NomerDonorRanking\") "
      ]
    },
    {
      "cell_type": "code",
      "execution_count": null,
      "metadata": {
        "id": "G4eZQI07ekuG"
      },
      "outputs": [],
      "source": [
        "d22b = spark.createDataFrame(d22)\n",
        "d22b.printSchema()\n",
        "d22b.show(5)"
      ]
    },
    {
      "cell_type": "code",
      "execution_count": null,
      "metadata": {
        "id": "EEc1V54RekuH"
      },
      "outputs": [],
      "source": [
        "#join table sample dan model yang sudah dibuat\n",
        "joined_df = d22b.join(model_df, d22b.BloodType == model_df.BloodTypeModel)\n",
        "joined_df.show(3)"
      ]
    },
    {
      "cell_type": "code",
      "execution_count": null,
      "metadata": {
        "id": "WiOyxjywekuH"
      },
      "outputs": [],
      "source": [
        "joined_df.createOrReplaceTempView(\"joined_df\")"
      ]
    },
    {
      "cell_type": "code",
      "execution_count": null,
      "metadata": {
        "id": "Nhcs7cDTekuH"
      },
      "outputs": [],
      "source": [
        "def reciprocal_rank(row):\n",
        "    if row['NomerDonor'] in row['NomerDonorRanking']:\n",
        "        rank = row['NomerDonorRanking'].index(row['NomerDonor']) + 1\n",
        "        score = 1.0/float(rank)\n",
        "    else:\n",
        "        rank = 0\n",
        "        score = 0.0\n",
        "    return (row[0], row[1], row[9], rank, score)"
      ]
    },
    {
      "cell_type": "code",
      "execution_count": null,
      "metadata": {
        "id": "psrYpTGfekuH"
      },
      "outputs": [],
      "source": [
        "#get reciprocal score for all event type\n",
        "rr_all = joined_df.rdd.map(reciprocal_rank).toDF(['NomerDonor', 'NamaDonor','BloodType', 'Ranking', 'reciprocal_score'])\n",
        "rr_all.show(20, False)"
      ]
    },
    {
      "cell_type": "code",
      "execution_count": null,
      "metadata": {
        "id": "3-s7Q-CaekuI"
      },
      "outputs": [],
      "source": [
        "rr_all.createOrReplaceTempView(\"rr_all\")"
      ]
    },
    {
      "cell_type": "code",
      "execution_count": null,
      "metadata": {
        "id": "mC0mYSdwekuI"
      },
      "outputs": [],
      "source": [
        "# sumdf = spark.sql(\"\")\n",
        "# sumdf.show()"
      ]
    },
    {
      "cell_type": "code",
      "execution_count": null,
      "metadata": {
        "id": "9f5zl9blekuI"
      },
      "outputs": [],
      "source": [
        "sumdf = spark.sql(\"select count(*) from rr_all\")\n",
        "sumdf.show()"
      ]
    },
    {
      "cell_type": "code",
      "execution_count": null,
      "metadata": {
        "id": "EXHszZ5TekuI"
      },
      "outputs": [],
      "source": [
        "sumdf = spark.sql(\"select count(*) from rr_all where reciprocal_score > 0.0\")\n",
        "sumdf.show()"
      ]
    },
    {
      "cell_type": "code",
      "execution_count": null,
      "metadata": {
        "id": "f2uqJCH_ekuI"
      },
      "outputs": [],
      "source": [
        "sumdf = spark.sql(\"select * from rr_all where reciprocal_score <= 0.0\")\n",
        "sumdf.show()"
      ]
    },
    {
      "cell_type": "code",
      "execution_count": null,
      "metadata": {
        "id": "Gz3tMrlpekuJ"
      },
      "outputs": [],
      "source": [
        "all_mrr = rr_all.agg({\"reciprocal_score\":\"avg\"}).collect()[0]['avg(reciprocal_score)']"
      ]
    },
    {
      "cell_type": "code",
      "execution_count": null,
      "metadata": {
        "id": "tMrRTxtLekuJ"
      },
      "outputs": [],
      "source": [
        "all_mrr"
      ]
    },
    {
      "cell_type": "markdown",
      "metadata": {
        "id": "H75nVcA4fER6"
      },
      "source": [
        "### ann + 50% rbc --------------------------------------------------------------------------------"
      ]
    },
    {
      "cell_type": "markdown",
      "metadata": {
        "id": "PMeawgaHfER6"
      },
      "source": [
        "#### _ before corona (2015-2019)"
      ]
    },
    {
      "cell_type": "markdown",
      "metadata": {
        "id": "7o53hNa7fER6"
      },
      "source": [
        "##### --- read df"
      ]
    },
    {
      "cell_type": "markdown",
      "metadata": {
        "id": "NvWhP-c2fER7"
      },
      "source": [
        "###### - - - df"
      ]
    },
    {
      "cell_type": "code",
      "execution_count": null,
      "metadata": {
        "id": "dwI3YxEIfER7"
      },
      "outputs": [],
      "source": [
        "jenis = ['Triple', 'Quadruple', 'Single', 'Double Besar']"
      ]
    },
    {
      "cell_type": "code",
      "execution_count": null,
      "metadata": {
        "id": "DTRwUeLwfER7"
      },
      "outputs": [],
      "source": [
        "import pandas as pd\n",
        "df = pd.read_csv('d15-19.csv')\n",
        "df.JenisKantong = df.JenisKantong.str.title()\n",
        "df = df[df['JenisKantong'].isin(jenis)]"
      ]
    },
    {
      "cell_type": "code",
      "execution_count": null,
      "metadata": {
        "id": "vHU3UVSgfER7"
      },
      "outputs": [],
      "source": [
        "d22 = df.loc[(df['TanggalDonor'] > '2019-11-30 11:59:59.999')]\n",
        "d22 = d22.loc[(d22['Lokasi'] == 'UTD PMI SURABAYA')]"
      ]
    },
    {
      "cell_type": "code",
      "execution_count": null,
      "metadata": {
        "id": "Oolax4W8fER7"
      },
      "outputs": [],
      "source": [
        "df = df.loc[(df['TanggalDonor'] <= '2019-11-30 11:59:59.999')]"
      ]
    },
    {
      "cell_type": "code",
      "execution_count": null,
      "metadata": {
        "id": "nvjQz-AtfER7"
      },
      "outputs": [],
      "source": [
        "d22 = d22[d22.NomerDonor.isin(df.NomerDonor)]"
      ]
    },
    {
      "cell_type": "markdown",
      "metadata": {
        "id": "48GDTo1kfER7"
      },
      "source": [
        "###### - - - test"
      ]
    },
    {
      "cell_type": "code",
      "execution_count": null,
      "metadata": {
        "id": "AFvetPL8fER7"
      },
      "outputs": [],
      "source": [
        "jenis = ['Triple', 'Quadruple', 'Single', 'Double Besar']"
      ]
    },
    {
      "cell_type": "code",
      "execution_count": null,
      "metadata": {
        "id": "y5k8UDuQfER7"
      },
      "outputs": [],
      "source": [
        "import pandas as pd\n",
        "test = pd.read_csv('d15-19.csv')\n",
        "test.JenisKantong = test.JenisKantong.str.title()\n",
        "test = test[test['JenisKantong'].isin(jenis)]"
      ]
    },
    {
      "cell_type": "code",
      "execution_count": null,
      "metadata": {
        "id": "4hJ0TLIEfER8"
      },
      "outputs": [],
      "source": [
        "test.JenisKantong.unique()"
      ]
    },
    {
      "cell_type": "markdown",
      "metadata": {
        "id": "AE5iA7LlfER8"
      },
      "source": [
        "##### --- data training"
      ]
    },
    {
      "cell_type": "code",
      "execution_count": null,
      "metadata": {
        "id": "12GW8CXHfER8"
      },
      "outputs": [],
      "source": [
        "import pandas as pd\n",
        "dm = pd.read_csv('dummy ann updated.csv')"
      ]
    },
    {
      "cell_type": "code",
      "execution_count": null,
      "metadata": {
        "id": "6nCRpVHUfER8"
      },
      "outputs": [],
      "source": [
        "dm = dm.fillna(0)"
      ]
    },
    {
      "cell_type": "code",
      "execution_count": null,
      "metadata": {
        "id": "5-GEvy-1fER8"
      },
      "outputs": [],
      "source": [
        "ctest = pd.read_csv('rbc untuk ann.csv')\n",
        "# merged = pd.merge(test, ctest, on=['NomerDonor'], how='left').fillna(0)"
      ]
    },
    {
      "cell_type": "code",
      "execution_count": null,
      "metadata": {
        "id": "1y_BRUNgfER8"
      },
      "outputs": [],
      "source": [
        "t = ctest"
      ]
    },
    {
      "cell_type": "code",
      "execution_count": null,
      "metadata": {
        "id": "fPBFH3ckfER8"
      },
      "outputs": [],
      "source": [
        "def preproc(df):\n",
        "  df['TanggalDonor']= pd.to_datetime(df['TanggalDonor'])\n",
        "  months = df[\"TanggalDonor\"].dt.year * 12 + df[\"TanggalDonor\"].dt.month  # series\n",
        "  df[\"Bulan\"] = months - min(months) + 1\n",
        "  df = df.loc[(df['Bulan'] >= df.Bulan.max()-59) & (df['Bulan'] <= df.Bulan.max())]\n",
        "    # print(df.Bulan.max())\n",
        "  # df['Bulan'] = df['Bulan']-48\n",
        "  ndf=df[['NomerDonor']].join(pd.get_dummies(df['Bulan'])).groupby('NomerDonor').max()\n",
        "  if df.Bulan.max() <60:\n",
        "    ndf.insert(0, 'a1', 0)\n",
        "  return ndf"
      ]
    },
    {
      "cell_type": "code",
      "execution_count": null,
      "metadata": {
        "id": "p93EZ5LkfER9"
      },
      "outputs": [],
      "source": [
        "ctest = preproc(ctest)"
      ]
    },
    {
      "cell_type": "code",
      "execution_count": null,
      "metadata": {
        "id": "X-zYX3TRfER9"
      },
      "outputs": [],
      "source": [
        "ctest.rename(columns={ctest.columns[0]: 'a1', ctest.columns[1]: 'a2', ctest.columns[2]: 'a3'\n",
        ", ctest.columns[3]: 'a4', ctest.columns[4]: 'a5', ctest.columns[5]: 'a6', ctest.columns[6]: 'a7'\n",
        ", ctest.columns[7]: 'a8', ctest.columns[8]: 'a9', ctest.columns[9]: 'a10', ctest.columns[10]: 'a11'\n",
        ", ctest.columns[11]: 'a12', ctest.columns[12]: 'b1', ctest.columns[13]: 'b2', ctest.columns[14]: 'b3'\n",
        ", ctest.columns[15]: 'b4', ctest.columns[16]: 'b5', ctest.columns[17]: 'b6', ctest.columns[18]: 'b7'\n",
        ", ctest.columns[19]: 'b8', ctest.columns[20]: 'b9', ctest.columns[21]: 'b10', ctest.columns[22]: 'b11'\n",
        ", ctest.columns[23]: 'b12', ctest.columns[24]: 'c1', ctest.columns[25]: 'c2', ctest.columns[26]: 'c3'\n",
        ", ctest.columns[27]: 'c4', ctest.columns[28]: 'c5', ctest.columns[29]: 'c6', ctest.columns[30]: 'c7'\n",
        ", ctest.columns[31]: 'c8', ctest.columns[32]: 'c9', ctest.columns[33]: 'c10', ctest.columns[34]: 'c11'\n",
        ", ctest.columns[35]: 'c12', ctest.columns[36]: 'd1', ctest.columns[37]: 'd2', ctest.columns[38]: 'd3'\n",
        ", ctest.columns[39]: 'd4', ctest.columns[40]: 'd5', ctest.columns[41]: 'd6', ctest.columns[42]: 'd7'\n",
        ", ctest.columns[43]: 'd8', ctest.columns[44]: 'd9', ctest.columns[45]: 'd10', ctest.columns[46]: 'd11'\n",
        ", ctest.columns[47]: 'd12', ctest.columns[48]: 'e1', ctest.columns[49]: 'e2', ctest.columns[50]: 'e3'\n",
        ", ctest.columns[51]: 'e4', ctest.columns[52]: 'e5', ctest.columns[53]: 'e6', ctest.columns[54]: 'e7'\n",
        ", ctest.columns[55]: 'e8', ctest.columns[56]: 'e9', ctest.columns[57]: 'e10', ctest.columns[58]: 'e11'\n",
        ", ctest.columns[59]: 'e12'},inplace=True)"
      ]
    },
    {
      "cell_type": "code",
      "execution_count": null,
      "metadata": {
        "id": "AWiZiIxlfER9"
      },
      "outputs": [],
      "source": [
        "ctest['NomerDonor'] = ctest.index\n",
        "ctest = ctest.reset_index(drop=True)"
      ]
    },
    {
      "cell_type": "code",
      "execution_count": null,
      "metadata": {
        "id": "wXNxxAaVfER9"
      },
      "outputs": [],
      "source": [
        "t = t[['NomerDonor', 'Category']]"
      ]
    },
    {
      "cell_type": "code",
      "execution_count": null,
      "metadata": {
        "id": "EowSVWHWfER9"
      },
      "outputs": [],
      "source": [
        "testt = pd.merge(ctest, t, on=['NomerDonor'], how='inner')\n",
        "testt = testt.drop_duplicates()\n",
        "testt = testt.drop(['NomerDonor'], axis=1)"
      ]
    },
    {
      "cell_type": "code",
      "execution_count": null,
      "metadata": {
        "id": "JtuoEK5bfER9"
      },
      "outputs": [],
      "source": [
        "sample = testt.sample(frac=0.2, random_state=1)"
      ]
    },
    {
      "cell_type": "code",
      "execution_count": null,
      "metadata": {
        "id": "jPaLTe4WfER9"
      },
      "outputs": [],
      "source": [
        "dm = dm.merge(sample, how='outer')"
      ]
    },
    {
      "cell_type": "code",
      "execution_count": null,
      "metadata": {
        "id": "BaVBoyPDfER9"
      },
      "outputs": [],
      "source": [
        "y = dm.Category\n",
        "x = dm.drop(columns='Category')"
      ]
    },
    {
      "cell_type": "code",
      "execution_count": null,
      "metadata": {
        "id": "vOQeKGUifER-"
      },
      "outputs": [],
      "source": [
        "from sklearn.preprocessing import OneHotEncoder\n",
        "\n",
        "y = OneHotEncoder(sparse=False)\n",
        "y = y.fit_transform(dm[['Category']])\n",
        "test_y = pd.DataFrame(y)"
      ]
    },
    {
      "cell_type": "code",
      "execution_count": null,
      "metadata": {
        "id": "hh-aHVgTfER-"
      },
      "outputs": [],
      "source": [
        "test_y.rename(columns={ test_y.columns[0]: \"Cat1\", test_y.columns[1]: \"Cat2\", test_y.columns[2]: \"Cat3\",\n",
        "                    test_y.columns[3]: \"Cat4\",test_y.columns[4]: \"Cat5\"}, \n",
        "          inplace=True)"
      ]
    },
    {
      "cell_type": "code",
      "execution_count": null,
      "metadata": {
        "id": "hkTRHgQjfER-"
      },
      "outputs": [],
      "source": [
        "from sklearn.model_selection import train_test_split\n",
        "\n",
        "y.astype(int)\n",
        "x.astype(int)\n",
        "train_x, test_x, train_y, test_y = train_test_split(x,y,test_size=0.2, random_state=43)"
      ]
    },
    {
      "cell_type": "markdown",
      "metadata": {
        "id": "WOYP5JTyfER-"
      },
      "source": [
        "##### --- training & testing"
      ]
    },
    {
      "cell_type": "code",
      "execution_count": null,
      "metadata": {
        "id": "WgEOe9ogfER-"
      },
      "outputs": [],
      "source": [
        "# neural network\n",
        "import tensorflow as tf\n",
        "\n",
        "model = tf.keras.models.Sequential()\n",
        "model.add(tf.keras.layers.Dense(units = 64, activation = 'relu', input_shape=(60,)))\n",
        "# model.add(tf.keras.layers.Dense(units = 128 , activation = 'relu', input_shape=(60,)))\n",
        "# model.add(tf.keras.layers.Dense(units = 256, activation = 'relu', input_shape=(60,)))\n",
        "# model.add(tf.keras.layers.Dropout(0.3))\n",
        "# model.add(tf.keras.layers.Dense(units = 128, activation = 'relu'))\n",
        "# model.add(tf.keras.layers.Dropout(0.4))\n",
        "# # model.add(tf.keras.layers.Dense(units = 128, activation = 'relu'))\n",
        "# model.add(tf.keras.layers.Dropout(0.3))\n",
        "# model.add(tf.keras.layers.Dense(units = 64, activation = 'relu'))\n",
        "# model.add(tf.keras.layers.Dropout(0.3))\n",
        "# model.add(tf.keras.layers.Dense(units = 32, activation = 'relu'))\n",
        "# model.add(tf.keras.layers.Dense(units = 16, activation = 'relu'))\n",
        "# model.add(tf.keras.layers.Dropout(0.3))\n",
        "model.add(tf.keras.layers.Dense(units = 5, activation = 'softmax'))\n",
        "\n",
        "model.compile(optimizer = 'adam', loss = 'categorical_crossentropy', metrics = ['accuracy'])\n",
        "history = model.fit(train_x, train_y, validation_data = (test_x,test_y), epochs =20)"
      ]
    },
    {
      "cell_type": "code",
      "execution_count": null,
      "metadata": {
        "id": "t__rqFdRfER-"
      },
      "outputs": [],
      "source": [
        "pred_y = model.predict(test_x)\n",
        "test_loss, test_accuracy = model.evaluate(test_x, test_y)\n",
        "print(test_loss, test_accuracy)"
      ]
    },
    {
      "cell_type": "code",
      "execution_count": null,
      "metadata": {
        "id": "4NpizjzZfER-"
      },
      "outputs": [],
      "source": [
        "# 0.35\n",
        "import matplotlib.pyplot as plt\n",
        "fig, ax = plt.subplots(1, figsize=(8,6))\n",
        "plt.plot(history.history['accuracy'])\n",
        "plt.plot(history.history['val_accuracy'])\n",
        "plt.title('Model accuracy')\n",
        "plt.ylabel('Accuracy')\n",
        "plt.xlabel('Epoch')\n",
        "plt.legend(['Train', 'Test'], loc='upper left')\n",
        "plt.show()"
      ]
    },
    {
      "cell_type": "markdown",
      "metadata": {
        "id": "EItvg5ZYfER-"
      },
      "source": [
        "##### --- implementation"
      ]
    },
    {
      "cell_type": "code",
      "execution_count": null,
      "metadata": {
        "id": "9CrWxxJbfER_"
      },
      "outputs": [],
      "source": [
        "def preproc(df):\n",
        "  df['TanggalDonor']= pd.to_datetime(df['TanggalDonor'])\n",
        "  months = df[\"TanggalDonor\"].dt.year * 12 + df[\"TanggalDonor\"].dt.month  # series\n",
        "  df[\"Bulan\"] = months - min(months) + 1\n",
        "  df = df.loc[(df['Bulan'] >= df.Bulan.max()-59) & (df['Bulan'] <= df.Bulan.max())]\n",
        "    # print(df.Bulan.max())\n",
        "  # df['Bulan'] = df['Bulan']-48\n",
        "  ndf=df[['NomerDonor']].join(pd.get_dummies(df['Bulan'])).groupby('NomerDonor').max()\n",
        "  if df.Bulan.max() <60:\n",
        "    ndf.insert(0, 'a1', 0)\n",
        "  return ndf"
      ]
    },
    {
      "cell_type": "code",
      "execution_count": null,
      "metadata": {
        "id": "Uarcd2aSfER_"
      },
      "outputs": [],
      "source": [
        "dfs = preproc(df)\n",
        "dfs"
      ]
    },
    {
      "cell_type": "code",
      "execution_count": null,
      "metadata": {
        "id": "evl4MELpfER_"
      },
      "outputs": [],
      "source": [
        "ndfp = model.predict(dfs)"
      ]
    },
    {
      "cell_type": "code",
      "execution_count": null,
      "metadata": {
        "id": "8fYRXj41fER_"
      },
      "outputs": [],
      "source": [
        "ndfd = pd.DataFrame(ndfp, columns = ['Cat1', 'Cat2', 'Cat3', 'Cat4', 'Cat5'])"
      ]
    },
    {
      "cell_type": "code",
      "execution_count": null,
      "metadata": {
        "id": "xoJnl3-UfER_"
      },
      "outputs": [],
      "source": [
        "for i, r in ndfd.iterrows():\n",
        "  ndfd.at[i,'Category']  = (0.2 * r.Cat1) + (0.2 * r.Cat2) + (0.2 * r.Cat3) + (0.2 * r.Cat4) + (0.2 * r.Cat5)"
      ]
    },
    {
      "cell_type": "code",
      "execution_count": null,
      "metadata": {
        "id": "-7IrX0p4fER_"
      },
      "outputs": [],
      "source": [
        "oldmax = ndfd.Category.max()  \n",
        "oldmin = ndfd.Category.min()\n",
        "OldRange = (oldmax - oldmin)\n",
        "NewRange = 4\n",
        "for i, r in ndfd.iterrows():\n",
        "  ndfd.at[i, 'Category'] = (float(((r.Category - oldmin) * NewRange)) / OldRange) + 1"
      ]
    },
    {
      "cell_type": "code",
      "execution_count": null,
      "metadata": {
        "id": "oeN6ISr0fESA"
      },
      "outputs": [],
      "source": [
        "hasil = dfs\n",
        "hasil['Category'] = ndfd['Category'].values\n",
        "hasil['NomerDonor'] = hasil.index\n",
        "hasil = hasil[['NomerDonor', 'Category']]"
      ]
    },
    {
      "cell_type": "code",
      "execution_count": null,
      "metadata": {
        "id": "TFxJrwFRfESA"
      },
      "outputs": [],
      "source": [
        "hasil = hasil.rename_axis(index=None, columns=None)"
      ]
    },
    {
      "cell_type": "code",
      "execution_count": null,
      "metadata": {
        "id": "hjx5dloYfESA"
      },
      "outputs": [],
      "source": [
        "ann = hasil"
      ]
    },
    {
      "cell_type": "code",
      "execution_count": null,
      "metadata": {
        "id": "Al6Z1WIEfESA"
      },
      "outputs": [],
      "source": [
        "simpen = df.groupby(['NomerDonor'], as_index=False, sort=False)['TanggalDonor'].max()\n",
        "annd = pd.merge(ann, simpen, on='NomerDonor', how='left')"
      ]
    },
    {
      "cell_type": "code",
      "execution_count": null,
      "metadata": {
        "id": "TJSvZHU3fESA"
      },
      "outputs": [],
      "source": [
        "from datetime import date\n",
        "\n",
        "today = pd.to_datetime(date.today())\n",
        "today = annd['TanggalDonor'].max()\n",
        "annd['Recency'] = (today - annd['TanggalDonor']).dt.days"
      ]
    },
    {
      "cell_type": "code",
      "execution_count": null,
      "metadata": {
        "id": "NCwCFiTwfESA"
      },
      "outputs": [],
      "source": [
        "ann = annd[['NomerDonor', 'Category', 'Recency']]"
      ]
    },
    {
      "cell_type": "code",
      "execution_count": null,
      "metadata": {
        "id": "brIqiZz-fESA"
      },
      "outputs": [],
      "source": [
        "ann.Category.unique()"
      ]
    },
    {
      "cell_type": "markdown",
      "metadata": {
        "id": "ildAEEYHfESA"
      },
      "source": [
        "###### - - - df ranking"
      ]
    },
    {
      "cell_type": "code",
      "execution_count": null,
      "metadata": {
        "id": "hdo4MxTXfESA"
      },
      "outputs": [],
      "source": [
        "donor = df[['NomerDonor', 'TanggalDonor', 'BloodType', 'JKel', 'Lokasi', 'Umur']]\n",
        "donor = donor.drop_duplicates()"
      ]
    },
    {
      "cell_type": "code",
      "execution_count": null,
      "metadata": {
        "id": "dQFNt2EjfESB"
      },
      "outputs": [],
      "source": [
        "donor"
      ]
    },
    {
      "cell_type": "code",
      "execution_count": null,
      "metadata": {
        "id": "9pCYt9jkfESB"
      },
      "outputs": [],
      "source": [
        "for index, row in donor.iterrows():\n",
        "  if row.Umur >= 65:\n",
        "    donor.at[index,'AgeCat'] = 0\n",
        "  else:\n",
        "    donor.at[index,'AgeCat'] = 3\n",
        "  if row.JKel == 'Pria':\n",
        "    donor.at[index,'JKCat'] = 3\n",
        "  else:\n",
        "    donor.at[index,'JKCat'] = 2"
      ]
    },
    {
      "cell_type": "code",
      "execution_count": null,
      "metadata": {
        "id": "LKg9sWQcfESB"
      },
      "outputs": [],
      "source": [
        "lok = 'UTD PMI SURABAYA'\n",
        "location = donor.query(str(\"Lokasi == '\") + lok + \"'\").groupby('NomerDonor').count()"
      ]
    },
    {
      "cell_type": "code",
      "execution_count": null,
      "metadata": {
        "id": "UzL7ivnwfESB"
      },
      "outputs": [],
      "source": [
        "location = location[['BloodType']]\n",
        "location.columns = ['Loc']\n",
        "location['NomerDonor'] = location.index"
      ]
    },
    {
      "cell_type": "code",
      "execution_count": null,
      "metadata": {
        "id": "6jHwuqNWfESB"
      },
      "outputs": [],
      "source": [
        "location = location.rename_axis(index=None, columns=None)"
      ]
    },
    {
      "cell_type": "code",
      "execution_count": null,
      "metadata": {
        "id": "6WKKdPMNfESB"
      },
      "outputs": [],
      "source": [
        "donor = pd.merge(donor, location, on=['NomerDonor'])"
      ]
    },
    {
      "cell_type": "code",
      "execution_count": null,
      "metadata": {
        "id": "Kt98y-cOfESB"
      },
      "outputs": [],
      "source": [
        "maks = donor['Loc'].max()"
      ]
    },
    {
      "cell_type": "code",
      "execution_count": null,
      "metadata": {
        "id": "XjCA5CQJfESB"
      },
      "outputs": [],
      "source": [
        "donor['Loc'] = donor['Loc']/maks"
      ]
    },
    {
      "cell_type": "code",
      "execution_count": null,
      "metadata": {
        "id": "nnH5TeEyfESB"
      },
      "outputs": [],
      "source": [
        "donor = donor[['NomerDonor', 'TanggalDonor', 'BloodType', 'AgeCat', 'JKCat', 'Loc']]"
      ]
    },
    {
      "cell_type": "code",
      "execution_count": null,
      "metadata": {
        "id": "Q1Se8C8hfESC"
      },
      "outputs": [],
      "source": [
        "donor = donor.sort_values('TanggalDonor')"
      ]
    },
    {
      "cell_type": "markdown",
      "metadata": {
        "id": "DmsLRUnyfESC"
      },
      "source": [
        "###### - - - ranking"
      ]
    },
    {
      "cell_type": "code",
      "execution_count": null,
      "metadata": {
        "id": "UfGCUxzzfESC"
      },
      "outputs": [],
      "source": [
        "import pandas as pd\n",
        "# ann = pd.read_csv('classifiedann.csv')"
      ]
    },
    {
      "cell_type": "code",
      "execution_count": null,
      "metadata": {
        "id": "QBj8SLmkfESC"
      },
      "outputs": [],
      "source": [
        "# rbc.rename(columns = {'Recency1':'Recency'}, inplace = True)"
      ]
    },
    {
      "cell_type": "code",
      "execution_count": null,
      "metadata": {
        "id": "5ELG9rz_fESC"
      },
      "outputs": [],
      "source": [
        "anndf = pd.merge(donor, ann, on=['NomerDonor'])"
      ]
    },
    {
      "cell_type": "code",
      "execution_count": null,
      "metadata": {
        "id": "IO4DD0yTfESC"
      },
      "outputs": [],
      "source": [
        "for i, r in anndf.iterrows():\n",
        "  if r.Recency <= 60:\n",
        "    anndf.at[i, 'Rating'] = 0\n",
        "  else:\n",
        "    if r.Category == 1:\n",
        "      anndf.at[i, 'Rating'] = (10 + r.AgeCat + r.JKCat)\n",
        "    elif r.Category == 2:\n",
        "      anndf.at[i, 'Rating'] = (8 + r.AgeCat + r.JKCat) \n",
        "    elif r.Category == 3:\n",
        "      anndf.at[i, 'Rating'] = (6 + r.AgeCat + r.JKCat )\n",
        "    elif r.Category == 4:\n",
        "      anndf.at[i, 'Rating'] = (4 + r.AgeCat + r.JKCat )\n",
        "    else:\n",
        "      anndf.at[i, 'Rating'] = (2 + r.AgeCat + r.JKCat )"
      ]
    },
    {
      "cell_type": "code",
      "execution_count": null,
      "metadata": {
        "id": "PPIIOtiRfESC"
      },
      "outputs": [],
      "source": [
        "anndf = anndf[['NomerDonor', 'BloodType', 'Rating']]"
      ]
    },
    {
      "cell_type": "code",
      "execution_count": null,
      "metadata": {
        "id": "jeo1jOxifESC"
      },
      "outputs": [],
      "source": [
        "oldmax = anndf.Rating.max()  \n",
        "oldmin = anndf.Rating.min()\n",
        "OldRange = (oldmax - oldmin)\n",
        "NewRange = 4\n",
        "for i, r in anndf.iterrows():\n",
        "  anndf.at[i, 'Rating'] = (float(((r.Rating - oldmin) * NewRange)) / OldRange) + 1"
      ]
    },
    {
      "cell_type": "code",
      "execution_count": null,
      "metadata": {
        "id": "EivQFvT7fESC"
      },
      "outputs": [],
      "source": [
        "anndf.Rating.sort_values().unique()"
      ]
    },
    {
      "cell_type": "code",
      "execution_count": null,
      "metadata": {
        "id": "9RkD5tpyfESD"
      },
      "outputs": [],
      "source": [
        "# anndf.info()"
      ]
    },
    {
      "cell_type": "code",
      "execution_count": null,
      "metadata": {
        "id": "JoB3lYCNfESD"
      },
      "outputs": [],
      "source": [
        "anndf['NomerDonor'] = anndf.NomerDonor.astype(int)"
      ]
    },
    {
      "cell_type": "code",
      "execution_count": null,
      "metadata": {
        "id": "abq1ABQafESD"
      },
      "outputs": [],
      "source": [
        "from google.colab import files\n",
        "# anndf.to_csv('annnoloc.csv', index=False) \n",
        "# files.download('d17-21.csv')"
      ]
    },
    {
      "cell_type": "markdown",
      "metadata": {
        "id": "McWy2NQJfESD"
      },
      "source": [
        "##### --- rankin"
      ]
    },
    {
      "cell_type": "markdown",
      "metadata": {
        "id": "Sl7wIJVFfESD"
      },
      "source": [
        "###### - - - df ranking"
      ]
    },
    {
      "cell_type": "code",
      "execution_count": null,
      "metadata": {
        "id": "A6M3RFcXfESD"
      },
      "outputs": [],
      "source": [
        "donor = df[['NomerDonor', 'TanggalDonor', 'BloodType', 'JKel', 'Lokasi', 'Umur']]\n",
        "donor = donor.drop_duplicates()"
      ]
    },
    {
      "cell_type": "code",
      "execution_count": null,
      "metadata": {
        "id": "f7I88NrZfESD"
      },
      "outputs": [],
      "source": [
        "donor"
      ]
    },
    {
      "cell_type": "code",
      "execution_count": null,
      "metadata": {
        "id": "Ve-xw2h4fESD"
      },
      "outputs": [],
      "source": [
        "for index, row in donor.iterrows():\n",
        "  if row.Umur >= 65:\n",
        "    donor.at[index,'AgeCat'] = 0\n",
        "  else:\n",
        "    donor.at[index,'AgeCat'] = 3\n",
        "  if row.JKel == 'Pria':\n",
        "    donor.at[index,'JKCat'] = 3\n",
        "  else:\n",
        "    donor.at[index,'JKCat'] = 2"
      ]
    },
    {
      "cell_type": "code",
      "execution_count": null,
      "metadata": {
        "id": "V4sp077BfESE"
      },
      "outputs": [],
      "source": [
        "lok = 'UTD PMI SURABAYA'\n",
        "location = donor.query(str(\"Lokasi == '\") + lok + \"'\").groupby('NomerDonor').count()"
      ]
    },
    {
      "cell_type": "code",
      "execution_count": null,
      "metadata": {
        "id": "17m12eexfESE"
      },
      "outputs": [],
      "source": [
        "location = location[['BloodType']]\n",
        "location.columns = ['Loc']\n",
        "location['NomerDonor'] = location.index"
      ]
    },
    {
      "cell_type": "code",
      "execution_count": null,
      "metadata": {
        "id": "vuVWrvTafESE"
      },
      "outputs": [],
      "source": [
        "location = location.rename_axis(index=None, columns=None)"
      ]
    },
    {
      "cell_type": "code",
      "execution_count": null,
      "metadata": {
        "id": "xna5d1b9fESE"
      },
      "outputs": [],
      "source": [
        "donor = pd.merge(donor, location, on=['NomerDonor'])"
      ]
    },
    {
      "cell_type": "code",
      "execution_count": null,
      "metadata": {
        "id": "RopY55u2fESE"
      },
      "outputs": [],
      "source": [
        "maks = donor['Loc'].max()"
      ]
    },
    {
      "cell_type": "code",
      "execution_count": null,
      "metadata": {
        "id": "SQS-u9gffESE"
      },
      "outputs": [],
      "source": [
        "donor['Loc'] = donor['Loc']/maks"
      ]
    },
    {
      "cell_type": "code",
      "execution_count": null,
      "metadata": {
        "id": "rvj5yLvqfESE"
      },
      "outputs": [],
      "source": [
        "donor = donor[['NomerDonor', 'TanggalDonor', 'BloodType', 'AgeCat', 'JKCat', 'Loc']]"
      ]
    },
    {
      "cell_type": "code",
      "execution_count": null,
      "metadata": {
        "id": "oSsyy2fKfESE"
      },
      "outputs": [],
      "source": [
        "donor = donor.sort_values('TanggalDonor')"
      ]
    },
    {
      "cell_type": "markdown",
      "metadata": {
        "id": "pNlg480afESE"
      },
      "source": [
        "###### - - - ranking bkn desimal"
      ]
    },
    {
      "cell_type": "code",
      "execution_count": null,
      "metadata": {
        "id": "bYhph0XcfESF"
      },
      "outputs": [],
      "source": [
        "import pandas as pd\n",
        "# ann = pd.read_csv('classifiedann.csv')"
      ]
    },
    {
      "cell_type": "code",
      "execution_count": null,
      "metadata": {
        "id": "BA8eU6r-fESF"
      },
      "outputs": [],
      "source": [
        "anndf = pd.merge(donor, ann, on=['NomerDonor'])"
      ]
    },
    {
      "cell_type": "code",
      "execution_count": null,
      "metadata": {
        "id": "bCxDKYAWfESF"
      },
      "outputs": [],
      "source": [
        "for i, r in anndf.iterrows():\n",
        "  if r.Recency <= 60:\n",
        "    anndf.at[i, 'Rating'] = 0\n",
        "  else:\n",
        "    anndf.at[i, 'Rating'] = ((r.Category*2) + r.AgeCat + r.JKCat)"
      ]
    },
    {
      "cell_type": "code",
      "execution_count": null,
      "metadata": {
        "id": "g4vXV3pSfESF"
      },
      "outputs": [],
      "source": [
        "anndf = anndf[['NomerDonor', 'BloodType', 'Rating']]"
      ]
    },
    {
      "cell_type": "code",
      "execution_count": null,
      "metadata": {
        "id": "wFQ5WgxYfESF"
      },
      "outputs": [],
      "source": [
        "oldmax = anndf.Rating.max()  \n",
        "oldmin = anndf.Rating.min()\n",
        "OldRange = (oldmax - oldmin)\n",
        "NewRange = 4\n",
        "for i, r in anndf.iterrows():\n",
        "  anndf.at[i, 'Rating'] = (float(((r.Rating - oldmin) * NewRange)) / OldRange) + 1"
      ]
    },
    {
      "cell_type": "code",
      "execution_count": null,
      "metadata": {
        "id": "uZXshHjgfESF"
      },
      "outputs": [],
      "source": [
        "anndf.Rating.sort_values().unique()"
      ]
    },
    {
      "cell_type": "code",
      "execution_count": null,
      "metadata": {
        "id": "EdfgfsxefESF"
      },
      "outputs": [],
      "source": [
        "# anndf.info()"
      ]
    },
    {
      "cell_type": "code",
      "execution_count": null,
      "metadata": {
        "id": "MFwz59L7fESF"
      },
      "outputs": [],
      "source": [
        "anndf['NomerDonor'] = anndf.NomerDonor.astype(int)"
      ]
    },
    {
      "cell_type": "code",
      "execution_count": null,
      "metadata": {
        "id": "a_BL4yrkfESF"
      },
      "outputs": [],
      "source": [
        "from google.colab import files\n",
        "anndf.to_csv('ann + 20 no1.csv', index=False) \n",
        "# files.download('no4.csv')"
      ]
    },
    {
      "cell_type": "markdown",
      "metadata": {
        "id": "FCo2o15rfESG"
      },
      "source": [
        "##### --- als"
      ]
    },
    {
      "cell_type": "markdown",
      "metadata": {
        "id": "3Nj8sQY2fESG"
      },
      "source": [
        "###### - - - als"
      ]
    },
    {
      "cell_type": "code",
      "execution_count": null,
      "metadata": {
        "id": "JGAH71WEfESG"
      },
      "outputs": [],
      "source": [
        "import pandas as pd\n",
        "anndf = pd.read_csv('ann + 20 no1.csv')"
      ]
    },
    {
      "cell_type": "code",
      "execution_count": null,
      "metadata": {
        "id": "dl9TdO8ofESG"
      },
      "outputs": [],
      "source": [
        "jum = anndf.NomerDonor.nunique()"
      ]
    },
    {
      "cell_type": "markdown",
      "metadata": {
        "id": "vixWVFeOfESG"
      },
      "source": [
        "###### - - - gapt"
      ]
    },
    {
      "cell_type": "code",
      "execution_count": null,
      "metadata": {
        "id": "ik8ipUKLfESG"
      },
      "outputs": [],
      "source": [
        "!pip install pyspark"
      ]
    },
    {
      "cell_type": "code",
      "execution_count": null,
      "metadata": {
        "id": "XKLGi1bCfESG"
      },
      "outputs": [],
      "source": [
        "import pyspark\n",
        "sc = pyspark.SparkContext(appName=\"PMI\")"
      ]
    },
    {
      "cell_type": "code",
      "execution_count": null,
      "metadata": {
        "id": "2uozVSqEfESG"
      },
      "outputs": [],
      "source": [
        "sql = pyspark.SQLContext(sc)"
      ]
    },
    {
      "cell_type": "code",
      "execution_count": null,
      "metadata": {
        "id": "i6wfAxtvfESG"
      },
      "outputs": [],
      "source": [
        "#sql\n",
        "from pyspark.sql import SparkSession\n",
        "spark = SparkSession(sc)"
      ]
    },
    {
      "cell_type": "markdown",
      "metadata": {
        "id": "sou0gwkqfESH"
      },
      "source": [
        "###### - - - start"
      ]
    },
    {
      "cell_type": "code",
      "execution_count": null,
      "metadata": {
        "id": "-VjLcp8afESH"
      },
      "outputs": [],
      "source": [
        "annsdf=spark.createDataFrame(anndf) \n",
        "# annsdf.printSchema()\n",
        "# annsdf.show()"
      ]
    },
    {
      "cell_type": "code",
      "execution_count": null,
      "metadata": {
        "id": "LK0j0YMPfESH"
      },
      "outputs": [],
      "source": [
        "from pyspark.ml.evaluation import RegressionEvaluator\n",
        "from pyspark.ml.recommendation import ALS\n",
        "from pyspark.ml.tuning import TrainValidationSplit, ParamGridBuilder, CrossValidator\n",
        "\n",
        "#Misah antara data training dan data test\n",
        "# (training, test) = annsdf.randomSplit([0.8, 0.2])\n",
        "\n",
        "#buat ALS model, col-colnya paten BTW harus ada user, item yang diprediksi dan rating\n",
        "als1=ALS(maxIter=10,regParam=0.01,rank=25,userCol=\"BloodType\",itemCol=\"NomerDonor\",ratingCol=\"Rating\",coldStartStrategy=\"drop\",nonnegative=True)\n",
        "model=als1.fit(annsdf)"
      ]
    },
    {
      "cell_type": "code",
      "execution_count": null,
      "metadata": {
        "id": "umu0gHXTfESH"
      },
      "outputs": [],
      "source": [
        "bloodfoc = model.recommendForAllUsers(jum)"
      ]
    },
    {
      "cell_type": "code",
      "execution_count": null,
      "metadata": {
        "id": "9s7H1vrZfESH"
      },
      "outputs": [],
      "source": [
        "bloodfoc.select(\"BloodType\", \"recommendations.NomerDonor\", 'recommendations.Rating').show(10, False)"
      ]
    },
    {
      "cell_type": "markdown",
      "metadata": {
        "id": "EvBKJB8wfESI"
      },
      "source": [
        "###### MRR ANN"
      ]
    },
    {
      "cell_type": "code",
      "execution_count": null,
      "metadata": {
        "id": "uEP-LPUffESI"
      },
      "outputs": [],
      "source": [
        "model_df = bloodfoc.select(\"BloodType\", \"recommendations.NomerDonor\")\n",
        "model_df.show(5, False)"
      ]
    },
    {
      "cell_type": "code",
      "execution_count": null,
      "metadata": {
        "id": "LR_o8_0ufESI"
      },
      "outputs": [],
      "source": [
        "#rename\n",
        "model_df = model_df.withColumnRenamed(\"BloodType\",\"BloodTypeModel\") \n",
        "model_df = model_df.withColumnRenamed(\"NomerDonor\",\"NomerDonorRanking\") "
      ]
    },
    {
      "cell_type": "code",
      "execution_count": null,
      "metadata": {
        "id": "h6DtB7UMfESI"
      },
      "outputs": [],
      "source": [
        "d22b = spark.createDataFrame(d22)\n",
        "d22b.printSchema()\n",
        "d22b.show(5)"
      ]
    },
    {
      "cell_type": "code",
      "execution_count": null,
      "metadata": {
        "id": "njaTLhFffESI"
      },
      "outputs": [],
      "source": [
        "#join table sample dan model yang sudah dibuat\n",
        "joined_df = d22b.join(model_df, d22b.BloodType == model_df.BloodTypeModel)\n",
        "joined_df.show(3)"
      ]
    },
    {
      "cell_type": "code",
      "execution_count": null,
      "metadata": {
        "id": "2oilnuaUfESI"
      },
      "outputs": [],
      "source": [
        "joined_df.createOrReplaceTempView(\"joined_df\")"
      ]
    },
    {
      "cell_type": "code",
      "execution_count": null,
      "metadata": {
        "id": "WlRUahCGfESI"
      },
      "outputs": [],
      "source": [
        "def reciprocal_rank(row):\n",
        "    if row['NomerDonor'] in row['NomerDonorRanking']:\n",
        "        rank = row['NomerDonorRanking'].index(row['NomerDonor']) + 1\n",
        "        score = 1.0/float(rank)\n",
        "    else:\n",
        "        rank = 0\n",
        "        score = 0.0\n",
        "    return (row[0], row[1], row[9], rank, score)"
      ]
    },
    {
      "cell_type": "code",
      "execution_count": null,
      "metadata": {
        "id": "9BVxuyaPfESJ"
      },
      "outputs": [],
      "source": [
        "#get reciprocal score for all event type\n",
        "rr_all = joined_df.rdd.map(reciprocal_rank).toDF(['NomerDonor', 'NamaDonor','BloodType', 'Ranking', 'reciprocal_score'])\n",
        "rr_all.show(20, False)"
      ]
    },
    {
      "cell_type": "code",
      "execution_count": null,
      "metadata": {
        "id": "MYlkeoa8fESJ"
      },
      "outputs": [],
      "source": [
        "rr_all.createOrReplaceTempView(\"rr_all\")"
      ]
    },
    {
      "cell_type": "code",
      "execution_count": null,
      "metadata": {
        "id": "mVbOyHFzfESJ"
      },
      "outputs": [],
      "source": [
        "# sumdf = spark.sql(\"\")\n",
        "# sumdf.show()"
      ]
    },
    {
      "cell_type": "code",
      "execution_count": null,
      "metadata": {
        "id": "JfN8h8_-fESJ"
      },
      "outputs": [],
      "source": [
        "sumdf = spark.sql(\"select count(*) from rr_all\")\n",
        "sumdf.show()"
      ]
    },
    {
      "cell_type": "code",
      "execution_count": null,
      "metadata": {
        "id": "vBEQ5czifESJ"
      },
      "outputs": [],
      "source": [
        "sumdf = spark.sql(\"select count(*) from rr_all where reciprocal_score > 0.0\")\n",
        "sumdf.show()"
      ]
    },
    {
      "cell_type": "code",
      "execution_count": null,
      "metadata": {
        "id": "GSn85SvkfESJ"
      },
      "outputs": [],
      "source": [
        "sumdf = spark.sql(\"select * from rr_all where reciprocal_score <= 0.0\")\n",
        "sumdf.show()"
      ]
    },
    {
      "cell_type": "code",
      "execution_count": null,
      "metadata": {
        "id": "8xFq4XOzfESJ"
      },
      "outputs": [],
      "source": [
        "all_mrr = rr_all.agg({\"reciprocal_score\":\"avg\"}).collect()[0]['avg(reciprocal_score)']"
      ]
    },
    {
      "cell_type": "code",
      "execution_count": null,
      "metadata": {
        "id": "t34wiJeZfESJ"
      },
      "outputs": [],
      "source": [
        "all_mrr"
      ]
    },
    {
      "cell_type": "markdown",
      "metadata": {
        "id": "PelkSRxxnteN"
      },
      "source": [
        "### Explore d22 ------------------------------------------------------------------------------"
      ]
    },
    {
      "cell_type": "code",
      "execution_count": null,
      "metadata": {
        "id": "5U_iDmLUBcWg"
      },
      "outputs": [],
      "source": [
        "import pandas as pd\n",
        "\n",
        "d1 = pd.read_excel('History donor_UK Petra Widya 2015.xlsx')\n",
        "d2 = pd.read_excel('History donor_UK Petra Widya 2016.xlsx')\n",
        "d3 = pd.read_excel('History donor_UK Petra Widya 2017.xlsx')\n",
        "d4 = pd.read_excel('History donor_UK Petra Widya 2018.xlsx')\n",
        "d5 = pd.read_excel('History donor_UK Petra Widya 2019.xlsx')\n",
        "d6 = pd.read_excel('History donor_UK Petra Widya 2020.xlsx')\n",
        "d7 = pd.read_excel('History donor_UK Petra Widya 2021.xlsx')\n",
        "d8 = pd.read_excel('History donor_UK Petra Widya 2022.xlsx')"
      ]
    },
    {
      "cell_type": "code",
      "execution_count": null,
      "metadata": {
        "id": "sX_wXVR_2vL7"
      },
      "outputs": [],
      "source": [
        "jum = (d1.count())\n",
        "jum = jum + (d2.count())\n",
        "jum = jum + (d3.count())\n",
        "jum = jum + (d4.count())\n",
        "jum = jum + (d5.count())\n",
        "jum = jum + (d6.count())\n",
        "jum = jum + (d7.count())\n",
        "jum = jum + (d8.count())\n",
        "jum"
      ]
    },
    {
      "cell_type": "code",
      "execution_count": null,
      "metadata": {
        "id": "LTG6v_vSBcM4"
      },
      "outputs": [],
      "source": [
        "frames = [d1, d2, d3, d4, d5, d6, d7, d8]\n",
        "df = pd.concat(frames)\n",
        "df"
      ]
    },
    {
      "cell_type": "code",
      "execution_count": null,
      "metadata": {
        "id": "-yJBHgwTBcCH"
      },
      "outputs": [],
      "source": [
        "df = df.dropna()\n",
        "df.isna().sum()"
      ]
    },
    {
      "cell_type": "code",
      "execution_count": null,
      "metadata": {
        "id": "0Pe_78vu9K52"
      },
      "outputs": [],
      "source": [
        "df.rename(columns={'No DONOR':'NomerDonor','Nama Donor': 'NamaDonor', \n",
        "                   'No Kantong': 'NoKantong', 'Tgl DONOR': 'TanggalDonor', \n",
        "                   'Umur Donor': 'UmurDonor', 'JNS KELAMIN': 'JenisKelamin',\n",
        "                   'TEMPAT DONOR': 'TempatDonor', 'VOLUME': 'Volume', 'JNS KANTONG': 'jeniskantong'}, \n",
        "          inplace=True)"
      ]
    },
    {
      "cell_type": "code",
      "execution_count": null,
      "metadata": {
        "id": "6r4g3AoNXsLK"
      },
      "outputs": [],
      "source": [
        "df.rename(columns={'jeniskantong':'JenisKantong'}, \n",
        "          inplace=True)"
      ]
    },
    {
      "cell_type": "code",
      "execution_count": null,
      "metadata": {
        "id": "O0J4BfeXXypS"
      },
      "outputs": [],
      "source": [
        "df"
      ]
    },
    {
      "cell_type": "code",
      "execution_count": null,
      "metadata": {
        "id": "WOiudtQ-XSRf"
      },
      "outputs": [],
      "source": [
        "df = df[['NomerDonor', 'NamaDonor', 'TanggalDonor', 'UmurDonor', 'JenisKelamin', 'TempatDonor', 'JenisKantong']]"
      ]
    },
    {
      "cell_type": "code",
      "execution_count": null,
      "metadata": {
        "id": "jNxpBXu-YPE5"
      },
      "outputs": [],
      "source": [
        "df"
      ]
    },
    {
      "cell_type": "code",
      "execution_count": null,
      "metadata": {
        "id": "ByHB97XNHnNJ"
      },
      "outputs": [],
      "source": [
        "df.to_excel(\"last.xlsx\", index=False) "
      ]
    },
    {
      "cell_type": "code",
      "execution_count": null,
      "metadata": {
        "id": "WOdSMbaBJPTp"
      },
      "outputs": [],
      "source": [
        "c = pd.read_excel('last.xlsx')"
      ]
    },
    {
      "cell_type": "code",
      "execution_count": null,
      "metadata": {
        "id": "R64jEUipTDMG"
      },
      "outputs": [],
      "source": [
        "c"
      ]
    },
    {
      "cell_type": "markdown",
      "metadata": {
        "id": "gaHpNa8HHFQA"
      },
      "source": [
        "### koalvin--------------------------------------------------------------------------------"
      ]
    },
    {
      "cell_type": "markdown",
      "metadata": {
        "id": "g7_RWKkSHFQA"
      },
      "source": [
        "#### _ before corona (2015-2019)"
      ]
    },
    {
      "cell_type": "markdown",
      "metadata": {
        "id": "duLkNBbEHFQB"
      },
      "source": [
        "##### --- read df"
      ]
    },
    {
      "cell_type": "markdown",
      "metadata": {
        "id": "GAIijqjrHFQB"
      },
      "source": [
        "###### - - - df"
      ]
    },
    {
      "cell_type": "code",
      "execution_count": null,
      "metadata": {
        "id": "AfToSmstHFQB"
      },
      "outputs": [],
      "source": [
        "jenis = ['Triple', 'Quadruple', 'Single', 'Double Besar']"
      ]
    },
    {
      "cell_type": "code",
      "execution_count": null,
      "metadata": {
        "id": "0OhAW7m7HFQB"
      },
      "outputs": [],
      "source": [
        "import pandas as pd\n",
        "df = pd.read_csv('d15-19.csv')\n",
        "df.JenisKantong = df.JenisKantong.str.title()\n",
        "df = df[df['JenisKantong'].isin(jenis)]"
      ]
    },
    {
      "cell_type": "code",
      "execution_count": null,
      "metadata": {
        "id": "EVlxbxitHFQB"
      },
      "outputs": [],
      "source": [
        "d22 = df.loc[(df['TanggalDonor'] > '2019-11-30 11:59:59.999')]\n",
        "d22 = d22.loc[(d22['Lokasi'] == 'UTD PMI SURABAYA')]"
      ]
    },
    {
      "cell_type": "code",
      "execution_count": null,
      "metadata": {
        "id": "efAdq74SHFQB"
      },
      "outputs": [],
      "source": [
        "df = df.loc[(df['TanggalDonor'] <= '2019-11-30 11:59:59.999')]"
      ]
    },
    {
      "cell_type": "code",
      "execution_count": null,
      "metadata": {
        "id": "QVnlHVwDHFQB"
      },
      "outputs": [],
      "source": [
        "d22 = d22[d22.NomerDonor.isin(df.NomerDonor)]"
      ]
    },
    {
      "cell_type": "markdown",
      "metadata": {
        "id": "uHTQBgDvBaS2"
      },
      "source": [
        "##### --- data training"
      ]
    },
    {
      "cell_type": "code",
      "execution_count": null,
      "metadata": {
        "id": "zTJ76S-eBaS5"
      },
      "outputs": [],
      "source": [
        "tests = d22.NomerDonor.unique()"
      ]
    },
    {
      "cell_type": "code",
      "execution_count": null,
      "metadata": {
        "id": "LMGOqQ-ICejx"
      },
      "outputs": [],
      "source": [
        "len(tests)"
      ]
    },
    {
      "cell_type": "code",
      "execution_count": null,
      "metadata": {
        "id": "G4hk3oJJBaS5"
      },
      "outputs": [],
      "source": [
        "def preproc(df):\n",
        "  df['TanggalDonor']= pd.to_datetime(df['TanggalDonor'])\n",
        "  months = df[\"TanggalDonor\"].dt.year * 12 + df[\"TanggalDonor\"].dt.month  # series\n",
        "  df[\"Bulan\"] = months - min(months) + 1\n",
        "  df = df.loc[(df['Bulan'] >= df.Bulan.max()-59) & (df['Bulan'] <= df.Bulan.max())]\n",
        "    # print(df.Bulan.max())\n",
        "  # df['Bulan'] = df['Bulan']-48\n",
        "  ndf=df[['NomerDonor']].join(pd.get_dummies(df['Bulan'])).groupby('NomerDonor').max()\n",
        "  if df.Bulan.max() <60:\n",
        "    ndf.insert(0, 'a1', 0)\n",
        "  return ndf"
      ]
    },
    {
      "cell_type": "code",
      "execution_count": null,
      "metadata": {
        "id": "am9M5t-4BaS5"
      },
      "outputs": [],
      "source": [
        "ctest = preproc(df)"
      ]
    },
    {
      "cell_type": "code",
      "execution_count": null,
      "metadata": {
        "id": "6trI9FTQCqUQ"
      },
      "outputs": [],
      "source": [
        "ctest"
      ]
    },
    {
      "cell_type": "code",
      "execution_count": null,
      "metadata": {
        "id": "yEiTUMS0BaS5"
      },
      "outputs": [],
      "source": [
        "ctest.rename(columns={ctest.columns[0]: 'a1', ctest.columns[1]: 'a2', ctest.columns[2]: 'a3'\n",
        ", ctest.columns[3]: 'a4', ctest.columns[4]: 'a5', ctest.columns[5]: 'a6', ctest.columns[6]: 'a7'\n",
        ", ctest.columns[7]: 'a8', ctest.columns[8]: 'a9', ctest.columns[9]: 'a10', ctest.columns[10]: 'a11'\n",
        ", ctest.columns[11]: 'a12', ctest.columns[12]: 'b1', ctest.columns[13]: 'b2', ctest.columns[14]: 'b3'\n",
        ", ctest.columns[15]: 'b4', ctest.columns[16]: 'b5', ctest.columns[17]: 'b6', ctest.columns[18]: 'b7'\n",
        ", ctest.columns[19]: 'b8', ctest.columns[20]: 'b9', ctest.columns[21]: 'b10', ctest.columns[22]: 'b11'\n",
        ", ctest.columns[23]: 'b12', ctest.columns[24]: 'c1', ctest.columns[25]: 'c2', ctest.columns[26]: 'c3'\n",
        ", ctest.columns[27]: 'c4', ctest.columns[28]: 'c5', ctest.columns[29]: 'c6', ctest.columns[30]: 'c7'\n",
        ", ctest.columns[31]: 'c8', ctest.columns[32]: 'c9', ctest.columns[33]: 'c10', ctest.columns[34]: 'c11'\n",
        ", ctest.columns[35]: 'c12', ctest.columns[36]: 'd1', ctest.columns[37]: 'd2', ctest.columns[38]: 'd3'\n",
        ", ctest.columns[39]: 'd4', ctest.columns[40]: 'd5', ctest.columns[41]: 'd6', ctest.columns[42]: 'd7'\n",
        ", ctest.columns[43]: 'd8', ctest.columns[44]: 'd9', ctest.columns[45]: 'd10', ctest.columns[46]: 'd11'\n",
        ", ctest.columns[47]: 'd12', ctest.columns[48]: 'e1', ctest.columns[49]: 'e2', ctest.columns[50]: 'e3'\n",
        ", ctest.columns[51]: 'e4', ctest.columns[52]: 'e5', ctest.columns[53]: 'e6', ctest.columns[54]: 'e7'\n",
        ", ctest.columns[55]: 'e8', ctest.columns[56]: 'e9', ctest.columns[57]: 'e10', ctest.columns[58]: 'e11'\n",
        ", ctest.columns[59]: 'e12'},inplace=True)"
      ]
    },
    {
      "cell_type": "code",
      "execution_count": null,
      "metadata": {
        "id": "14cO3xX8BaS5"
      },
      "outputs": [],
      "source": [
        "ctest['NomerDonor'] = ctest.index\n",
        "ctest = ctest.reset_index(drop=True)"
      ]
    },
    {
      "cell_type": "code",
      "execution_count": null,
      "metadata": {
        "id": "-TB1BaH3TOed"
      },
      "outputs": [],
      "source": [
        "for i,r in ctest.iterrows():\n",
        "  if r.NomerDonor in tests:\n",
        "    ctest.at[i, 'Category'] = 1\n",
        "  else:\n",
        "    ctest.at[i, 'Category'] = 0"
      ]
    },
    {
      "cell_type": "code",
      "execution_count": null,
      "metadata": {
        "id": "FXBLvrgmBaS6"
      },
      "outputs": [],
      "source": [
        "y = ctest.Category\n",
        "x = ctest.drop(columns=['Category', 'NomerDonor'])"
      ]
    },
    {
      "cell_type": "code",
      "execution_count": null,
      "metadata": {
        "id": "jnUgwMIsBaS6"
      },
      "outputs": [],
      "source": [
        "from sklearn.preprocessing import OneHotEncoder\n",
        "\n",
        "y = OneHotEncoder(sparse=False)\n",
        "y = y.fit_transform(ctest[['Category']])"
      ]
    },
    {
      "cell_type": "code",
      "execution_count": null,
      "metadata": {
        "id": "38T3wXfoBaS6"
      },
      "outputs": [],
      "source": [
        "from sklearn.model_selection import train_test_split\n",
        "\n",
        "y.astype(int)\n",
        "x.astype(int)\n",
        "train_x, test_x, train_y, test_y = train_test_split(x,y,test_size=0.2, random_state=43)"
      ]
    },
    {
      "cell_type": "markdown",
      "metadata": {
        "id": "fuURlsQ9X0l6"
      },
      "source": [
        "##### --- training & testing"
      ]
    },
    {
      "cell_type": "code",
      "execution_count": null,
      "metadata": {
        "id": "lsVKB7tUX0l7"
      },
      "outputs": [],
      "source": [
        "# neural network\n",
        "import tensorflow as tf\n",
        "\n",
        "model = tf.keras.models.Sequential()\n",
        "# model.add(tf.keras.layers.Dense(units = 64, activation = 'relu', input_shape=(60,)))\n",
        "model.add(tf.keras.layers.Dense(units = 128 , activation = 'relu', input_shape=(60,)))\n",
        "# model.add(tf.keras.layers.Dense(units = 215, activation = 'relu', input_shape=(60,)))\n",
        "# model.add(tf.keras.layers.Dropout(0.3))\n",
        "# model.add(tf.keras.layers.Dense(units = 256, activation = 'relu'))\n",
        "# model.add(tf.keras.layers.Dropout(0.4))\n",
        "# # model.add(tf.keras.layers.Dense(units = 128, activation = 'relu'))\n",
        "# model.add(tf.keras.layers.Dropout(0.3))\n",
        "# model.add(tf.keras.layers.Dense(units = 64, activation = 'relu'))\n",
        "# model.add(tf.keras.layers.Dropout(0.3))\n",
        "# model.add(tf.keras.layers.Dense(units = 32, activation = 'relu'))\n",
        "# model.add(tf.keras.layers.Dense(units = 16, activation = 'relu'))\n",
        "# model.add(tf.keras.layers.Dropout(0.3))\n",
        "model.add(tf.keras.layers.Dense(units = 2, activation = 'softmax'))\n",
        "\n",
        "model.compile(optimizer = 'adam', loss = 'categorical_crossentropy', metrics = ['accuracy'])\n",
        "history = model.fit(train_x, train_y, validation_data = (test_x,test_y), epochs =20)"
      ]
    },
    {
      "cell_type": "code",
      "execution_count": null,
      "metadata": {
        "id": "AOWWZvMKX0l7"
      },
      "outputs": [],
      "source": [
        "pred_y = model.predict(test_x)\n",
        "test_loss, test_accuracy = model.evaluate(test_x, test_y)\n",
        "print(test_loss, test_accuracy)"
      ]
    },
    {
      "cell_type": "code",
      "execution_count": null,
      "metadata": {
        "id": "uLzpw3tVX0l7"
      },
      "outputs": [],
      "source": [
        "# 0.35\n",
        "import matplotlib.pyplot as plt\n",
        "fig, ax = plt.subplots(1, figsize=(8,6))\n",
        "plt.plot(history.history['accuracy'])\n",
        "plt.plot(history.history['val_accuracy'])\n",
        "plt.title('Model accuracy')\n",
        "plt.ylabel('Accuracy')\n",
        "plt.xlabel('Epoch')\n",
        "plt.legend(['Train', 'Test'], loc='upper left')\n",
        "plt.show()"
      ]
    },
    {
      "cell_type": "markdown",
      "metadata": {
        "id": "3qMZCScFYFms"
      },
      "source": [
        "##### --- implementation"
      ]
    },
    {
      "cell_type": "markdown",
      "metadata": {
        "id": "qd6s3S1nV-UV"
      },
      "source": [
        "###### - - - preproc"
      ]
    },
    {
      "cell_type": "code",
      "execution_count": null,
      "metadata": {
        "id": "RomfuYwgYFmt"
      },
      "outputs": [],
      "source": [
        "def preproc(df):\n",
        "  df['TanggalDonor']= pd.to_datetime(df['TanggalDonor'])\n",
        "  months = df[\"TanggalDonor\"].dt.year * 12 + df[\"TanggalDonor\"].dt.month  # series\n",
        "  df[\"Bulan\"] = months - min(months) + 1\n",
        "  df = df.loc[(df['Bulan'] >= df.Bulan.max()-59) & (df['Bulan'] <= df.Bulan.max())]\n",
        "    # print(df.Bulan.max())\n",
        "  # df['Bulan'] = df['Bulan']-48\n",
        "  ndf=df[['NomerDonor']].join(pd.get_dummies(df['Bulan'])).groupby('NomerDonor').max()\n",
        "  if df.Bulan.max() <60:\n",
        "    ndf.insert(0, 'a1', 0)\n",
        "  return ndf"
      ]
    },
    {
      "cell_type": "code",
      "execution_count": null,
      "metadata": {
        "id": "P9u2cteXYFmt"
      },
      "outputs": [],
      "source": [
        "dfs = preproc(df)\n",
        "dfs"
      ]
    },
    {
      "cell_type": "code",
      "execution_count": null,
      "metadata": {
        "id": "GFf2O7BcYFmt"
      },
      "outputs": [],
      "source": [
        "ndfp = model.predict(dfs)"
      ]
    },
    {
      "cell_type": "code",
      "execution_count": null,
      "metadata": {
        "id": "HyNRw-_pZ1Hq"
      },
      "outputs": [],
      "source": [
        "ndfp"
      ]
    },
    {
      "cell_type": "code",
      "execution_count": null,
      "metadata": {
        "id": "Fs95_6MRYFmt"
      },
      "outputs": [],
      "source": [
        "ndfd = pd.DataFrame(ndfp, columns = ['No', 'Yes'])"
      ]
    },
    {
      "cell_type": "code",
      "execution_count": null,
      "metadata": {
        "id": "7QeCY_EgYFmt"
      },
      "outputs": [],
      "source": [
        "for i, r in ndfd.iterrows():\n",
        "  if r.No > r.Yes:\n",
        "    ndfd.at[i,'Calon']  = 0\n",
        "  else:\n",
        "    ndfd.at[i,'Calon']  = 1\n",
        "# calon -> 1, bkn -> 0"
      ]
    },
    {
      "cell_type": "code",
      "execution_count": null,
      "metadata": {
        "id": "Q1_rv0eSYFmu"
      },
      "outputs": [],
      "source": [
        "hasil = dfs\n",
        "hasil['Calon'] = ndfd['Calon'].values\n",
        "hasil['NomerDonor'] = hasil.index\n",
        "hasil = hasil[['NomerDonor', 'Calon']]"
      ]
    },
    {
      "cell_type": "code",
      "execution_count": null,
      "metadata": {
        "id": "LUoLf6a1YFmu"
      },
      "outputs": [],
      "source": [
        "hasil = hasil.rename_axis(index=None, columns=None)"
      ]
    },
    {
      "cell_type": "code",
      "execution_count": null,
      "metadata": {
        "id": "9wiHz8SPYFmu"
      },
      "outputs": [],
      "source": [
        "ann = hasil"
      ]
    },
    {
      "cell_type": "code",
      "execution_count": null,
      "metadata": {
        "id": "eOiTTEvFbkj5"
      },
      "outputs": [],
      "source": [
        "ann"
      ]
    },
    {
      "cell_type": "code",
      "execution_count": null,
      "metadata": {
        "id": "RuvrHhgoYFmu"
      },
      "outputs": [],
      "source": [
        "simpen = df.groupby(['NomerDonor'], as_index=False, sort=False)['TanggalDonor'].max()\n",
        "annd = pd.merge(ann, simpen, on='NomerDonor', how='left')"
      ]
    },
    {
      "cell_type": "code",
      "execution_count": null,
      "metadata": {
        "id": "77-9z3f3YFmu"
      },
      "outputs": [],
      "source": [
        "from datetime import date\n",
        "\n",
        "today = pd.to_datetime(date.today())\n",
        "today = annd['TanggalDonor'].max()\n",
        "annd['Recency'] = (today - annd['TanggalDonor']).dt.days"
      ]
    },
    {
      "cell_type": "code",
      "execution_count": null,
      "metadata": {
        "id": "zLDW0ildYFmu"
      },
      "outputs": [],
      "source": [
        "ann = annd[['NomerDonor', 'Calon', 'Recency']]"
      ]
    },
    {
      "cell_type": "markdown",
      "metadata": {
        "id": "3wmrln-yYFmv"
      },
      "source": [
        "###### - - - df ranking"
      ]
    },
    {
      "cell_type": "code",
      "execution_count": null,
      "metadata": {
        "id": "xdXjrQZWYFmv"
      },
      "outputs": [],
      "source": [
        "donor = df[['NomerDonor', 'TanggalDonor', 'BloodType', 'JKel', 'Lokasi', 'Umur']]\n",
        "donor = donor.drop_duplicates()"
      ]
    },
    {
      "cell_type": "code",
      "execution_count": null,
      "metadata": {
        "id": "q0a6j2shYFmv"
      },
      "outputs": [],
      "source": [
        "donor"
      ]
    },
    {
      "cell_type": "code",
      "execution_count": null,
      "metadata": {
        "id": "piEBLj1FYFmv"
      },
      "outputs": [],
      "source": [
        "for index, row in donor.iterrows():\n",
        "  if row.Umur >= 65:\n",
        "    donor.at[index,'AgeCat'] = 0\n",
        "  else:\n",
        "    donor.at[index,'AgeCat'] = 2\n",
        "  if row.JKel == 'Pria':\n",
        "    donor.at[index,'JKCat'] = 2\n",
        "  else:\n",
        "    donor.at[index,'JKCat'] = 1"
      ]
    },
    {
      "cell_type": "code",
      "execution_count": null,
      "metadata": {
        "id": "zQRVSBiwYFmv"
      },
      "outputs": [],
      "source": [
        "lok = 'UTD PMI SURABAYA'\n",
        "location = donor.query(str(\"Lokasi == '\") + lok + \"'\").groupby('NomerDonor').count()"
      ]
    },
    {
      "cell_type": "code",
      "execution_count": null,
      "metadata": {
        "id": "KGj-cmiRYFmv"
      },
      "outputs": [],
      "source": [
        "location = location[['BloodType']]\n",
        "location.columns = ['Loc']\n",
        "location['NomerDonor'] = location.index"
      ]
    },
    {
      "cell_type": "code",
      "execution_count": null,
      "metadata": {
        "id": "S1vnfQ9dYFmv"
      },
      "outputs": [],
      "source": [
        "location = location.rename_axis(index=None, columns=None)"
      ]
    },
    {
      "cell_type": "code",
      "execution_count": null,
      "metadata": {
        "id": "Skvi9qgzYFmv"
      },
      "outputs": [],
      "source": [
        "donor = pd.merge(donor, location, on=['NomerDonor'])"
      ]
    },
    {
      "cell_type": "code",
      "execution_count": null,
      "metadata": {
        "id": "9qH2ZwC8YFmw"
      },
      "outputs": [],
      "source": [
        "maks = donor['Loc'].max()"
      ]
    },
    {
      "cell_type": "code",
      "execution_count": null,
      "metadata": {
        "id": "NfigS5W-YFmw"
      },
      "outputs": [],
      "source": [
        "donor['Loc'] = donor['Loc']/maks"
      ]
    },
    {
      "cell_type": "code",
      "execution_count": null,
      "metadata": {
        "id": "NmUrzeKlYFmw"
      },
      "outputs": [],
      "source": [
        "donor = donor[['NomerDonor', 'TanggalDonor', 'BloodType', 'AgeCat', 'JKCat', 'Loc']]"
      ]
    },
    {
      "cell_type": "code",
      "execution_count": null,
      "metadata": {
        "id": "Q1jhoc8DYFmw"
      },
      "outputs": [],
      "source": [
        "donor = donor.sort_values('TanggalDonor')"
      ]
    },
    {
      "cell_type": "markdown",
      "metadata": {
        "id": "RNcRTx4GYFmw"
      },
      "source": [
        "###### - - - ranking"
      ]
    },
    {
      "cell_type": "code",
      "execution_count": null,
      "metadata": {
        "id": "7BkN4uwNYFmw"
      },
      "outputs": [],
      "source": [
        "import pandas as pd\n",
        "# ann = pd.read_csv('classifiedann.csv')"
      ]
    },
    {
      "cell_type": "code",
      "execution_count": null,
      "metadata": {
        "id": "cCzrLxVOYFmw"
      },
      "outputs": [],
      "source": [
        "# rbc.rename(columns = {'Recency1':'Recency'}, inplace = True)"
      ]
    },
    {
      "cell_type": "code",
      "execution_count": null,
      "metadata": {
        "id": "C_g6dWN6YFmw"
      },
      "outputs": [],
      "source": [
        "anndf = pd.merge(donor, ann, on=['NomerDonor'])"
      ]
    },
    {
      "cell_type": "code",
      "execution_count": null,
      "metadata": {
        "id": "_IlySgFXYFmx"
      },
      "outputs": [],
      "source": [
        "for i, r in anndf.iterrows():\n",
        "  if r.Recency <= 60:\n",
        "    anndf.at[i, 'Rating'] = 0\n",
        "  else:\n",
        "    if r.Calon == 1:\n",
        "      anndf.at[i, 'Rating'] = (3 + r.AgeCat + r.JKCat)\n",
        "    else:\n",
        "      anndf.at[i, 'Rating'] = (1 + r.AgeCat + r.JKCat) "
      ]
    },
    {
      "cell_type": "code",
      "execution_count": null,
      "metadata": {
        "id": "FhXrTqLUYFmx"
      },
      "outputs": [],
      "source": [
        "anndf = anndf[['NomerDonor', 'BloodType', 'Rating']]"
      ]
    },
    {
      "cell_type": "code",
      "execution_count": null,
      "metadata": {
        "id": "TJdaWQ0pYFmy"
      },
      "outputs": [],
      "source": [
        "oldmax = anndf.Rating.max()  \n",
        "oldmin = anndf.Rating.min()\n",
        "OldRange = (oldmax - oldmin)\n",
        "NewRange = 4\n",
        "for i, r in anndf.iterrows():\n",
        "  anndf.at[i, 'Rating'] = (float(((r.Rating - oldmin) * NewRange)) / OldRange) + 1"
      ]
    },
    {
      "cell_type": "code",
      "execution_count": null,
      "metadata": {
        "id": "Rua53QM9YFmy"
      },
      "outputs": [],
      "source": [
        "anndf.Rating.sort_values().unique()"
      ]
    },
    {
      "cell_type": "code",
      "execution_count": null,
      "metadata": {
        "id": "BJ9uoCJAYFmy"
      },
      "outputs": [],
      "source": [
        "# anndf.info()"
      ]
    },
    {
      "cell_type": "code",
      "execution_count": null,
      "metadata": {
        "id": "qgMGEuYhYFmy"
      },
      "outputs": [],
      "source": [
        "anndf['NomerDonor'] = anndf.NomerDonor.astype(int)"
      ]
    },
    {
      "cell_type": "code",
      "execution_count": null,
      "metadata": {
        "id": "7c6pai-FYFmy"
      },
      "outputs": [],
      "source": [
        "from google.colab import files\n",
        "anndf.to_csv('koalvin8.csv', index=False) \n",
        "# files.download('d17-21.csv')"
      ]
    },
    {
      "cell_type": "markdown",
      "metadata": {
        "id": "9wjM5i13HFQN"
      },
      "source": [
        "##### --- als"
      ]
    },
    {
      "cell_type": "markdown",
      "metadata": {
        "id": "dyCWrMLuHFQN"
      },
      "source": [
        "###### - - - als"
      ]
    },
    {
      "cell_type": "code",
      "execution_count": null,
      "metadata": {
        "id": "FR02GT3OHFQO"
      },
      "outputs": [],
      "source": [
        "import pandas as pd\n",
        "anndf = pd.read_csv('koalvin8.csv')"
      ]
    },
    {
      "cell_type": "code",
      "execution_count": null,
      "metadata": {
        "id": "aC94mry1HFQO"
      },
      "outputs": [],
      "source": [
        "jum = anndf.NomerDonor.nunique()"
      ]
    },
    {
      "cell_type": "markdown",
      "metadata": {
        "id": "liraVOAFHFQO"
      },
      "source": [
        "###### - - - gapt"
      ]
    },
    {
      "cell_type": "code",
      "execution_count": null,
      "metadata": {
        "id": "G_o0P4mGHFQO"
      },
      "outputs": [],
      "source": [
        "!pip install pyspark"
      ]
    },
    {
      "cell_type": "code",
      "execution_count": null,
      "metadata": {
        "id": "UaAZJeovHFQO"
      },
      "outputs": [],
      "source": [
        "import pyspark\n",
        "sc = pyspark.SparkContext(appName=\"PMI\")"
      ]
    },
    {
      "cell_type": "code",
      "execution_count": null,
      "metadata": {
        "id": "k5YRq2nqHFQO"
      },
      "outputs": [],
      "source": [
        "sql = pyspark.SQLContext(sc)"
      ]
    },
    {
      "cell_type": "code",
      "execution_count": null,
      "metadata": {
        "id": "nKaPrCOhHFQO"
      },
      "outputs": [],
      "source": [
        "#sql\n",
        "from pyspark.sql import SparkSession\n",
        "spark = SparkSession(sc)"
      ]
    },
    {
      "cell_type": "markdown",
      "metadata": {
        "id": "UFr1IdOeHFQO"
      },
      "source": [
        "###### - - - start"
      ]
    },
    {
      "cell_type": "code",
      "execution_count": null,
      "metadata": {
        "id": "IxWxhWckHFQO"
      },
      "outputs": [],
      "source": [
        "annsdf=spark.createDataFrame(anndf) \n",
        "# annsdf.printSchema()\n",
        "# annsdf.show()"
      ]
    },
    {
      "cell_type": "code",
      "execution_count": null,
      "metadata": {
        "id": "BUpGxjSxHFQP"
      },
      "outputs": [],
      "source": [
        "from pyspark.ml.evaluation import RegressionEvaluator\n",
        "from pyspark.ml.recommendation import ALS\n",
        "from pyspark.ml.tuning import TrainValidationSplit, ParamGridBuilder, CrossValidator\n",
        "\n",
        "#Misah antara data training dan data test\n",
        "# (training, test) = annsdf.randomSplit([0.8, 0.2])\n",
        "\n",
        "#buat ALS model, col-colnya paten BTW harus ada user, item yang diprediksi dan rating\n",
        "als1=ALS(maxIter=10,regParam=0.01,rank=25,userCol=\"BloodType\",itemCol=\"NomerDonor\",ratingCol=\"Rating\",coldStartStrategy=\"drop\",nonnegative=True)\n",
        "model=als1.fit(annsdf)"
      ]
    },
    {
      "cell_type": "code",
      "execution_count": null,
      "metadata": {
        "id": "IG413tEiHFQP"
      },
      "outputs": [],
      "source": [
        "bloodfoc = model.recommendForAllUsers(jum)"
      ]
    },
    {
      "cell_type": "code",
      "execution_count": null,
      "metadata": {
        "id": "cHd_77FtHFQP"
      },
      "outputs": [],
      "source": [
        "bloodfoc.select(\"BloodType\", \"recommendations.NomerDonor\", 'recommendations.Rating').show(10, False)"
      ]
    },
    {
      "cell_type": "markdown",
      "metadata": {
        "id": "e3_FJaPxHFQP"
      },
      "source": [
        "###### MRR ANN"
      ]
    },
    {
      "cell_type": "code",
      "execution_count": null,
      "metadata": {
        "id": "UyWMaH41HFQP"
      },
      "outputs": [],
      "source": [
        "model_df = bloodfoc.select(\"BloodType\", \"recommendations.NomerDonor\")\n",
        "model_df.show(5, False)"
      ]
    },
    {
      "cell_type": "code",
      "execution_count": null,
      "metadata": {
        "id": "dwG9wLY7HFQP"
      },
      "outputs": [],
      "source": [
        "#rename\n",
        "model_df = model_df.withColumnRenamed(\"BloodType\",\"BloodTypeModel\") \n",
        "model_df = model_df.withColumnRenamed(\"NomerDonor\",\"NomerDonorRanking\") "
      ]
    },
    {
      "cell_type": "code",
      "execution_count": null,
      "metadata": {
        "id": "X34_vQbUHFQP"
      },
      "outputs": [],
      "source": [
        "d22b = spark.createDataFrame(d22)\n",
        "d22b.printSchema()\n",
        "d22b.show(5)"
      ]
    },
    {
      "cell_type": "code",
      "execution_count": null,
      "metadata": {
        "id": "QqjohAprHFQP"
      },
      "outputs": [],
      "source": [
        "#join table sample dan model yang sudah dibuat\n",
        "joined_df = d22b.join(model_df, d22b.BloodType == model_df.BloodTypeModel)\n",
        "joined_df.show(3)"
      ]
    },
    {
      "cell_type": "code",
      "execution_count": null,
      "metadata": {
        "id": "m-wo4JvSHFQQ"
      },
      "outputs": [],
      "source": [
        "joined_df.createOrReplaceTempView(\"joined_df\")"
      ]
    },
    {
      "cell_type": "code",
      "execution_count": null,
      "metadata": {
        "id": "uUYDH96WHFQQ"
      },
      "outputs": [],
      "source": [
        "def reciprocal_rank(row):\n",
        "    if row['NomerDonor'] in row['NomerDonorRanking']:\n",
        "        rank = row['NomerDonorRanking'].index(row['NomerDonor']) + 1\n",
        "        score = 1.0/float(rank)\n",
        "    else:\n",
        "        rank = 0\n",
        "        score = 0.0\n",
        "    return (row[0], row[1], row[9], rank, score)"
      ]
    },
    {
      "cell_type": "code",
      "execution_count": null,
      "metadata": {
        "id": "tFL7EZeLHFQQ"
      },
      "outputs": [],
      "source": [
        "#get reciprocal score for all event type\n",
        "rr_all = joined_df.rdd.map(reciprocal_rank).toDF(['NomerDonor', 'NamaDonor','BloodType', 'Ranking', 'reciprocal_score'])\n",
        "rr_all.show(20, False)"
      ]
    },
    {
      "cell_type": "code",
      "execution_count": null,
      "metadata": {
        "id": "ivFKcxdAHFQQ"
      },
      "outputs": [],
      "source": [
        "rr_all.createOrReplaceTempView(\"rr_all\")"
      ]
    },
    {
      "cell_type": "code",
      "execution_count": null,
      "metadata": {
        "id": "JACji-PDHFQQ"
      },
      "outputs": [],
      "source": [
        "# sumdf = spark.sql(\"\")\n",
        "# sumdf.show()"
      ]
    },
    {
      "cell_type": "code",
      "execution_count": null,
      "metadata": {
        "id": "6Mk5wmtnHFQQ"
      },
      "outputs": [],
      "source": [
        "sumdf = spark.sql(\"select count(*) from rr_all\")\n",
        "sumdf.show()"
      ]
    },
    {
      "cell_type": "code",
      "execution_count": null,
      "metadata": {
        "id": "iBvLPdQ6HFQQ"
      },
      "outputs": [],
      "source": [
        "sumdf = spark.sql(\"select count(*) from rr_all where reciprocal_score > 0.0\")\n",
        "sumdf.show()"
      ]
    },
    {
      "cell_type": "code",
      "execution_count": null,
      "metadata": {
        "id": "3jNXC-_IHFQR"
      },
      "outputs": [],
      "source": [
        "sumdf = spark.sql(\"select * from rr_all where reciprocal_score <= 0.0\")\n",
        "sumdf.show()"
      ]
    },
    {
      "cell_type": "code",
      "execution_count": null,
      "metadata": {
        "id": "N2sGKRYgHFQR"
      },
      "outputs": [],
      "source": [
        "all_mrr = rr_all.agg({\"reciprocal_score\":\"avg\"}).collect()[0]['avg(reciprocal_score)']"
      ]
    },
    {
      "cell_type": "code",
      "execution_count": null,
      "metadata": {
        "id": "0YLweATNHFQR"
      },
      "outputs": [],
      "source": [
        "all_mrr"
      ]
    }
  ],
  "metadata": {
    "accelerator": "GPU",
    "colab": {
      "collapsed_sections": [
        "DQSNGMRSUwDh",
        "LANKN7MO6X8L",
        "beoiYn0WrCfQ",
        "jmYqJTap-cCD",
        "21fV7DBG-dm1",
        "t4dItZnUUnJ-",
        "UVam_dVIhkcF",
        "iRXv7xE4SKAV",
        "OK7ODTOCT9YC",
        "4JfdtsIrVPQz",
        "KO5SUf3yVWz5",
        "ddNV4ycHViR3",
        "8p0R3sU7iMmd",
        "36KeaDQAT4_4",
        "7St2wg2Urj7n",
        "5NyYDGuDxhLQ",
        "3KnxVyCx-glh",
        "ZuX4k9uzekt2",
        "H75nVcA4fER6",
        "PelkSRxxnteN",
        "gaHpNa8HHFQA"
      ],
      "machine_shape": "hm",
      "provenance": []
    },
    "kernelspec": {
      "display_name": "Python 3",
      "name": "python3"
    },
    "language_info": {
      "name": "python"
    }
  },
  "nbformat": 4,
  "nbformat_minor": 0
}